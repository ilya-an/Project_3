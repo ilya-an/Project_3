{
 "cells": [
  {
   "cell_type": "markdown",
   "metadata": {},
   "source": [
    "<b>Проект: Сборный проект</b> \n",
    "\n",
    "Основная цель проекта - определить успешные платформы для продажи игр, популярные жанры игр, составить портрет пользователя по каждому региону продаж, определить зависимость продаж от оценок.\n",
    "\n",
    "В ходе исследования будут загружены и подготовлены данные с продажами игр по трем регионам. Ознакомимся с общей информацией, которая представлена в данных.\n",
    "\n",
    "Проведу предобработку данных: приведу названия столбцов к нижнему регистру, преобразую данные в нужные типы, обработаю пропуски, дубликаты, посчитаю суммарные продажи во всех регионах.\n",
    "\n",
    "Далее проведу исследовательский анализ данных: посчитаю, сколько игр выпускалось в разные годы; проверю, как менялись продажи по платформам, выберу платформы с наибольшими суммарными продажами и построю распределение по годам; определю срок, за который появляются новые и исчезают старые платформы; определю актуальный период; выберу потенциально прибыльные платформы; проверю влияние оценок на продажи игр; определю прибыльные жанры по регионам.\n",
    "\n",
    "Составлю портрет пользователя по каждому региону продаж: популярные платформы, популярные жанры, определю влияние рейтинга ESRB на продажи.\n",
    "\n",
    "Последний шаг - проверка гипотез.\n",
    "\n",
    "</div>"
   ]
  },
  {
   "cell_type": "code",
   "execution_count": 1,
   "metadata": {},
   "outputs": [],
   "source": [
    "import pandas as pd\n",
    "import matplotlib.pyplot as plt\n",
    "import numpy as np\n",
    "import seaborn as sns\n",
    "import scipy.stats as st"
   ]
  },
  {
   "cell_type": "markdown",
   "metadata": {},
   "source": [
    "# Загрузка данных:"
   ]
  },
  {
   "cell_type": "code",
   "execution_count": 2,
   "metadata": {},
   "outputs": [],
   "source": [
    "data = pd.read_csv('/datasets/games.csv')"
   ]
  },
  {
   "cell_type": "markdown",
   "metadata": {},
   "source": [
    "# 1) Общая информация о данных:"
   ]
  },
  {
   "cell_type": "code",
   "execution_count": 3,
   "metadata": {},
   "outputs": [
    {
     "name": "stdout",
     "output_type": "stream",
     "text": [
      "<class 'pandas.core.frame.DataFrame'>\n",
      "RangeIndex: 16715 entries, 0 to 16714\n",
      "Data columns (total 11 columns):\n",
      " #   Column           Non-Null Count  Dtype  \n",
      "---  ------           --------------  -----  \n",
      " 0   Name             16713 non-null  object \n",
      " 1   Platform         16715 non-null  object \n",
      " 2   Year_of_Release  16446 non-null  float64\n",
      " 3   Genre            16713 non-null  object \n",
      " 4   NA_sales         16715 non-null  float64\n",
      " 5   EU_sales         16715 non-null  float64\n",
      " 6   JP_sales         16715 non-null  float64\n",
      " 7   Other_sales      16715 non-null  float64\n",
      " 8   Critic_Score     8137 non-null   float64\n",
      " 9   User_Score       10014 non-null  object \n",
      " 10  Rating           9949 non-null   object \n",
      "dtypes: float64(6), object(5)\n",
      "memory usage: 1.4+ MB\n"
     ]
    }
   ],
   "source": [
    "data.info() "
   ]
  },
  {
   "cell_type": "markdown",
   "metadata": {},
   "source": [
    "Всего 10 столбцов и 16715 строк, представлены следующие данные: дробные и целые числа, и тип данных object. Названия столбцов необходимо привести к нижнему регистру. Данные в столбце Year_of_Release нужно преобразовать в int. Тип даннных в столбце User_Score необходимо преобразовать во float. Кроме того имеются пропуски в столбцах Name, Year_of_Release, Genre, Critic_Score, Rating. "
   ]
  },
  {
   "cell_type": "code",
   "execution_count": 4,
   "metadata": {},
   "outputs": [
    {
     "data": {
      "text/html": [
       "<div>\n",
       "<style scoped>\n",
       "    .dataframe tbody tr th:only-of-type {\n",
       "        vertical-align: middle;\n",
       "    }\n",
       "\n",
       "    .dataframe tbody tr th {\n",
       "        vertical-align: top;\n",
       "    }\n",
       "\n",
       "    .dataframe thead th {\n",
       "        text-align: right;\n",
       "    }\n",
       "</style>\n",
       "<table border=\"1\" class=\"dataframe\">\n",
       "  <thead>\n",
       "    <tr style=\"text-align: right;\">\n",
       "      <th></th>\n",
       "      <th>Name</th>\n",
       "      <th>Platform</th>\n",
       "      <th>Year_of_Release</th>\n",
       "      <th>Genre</th>\n",
       "      <th>NA_sales</th>\n",
       "      <th>EU_sales</th>\n",
       "      <th>JP_sales</th>\n",
       "      <th>Other_sales</th>\n",
       "      <th>Critic_Score</th>\n",
       "      <th>User_Score</th>\n",
       "      <th>Rating</th>\n",
       "    </tr>\n",
       "  </thead>\n",
       "  <tbody>\n",
       "    <tr>\n",
       "      <th>0</th>\n",
       "      <td>Wii Sports</td>\n",
       "      <td>Wii</td>\n",
       "      <td>2006.0</td>\n",
       "      <td>Sports</td>\n",
       "      <td>41.36</td>\n",
       "      <td>28.96</td>\n",
       "      <td>3.77</td>\n",
       "      <td>8.45</td>\n",
       "      <td>76.0</td>\n",
       "      <td>8</td>\n",
       "      <td>E</td>\n",
       "    </tr>\n",
       "    <tr>\n",
       "      <th>1</th>\n",
       "      <td>Super Mario Bros.</td>\n",
       "      <td>NES</td>\n",
       "      <td>1985.0</td>\n",
       "      <td>Platform</td>\n",
       "      <td>29.08</td>\n",
       "      <td>3.58</td>\n",
       "      <td>6.81</td>\n",
       "      <td>0.77</td>\n",
       "      <td>NaN</td>\n",
       "      <td>NaN</td>\n",
       "      <td>NaN</td>\n",
       "    </tr>\n",
       "    <tr>\n",
       "      <th>2</th>\n",
       "      <td>Mario Kart Wii</td>\n",
       "      <td>Wii</td>\n",
       "      <td>2008.0</td>\n",
       "      <td>Racing</td>\n",
       "      <td>15.68</td>\n",
       "      <td>12.76</td>\n",
       "      <td>3.79</td>\n",
       "      <td>3.29</td>\n",
       "      <td>82.0</td>\n",
       "      <td>8.3</td>\n",
       "      <td>E</td>\n",
       "    </tr>\n",
       "    <tr>\n",
       "      <th>3</th>\n",
       "      <td>Wii Sports Resort</td>\n",
       "      <td>Wii</td>\n",
       "      <td>2009.0</td>\n",
       "      <td>Sports</td>\n",
       "      <td>15.61</td>\n",
       "      <td>10.93</td>\n",
       "      <td>3.28</td>\n",
       "      <td>2.95</td>\n",
       "      <td>80.0</td>\n",
       "      <td>8</td>\n",
       "      <td>E</td>\n",
       "    </tr>\n",
       "    <tr>\n",
       "      <th>4</th>\n",
       "      <td>Pokemon Red/Pokemon Blue</td>\n",
       "      <td>GB</td>\n",
       "      <td>1996.0</td>\n",
       "      <td>Role-Playing</td>\n",
       "      <td>11.27</td>\n",
       "      <td>8.89</td>\n",
       "      <td>10.22</td>\n",
       "      <td>1.00</td>\n",
       "      <td>NaN</td>\n",
       "      <td>NaN</td>\n",
       "      <td>NaN</td>\n",
       "    </tr>\n",
       "  </tbody>\n",
       "</table>\n",
       "</div>"
      ],
      "text/plain": [
       "                       Name Platform  Year_of_Release         Genre  NA_sales  \\\n",
       "0                Wii Sports      Wii           2006.0        Sports     41.36   \n",
       "1         Super Mario Bros.      NES           1985.0      Platform     29.08   \n",
       "2            Mario Kart Wii      Wii           2008.0        Racing     15.68   \n",
       "3         Wii Sports Resort      Wii           2009.0        Sports     15.61   \n",
       "4  Pokemon Red/Pokemon Blue       GB           1996.0  Role-Playing     11.27   \n",
       "\n",
       "   EU_sales  JP_sales  Other_sales  Critic_Score User_Score Rating  \n",
       "0     28.96      3.77         8.45          76.0          8      E  \n",
       "1      3.58      6.81         0.77           NaN        NaN    NaN  \n",
       "2     12.76      3.79         3.29          82.0        8.3      E  \n",
       "3     10.93      3.28         2.95          80.0          8      E  \n",
       "4      8.89     10.22         1.00           NaN        NaN    NaN  "
      ]
     },
     "execution_count": 4,
     "metadata": {},
     "output_type": "execute_result"
    }
   ],
   "source": [
    "data.head(5) #"
   ]
  },
  {
   "cell_type": "code",
   "execution_count": 5,
   "metadata": {
    "scrolled": true
   },
   "outputs": [
    {
     "data": {
      "image/png": "[encoded data removed]",
      "text/plain": [
       "<Figure size 720x720 with 6 Axes>"
      ]
     },
     "metadata": {
      "needs_background": "light"
     },
     "output_type": "display_data"
    }
   ],
   "source": [
    "data.hist(figsize=(10, 10)); # на графиках видно, что игры представлены с 1980 года по 2016 год"
   ]
  },
  {
   "cell_type": "code",
   "execution_count": 6,
   "metadata": {},
   "outputs": [
    {
     "data": {
      "text/plain": [
       "array(['Wii Sports', 'Super Mario Bros.', 'Mario Kart Wii', ...,\n",
       "       'Woody Woodpecker in Crazy Castle 5', 'LMA Manager 2007',\n",
       "       'Haitaka no Psychedelica'], dtype=object)"
      ]
     },
     "metadata": {},
     "output_type": "display_data"
    },
    {
     "data": {
      "text/plain": [
       "'Количество уникальных игр в данных:'"
      ]
     },
     "metadata": {},
     "output_type": "display_data"
    },
    {
     "data": {
      "text/plain": [
       "11560"
      ]
     },
     "metadata": {},
     "output_type": "display_data"
    },
    {
     "data": {
      "text/plain": [
       "array(['Wii', 'NES', 'GB', 'DS', 'X360', 'PS3', 'PS2', 'SNES', 'GBA',\n",
       "       'PS4', '3DS', 'N64', 'PS', 'XB', 'PC', '2600', 'PSP', 'XOne',\n",
       "       'WiiU', 'GC', 'GEN', 'DC', 'PSV', 'SAT', 'SCD', 'WS', 'NG', 'TG16',\n",
       "       '3DO', 'GG', 'PCFX'], dtype=object)"
      ]
     },
     "metadata": {},
     "output_type": "display_data"
    },
    {
     "data": {
      "text/plain": [
       "array(['Sports', 'Platform', 'Racing', 'Role-Playing', 'Puzzle', 'Misc',\n",
       "       'Shooter', 'Simulation', 'Action', 'Fighting', 'Adventure',\n",
       "       'Strategy', nan], dtype=object)"
      ]
     },
     "metadata": {},
     "output_type": "display_data"
    },
    {
     "data": {
      "text/plain": [
       "array(['8', nan, '8.3', '8.5', '6.6', '8.4', '8.6', '7.7', '6.3', '7.4',\n",
       "       '8.2', '9', '7.9', '8.1', '8.7', '7.1', '3.4', '5.3', '4.8', '3.2',\n",
       "       '8.9', '6.4', '7.8', '7.5', '2.6', '7.2', '9.2', '7', '7.3', '4.3',\n",
       "       '7.6', '5.7', '5', '9.1', '6.5', 'tbd', '8.8', '6.9', '9.4', '6.8',\n",
       "       '6.1', '6.7', '5.4', '4', '4.9', '4.5', '9.3', '6.2', '4.2', '6',\n",
       "       '3.7', '4.1', '5.8', '5.6', '5.5', '4.4', '4.6', '5.9', '3.9',\n",
       "       '3.1', '2.9', '5.2', '3.3', '4.7', '5.1', '3.5', '2.5', '1.9', '3',\n",
       "       '2.7', '2.2', '2', '9.5', '2.1', '3.6', '2.8', '1.8', '3.8', '0',\n",
       "       '1.6', '9.6', '2.4', '1.7', '1.1', '0.3', '1.5', '0.7', '1.2',\n",
       "       '2.3', '0.5', '1.3', '0.2', '0.6', '1.4', '0.9', '1', '9.7'],\n",
       "      dtype=object)"
      ]
     },
     "metadata": {},
     "output_type": "display_data"
    },
    {
     "data": {
      "text/plain": [
       "array(['E', nan, 'M', 'T', 'E10+', 'K-A', 'AO', 'EC', 'RP'], dtype=object)"
      ]
     },
     "metadata": {},
     "output_type": "display_data"
    }
   ],
   "source": [
    "data_name_unique = data['Name'].unique()\n",
    "data_name_unique_len = len(data_name_unique)\n",
    "display(data_name_unique)\n",
    "display('Количество уникальных игр в данных:', data_name_unique_len) # 11560 уникальных значений игр\n",
    "\n",
    "data_platform_unique = data['Platform'].unique()\n",
    "display(data_platform_unique) # проверил уникальные значения платформ\n",
    "\n",
    "data_genre_unique = data['Genre'].unique()\n",
    "display(data_genre_unique) # проверил уникальные значения жанров, имеется значение 'Platform' и nan\n",
    "\n",
    "data_user_score_unique = data['User_Score'].unique()\n",
    "display(data_user_score_unique) # проверил уникальные значения столца user_score, среди значений есть nan и tbd\n",
    "\n",
    "data_rating_unique = data['Rating'].unique()\n",
    "display(data_rating_unique) # проверил уникальные значения присвоенного рейтинга, среди значений есть nan"
   ]
  },
  {
   "cell_type": "markdown",
   "metadata": {},
   "source": [
    "# 2) Предобработка данных:"
   ]
  },
  {
   "cell_type": "code",
   "execution_count": 7,
   "metadata": {},
   "outputs": [],
   "source": [
    "data = data.rename(columns={'Name': 'name', 'Platform': 'platform', 'Year_of_Release': 'year_of_release', 'Genre': 'genre', 'NA_sales': 'na_sales', 'EU_sales': 'eu_sales', 'JP_sales': 'jp_sales', 'Other_sales': 'other_sales', 'Critic_Score': 'critic_score', 'User_Score': 'user_score', 'Rating': 'rating'})\n",
    "# привел названия столбцов к нижнему регистру"
   ]
  },
  {
   "cell_type": "code",
   "execution_count": 8,
   "metadata": {
    "scrolled": true
   },
   "outputs": [
    {
     "data": {
      "text/html": [
       "<div>\n",
       "<style scoped>\n",
       "    .dataframe tbody tr th:only-of-type {\n",
       "        vertical-align: middle;\n",
       "    }\n",
       "\n",
       "    .dataframe tbody tr th {\n",
       "        vertical-align: top;\n",
       "    }\n",
       "\n",
       "    .dataframe thead th {\n",
       "        text-align: right;\n",
       "    }\n",
       "</style>\n",
       "<table border=\"1\" class=\"dataframe\">\n",
       "  <thead>\n",
       "    <tr style=\"text-align: right;\">\n",
       "      <th></th>\n",
       "      <th>name</th>\n",
       "      <th>platform</th>\n",
       "      <th>year_of_release</th>\n",
       "      <th>genre</th>\n",
       "      <th>na_sales</th>\n",
       "      <th>eu_sales</th>\n",
       "      <th>jp_sales</th>\n",
       "      <th>other_sales</th>\n",
       "      <th>critic_score</th>\n",
       "      <th>user_score</th>\n",
       "      <th>rating</th>\n",
       "    </tr>\n",
       "  </thead>\n",
       "  <tbody>\n",
       "    <tr>\n",
       "      <th>0</th>\n",
       "      <td>Wii Sports</td>\n",
       "      <td>Wii</td>\n",
       "      <td>2006.0</td>\n",
       "      <td>Sports</td>\n",
       "      <td>41.36</td>\n",
       "      <td>28.96</td>\n",
       "      <td>3.77</td>\n",
       "      <td>8.45</td>\n",
       "      <td>76.0</td>\n",
       "      <td>8</td>\n",
       "      <td>E</td>\n",
       "    </tr>\n",
       "    <tr>\n",
       "      <th>1</th>\n",
       "      <td>Super Mario Bros.</td>\n",
       "      <td>NES</td>\n",
       "      <td>1985.0</td>\n",
       "      <td>Platform</td>\n",
       "      <td>29.08</td>\n",
       "      <td>3.58</td>\n",
       "      <td>6.81</td>\n",
       "      <td>0.77</td>\n",
       "      <td>NaN</td>\n",
       "      <td>NaN</td>\n",
       "      <td>NaN</td>\n",
       "    </tr>\n",
       "    <tr>\n",
       "      <th>2</th>\n",
       "      <td>Mario Kart Wii</td>\n",
       "      <td>Wii</td>\n",
       "      <td>2008.0</td>\n",
       "      <td>Racing</td>\n",
       "      <td>15.68</td>\n",
       "      <td>12.76</td>\n",
       "      <td>3.79</td>\n",
       "      <td>3.29</td>\n",
       "      <td>82.0</td>\n",
       "      <td>8.3</td>\n",
       "      <td>E</td>\n",
       "    </tr>\n",
       "    <tr>\n",
       "      <th>3</th>\n",
       "      <td>Wii Sports Resort</td>\n",
       "      <td>Wii</td>\n",
       "      <td>2009.0</td>\n",
       "      <td>Sports</td>\n",
       "      <td>15.61</td>\n",
       "      <td>10.93</td>\n",
       "      <td>3.28</td>\n",
       "      <td>2.95</td>\n",
       "      <td>80.0</td>\n",
       "      <td>8</td>\n",
       "      <td>E</td>\n",
       "    </tr>\n",
       "    <tr>\n",
       "      <th>4</th>\n",
       "      <td>Pokemon Red/Pokemon Blue</td>\n",
       "      <td>GB</td>\n",
       "      <td>1996.0</td>\n",
       "      <td>Role-Playing</td>\n",
       "      <td>11.27</td>\n",
       "      <td>8.89</td>\n",
       "      <td>10.22</td>\n",
       "      <td>1.00</td>\n",
       "      <td>NaN</td>\n",
       "      <td>NaN</td>\n",
       "      <td>NaN</td>\n",
       "    </tr>\n",
       "  </tbody>\n",
       "</table>\n",
       "</div>"
      ],
      "text/plain": [
       "                       name platform  year_of_release         genre  na_sales  \\\n",
       "0                Wii Sports      Wii           2006.0        Sports     41.36   \n",
       "1         Super Mario Bros.      NES           1985.0      Platform     29.08   \n",
       "2            Mario Kart Wii      Wii           2008.0        Racing     15.68   \n",
       "3         Wii Sports Resort      Wii           2009.0        Sports     15.61   \n",
       "4  Pokemon Red/Pokemon Blue       GB           1996.0  Role-Playing     11.27   \n",
       "\n",
       "   eu_sales  jp_sales  other_sales  critic_score user_score rating  \n",
       "0     28.96      3.77         8.45          76.0          8      E  \n",
       "1      3.58      6.81         0.77           NaN        NaN    NaN  \n",
       "2     12.76      3.79         3.29          82.0        8.3      E  \n",
       "3     10.93      3.28         2.95          80.0          8      E  \n",
       "4      8.89     10.22         1.00           NaN        NaN    NaN  "
      ]
     },
     "execution_count": 8,
     "metadata": {},
     "output_type": "execute_result"
    }
   ],
   "source": [
    "data.head()"
   ]
  },
  {
   "cell_type": "code",
   "execution_count": 9,
   "metadata": {},
   "outputs": [
    {
     "name": "stdout",
     "output_type": "stream",
     "text": [
      "0\n"
     ]
    }
   ],
   "source": [
    "data_dublicates = data.duplicated()\n",
    "print(data_dublicates.sum()) # проверю наличие явных дубликатов в данных, явные дубликаты отсутствуют"
   ]
  },
  {
   "cell_type": "code",
   "execution_count": 10,
   "metadata": {},
   "outputs": [
    {
     "data": {
      "text/plain": [
       "Need for Speed: Most Wanted                          12\n",
       "FIFA 14                                               9\n",
       "Ratatouille                                           9\n",
       "Madden NFL 07                                         9\n",
       "LEGO Marvel Super Heroes                              9\n",
       "                                                     ..\n",
       "Crayola: Treasure Adventures                          1\n",
       "The Witcher: Enhanced Edition                         1\n",
       "Yu-Gi-Oh! GX: The Beginning of Destiny (US sales)     1\n",
       "Smurf: Rescue In Gargamel's Castle                    1\n",
       "Last Bronx                                            1\n",
       "Name: name, Length: 11559, dtype: int64"
      ]
     },
     "metadata": {},
     "output_type": "display_data"
    }
   ],
   "source": [
    "display(data['name'].value_counts())"
   ]
  },
  {
   "cell_type": "code",
   "execution_count": 11,
   "metadata": {},
   "outputs": [
    {
     "data": {
      "text/html": [
       "<div>\n",
       "<style scoped>\n",
       "    .dataframe tbody tr th:only-of-type {\n",
       "        vertical-align: middle;\n",
       "    }\n",
       "\n",
       "    .dataframe tbody tr th {\n",
       "        vertical-align: top;\n",
       "    }\n",
       "\n",
       "    .dataframe thead th {\n",
       "        text-align: right;\n",
       "    }\n",
       "</style>\n",
       "<table border=\"1\" class=\"dataframe\">\n",
       "  <thead>\n",
       "    <tr style=\"text-align: right;\">\n",
       "      <th></th>\n",
       "      <th>name</th>\n",
       "      <th>platform</th>\n",
       "      <th>year_of_release</th>\n",
       "      <th>genre</th>\n",
       "      <th>na_sales</th>\n",
       "      <th>eu_sales</th>\n",
       "      <th>jp_sales</th>\n",
       "      <th>other_sales</th>\n",
       "      <th>critic_score</th>\n",
       "      <th>user_score</th>\n",
       "      <th>rating</th>\n",
       "    </tr>\n",
       "  </thead>\n",
       "  <tbody>\n",
       "    <tr>\n",
       "      <th>253</th>\n",
       "      <td>Need for Speed: Most Wanted</td>\n",
       "      <td>PS2</td>\n",
       "      <td>2005.0</td>\n",
       "      <td>Racing</td>\n",
       "      <td>2.03</td>\n",
       "      <td>1.79</td>\n",
       "      <td>0.08</td>\n",
       "      <td>0.47</td>\n",
       "      <td>82.0</td>\n",
       "      <td>9.1</td>\n",
       "      <td>T</td>\n",
       "    </tr>\n",
       "    <tr>\n",
       "      <th>523</th>\n",
       "      <td>Need for Speed: Most Wanted</td>\n",
       "      <td>PS3</td>\n",
       "      <td>2012.0</td>\n",
       "      <td>Racing</td>\n",
       "      <td>0.71</td>\n",
       "      <td>1.46</td>\n",
       "      <td>0.06</td>\n",
       "      <td>0.58</td>\n",
       "      <td>NaN</td>\n",
       "      <td>NaN</td>\n",
       "      <td>NaN</td>\n",
       "    </tr>\n",
       "    <tr>\n",
       "      <th>1190</th>\n",
       "      <td>Need for Speed: Most Wanted</td>\n",
       "      <td>X360</td>\n",
       "      <td>2012.0</td>\n",
       "      <td>Racing</td>\n",
       "      <td>0.62</td>\n",
       "      <td>0.78</td>\n",
       "      <td>0.01</td>\n",
       "      <td>0.15</td>\n",
       "      <td>83.0</td>\n",
       "      <td>8.5</td>\n",
       "      <td>T</td>\n",
       "    </tr>\n",
       "    <tr>\n",
       "      <th>1591</th>\n",
       "      <td>Need for Speed: Most Wanted</td>\n",
       "      <td>X360</td>\n",
       "      <td>2005.0</td>\n",
       "      <td>Racing</td>\n",
       "      <td>1.00</td>\n",
       "      <td>0.13</td>\n",
       "      <td>0.02</td>\n",
       "      <td>0.10</td>\n",
       "      <td>83.0</td>\n",
       "      <td>8.5</td>\n",
       "      <td>T</td>\n",
       "    </tr>\n",
       "    <tr>\n",
       "      <th>1998</th>\n",
       "      <td>Need for Speed: Most Wanted</td>\n",
       "      <td>XB</td>\n",
       "      <td>2005.0</td>\n",
       "      <td>Racing</td>\n",
       "      <td>0.53</td>\n",
       "      <td>0.46</td>\n",
       "      <td>0.00</td>\n",
       "      <td>0.05</td>\n",
       "      <td>83.0</td>\n",
       "      <td>8.8</td>\n",
       "      <td>T</td>\n",
       "    </tr>\n",
       "    <tr>\n",
       "      <th>2048</th>\n",
       "      <td>Need for Speed: Most Wanted</td>\n",
       "      <td>PSV</td>\n",
       "      <td>2012.0</td>\n",
       "      <td>Racing</td>\n",
       "      <td>0.33</td>\n",
       "      <td>0.45</td>\n",
       "      <td>0.01</td>\n",
       "      <td>0.22</td>\n",
       "      <td>NaN</td>\n",
       "      <td>NaN</td>\n",
       "      <td>NaN</td>\n",
       "    </tr>\n",
       "    <tr>\n",
       "      <th>3581</th>\n",
       "      <td>Need for Speed: Most Wanted</td>\n",
       "      <td>GC</td>\n",
       "      <td>2005.0</td>\n",
       "      <td>Racing</td>\n",
       "      <td>0.43</td>\n",
       "      <td>0.11</td>\n",
       "      <td>0.00</td>\n",
       "      <td>0.02</td>\n",
       "      <td>80.0</td>\n",
       "      <td>9.1</td>\n",
       "      <td>T</td>\n",
       "    </tr>\n",
       "    <tr>\n",
       "      <th>5972</th>\n",
       "      <td>Need for Speed: Most Wanted</td>\n",
       "      <td>PC</td>\n",
       "      <td>2005.0</td>\n",
       "      <td>Racing</td>\n",
       "      <td>0.02</td>\n",
       "      <td>0.23</td>\n",
       "      <td>0.00</td>\n",
       "      <td>0.04</td>\n",
       "      <td>82.0</td>\n",
       "      <td>8.5</td>\n",
       "      <td>T</td>\n",
       "    </tr>\n",
       "    <tr>\n",
       "      <th>6273</th>\n",
       "      <td>Need for Speed: Most Wanted</td>\n",
       "      <td>WiiU</td>\n",
       "      <td>2013.0</td>\n",
       "      <td>Racing</td>\n",
       "      <td>0.13</td>\n",
       "      <td>0.12</td>\n",
       "      <td>0.00</td>\n",
       "      <td>0.02</td>\n",
       "      <td>NaN</td>\n",
       "      <td>NaN</td>\n",
       "      <td>NaN</td>\n",
       "    </tr>\n",
       "    <tr>\n",
       "      <th>6410</th>\n",
       "      <td>Need for Speed: Most Wanted</td>\n",
       "      <td>DS</td>\n",
       "      <td>2005.0</td>\n",
       "      <td>Racing</td>\n",
       "      <td>0.24</td>\n",
       "      <td>0.01</td>\n",
       "      <td>0.00</td>\n",
       "      <td>0.02</td>\n",
       "      <td>45.0</td>\n",
       "      <td>6.1</td>\n",
       "      <td>E</td>\n",
       "    </tr>\n",
       "    <tr>\n",
       "      <th>6473</th>\n",
       "      <td>Need for Speed: Most Wanted</td>\n",
       "      <td>GBA</td>\n",
       "      <td>2005.0</td>\n",
       "      <td>Racing</td>\n",
       "      <td>0.19</td>\n",
       "      <td>0.07</td>\n",
       "      <td>0.00</td>\n",
       "      <td>0.00</td>\n",
       "      <td>NaN</td>\n",
       "      <td>8.3</td>\n",
       "      <td>E</td>\n",
       "    </tr>\n",
       "    <tr>\n",
       "      <th>11715</th>\n",
       "      <td>Need for Speed: Most Wanted</td>\n",
       "      <td>PC</td>\n",
       "      <td>2012.0</td>\n",
       "      <td>Racing</td>\n",
       "      <td>0.00</td>\n",
       "      <td>0.06</td>\n",
       "      <td>0.00</td>\n",
       "      <td>0.02</td>\n",
       "      <td>82.0</td>\n",
       "      <td>8.5</td>\n",
       "      <td>T</td>\n",
       "    </tr>\n",
       "  </tbody>\n",
       "</table>\n",
       "</div>"
      ],
      "text/plain": [
       "                              name platform  year_of_release   genre  \\\n",
       "253    Need for Speed: Most Wanted      PS2           2005.0  Racing   \n",
       "523    Need for Speed: Most Wanted      PS3           2012.0  Racing   \n",
       "1190   Need for Speed: Most Wanted     X360           2012.0  Racing   \n",
       "1591   Need for Speed: Most Wanted     X360           2005.0  Racing   \n",
       "1998   Need for Speed: Most Wanted       XB           2005.0  Racing   \n",
       "2048   Need for Speed: Most Wanted      PSV           2012.0  Racing   \n",
       "3581   Need for Speed: Most Wanted       GC           2005.0  Racing   \n",
       "5972   Need for Speed: Most Wanted       PC           2005.0  Racing   \n",
       "6273   Need for Speed: Most Wanted     WiiU           2013.0  Racing   \n",
       "6410   Need for Speed: Most Wanted       DS           2005.0  Racing   \n",
       "6473   Need for Speed: Most Wanted      GBA           2005.0  Racing   \n",
       "11715  Need for Speed: Most Wanted       PC           2012.0  Racing   \n",
       "\n",
       "       na_sales  eu_sales  jp_sales  other_sales  critic_score user_score  \\\n",
       "253        2.03      1.79      0.08         0.47          82.0        9.1   \n",
       "523        0.71      1.46      0.06         0.58           NaN        NaN   \n",
       "1190       0.62      0.78      0.01         0.15          83.0        8.5   \n",
       "1591       1.00      0.13      0.02         0.10          83.0        8.5   \n",
       "1998       0.53      0.46      0.00         0.05          83.0        8.8   \n",
       "2048       0.33      0.45      0.01         0.22           NaN        NaN   \n",
       "3581       0.43      0.11      0.00         0.02          80.0        9.1   \n",
       "5972       0.02      0.23      0.00         0.04          82.0        8.5   \n",
       "6273       0.13      0.12      0.00         0.02           NaN        NaN   \n",
       "6410       0.24      0.01      0.00         0.02          45.0        6.1   \n",
       "6473       0.19      0.07      0.00         0.00           NaN        8.3   \n",
       "11715      0.00      0.06      0.00         0.02          82.0        8.5   \n",
       "\n",
       "      rating  \n",
       "253        T  \n",
       "523      NaN  \n",
       "1190       T  \n",
       "1591       T  \n",
       "1998       T  \n",
       "2048     NaN  \n",
       "3581       T  \n",
       "5972       T  \n",
       "6273     NaN  \n",
       "6410       E  \n",
       "6473       E  \n",
       "11715      T  "
      ]
     },
     "metadata": {},
     "output_type": "display_data"
    }
   ],
   "source": [
    "need_for_speed_data = data[data['name'] == 'Need for Speed: Most Wanted']\n",
    "display(need_for_speed_data) \n",
    "# проверил неявные дубликаты в столбце name по строке 'Need for Speed: Most Wanted', игра в разные годы выпускалась для разных платформ, скорее всего по другим играм аналогичная картина"
   ]
  },
  {
   "cell_type": "code",
   "execution_count": 12,
   "metadata": {},
   "outputs": [
    {
     "data": {
      "text/plain": [
       "PS2     2161\n",
       "DS      2151\n",
       "PS3     1331\n",
       "Wii     1320\n",
       "X360    1262\n",
       "PSP     1209\n",
       "PS      1197\n",
       "PC       974\n",
       "XB       824\n",
       "GBA      822\n",
       "GC       556\n",
       "3DS      520\n",
       "PSV      430\n",
       "PS4      392\n",
       "N64      319\n",
       "XOne     247\n",
       "SNES     239\n",
       "SAT      173\n",
       "WiiU     147\n",
       "2600     133\n",
       "NES       98\n",
       "GB        98\n",
       "DC        52\n",
       "GEN       29\n",
       "NG        12\n",
       "SCD        6\n",
       "WS         6\n",
       "3DO        3\n",
       "TG16       2\n",
       "GG         1\n",
       "PCFX       1\n",
       "Name: platform, dtype: int64"
      ]
     },
     "metadata": {},
     "output_type": "display_data"
    }
   ],
   "source": [
    "display(data['platform'].value_counts()) \n",
    "# возможно дубликаты есть, например GC и GG, но эту информацию необходимо уточнить у тех людей, кто предоставил датафрейм"
   ]
  },
  {
   "cell_type": "code",
   "execution_count": 13,
   "metadata": {},
   "outputs": [
    {
     "data": {
      "text/plain": [
       "Action          3369\n",
       "Sports          2348\n",
       "Misc            1750\n",
       "Role-Playing    1498\n",
       "Shooter         1323\n",
       "Adventure       1303\n",
       "Racing          1249\n",
       "Platform         888\n",
       "Simulation       873\n",
       "Fighting         849\n",
       "Strategy         683\n",
       "Puzzle           580\n",
       "Name: genre, dtype: int64"
      ]
     },
     "metadata": {},
     "output_type": "display_data"
    }
   ],
   "source": [
    "display(data['genre'].value_counts()) # в жанрах неявные дубликаты отсутствуют"
   ]
  },
  {
   "cell_type": "code",
   "execution_count": 14,
   "metadata": {
    "scrolled": true
   },
   "outputs": [
    {
     "name": "stdout",
     "output_type": "stream",
     "text": [
      "      name platform  year_of_release genre  na_sales  eu_sales  jp_sales  \\\n",
      "659    NaN      GEN           1993.0   NaN      1.78      0.53      0.00   \n",
      "14244  NaN      GEN           1993.0   NaN      0.00      0.00      0.03   \n",
      "\n",
      "       other_sales  critic_score user_score rating  \n",
      "659           0.08           NaN        NaN    NaN  \n",
      "14244         0.00           NaN        NaN    NaN  \n"
     ]
    }
   ],
   "source": [
    "name_nan = data['name'].isna()\n",
    "name_nan_rows = data[name_nan]\n",
    "print(name_nan_rows) # проверил игры со значением NaN в столбце name, можно их удалить, так как существенно не окажут влияние на анализ"
   ]
  },
  {
   "cell_type": "code",
   "execution_count": 15,
   "metadata": {
    "scrolled": true
   },
   "outputs": [],
   "source": [
    "data = data.dropna(subset=['name']) # удалил NaN в столбце name"
   ]
  },
  {
   "cell_type": "code",
   "execution_count": 16,
   "metadata": {},
   "outputs": [
    {
     "name": "stdout",
     "output_type": "stream",
     "text": [
      "0\n"
     ]
    }
   ],
   "source": [
    "name_nan_sum = data['name'].isna().sum()\n",
    "print(name_nan_sum) # проверил количество NaN в столбце name"
   ]
  },
  {
   "cell_type": "code",
   "execution_count": 17,
   "metadata": {},
   "outputs": [
    {
     "name": "stdout",
     "output_type": "stream",
     "text": [
      "269\n"
     ]
    }
   ],
   "source": [
    "year_of_release_nan_sum = data['year_of_release'].isna().sum()\n",
    "print(year_of_release_nan_sum) # 269 NaN в столбце year_of_release"
   ]
  },
  {
   "cell_type": "code",
   "execution_count": 18,
   "metadata": {},
   "outputs": [],
   "source": [
    "data['year_of_release'] = data['year_of_release'].fillna(0) # заменил NaN в столбце year_of_release на 0, так как год релиза этих игр неизвестен"
   ]
  },
  {
   "cell_type": "code",
   "execution_count": 19,
   "metadata": {},
   "outputs": [
    {
     "name": "stdout",
     "output_type": "stream",
     "text": [
      "0\n"
     ]
    }
   ],
   "source": [
    "year_of_release_nan_sum = data['year_of_release'].isna().sum()\n",
    "print(year_of_release_nan_sum)  # проверил количество NaN в столбце year_of_release"
   ]
  },
  {
   "cell_type": "code",
   "execution_count": 20,
   "metadata": {
    "scrolled": true
   },
   "outputs": [
    {
     "name": "stdout",
     "output_type": "stream",
     "text": [
      "<class 'pandas.core.frame.DataFrame'>\n",
      "Int64Index: 16713 entries, 0 to 16714\n",
      "Data columns (total 11 columns):\n",
      " #   Column           Non-Null Count  Dtype  \n",
      "---  ------           --------------  -----  \n",
      " 0   name             16713 non-null  object \n",
      " 1   platform         16713 non-null  object \n",
      " 2   year_of_release  16713 non-null  float64\n",
      " 3   genre            16713 non-null  object \n",
      " 4   na_sales         16713 non-null  float64\n",
      " 5   eu_sales         16713 non-null  float64\n",
      " 6   jp_sales         16713 non-null  float64\n",
      " 7   other_sales      16713 non-null  float64\n",
      " 8   critic_score     8137 non-null   float64\n",
      " 9   user_score       10014 non-null  object \n",
      " 10  rating           9949 non-null   object \n",
      "dtypes: float64(6), object(5)\n",
      "memory usage: 1.5+ MB\n"
     ]
    }
   ],
   "source": [
    "data.info()"
   ]
  },
  {
   "cell_type": "code",
   "execution_count": 21,
   "metadata": {},
   "outputs": [],
   "source": [
    "data['year_of_release'] = data['year_of_release'].astype(int) # преобразовал данные в столбце в int, убрал дробную часть"
   ]
  },
  {
   "cell_type": "code",
   "execution_count": 22,
   "metadata": {
    "scrolled": true
   },
   "outputs": [
    {
     "data": {
      "text/html": [
       "<div>\n",
       "<style scoped>\n",
       "    .dataframe tbody tr th:only-of-type {\n",
       "        vertical-align: middle;\n",
       "    }\n",
       "\n",
       "    .dataframe tbody tr th {\n",
       "        vertical-align: top;\n",
       "    }\n",
       "\n",
       "    .dataframe thead th {\n",
       "        text-align: right;\n",
       "    }\n",
       "</style>\n",
       "<table border=\"1\" class=\"dataframe\">\n",
       "  <thead>\n",
       "    <tr style=\"text-align: right;\">\n",
       "      <th></th>\n",
       "      <th>name</th>\n",
       "      <th>platform</th>\n",
       "      <th>year_of_release</th>\n",
       "      <th>genre</th>\n",
       "      <th>na_sales</th>\n",
       "      <th>eu_sales</th>\n",
       "      <th>jp_sales</th>\n",
       "      <th>other_sales</th>\n",
       "      <th>critic_score</th>\n",
       "      <th>user_score</th>\n",
       "      <th>rating</th>\n",
       "    </tr>\n",
       "  </thead>\n",
       "  <tbody>\n",
       "    <tr>\n",
       "      <th>119</th>\n",
       "      <td>Zumba Fitness</td>\n",
       "      <td>Wii</td>\n",
       "      <td>2010</td>\n",
       "      <td>Sports</td>\n",
       "      <td>3.45</td>\n",
       "      <td>2.59</td>\n",
       "      <td>0.0</td>\n",
       "      <td>0.66</td>\n",
       "      <td>NaN</td>\n",
       "      <td>tbd</td>\n",
       "      <td>E</td>\n",
       "    </tr>\n",
       "    <tr>\n",
       "      <th>301</th>\n",
       "      <td>Namco Museum: 50th Anniversary</td>\n",
       "      <td>PS2</td>\n",
       "      <td>2005</td>\n",
       "      <td>Misc</td>\n",
       "      <td>2.08</td>\n",
       "      <td>1.35</td>\n",
       "      <td>0.0</td>\n",
       "      <td>0.54</td>\n",
       "      <td>61.0</td>\n",
       "      <td>tbd</td>\n",
       "      <td>E10+</td>\n",
       "    </tr>\n",
       "    <tr>\n",
       "      <th>520</th>\n",
       "      <td>Zumba Fitness 2</td>\n",
       "      <td>Wii</td>\n",
       "      <td>2011</td>\n",
       "      <td>Sports</td>\n",
       "      <td>1.51</td>\n",
       "      <td>1.03</td>\n",
       "      <td>0.0</td>\n",
       "      <td>0.27</td>\n",
       "      <td>NaN</td>\n",
       "      <td>tbd</td>\n",
       "      <td>T</td>\n",
       "    </tr>\n",
       "    <tr>\n",
       "      <th>645</th>\n",
       "      <td>uDraw Studio</td>\n",
       "      <td>Wii</td>\n",
       "      <td>2010</td>\n",
       "      <td>Misc</td>\n",
       "      <td>1.65</td>\n",
       "      <td>0.57</td>\n",
       "      <td>0.0</td>\n",
       "      <td>0.20</td>\n",
       "      <td>71.0</td>\n",
       "      <td>tbd</td>\n",
       "      <td>E</td>\n",
       "    </tr>\n",
       "    <tr>\n",
       "      <th>657</th>\n",
       "      <td>Frogger's Adventures: Temple of the Frog</td>\n",
       "      <td>GBA</td>\n",
       "      <td>0</td>\n",
       "      <td>Adventure</td>\n",
       "      <td>2.15</td>\n",
       "      <td>0.18</td>\n",
       "      <td>0.0</td>\n",
       "      <td>0.07</td>\n",
       "      <td>73.0</td>\n",
       "      <td>tbd</td>\n",
       "      <td>E</td>\n",
       "    </tr>\n",
       "    <tr>\n",
       "      <th>...</th>\n",
       "      <td>...</td>\n",
       "      <td>...</td>\n",
       "      <td>...</td>\n",
       "      <td>...</td>\n",
       "      <td>...</td>\n",
       "      <td>...</td>\n",
       "      <td>...</td>\n",
       "      <td>...</td>\n",
       "      <td>...</td>\n",
       "      <td>...</td>\n",
       "      <td>...</td>\n",
       "    </tr>\n",
       "    <tr>\n",
       "      <th>16695</th>\n",
       "      <td>Planet Monsters</td>\n",
       "      <td>GBA</td>\n",
       "      <td>2001</td>\n",
       "      <td>Action</td>\n",
       "      <td>0.01</td>\n",
       "      <td>0.00</td>\n",
       "      <td>0.0</td>\n",
       "      <td>0.00</td>\n",
       "      <td>67.0</td>\n",
       "      <td>tbd</td>\n",
       "      <td>E</td>\n",
       "    </tr>\n",
       "    <tr>\n",
       "      <th>16697</th>\n",
       "      <td>Bust-A-Move 3000</td>\n",
       "      <td>GC</td>\n",
       "      <td>2003</td>\n",
       "      <td>Puzzle</td>\n",
       "      <td>0.01</td>\n",
       "      <td>0.00</td>\n",
       "      <td>0.0</td>\n",
       "      <td>0.00</td>\n",
       "      <td>53.0</td>\n",
       "      <td>tbd</td>\n",
       "      <td>E</td>\n",
       "    </tr>\n",
       "    <tr>\n",
       "      <th>16698</th>\n",
       "      <td>Mega Brain Boost</td>\n",
       "      <td>DS</td>\n",
       "      <td>2008</td>\n",
       "      <td>Puzzle</td>\n",
       "      <td>0.01</td>\n",
       "      <td>0.00</td>\n",
       "      <td>0.0</td>\n",
       "      <td>0.00</td>\n",
       "      <td>48.0</td>\n",
       "      <td>tbd</td>\n",
       "      <td>E</td>\n",
       "    </tr>\n",
       "    <tr>\n",
       "      <th>16704</th>\n",
       "      <td>Plushees</td>\n",
       "      <td>DS</td>\n",
       "      <td>2008</td>\n",
       "      <td>Simulation</td>\n",
       "      <td>0.01</td>\n",
       "      <td>0.00</td>\n",
       "      <td>0.0</td>\n",
       "      <td>0.00</td>\n",
       "      <td>NaN</td>\n",
       "      <td>tbd</td>\n",
       "      <td>E</td>\n",
       "    </tr>\n",
       "    <tr>\n",
       "      <th>16706</th>\n",
       "      <td>Men in Black II: Alien Escape</td>\n",
       "      <td>GC</td>\n",
       "      <td>2003</td>\n",
       "      <td>Shooter</td>\n",
       "      <td>0.01</td>\n",
       "      <td>0.00</td>\n",
       "      <td>0.0</td>\n",
       "      <td>0.00</td>\n",
       "      <td>NaN</td>\n",
       "      <td>tbd</td>\n",
       "      <td>T</td>\n",
       "    </tr>\n",
       "  </tbody>\n",
       "</table>\n",
       "<p>2424 rows × 11 columns</p>\n",
       "</div>"
      ],
      "text/plain": [
       "                                           name platform  year_of_release  \\\n",
       "119                               Zumba Fitness      Wii             2010   \n",
       "301              Namco Museum: 50th Anniversary      PS2             2005   \n",
       "520                             Zumba Fitness 2      Wii             2011   \n",
       "645                                uDraw Studio      Wii             2010   \n",
       "657    Frogger's Adventures: Temple of the Frog      GBA                0   \n",
       "...                                         ...      ...              ...   \n",
       "16695                           Planet Monsters      GBA             2001   \n",
       "16697                          Bust-A-Move 3000       GC             2003   \n",
       "16698                          Mega Brain Boost       DS             2008   \n",
       "16704                                  Plushees       DS             2008   \n",
       "16706             Men in Black II: Alien Escape       GC             2003   \n",
       "\n",
       "            genre  na_sales  eu_sales  jp_sales  other_sales  critic_score  \\\n",
       "119        Sports      3.45      2.59       0.0         0.66           NaN   \n",
       "301          Misc      2.08      1.35       0.0         0.54          61.0   \n",
       "520        Sports      1.51      1.03       0.0         0.27           NaN   \n",
       "645          Misc      1.65      0.57       0.0         0.20          71.0   \n",
       "657     Adventure      2.15      0.18       0.0         0.07          73.0   \n",
       "...           ...       ...       ...       ...          ...           ...   \n",
       "16695      Action      0.01      0.00       0.0         0.00          67.0   \n",
       "16697      Puzzle      0.01      0.00       0.0         0.00          53.0   \n",
       "16698      Puzzle      0.01      0.00       0.0         0.00          48.0   \n",
       "16704  Simulation      0.01      0.00       0.0         0.00           NaN   \n",
       "16706     Shooter      0.01      0.00       0.0         0.00           NaN   \n",
       "\n",
       "      user_score rating  \n",
       "119          tbd      E  \n",
       "301          tbd   E10+  \n",
       "520          tbd      T  \n",
       "645          tbd      E  \n",
       "657          tbd      E  \n",
       "...          ...    ...  \n",
       "16695        tbd      E  \n",
       "16697        tbd      E  \n",
       "16698        tbd      E  \n",
       "16704        tbd      E  \n",
       "16706        tbd      T  \n",
       "\n",
       "[2424 rows x 11 columns]"
      ]
     },
     "metadata": {},
     "output_type": "display_data"
    }
   ],
   "source": [
    "user_score_tbd = data[data['user_score'] == 'tbd']\n",
    "display(user_score_tbd) # возможно означает, что рейтинг будет объявлен поздней to be determined, это значение есть в 2424 строках"
   ]
  },
  {
   "cell_type": "code",
   "execution_count": 23,
   "metadata": {},
   "outputs": [],
   "source": [
    "data.loc[data['user_score'] == 'tbd', 'user_score'] = np.nan # заменил значения tbd на NaN, теперь он похож на столбец critic_score"
   ]
  },
  {
   "cell_type": "code",
   "execution_count": 24,
   "metadata": {},
   "outputs": [],
   "source": [
    "data['user_score'] = data['user_score'].astype(float) # преобразовал данные в столбце user_score в float"
   ]
  },
  {
   "cell_type": "code",
   "execution_count": 25,
   "metadata": {},
   "outputs": [
    {
     "name": "stdout",
     "output_type": "stream",
     "text": [
      "<class 'pandas.core.frame.DataFrame'>\n",
      "Int64Index: 16713 entries, 0 to 16714\n",
      "Data columns (total 11 columns):\n",
      " #   Column           Non-Null Count  Dtype  \n",
      "---  ------           --------------  -----  \n",
      " 0   name             16713 non-null  object \n",
      " 1   platform         16713 non-null  object \n",
      " 2   year_of_release  16713 non-null  int64  \n",
      " 3   genre            16713 non-null  object \n",
      " 4   na_sales         16713 non-null  float64\n",
      " 5   eu_sales         16713 non-null  float64\n",
      " 6   jp_sales         16713 non-null  float64\n",
      " 7   other_sales      16713 non-null  float64\n",
      " 8   critic_score     8137 non-null   float64\n",
      " 9   user_score       7590 non-null   float64\n",
      " 10  rating           9949 non-null   object \n",
      "dtypes: float64(6), int64(1), object(4)\n",
      "memory usage: 1.5+ MB\n"
     ]
    }
   ],
   "source": [
    "data.info()"
   ]
  },
  {
   "cell_type": "markdown",
   "metadata": {},
   "source": [
    "В столбцах critic_score, user_score и rating много пропущенных значений, менять их не буду, так как это может повлиять и исказить исследовательский анализ данных."
   ]
  },
  {
   "cell_type": "markdown",
   "metadata": {},
   "source": [
    "# 3) Суммарные продажи по всем регионам:"
   ]
  },
  {
   "cell_type": "code",
   "execution_count": 26,
   "metadata": {},
   "outputs": [],
   "source": [
    "data['common_sales'] = data['na_sales'] + data['eu_sales'] + data['jp_sales'] + data['other_sales'] \n",
    "# добавил столбец суммарных продаж"
   ]
  },
  {
   "cell_type": "code",
   "execution_count": 27,
   "metadata": {
    "scrolled": true
   },
   "outputs": [
    {
     "data": {
      "text/html": [
       "<div>\n",
       "<style scoped>\n",
       "    .dataframe tbody tr th:only-of-type {\n",
       "        vertical-align: middle;\n",
       "    }\n",
       "\n",
       "    .dataframe tbody tr th {\n",
       "        vertical-align: top;\n",
       "    }\n",
       "\n",
       "    .dataframe thead th {\n",
       "        text-align: right;\n",
       "    }\n",
       "</style>\n",
       "<table border=\"1\" class=\"dataframe\">\n",
       "  <thead>\n",
       "    <tr style=\"text-align: right;\">\n",
       "      <th></th>\n",
       "      <th>name</th>\n",
       "      <th>platform</th>\n",
       "      <th>year_of_release</th>\n",
       "      <th>genre</th>\n",
       "      <th>na_sales</th>\n",
       "      <th>eu_sales</th>\n",
       "      <th>jp_sales</th>\n",
       "      <th>other_sales</th>\n",
       "      <th>critic_score</th>\n",
       "      <th>user_score</th>\n",
       "      <th>rating</th>\n",
       "      <th>common_sales</th>\n",
       "    </tr>\n",
       "  </thead>\n",
       "  <tbody>\n",
       "    <tr>\n",
       "      <th>0</th>\n",
       "      <td>Wii Sports</td>\n",
       "      <td>Wii</td>\n",
       "      <td>2006</td>\n",
       "      <td>Sports</td>\n",
       "      <td>41.36</td>\n",
       "      <td>28.96</td>\n",
       "      <td>3.77</td>\n",
       "      <td>8.45</td>\n",
       "      <td>76.0</td>\n",
       "      <td>8.0</td>\n",
       "      <td>E</td>\n",
       "      <td>82.54</td>\n",
       "    </tr>\n",
       "    <tr>\n",
       "      <th>1</th>\n",
       "      <td>Super Mario Bros.</td>\n",
       "      <td>NES</td>\n",
       "      <td>1985</td>\n",
       "      <td>Platform</td>\n",
       "      <td>29.08</td>\n",
       "      <td>3.58</td>\n",
       "      <td>6.81</td>\n",
       "      <td>0.77</td>\n",
       "      <td>NaN</td>\n",
       "      <td>NaN</td>\n",
       "      <td>NaN</td>\n",
       "      <td>40.24</td>\n",
       "    </tr>\n",
       "    <tr>\n",
       "      <th>2</th>\n",
       "      <td>Mario Kart Wii</td>\n",
       "      <td>Wii</td>\n",
       "      <td>2008</td>\n",
       "      <td>Racing</td>\n",
       "      <td>15.68</td>\n",
       "      <td>12.76</td>\n",
       "      <td>3.79</td>\n",
       "      <td>3.29</td>\n",
       "      <td>82.0</td>\n",
       "      <td>8.3</td>\n",
       "      <td>E</td>\n",
       "      <td>35.52</td>\n",
       "    </tr>\n",
       "    <tr>\n",
       "      <th>3</th>\n",
       "      <td>Wii Sports Resort</td>\n",
       "      <td>Wii</td>\n",
       "      <td>2009</td>\n",
       "      <td>Sports</td>\n",
       "      <td>15.61</td>\n",
       "      <td>10.93</td>\n",
       "      <td>3.28</td>\n",
       "      <td>2.95</td>\n",
       "      <td>80.0</td>\n",
       "      <td>8.0</td>\n",
       "      <td>E</td>\n",
       "      <td>32.77</td>\n",
       "    </tr>\n",
       "    <tr>\n",
       "      <th>4</th>\n",
       "      <td>Pokemon Red/Pokemon Blue</td>\n",
       "      <td>GB</td>\n",
       "      <td>1996</td>\n",
       "      <td>Role-Playing</td>\n",
       "      <td>11.27</td>\n",
       "      <td>8.89</td>\n",
       "      <td>10.22</td>\n",
       "      <td>1.00</td>\n",
       "      <td>NaN</td>\n",
       "      <td>NaN</td>\n",
       "      <td>NaN</td>\n",
       "      <td>31.38</td>\n",
       "    </tr>\n",
       "  </tbody>\n",
       "</table>\n",
       "</div>"
      ],
      "text/plain": [
       "                       name platform  year_of_release         genre  na_sales  \\\n",
       "0                Wii Sports      Wii             2006        Sports     41.36   \n",
       "1         Super Mario Bros.      NES             1985      Platform     29.08   \n",
       "2            Mario Kart Wii      Wii             2008        Racing     15.68   \n",
       "3         Wii Sports Resort      Wii             2009        Sports     15.61   \n",
       "4  Pokemon Red/Pokemon Blue       GB             1996  Role-Playing     11.27   \n",
       "\n",
       "   eu_sales  jp_sales  other_sales  critic_score  user_score rating  \\\n",
       "0     28.96      3.77         8.45          76.0         8.0      E   \n",
       "1      3.58      6.81         0.77           NaN         NaN    NaN   \n",
       "2     12.76      3.79         3.29          82.0         8.3      E   \n",
       "3     10.93      3.28         2.95          80.0         8.0      E   \n",
       "4      8.89     10.22         1.00           NaN         NaN    NaN   \n",
       "\n",
       "   common_sales  \n",
       "0         82.54  \n",
       "1         40.24  \n",
       "2         35.52  \n",
       "3         32.77  \n",
       "4         31.38  "
      ]
     },
     "execution_count": 27,
     "metadata": {},
     "output_type": "execute_result"
    }
   ],
   "source": [
    "data.head()"
   ]
  },
  {
   "cell_type": "code",
   "execution_count": 28,
   "metadata": {},
   "outputs": [
    {
     "name": "stdout",
     "output_type": "stream",
     "text": [
      "0\n"
     ]
    }
   ],
   "source": [
    "common_sales_nan_sum = data['common_sales'].isna().sum()\n",
    "print(common_sales_nan_sum)"
   ]
  },
  {
   "cell_type": "markdown",
   "metadata": {},
   "source": [
    "# 4) Исследовательский анализ данных:"
   ]
  },
  {
   "cell_type": "markdown",
   "metadata": {},
   "source": [
    "Посмотрите, сколько игр выпускалось в разные годы. Важны ли данные за все периоды?"
   ]
  },
  {
   "cell_type": "code",
   "execution_count": 29,
   "metadata": {},
   "outputs": [
    {
     "data": {
      "image/png": "[encoded data removed]",
      "text/plain": [
       "<Figure size 432x288 with 1 Axes>"
      ]
     },
     "metadata": {
      "needs_background": "light"
     },
     "output_type": "display_data"
    }
   ],
   "source": [
    "data['year_of_release'].hist(range=(1980, 2016), bins = 30);\n",
    "plt.title('Количество игр в год')\n",
    "plt.ylabel('Количество игр')\n",
    "plt.xlabel('Год релиза');\n",
    " # проверим в какие годы выпускалось больше всего игр"
   ]
  },
  {
   "cell_type": "code",
   "execution_count": 30,
   "metadata": {},
   "outputs": [
    {
     "data": {
      "image/png": "[encoded data removed]",
      "text/plain": [
       "<Figure size 720x360 with 1 Axes>"
      ]
     },
     "metadata": {
      "needs_background": "light"
     },
     "output_type": "display_data"
    }
   ],
   "source": [
    "data_amount_year = data[data['year_of_release'] > 1980].groupby('year_of_release').size()\n",
    "data_amount_year.plot(kind='line', figsize=(10, 5));\n",
    "\n",
    "plt.title('Количество игр в год')\n",
    "plt.ylabel('Количество игр')\n",
    "plt.xlabel('Год релиза');\n",
    "\n",
    "plt.fill_between(data_amount_year.index, data_amount_year.values, where=(data_amount_year.index >= 1993) & (data_amount_year.index <= 2009), alpha=0.3, color='red')\n",
    "plt.text(1997, data_amount_year.max() * 0.1, 'Период активного роста', color='black', fontsize=10);"
   ]
  },
  {
   "cell_type": "markdown",
   "metadata": {},
   "source": [
    "Планомерный рост выпуска игр наблюдался с начала 90-ых, пик был достигнут в 2008-2009 годах, затем началось резкое снижение выпуска игр."
   ]
  },
  {
   "cell_type": "markdown",
   "metadata": {},
   "source": [
    "Посмотрите, как менялись продажи по платформам. Выберите платформы с наибольшими суммарными продажами и постройте распределение по годам. За какой характерный срок появляются новые и исчезают старые платформы?"
   ]
  },
  {
   "cell_type": "code",
   "execution_count": 31,
   "metadata": {
    "scrolled": true
   },
   "outputs": [
    {
     "data": {
      "text/html": [
       "<div>\n",
       "<style scoped>\n",
       "    .dataframe tbody tr th:only-of-type {\n",
       "        vertical-align: middle;\n",
       "    }\n",
       "\n",
       "    .dataframe tbody tr th {\n",
       "        vertical-align: top;\n",
       "    }\n",
       "\n",
       "    .dataframe thead th {\n",
       "        text-align: right;\n",
       "    }\n",
       "</style>\n",
       "<table border=\"1\" class=\"dataframe\">\n",
       "  <thead>\n",
       "    <tr style=\"text-align: right;\">\n",
       "      <th>year_of_release</th>\n",
       "      <th>0</th>\n",
       "      <th>1980</th>\n",
       "      <th>1981</th>\n",
       "      <th>1982</th>\n",
       "      <th>1983</th>\n",
       "      <th>1984</th>\n",
       "      <th>1985</th>\n",
       "      <th>1986</th>\n",
       "      <th>1987</th>\n",
       "      <th>1988</th>\n",
       "      <th>...</th>\n",
       "      <th>2007</th>\n",
       "      <th>2008</th>\n",
       "      <th>2009</th>\n",
       "      <th>2010</th>\n",
       "      <th>2011</th>\n",
       "      <th>2012</th>\n",
       "      <th>2013</th>\n",
       "      <th>2014</th>\n",
       "      <th>2015</th>\n",
       "      <th>2016</th>\n",
       "    </tr>\n",
       "    <tr>\n",
       "      <th>platform</th>\n",
       "      <th></th>\n",
       "      <th></th>\n",
       "      <th></th>\n",
       "      <th></th>\n",
       "      <th></th>\n",
       "      <th></th>\n",
       "      <th></th>\n",
       "      <th></th>\n",
       "      <th></th>\n",
       "      <th></th>\n",
       "      <th></th>\n",
       "      <th></th>\n",
       "      <th></th>\n",
       "      <th></th>\n",
       "      <th></th>\n",
       "      <th></th>\n",
       "      <th></th>\n",
       "      <th></th>\n",
       "      <th></th>\n",
       "      <th></th>\n",
       "      <th></th>\n",
       "    </tr>\n",
       "  </thead>\n",
       "  <tbody>\n",
       "    <tr>\n",
       "      <th>2600</th>\n",
       "      <td>10.50</td>\n",
       "      <td>11.38</td>\n",
       "      <td>35.68</td>\n",
       "      <td>28.88</td>\n",
       "      <td>5.84</td>\n",
       "      <td>0.27</td>\n",
       "      <td>0.45</td>\n",
       "      <td>0.67</td>\n",
       "      <td>1.94</td>\n",
       "      <td>0.74</td>\n",
       "      <td>...</td>\n",
       "      <td>NaN</td>\n",
       "      <td>NaN</td>\n",
       "      <td>NaN</td>\n",
       "      <td>NaN</td>\n",
       "      <td>NaN</td>\n",
       "      <td>NaN</td>\n",
       "      <td>NaN</td>\n",
       "      <td>NaN</td>\n",
       "      <td>NaN</td>\n",
       "      <td>NaN</td>\n",
       "    </tr>\n",
       "    <tr>\n",
       "      <th>3DO</th>\n",
       "      <td>NaN</td>\n",
       "      <td>NaN</td>\n",
       "      <td>NaN</td>\n",
       "      <td>NaN</td>\n",
       "      <td>NaN</td>\n",
       "      <td>NaN</td>\n",
       "      <td>NaN</td>\n",
       "      <td>NaN</td>\n",
       "      <td>NaN</td>\n",
       "      <td>NaN</td>\n",
       "      <td>...</td>\n",
       "      <td>NaN</td>\n",
       "      <td>NaN</td>\n",
       "      <td>NaN</td>\n",
       "      <td>NaN</td>\n",
       "      <td>NaN</td>\n",
       "      <td>NaN</td>\n",
       "      <td>NaN</td>\n",
       "      <td>NaN</td>\n",
       "      <td>NaN</td>\n",
       "      <td>NaN</td>\n",
       "    </tr>\n",
       "    <tr>\n",
       "      <th>3DS</th>\n",
       "      <td>1.19</td>\n",
       "      <td>NaN</td>\n",
       "      <td>NaN</td>\n",
       "      <td>NaN</td>\n",
       "      <td>NaN</td>\n",
       "      <td>NaN</td>\n",
       "      <td>NaN</td>\n",
       "      <td>NaN</td>\n",
       "      <td>NaN</td>\n",
       "      <td>NaN</td>\n",
       "      <td>...</td>\n",
       "      <td>NaN</td>\n",
       "      <td>NaN</td>\n",
       "      <td>NaN</td>\n",
       "      <td>NaN</td>\n",
       "      <td>63.20</td>\n",
       "      <td>51.36</td>\n",
       "      <td>56.57</td>\n",
       "      <td>43.76</td>\n",
       "      <td>27.78</td>\n",
       "      <td>15.14</td>\n",
       "    </tr>\n",
       "    <tr>\n",
       "      <th>DC</th>\n",
       "      <td>NaN</td>\n",
       "      <td>NaN</td>\n",
       "      <td>NaN</td>\n",
       "      <td>NaN</td>\n",
       "      <td>NaN</td>\n",
       "      <td>NaN</td>\n",
       "      <td>NaN</td>\n",
       "      <td>NaN</td>\n",
       "      <td>NaN</td>\n",
       "      <td>NaN</td>\n",
       "      <td>...</td>\n",
       "      <td>0.02</td>\n",
       "      <td>0.04</td>\n",
       "      <td>NaN</td>\n",
       "      <td>NaN</td>\n",
       "      <td>NaN</td>\n",
       "      <td>NaN</td>\n",
       "      <td>NaN</td>\n",
       "      <td>NaN</td>\n",
       "      <td>NaN</td>\n",
       "      <td>NaN</td>\n",
       "    </tr>\n",
       "    <tr>\n",
       "      <th>DS</th>\n",
       "      <td>3.34</td>\n",
       "      <td>NaN</td>\n",
       "      <td>NaN</td>\n",
       "      <td>NaN</td>\n",
       "      <td>NaN</td>\n",
       "      <td>NaN</td>\n",
       "      <td>0.02</td>\n",
       "      <td>NaN</td>\n",
       "      <td>NaN</td>\n",
       "      <td>NaN</td>\n",
       "      <td>...</td>\n",
       "      <td>146.94</td>\n",
       "      <td>145.31</td>\n",
       "      <td>119.54</td>\n",
       "      <td>85.02</td>\n",
       "      <td>26.18</td>\n",
       "      <td>11.01</td>\n",
       "      <td>1.54</td>\n",
       "      <td>NaN</td>\n",
       "      <td>NaN</td>\n",
       "      <td>NaN</td>\n",
       "    </tr>\n",
       "    <tr>\n",
       "      <th>GB</th>\n",
       "      <td>1.03</td>\n",
       "      <td>NaN</td>\n",
       "      <td>NaN</td>\n",
       "      <td>NaN</td>\n",
       "      <td>NaN</td>\n",
       "      <td>NaN</td>\n",
       "      <td>NaN</td>\n",
       "      <td>NaN</td>\n",
       "      <td>NaN</td>\n",
       "      <td>1.43</td>\n",
       "      <td>...</td>\n",
       "      <td>NaN</td>\n",
       "      <td>NaN</td>\n",
       "      <td>NaN</td>\n",
       "      <td>NaN</td>\n",
       "      <td>NaN</td>\n",
       "      <td>NaN</td>\n",
       "      <td>NaN</td>\n",
       "      <td>NaN</td>\n",
       "      <td>NaN</td>\n",
       "      <td>NaN</td>\n",
       "    </tr>\n",
       "    <tr>\n",
       "      <th>GBA</th>\n",
       "      <td>4.97</td>\n",
       "      <td>NaN</td>\n",
       "      <td>NaN</td>\n",
       "      <td>NaN</td>\n",
       "      <td>NaN</td>\n",
       "      <td>NaN</td>\n",
       "      <td>NaN</td>\n",
       "      <td>NaN</td>\n",
       "      <td>NaN</td>\n",
       "      <td>NaN</td>\n",
       "      <td>...</td>\n",
       "      <td>3.40</td>\n",
       "      <td>NaN</td>\n",
       "      <td>NaN</td>\n",
       "      <td>NaN</td>\n",
       "      <td>NaN</td>\n",
       "      <td>NaN</td>\n",
       "      <td>NaN</td>\n",
       "      <td>NaN</td>\n",
       "      <td>NaN</td>\n",
       "      <td>NaN</td>\n",
       "    </tr>\n",
       "    <tr>\n",
       "      <th>GC</th>\n",
       "      <td>2.20</td>\n",
       "      <td>NaN</td>\n",
       "      <td>NaN</td>\n",
       "      <td>NaN</td>\n",
       "      <td>NaN</td>\n",
       "      <td>NaN</td>\n",
       "      <td>NaN</td>\n",
       "      <td>NaN</td>\n",
       "      <td>NaN</td>\n",
       "      <td>NaN</td>\n",
       "      <td>...</td>\n",
       "      <td>0.27</td>\n",
       "      <td>NaN</td>\n",
       "      <td>NaN</td>\n",
       "      <td>NaN</td>\n",
       "      <td>NaN</td>\n",
       "      <td>NaN</td>\n",
       "      <td>NaN</td>\n",
       "      <td>NaN</td>\n",
       "      <td>NaN</td>\n",
       "      <td>NaN</td>\n",
       "    </tr>\n",
       "    <tr>\n",
       "      <th>GEN</th>\n",
       "      <td>NaN</td>\n",
       "      <td>NaN</td>\n",
       "      <td>NaN</td>\n",
       "      <td>NaN</td>\n",
       "      <td>NaN</td>\n",
       "      <td>NaN</td>\n",
       "      <td>NaN</td>\n",
       "      <td>NaN</td>\n",
       "      <td>NaN</td>\n",
       "      <td>NaN</td>\n",
       "      <td>...</td>\n",
       "      <td>NaN</td>\n",
       "      <td>NaN</td>\n",
       "      <td>NaN</td>\n",
       "      <td>NaN</td>\n",
       "      <td>NaN</td>\n",
       "      <td>NaN</td>\n",
       "      <td>NaN</td>\n",
       "      <td>NaN</td>\n",
       "      <td>NaN</td>\n",
       "      <td>NaN</td>\n",
       "    </tr>\n",
       "    <tr>\n",
       "      <th>GG</th>\n",
       "      <td>NaN</td>\n",
       "      <td>NaN</td>\n",
       "      <td>NaN</td>\n",
       "      <td>NaN</td>\n",
       "      <td>NaN</td>\n",
       "      <td>NaN</td>\n",
       "      <td>NaN</td>\n",
       "      <td>NaN</td>\n",
       "      <td>NaN</td>\n",
       "      <td>NaN</td>\n",
       "      <td>...</td>\n",
       "      <td>NaN</td>\n",
       "      <td>NaN</td>\n",
       "      <td>NaN</td>\n",
       "      <td>NaN</td>\n",
       "      <td>NaN</td>\n",
       "      <td>NaN</td>\n",
       "      <td>NaN</td>\n",
       "      <td>NaN</td>\n",
       "      <td>NaN</td>\n",
       "      <td>NaN</td>\n",
       "    </tr>\n",
       "    <tr>\n",
       "      <th>N64</th>\n",
       "      <td>0.67</td>\n",
       "      <td>NaN</td>\n",
       "      <td>NaN</td>\n",
       "      <td>NaN</td>\n",
       "      <td>NaN</td>\n",
       "      <td>NaN</td>\n",
       "      <td>NaN</td>\n",
       "      <td>NaN</td>\n",
       "      <td>NaN</td>\n",
       "      <td>NaN</td>\n",
       "      <td>...</td>\n",
       "      <td>NaN</td>\n",
       "      <td>NaN</td>\n",
       "      <td>NaN</td>\n",
       "      <td>NaN</td>\n",
       "      <td>NaN</td>\n",
       "      <td>NaN</td>\n",
       "      <td>NaN</td>\n",
       "      <td>NaN</td>\n",
       "      <td>NaN</td>\n",
       "      <td>NaN</td>\n",
       "    </tr>\n",
       "    <tr>\n",
       "      <th>NES</th>\n",
       "      <td>NaN</td>\n",
       "      <td>NaN</td>\n",
       "      <td>NaN</td>\n",
       "      <td>NaN</td>\n",
       "      <td>10.96</td>\n",
       "      <td>50.08</td>\n",
       "      <td>53.44</td>\n",
       "      <td>36.41</td>\n",
       "      <td>19.76</td>\n",
       "      <td>45.01</td>\n",
       "      <td>...</td>\n",
       "      <td>NaN</td>\n",
       "      <td>NaN</td>\n",
       "      <td>NaN</td>\n",
       "      <td>NaN</td>\n",
       "      <td>NaN</td>\n",
       "      <td>NaN</td>\n",
       "      <td>NaN</td>\n",
       "      <td>NaN</td>\n",
       "      <td>NaN</td>\n",
       "      <td>NaN</td>\n",
       "    </tr>\n",
       "    <tr>\n",
       "      <th>NG</th>\n",
       "      <td>NaN</td>\n",
       "      <td>NaN</td>\n",
       "      <td>NaN</td>\n",
       "      <td>NaN</td>\n",
       "      <td>NaN</td>\n",
       "      <td>NaN</td>\n",
       "      <td>NaN</td>\n",
       "      <td>NaN</td>\n",
       "      <td>NaN</td>\n",
       "      <td>NaN</td>\n",
       "      <td>...</td>\n",
       "      <td>NaN</td>\n",
       "      <td>NaN</td>\n",
       "      <td>NaN</td>\n",
       "      <td>NaN</td>\n",
       "      <td>NaN</td>\n",
       "      <td>NaN</td>\n",
       "      <td>NaN</td>\n",
       "      <td>NaN</td>\n",
       "      <td>NaN</td>\n",
       "      <td>NaN</td>\n",
       "    </tr>\n",
       "    <tr>\n",
       "      <th>PC</th>\n",
       "      <td>3.76</td>\n",
       "      <td>NaN</td>\n",
       "      <td>NaN</td>\n",
       "      <td>NaN</td>\n",
       "      <td>NaN</td>\n",
       "      <td>NaN</td>\n",
       "      <td>0.04</td>\n",
       "      <td>NaN</td>\n",
       "      <td>NaN</td>\n",
       "      <td>0.03</td>\n",
       "      <td>...</td>\n",
       "      <td>9.28</td>\n",
       "      <td>12.42</td>\n",
       "      <td>16.91</td>\n",
       "      <td>24.28</td>\n",
       "      <td>35.03</td>\n",
       "      <td>23.22</td>\n",
       "      <td>12.38</td>\n",
       "      <td>13.28</td>\n",
       "      <td>8.52</td>\n",
       "      <td>5.25</td>\n",
       "    </tr>\n",
       "    <tr>\n",
       "      <th>PCFX</th>\n",
       "      <td>NaN</td>\n",
       "      <td>NaN</td>\n",
       "      <td>NaN</td>\n",
       "      <td>NaN</td>\n",
       "      <td>NaN</td>\n",
       "      <td>NaN</td>\n",
       "      <td>NaN</td>\n",
       "      <td>NaN</td>\n",
       "      <td>NaN</td>\n",
       "      <td>NaN</td>\n",
       "      <td>...</td>\n",
       "      <td>NaN</td>\n",
       "      <td>NaN</td>\n",
       "      <td>NaN</td>\n",
       "      <td>NaN</td>\n",
       "      <td>NaN</td>\n",
       "      <td>NaN</td>\n",
       "      <td>NaN</td>\n",
       "      <td>NaN</td>\n",
       "      <td>NaN</td>\n",
       "      <td>NaN</td>\n",
       "    </tr>\n",
       "    <tr>\n",
       "      <th>PS</th>\n",
       "      <td>3.28</td>\n",
       "      <td>NaN</td>\n",
       "      <td>NaN</td>\n",
       "      <td>NaN</td>\n",
       "      <td>NaN</td>\n",
       "      <td>NaN</td>\n",
       "      <td>NaN</td>\n",
       "      <td>NaN</td>\n",
       "      <td>NaN</td>\n",
       "      <td>NaN</td>\n",
       "      <td>...</td>\n",
       "      <td>NaN</td>\n",
       "      <td>NaN</td>\n",
       "      <td>NaN</td>\n",
       "      <td>NaN</td>\n",
       "      <td>NaN</td>\n",
       "      <td>NaN</td>\n",
       "      <td>NaN</td>\n",
       "      <td>NaN</td>\n",
       "      <td>NaN</td>\n",
       "      <td>NaN</td>\n",
       "    </tr>\n",
       "    <tr>\n",
       "      <th>PS2</th>\n",
       "      <td>22.21</td>\n",
       "      <td>NaN</td>\n",
       "      <td>NaN</td>\n",
       "      <td>NaN</td>\n",
       "      <td>NaN</td>\n",
       "      <td>NaN</td>\n",
       "      <td>NaN</td>\n",
       "      <td>NaN</td>\n",
       "      <td>NaN</td>\n",
       "      <td>NaN</td>\n",
       "      <td>...</td>\n",
       "      <td>75.99</td>\n",
       "      <td>53.90</td>\n",
       "      <td>26.40</td>\n",
       "      <td>5.64</td>\n",
       "      <td>0.45</td>\n",
       "      <td>NaN</td>\n",
       "      <td>NaN</td>\n",
       "      <td>NaN</td>\n",
       "      <td>NaN</td>\n",
       "      <td>NaN</td>\n",
       "    </tr>\n",
       "    <tr>\n",
       "      <th>PS3</th>\n",
       "      <td>8.31</td>\n",
       "      <td>NaN</td>\n",
       "      <td>NaN</td>\n",
       "      <td>NaN</td>\n",
       "      <td>NaN</td>\n",
       "      <td>NaN</td>\n",
       "      <td>NaN</td>\n",
       "      <td>NaN</td>\n",
       "      <td>NaN</td>\n",
       "      <td>NaN</td>\n",
       "      <td>...</td>\n",
       "      <td>73.19</td>\n",
       "      <td>118.52</td>\n",
       "      <td>130.93</td>\n",
       "      <td>142.17</td>\n",
       "      <td>156.78</td>\n",
       "      <td>107.36</td>\n",
       "      <td>113.25</td>\n",
       "      <td>47.76</td>\n",
       "      <td>16.82</td>\n",
       "      <td>3.60</td>\n",
       "    </tr>\n",
       "    <tr>\n",
       "      <th>PS4</th>\n",
       "      <td>NaN</td>\n",
       "      <td>NaN</td>\n",
       "      <td>NaN</td>\n",
       "      <td>NaN</td>\n",
       "      <td>NaN</td>\n",
       "      <td>NaN</td>\n",
       "      <td>NaN</td>\n",
       "      <td>NaN</td>\n",
       "      <td>NaN</td>\n",
       "      <td>NaN</td>\n",
       "      <td>...</td>\n",
       "      <td>NaN</td>\n",
       "      <td>NaN</td>\n",
       "      <td>NaN</td>\n",
       "      <td>NaN</td>\n",
       "      <td>NaN</td>\n",
       "      <td>NaN</td>\n",
       "      <td>25.99</td>\n",
       "      <td>100.00</td>\n",
       "      <td>118.90</td>\n",
       "      <td>69.25</td>\n",
       "    </tr>\n",
       "    <tr>\n",
       "      <th>PSP</th>\n",
       "      <td>4.52</td>\n",
       "      <td>NaN</td>\n",
       "      <td>NaN</td>\n",
       "      <td>NaN</td>\n",
       "      <td>NaN</td>\n",
       "      <td>NaN</td>\n",
       "      <td>NaN</td>\n",
       "      <td>NaN</td>\n",
       "      <td>NaN</td>\n",
       "      <td>NaN</td>\n",
       "      <td>...</td>\n",
       "      <td>46.93</td>\n",
       "      <td>34.55</td>\n",
       "      <td>37.78</td>\n",
       "      <td>35.04</td>\n",
       "      <td>17.82</td>\n",
       "      <td>7.69</td>\n",
       "      <td>3.14</td>\n",
       "      <td>0.24</td>\n",
       "      <td>0.12</td>\n",
       "      <td>NaN</td>\n",
       "    </tr>\n",
       "    <tr>\n",
       "      <th>PSV</th>\n",
       "      <td>0.26</td>\n",
       "      <td>NaN</td>\n",
       "      <td>NaN</td>\n",
       "      <td>NaN</td>\n",
       "      <td>NaN</td>\n",
       "      <td>NaN</td>\n",
       "      <td>NaN</td>\n",
       "      <td>NaN</td>\n",
       "      <td>NaN</td>\n",
       "      <td>NaN</td>\n",
       "      <td>...</td>\n",
       "      <td>NaN</td>\n",
       "      <td>NaN</td>\n",
       "      <td>NaN</td>\n",
       "      <td>NaN</td>\n",
       "      <td>4.63</td>\n",
       "      <td>16.19</td>\n",
       "      <td>10.59</td>\n",
       "      <td>11.90</td>\n",
       "      <td>6.25</td>\n",
       "      <td>4.25</td>\n",
       "    </tr>\n",
       "    <tr>\n",
       "      <th>SAT</th>\n",
       "      <td>NaN</td>\n",
       "      <td>NaN</td>\n",
       "      <td>NaN</td>\n",
       "      <td>NaN</td>\n",
       "      <td>NaN</td>\n",
       "      <td>NaN</td>\n",
       "      <td>NaN</td>\n",
       "      <td>NaN</td>\n",
       "      <td>NaN</td>\n",
       "      <td>NaN</td>\n",
       "      <td>...</td>\n",
       "      <td>NaN</td>\n",
       "      <td>NaN</td>\n",
       "      <td>NaN</td>\n",
       "      <td>NaN</td>\n",
       "      <td>NaN</td>\n",
       "      <td>NaN</td>\n",
       "      <td>NaN</td>\n",
       "      <td>NaN</td>\n",
       "      <td>NaN</td>\n",
       "      <td>NaN</td>\n",
       "    </tr>\n",
       "    <tr>\n",
       "      <th>SCD</th>\n",
       "      <td>NaN</td>\n",
       "      <td>NaN</td>\n",
       "      <td>NaN</td>\n",
       "      <td>NaN</td>\n",
       "      <td>NaN</td>\n",
       "      <td>NaN</td>\n",
       "      <td>NaN</td>\n",
       "      <td>NaN</td>\n",
       "      <td>NaN</td>\n",
       "      <td>NaN</td>\n",
       "      <td>...</td>\n",
       "      <td>NaN</td>\n",
       "      <td>NaN</td>\n",
       "      <td>NaN</td>\n",
       "      <td>NaN</td>\n",
       "      <td>NaN</td>\n",
       "      <td>NaN</td>\n",
       "      <td>NaN</td>\n",
       "      <td>NaN</td>\n",
       "      <td>NaN</td>\n",
       "      <td>NaN</td>\n",
       "    </tr>\n",
       "    <tr>\n",
       "      <th>SNES</th>\n",
       "      <td>NaN</td>\n",
       "      <td>NaN</td>\n",
       "      <td>NaN</td>\n",
       "      <td>NaN</td>\n",
       "      <td>NaN</td>\n",
       "      <td>NaN</td>\n",
       "      <td>NaN</td>\n",
       "      <td>NaN</td>\n",
       "      <td>NaN</td>\n",
       "      <td>NaN</td>\n",
       "      <td>...</td>\n",
       "      <td>NaN</td>\n",
       "      <td>NaN</td>\n",
       "      <td>NaN</td>\n",
       "      <td>NaN</td>\n",
       "      <td>NaN</td>\n",
       "      <td>NaN</td>\n",
       "      <td>NaN</td>\n",
       "      <td>NaN</td>\n",
       "      <td>NaN</td>\n",
       "      <td>NaN</td>\n",
       "    </tr>\n",
       "    <tr>\n",
       "      <th>TG16</th>\n",
       "      <td>NaN</td>\n",
       "      <td>NaN</td>\n",
       "      <td>NaN</td>\n",
       "      <td>NaN</td>\n",
       "      <td>NaN</td>\n",
       "      <td>NaN</td>\n",
       "      <td>NaN</td>\n",
       "      <td>NaN</td>\n",
       "      <td>NaN</td>\n",
       "      <td>NaN</td>\n",
       "      <td>...</td>\n",
       "      <td>NaN</td>\n",
       "      <td>NaN</td>\n",
       "      <td>NaN</td>\n",
       "      <td>NaN</td>\n",
       "      <td>NaN</td>\n",
       "      <td>NaN</td>\n",
       "      <td>NaN</td>\n",
       "      <td>NaN</td>\n",
       "      <td>NaN</td>\n",
       "      <td>NaN</td>\n",
       "    </tr>\n",
       "    <tr>\n",
       "      <th>WS</th>\n",
       "      <td>NaN</td>\n",
       "      <td>NaN</td>\n",
       "      <td>NaN</td>\n",
       "      <td>NaN</td>\n",
       "      <td>NaN</td>\n",
       "      <td>NaN</td>\n",
       "      <td>NaN</td>\n",
       "      <td>NaN</td>\n",
       "      <td>NaN</td>\n",
       "      <td>NaN</td>\n",
       "      <td>...</td>\n",
       "      <td>NaN</td>\n",
       "      <td>NaN</td>\n",
       "      <td>NaN</td>\n",
       "      <td>NaN</td>\n",
       "      <td>NaN</td>\n",
       "      <td>NaN</td>\n",
       "      <td>NaN</td>\n",
       "      <td>NaN</td>\n",
       "      <td>NaN</td>\n",
       "      <td>NaN</td>\n",
       "    </tr>\n",
       "    <tr>\n",
       "      <th>Wii</th>\n",
       "      <td>16.33</td>\n",
       "      <td>NaN</td>\n",
       "      <td>NaN</td>\n",
       "      <td>NaN</td>\n",
       "      <td>NaN</td>\n",
       "      <td>NaN</td>\n",
       "      <td>NaN</td>\n",
       "      <td>NaN</td>\n",
       "      <td>NaN</td>\n",
       "      <td>NaN</td>\n",
       "      <td>...</td>\n",
       "      <td>152.77</td>\n",
       "      <td>171.32</td>\n",
       "      <td>206.97</td>\n",
       "      <td>127.95</td>\n",
       "      <td>59.65</td>\n",
       "      <td>21.71</td>\n",
       "      <td>8.59</td>\n",
       "      <td>3.75</td>\n",
       "      <td>1.14</td>\n",
       "      <td>0.18</td>\n",
       "    </tr>\n",
       "    <tr>\n",
       "      <th>WiiU</th>\n",
       "      <td>NaN</td>\n",
       "      <td>NaN</td>\n",
       "      <td>NaN</td>\n",
       "      <td>NaN</td>\n",
       "      <td>NaN</td>\n",
       "      <td>NaN</td>\n",
       "      <td>NaN</td>\n",
       "      <td>NaN</td>\n",
       "      <td>NaN</td>\n",
       "      <td>NaN</td>\n",
       "      <td>...</td>\n",
       "      <td>NaN</td>\n",
       "      <td>NaN</td>\n",
       "      <td>NaN</td>\n",
       "      <td>NaN</td>\n",
       "      <td>NaN</td>\n",
       "      <td>17.56</td>\n",
       "      <td>21.65</td>\n",
       "      <td>22.03</td>\n",
       "      <td>16.35</td>\n",
       "      <td>4.60</td>\n",
       "    </tr>\n",
       "    <tr>\n",
       "      <th>X360</th>\n",
       "      <td>10.18</td>\n",
       "      <td>NaN</td>\n",
       "      <td>NaN</td>\n",
       "      <td>NaN</td>\n",
       "      <td>NaN</td>\n",
       "      <td>NaN</td>\n",
       "      <td>NaN</td>\n",
       "      <td>NaN</td>\n",
       "      <td>NaN</td>\n",
       "      <td>NaN</td>\n",
       "      <td>...</td>\n",
       "      <td>95.41</td>\n",
       "      <td>135.26</td>\n",
       "      <td>120.29</td>\n",
       "      <td>170.03</td>\n",
       "      <td>143.84</td>\n",
       "      <td>99.74</td>\n",
       "      <td>88.58</td>\n",
       "      <td>34.74</td>\n",
       "      <td>11.96</td>\n",
       "      <td>1.52</td>\n",
       "    </tr>\n",
       "    <tr>\n",
       "      <th>XB</th>\n",
       "      <td>6.17</td>\n",
       "      <td>NaN</td>\n",
       "      <td>NaN</td>\n",
       "      <td>NaN</td>\n",
       "      <td>NaN</td>\n",
       "      <td>NaN</td>\n",
       "      <td>NaN</td>\n",
       "      <td>NaN</td>\n",
       "      <td>NaN</td>\n",
       "      <td>NaN</td>\n",
       "      <td>...</td>\n",
       "      <td>0.55</td>\n",
       "      <td>0.18</td>\n",
       "      <td>NaN</td>\n",
       "      <td>NaN</td>\n",
       "      <td>NaN</td>\n",
       "      <td>NaN</td>\n",
       "      <td>NaN</td>\n",
       "      <td>NaN</td>\n",
       "      <td>NaN</td>\n",
       "      <td>NaN</td>\n",
       "    </tr>\n",
       "    <tr>\n",
       "      <th>XOne</th>\n",
       "      <td>NaN</td>\n",
       "      <td>NaN</td>\n",
       "      <td>NaN</td>\n",
       "      <td>NaN</td>\n",
       "      <td>NaN</td>\n",
       "      <td>NaN</td>\n",
       "      <td>NaN</td>\n",
       "      <td>NaN</td>\n",
       "      <td>NaN</td>\n",
       "      <td>NaN</td>\n",
       "      <td>...</td>\n",
       "      <td>NaN</td>\n",
       "      <td>NaN</td>\n",
       "      <td>NaN</td>\n",
       "      <td>NaN</td>\n",
       "      <td>NaN</td>\n",
       "      <td>NaN</td>\n",
       "      <td>18.96</td>\n",
       "      <td>54.07</td>\n",
       "      <td>60.14</td>\n",
       "      <td>26.15</td>\n",
       "    </tr>\n",
       "  </tbody>\n",
       "</table>\n",
       "<p>31 rows × 38 columns</p>\n",
       "</div>"
      ],
      "text/plain": [
       "year_of_release   0      1980   1981   1982   1983   1984   1985   1986  \\\n",
       "platform                                                                  \n",
       "2600             10.50  11.38  35.68  28.88   5.84   0.27   0.45   0.67   \n",
       "3DO                NaN    NaN    NaN    NaN    NaN    NaN    NaN    NaN   \n",
       "3DS               1.19    NaN    NaN    NaN    NaN    NaN    NaN    NaN   \n",
       "DC                 NaN    NaN    NaN    NaN    NaN    NaN    NaN    NaN   \n",
       "DS                3.34    NaN    NaN    NaN    NaN    NaN   0.02    NaN   \n",
       "GB                1.03    NaN    NaN    NaN    NaN    NaN    NaN    NaN   \n",
       "GBA               4.97    NaN    NaN    NaN    NaN    NaN    NaN    NaN   \n",
       "GC                2.20    NaN    NaN    NaN    NaN    NaN    NaN    NaN   \n",
       "GEN                NaN    NaN    NaN    NaN    NaN    NaN    NaN    NaN   \n",
       "GG                 NaN    NaN    NaN    NaN    NaN    NaN    NaN    NaN   \n",
       "N64               0.67    NaN    NaN    NaN    NaN    NaN    NaN    NaN   \n",
       "NES                NaN    NaN    NaN    NaN  10.96  50.08  53.44  36.41   \n",
       "NG                 NaN    NaN    NaN    NaN    NaN    NaN    NaN    NaN   \n",
       "PC                3.76    NaN    NaN    NaN    NaN    NaN   0.04    NaN   \n",
       "PCFX               NaN    NaN    NaN    NaN    NaN    NaN    NaN    NaN   \n",
       "PS                3.28    NaN    NaN    NaN    NaN    NaN    NaN    NaN   \n",
       "PS2              22.21    NaN    NaN    NaN    NaN    NaN    NaN    NaN   \n",
       "PS3               8.31    NaN    NaN    NaN    NaN    NaN    NaN    NaN   \n",
       "PS4                NaN    NaN    NaN    NaN    NaN    NaN    NaN    NaN   \n",
       "PSP               4.52    NaN    NaN    NaN    NaN    NaN    NaN    NaN   \n",
       "PSV               0.26    NaN    NaN    NaN    NaN    NaN    NaN    NaN   \n",
       "SAT                NaN    NaN    NaN    NaN    NaN    NaN    NaN    NaN   \n",
       "SCD                NaN    NaN    NaN    NaN    NaN    NaN    NaN    NaN   \n",
       "SNES               NaN    NaN    NaN    NaN    NaN    NaN    NaN    NaN   \n",
       "TG16               NaN    NaN    NaN    NaN    NaN    NaN    NaN    NaN   \n",
       "WS                 NaN    NaN    NaN    NaN    NaN    NaN    NaN    NaN   \n",
       "Wii              16.33    NaN    NaN    NaN    NaN    NaN    NaN    NaN   \n",
       "WiiU               NaN    NaN    NaN    NaN    NaN    NaN    NaN    NaN   \n",
       "X360             10.18    NaN    NaN    NaN    NaN    NaN    NaN    NaN   \n",
       "XB                6.17    NaN    NaN    NaN    NaN    NaN    NaN    NaN   \n",
       "XOne               NaN    NaN    NaN    NaN    NaN    NaN    NaN    NaN   \n",
       "\n",
       "year_of_release   1987   1988  ...    2007    2008    2009    2010    2011  \\\n",
       "platform                       ...                                           \n",
       "2600              1.94   0.74  ...     NaN     NaN     NaN     NaN     NaN   \n",
       "3DO                NaN    NaN  ...     NaN     NaN     NaN     NaN     NaN   \n",
       "3DS                NaN    NaN  ...     NaN     NaN     NaN     NaN   63.20   \n",
       "DC                 NaN    NaN  ...    0.02    0.04     NaN     NaN     NaN   \n",
       "DS                 NaN    NaN  ...  146.94  145.31  119.54   85.02   26.18   \n",
       "GB                 NaN   1.43  ...     NaN     NaN     NaN     NaN     NaN   \n",
       "GBA                NaN    NaN  ...    3.40     NaN     NaN     NaN     NaN   \n",
       "GC                 NaN    NaN  ...    0.27     NaN     NaN     NaN     NaN   \n",
       "GEN                NaN    NaN  ...     NaN     NaN     NaN     NaN     NaN   \n",
       "GG                 NaN    NaN  ...     NaN     NaN     NaN     NaN     NaN   \n",
       "N64                NaN    NaN  ...     NaN     NaN     NaN     NaN     NaN   \n",
       "NES              19.76  45.01  ...     NaN     NaN     NaN     NaN     NaN   \n",
       "NG                 NaN    NaN  ...     NaN     NaN     NaN     NaN     NaN   \n",
       "PC                 NaN   0.03  ...    9.28   12.42   16.91   24.28   35.03   \n",
       "PCFX               NaN    NaN  ...     NaN     NaN     NaN     NaN     NaN   \n",
       "PS                 NaN    NaN  ...     NaN     NaN     NaN     NaN     NaN   \n",
       "PS2                NaN    NaN  ...   75.99   53.90   26.40    5.64    0.45   \n",
       "PS3                NaN    NaN  ...   73.19  118.52  130.93  142.17  156.78   \n",
       "PS4                NaN    NaN  ...     NaN     NaN     NaN     NaN     NaN   \n",
       "PSP                NaN    NaN  ...   46.93   34.55   37.78   35.04   17.82   \n",
       "PSV                NaN    NaN  ...     NaN     NaN     NaN     NaN    4.63   \n",
       "SAT                NaN    NaN  ...     NaN     NaN     NaN     NaN     NaN   \n",
       "SCD                NaN    NaN  ...     NaN     NaN     NaN     NaN     NaN   \n",
       "SNES               NaN    NaN  ...     NaN     NaN     NaN     NaN     NaN   \n",
       "TG16               NaN    NaN  ...     NaN     NaN     NaN     NaN     NaN   \n",
       "WS                 NaN    NaN  ...     NaN     NaN     NaN     NaN     NaN   \n",
       "Wii                NaN    NaN  ...  152.77  171.32  206.97  127.95   59.65   \n",
       "WiiU               NaN    NaN  ...     NaN     NaN     NaN     NaN     NaN   \n",
       "X360               NaN    NaN  ...   95.41  135.26  120.29  170.03  143.84   \n",
       "XB                 NaN    NaN  ...    0.55    0.18     NaN     NaN     NaN   \n",
       "XOne               NaN    NaN  ...     NaN     NaN     NaN     NaN     NaN   \n",
       "\n",
       "year_of_release    2012    2013    2014    2015   2016  \n",
       "platform                                                \n",
       "2600                NaN     NaN     NaN     NaN    NaN  \n",
       "3DO                 NaN     NaN     NaN     NaN    NaN  \n",
       "3DS               51.36   56.57   43.76   27.78  15.14  \n",
       "DC                  NaN     NaN     NaN     NaN    NaN  \n",
       "DS                11.01    1.54     NaN     NaN    NaN  \n",
       "GB                  NaN     NaN     NaN     NaN    NaN  \n",
       "GBA                 NaN     NaN     NaN     NaN    NaN  \n",
       "GC                  NaN     NaN     NaN     NaN    NaN  \n",
       "GEN                 NaN     NaN     NaN     NaN    NaN  \n",
       "GG                  NaN     NaN     NaN     NaN    NaN  \n",
       "N64                 NaN     NaN     NaN     NaN    NaN  \n",
       "NES                 NaN     NaN     NaN     NaN    NaN  \n",
       "NG                  NaN     NaN     NaN     NaN    NaN  \n",
       "PC                23.22   12.38   13.28    8.52   5.25  \n",
       "PCFX                NaN     NaN     NaN     NaN    NaN  \n",
       "PS                  NaN     NaN     NaN     NaN    NaN  \n",
       "PS2                 NaN     NaN     NaN     NaN    NaN  \n",
       "PS3              107.36  113.25   47.76   16.82   3.60  \n",
       "PS4                 NaN   25.99  100.00  118.90  69.25  \n",
       "PSP                7.69    3.14    0.24    0.12    NaN  \n",
       "PSV               16.19   10.59   11.90    6.25   4.25  \n",
       "SAT                 NaN     NaN     NaN     NaN    NaN  \n",
       "SCD                 NaN     NaN     NaN     NaN    NaN  \n",
       "SNES                NaN     NaN     NaN     NaN    NaN  \n",
       "TG16                NaN     NaN     NaN     NaN    NaN  \n",
       "WS                  NaN     NaN     NaN     NaN    NaN  \n",
       "Wii               21.71    8.59    3.75    1.14   0.18  \n",
       "WiiU              17.56   21.65   22.03   16.35   4.60  \n",
       "X360              99.74   88.58   34.74   11.96   1.52  \n",
       "XB                  NaN     NaN     NaN     NaN    NaN  \n",
       "XOne                NaN   18.96   54.07   60.14  26.15  \n",
       "\n",
       "[31 rows x 38 columns]"
      ]
     },
     "metadata": {},
     "output_type": "display_data"
    }
   ],
   "source": [
    "platform_common_sales = data.pivot_table(index = 'platform', columns='year_of_release', values = 'common_sales', aggfunc = 'sum')\n",
    "display(platform_common_sales)"
   ]
  },
  {
   "cell_type": "code",
   "execution_count": 32,
   "metadata": {
    "scrolled": true
   },
   "outputs": [
    {
     "data": {
      "text/html": [
       "<div>\n",
       "<style scoped>\n",
       "    .dataframe tbody tr th:only-of-type {\n",
       "        vertical-align: middle;\n",
       "    }\n",
       "\n",
       "    .dataframe tbody tr th {\n",
       "        vertical-align: top;\n",
       "    }\n",
       "\n",
       "    .dataframe thead th {\n",
       "        text-align: right;\n",
       "    }\n",
       "</style>\n",
       "<table border=\"1\" class=\"dataframe\">\n",
       "  <thead>\n",
       "    <tr style=\"text-align: right;\">\n",
       "      <th></th>\n",
       "      <th>common_sales</th>\n",
       "    </tr>\n",
       "    <tr>\n",
       "      <th>platform</th>\n",
       "      <th></th>\n",
       "    </tr>\n",
       "  </thead>\n",
       "  <tbody>\n",
       "    <tr>\n",
       "      <th>PS2</th>\n",
       "      <td>1255.77</td>\n",
       "    </tr>\n",
       "    <tr>\n",
       "      <th>X360</th>\n",
       "      <td>971.42</td>\n",
       "    </tr>\n",
       "    <tr>\n",
       "      <th>PS3</th>\n",
       "      <td>939.65</td>\n",
       "    </tr>\n",
       "    <tr>\n",
       "      <th>Wii</th>\n",
       "      <td>907.51</td>\n",
       "    </tr>\n",
       "    <tr>\n",
       "      <th>DS</th>\n",
       "      <td>806.12</td>\n",
       "    </tr>\n",
       "    <tr>\n",
       "      <th>PS</th>\n",
       "      <td>730.86</td>\n",
       "    </tr>\n",
       "    <tr>\n",
       "      <th>GBA</th>\n",
       "      <td>317.85</td>\n",
       "    </tr>\n",
       "    <tr>\n",
       "      <th>PS4</th>\n",
       "      <td>314.14</td>\n",
       "    </tr>\n",
       "    <tr>\n",
       "      <th>PSP</th>\n",
       "      <td>294.05</td>\n",
       "    </tr>\n",
       "    <tr>\n",
       "      <th>PC</th>\n",
       "      <td>259.52</td>\n",
       "    </tr>\n",
       "    <tr>\n",
       "      <th>3DS</th>\n",
       "      <td>259.00</td>\n",
       "    </tr>\n",
       "    <tr>\n",
       "      <th>XB</th>\n",
       "      <td>257.74</td>\n",
       "    </tr>\n",
       "    <tr>\n",
       "      <th>GB</th>\n",
       "      <td>255.46</td>\n",
       "    </tr>\n",
       "    <tr>\n",
       "      <th>NES</th>\n",
       "      <td>251.05</td>\n",
       "    </tr>\n",
       "    <tr>\n",
       "      <th>N64</th>\n",
       "      <td>218.68</td>\n",
       "    </tr>\n",
       "    <tr>\n",
       "      <th>SNES</th>\n",
       "      <td>200.04</td>\n",
       "    </tr>\n",
       "    <tr>\n",
       "      <th>GC</th>\n",
       "      <td>198.93</td>\n",
       "    </tr>\n",
       "    <tr>\n",
       "      <th>XOne</th>\n",
       "      <td>159.32</td>\n",
       "    </tr>\n",
       "  </tbody>\n",
       "</table>\n",
       "</div>"
      ],
      "text/plain": [
       "          common_sales\n",
       "platform              \n",
       "PS2            1255.77\n",
       "X360            971.42\n",
       "PS3             939.65\n",
       "Wii             907.51\n",
       "DS              806.12\n",
       "PS              730.86\n",
       "GBA             317.85\n",
       "PS4             314.14\n",
       "PSP             294.05\n",
       "PC              259.52\n",
       "3DS             259.00\n",
       "XB              257.74\n",
       "GB              255.46\n",
       "NES             251.05\n",
       "N64             218.68\n",
       "SNES            200.04\n",
       "GC              198.93\n",
       "XOne            159.32"
      ]
     },
     "metadata": {},
     "output_type": "display_data"
    }
   ],
   "source": [
    "top_platform_common_sales = data.pivot_table(index = 'platform', values = 'common_sales', aggfunc = 'sum').sort_values(by = 'common_sales', ascending = False)\n",
    "top_platform_common_sales = top_platform_common_sales[top_platform_common_sales['common_sales'] > 100] # оставил топ 18 платформ\n",
    "display(top_platform_common_sales)"
   ]
  },
  {
   "cell_type": "code",
   "execution_count": 33,
   "metadata": {},
   "outputs": [
    {
     "data": {
      "image/png": "[encoded data removed]",
      "text/plain": [
       "<Figure size 432x288 with 1 Axes>"
      ]
     },
     "metadata": {
      "needs_background": "light"
     },
     "output_type": "display_data"
    }
   ],
   "source": [
    "top_platform_common_sales.groupby('platform')['common_sales'].sum().sort_values(ascending=False).plot(kind='bar');\n",
    "plt.ylabel('Продажи')\n",
    "plt.xlabel('Платформы')\n",
    "plt.title('Общие продажи по каждой платформе');"
   ]
  },
  {
   "cell_type": "code",
   "execution_count": 34,
   "metadata": {
    "scrolled": true
   },
   "outputs": [
    {
     "data": {
      "text/html": [
       "<div>\n",
       "<style scoped>\n",
       "    .dataframe tbody tr th:only-of-type {\n",
       "        vertical-align: middle;\n",
       "    }\n",
       "\n",
       "    .dataframe tbody tr th {\n",
       "        vertical-align: top;\n",
       "    }\n",
       "\n",
       "    .dataframe thead th {\n",
       "        text-align: right;\n",
       "    }\n",
       "</style>\n",
       "<table border=\"1\" class=\"dataframe\">\n",
       "  <thead>\n",
       "    <tr style=\"text-align: right;\">\n",
       "      <th></th>\n",
       "      <th>common_sales</th>\n",
       "      <th>0</th>\n",
       "      <th>1980</th>\n",
       "      <th>1981</th>\n",
       "      <th>1982</th>\n",
       "      <th>1983</th>\n",
       "      <th>1984</th>\n",
       "      <th>1985</th>\n",
       "      <th>1986</th>\n",
       "      <th>1987</th>\n",
       "      <th>...</th>\n",
       "      <th>2007</th>\n",
       "      <th>2008</th>\n",
       "      <th>2009</th>\n",
       "      <th>2010</th>\n",
       "      <th>2011</th>\n",
       "      <th>2012</th>\n",
       "      <th>2013</th>\n",
       "      <th>2014</th>\n",
       "      <th>2015</th>\n",
       "      <th>2016</th>\n",
       "    </tr>\n",
       "    <tr>\n",
       "      <th>platform</th>\n",
       "      <th></th>\n",
       "      <th></th>\n",
       "      <th></th>\n",
       "      <th></th>\n",
       "      <th></th>\n",
       "      <th></th>\n",
       "      <th></th>\n",
       "      <th></th>\n",
       "      <th></th>\n",
       "      <th></th>\n",
       "      <th></th>\n",
       "      <th></th>\n",
       "      <th></th>\n",
       "      <th></th>\n",
       "      <th></th>\n",
       "      <th></th>\n",
       "      <th></th>\n",
       "      <th></th>\n",
       "      <th></th>\n",
       "      <th></th>\n",
       "      <th></th>\n",
       "    </tr>\n",
       "  </thead>\n",
       "  <tbody>\n",
       "    <tr>\n",
       "      <th>PS2</th>\n",
       "      <td>1255.77</td>\n",
       "      <td>22.21</td>\n",
       "      <td>NaN</td>\n",
       "      <td>NaN</td>\n",
       "      <td>NaN</td>\n",
       "      <td>NaN</td>\n",
       "      <td>NaN</td>\n",
       "      <td>NaN</td>\n",
       "      <td>NaN</td>\n",
       "      <td>NaN</td>\n",
       "      <td>...</td>\n",
       "      <td>75.99</td>\n",
       "      <td>53.90</td>\n",
       "      <td>26.40</td>\n",
       "      <td>5.64</td>\n",
       "      <td>0.45</td>\n",
       "      <td>NaN</td>\n",
       "      <td>NaN</td>\n",
       "      <td>NaN</td>\n",
       "      <td>NaN</td>\n",
       "      <td>NaN</td>\n",
       "    </tr>\n",
       "    <tr>\n",
       "      <th>X360</th>\n",
       "      <td>971.42</td>\n",
       "      <td>10.18</td>\n",
       "      <td>NaN</td>\n",
       "      <td>NaN</td>\n",
       "      <td>NaN</td>\n",
       "      <td>NaN</td>\n",
       "      <td>NaN</td>\n",
       "      <td>NaN</td>\n",
       "      <td>NaN</td>\n",
       "      <td>NaN</td>\n",
       "      <td>...</td>\n",
       "      <td>95.41</td>\n",
       "      <td>135.26</td>\n",
       "      <td>120.29</td>\n",
       "      <td>170.03</td>\n",
       "      <td>143.84</td>\n",
       "      <td>99.74</td>\n",
       "      <td>88.58</td>\n",
       "      <td>34.74</td>\n",
       "      <td>11.96</td>\n",
       "      <td>1.52</td>\n",
       "    </tr>\n",
       "    <tr>\n",
       "      <th>PS3</th>\n",
       "      <td>939.65</td>\n",
       "      <td>8.31</td>\n",
       "      <td>NaN</td>\n",
       "      <td>NaN</td>\n",
       "      <td>NaN</td>\n",
       "      <td>NaN</td>\n",
       "      <td>NaN</td>\n",
       "      <td>NaN</td>\n",
       "      <td>NaN</td>\n",
       "      <td>NaN</td>\n",
       "      <td>...</td>\n",
       "      <td>73.19</td>\n",
       "      <td>118.52</td>\n",
       "      <td>130.93</td>\n",
       "      <td>142.17</td>\n",
       "      <td>156.78</td>\n",
       "      <td>107.36</td>\n",
       "      <td>113.25</td>\n",
       "      <td>47.76</td>\n",
       "      <td>16.82</td>\n",
       "      <td>3.60</td>\n",
       "    </tr>\n",
       "    <tr>\n",
       "      <th>Wii</th>\n",
       "      <td>907.51</td>\n",
       "      <td>16.33</td>\n",
       "      <td>NaN</td>\n",
       "      <td>NaN</td>\n",
       "      <td>NaN</td>\n",
       "      <td>NaN</td>\n",
       "      <td>NaN</td>\n",
       "      <td>NaN</td>\n",
       "      <td>NaN</td>\n",
       "      <td>NaN</td>\n",
       "      <td>...</td>\n",
       "      <td>152.77</td>\n",
       "      <td>171.32</td>\n",
       "      <td>206.97</td>\n",
       "      <td>127.95</td>\n",
       "      <td>59.65</td>\n",
       "      <td>21.71</td>\n",
       "      <td>8.59</td>\n",
       "      <td>3.75</td>\n",
       "      <td>1.14</td>\n",
       "      <td>0.18</td>\n",
       "    </tr>\n",
       "    <tr>\n",
       "      <th>DS</th>\n",
       "      <td>806.12</td>\n",
       "      <td>3.34</td>\n",
       "      <td>NaN</td>\n",
       "      <td>NaN</td>\n",
       "      <td>NaN</td>\n",
       "      <td>NaN</td>\n",
       "      <td>NaN</td>\n",
       "      <td>0.02</td>\n",
       "      <td>NaN</td>\n",
       "      <td>NaN</td>\n",
       "      <td>...</td>\n",
       "      <td>146.94</td>\n",
       "      <td>145.31</td>\n",
       "      <td>119.54</td>\n",
       "      <td>85.02</td>\n",
       "      <td>26.18</td>\n",
       "      <td>11.01</td>\n",
       "      <td>1.54</td>\n",
       "      <td>NaN</td>\n",
       "      <td>NaN</td>\n",
       "      <td>NaN</td>\n",
       "    </tr>\n",
       "    <tr>\n",
       "      <th>PS</th>\n",
       "      <td>730.86</td>\n",
       "      <td>3.28</td>\n",
       "      <td>NaN</td>\n",
       "      <td>NaN</td>\n",
       "      <td>NaN</td>\n",
       "      <td>NaN</td>\n",
       "      <td>NaN</td>\n",
       "      <td>NaN</td>\n",
       "      <td>NaN</td>\n",
       "      <td>NaN</td>\n",
       "      <td>...</td>\n",
       "      <td>NaN</td>\n",
       "      <td>NaN</td>\n",
       "      <td>NaN</td>\n",
       "      <td>NaN</td>\n",
       "      <td>NaN</td>\n",
       "      <td>NaN</td>\n",
       "      <td>NaN</td>\n",
       "      <td>NaN</td>\n",
       "      <td>NaN</td>\n",
       "      <td>NaN</td>\n",
       "    </tr>\n",
       "    <tr>\n",
       "      <th>GBA</th>\n",
       "      <td>317.85</td>\n",
       "      <td>4.97</td>\n",
       "      <td>NaN</td>\n",
       "      <td>NaN</td>\n",
       "      <td>NaN</td>\n",
       "      <td>NaN</td>\n",
       "      <td>NaN</td>\n",
       "      <td>NaN</td>\n",
       "      <td>NaN</td>\n",
       "      <td>NaN</td>\n",
       "      <td>...</td>\n",
       "      <td>3.40</td>\n",
       "      <td>NaN</td>\n",
       "      <td>NaN</td>\n",
       "      <td>NaN</td>\n",
       "      <td>NaN</td>\n",
       "      <td>NaN</td>\n",
       "      <td>NaN</td>\n",
       "      <td>NaN</td>\n",
       "      <td>NaN</td>\n",
       "      <td>NaN</td>\n",
       "    </tr>\n",
       "    <tr>\n",
       "      <th>PS4</th>\n",
       "      <td>314.14</td>\n",
       "      <td>NaN</td>\n",
       "      <td>NaN</td>\n",
       "      <td>NaN</td>\n",
       "      <td>NaN</td>\n",
       "      <td>NaN</td>\n",
       "      <td>NaN</td>\n",
       "      <td>NaN</td>\n",
       "      <td>NaN</td>\n",
       "      <td>NaN</td>\n",
       "      <td>...</td>\n",
       "      <td>NaN</td>\n",
       "      <td>NaN</td>\n",
       "      <td>NaN</td>\n",
       "      <td>NaN</td>\n",
       "      <td>NaN</td>\n",
       "      <td>NaN</td>\n",
       "      <td>25.99</td>\n",
       "      <td>100.00</td>\n",
       "      <td>118.90</td>\n",
       "      <td>69.25</td>\n",
       "    </tr>\n",
       "    <tr>\n",
       "      <th>PSP</th>\n",
       "      <td>294.05</td>\n",
       "      <td>4.52</td>\n",
       "      <td>NaN</td>\n",
       "      <td>NaN</td>\n",
       "      <td>NaN</td>\n",
       "      <td>NaN</td>\n",
       "      <td>NaN</td>\n",
       "      <td>NaN</td>\n",
       "      <td>NaN</td>\n",
       "      <td>NaN</td>\n",
       "      <td>...</td>\n",
       "      <td>46.93</td>\n",
       "      <td>34.55</td>\n",
       "      <td>37.78</td>\n",
       "      <td>35.04</td>\n",
       "      <td>17.82</td>\n",
       "      <td>7.69</td>\n",
       "      <td>3.14</td>\n",
       "      <td>0.24</td>\n",
       "      <td>0.12</td>\n",
       "      <td>NaN</td>\n",
       "    </tr>\n",
       "    <tr>\n",
       "      <th>PC</th>\n",
       "      <td>259.52</td>\n",
       "      <td>3.76</td>\n",
       "      <td>NaN</td>\n",
       "      <td>NaN</td>\n",
       "      <td>NaN</td>\n",
       "      <td>NaN</td>\n",
       "      <td>NaN</td>\n",
       "      <td>0.04</td>\n",
       "      <td>NaN</td>\n",
       "      <td>NaN</td>\n",
       "      <td>...</td>\n",
       "      <td>9.28</td>\n",
       "      <td>12.42</td>\n",
       "      <td>16.91</td>\n",
       "      <td>24.28</td>\n",
       "      <td>35.03</td>\n",
       "      <td>23.22</td>\n",
       "      <td>12.38</td>\n",
       "      <td>13.28</td>\n",
       "      <td>8.52</td>\n",
       "      <td>5.25</td>\n",
       "    </tr>\n",
       "    <tr>\n",
       "      <th>3DS</th>\n",
       "      <td>259.00</td>\n",
       "      <td>1.19</td>\n",
       "      <td>NaN</td>\n",
       "      <td>NaN</td>\n",
       "      <td>NaN</td>\n",
       "      <td>NaN</td>\n",
       "      <td>NaN</td>\n",
       "      <td>NaN</td>\n",
       "      <td>NaN</td>\n",
       "      <td>NaN</td>\n",
       "      <td>...</td>\n",
       "      <td>NaN</td>\n",
       "      <td>NaN</td>\n",
       "      <td>NaN</td>\n",
       "      <td>NaN</td>\n",
       "      <td>63.20</td>\n",
       "      <td>51.36</td>\n",
       "      <td>56.57</td>\n",
       "      <td>43.76</td>\n",
       "      <td>27.78</td>\n",
       "      <td>15.14</td>\n",
       "    </tr>\n",
       "    <tr>\n",
       "      <th>XB</th>\n",
       "      <td>257.74</td>\n",
       "      <td>6.17</td>\n",
       "      <td>NaN</td>\n",
       "      <td>NaN</td>\n",
       "      <td>NaN</td>\n",
       "      <td>NaN</td>\n",
       "      <td>NaN</td>\n",
       "      <td>NaN</td>\n",
       "      <td>NaN</td>\n",
       "      <td>NaN</td>\n",
       "      <td>...</td>\n",
       "      <td>0.55</td>\n",
       "      <td>0.18</td>\n",
       "      <td>NaN</td>\n",
       "      <td>NaN</td>\n",
       "      <td>NaN</td>\n",
       "      <td>NaN</td>\n",
       "      <td>NaN</td>\n",
       "      <td>NaN</td>\n",
       "      <td>NaN</td>\n",
       "      <td>NaN</td>\n",
       "    </tr>\n",
       "    <tr>\n",
       "      <th>GB</th>\n",
       "      <td>255.46</td>\n",
       "      <td>1.03</td>\n",
       "      <td>NaN</td>\n",
       "      <td>NaN</td>\n",
       "      <td>NaN</td>\n",
       "      <td>NaN</td>\n",
       "      <td>NaN</td>\n",
       "      <td>NaN</td>\n",
       "      <td>NaN</td>\n",
       "      <td>NaN</td>\n",
       "      <td>...</td>\n",
       "      <td>NaN</td>\n",
       "      <td>NaN</td>\n",
       "      <td>NaN</td>\n",
       "      <td>NaN</td>\n",
       "      <td>NaN</td>\n",
       "      <td>NaN</td>\n",
       "      <td>NaN</td>\n",
       "      <td>NaN</td>\n",
       "      <td>NaN</td>\n",
       "      <td>NaN</td>\n",
       "    </tr>\n",
       "    <tr>\n",
       "      <th>NES</th>\n",
       "      <td>251.05</td>\n",
       "      <td>NaN</td>\n",
       "      <td>NaN</td>\n",
       "      <td>NaN</td>\n",
       "      <td>NaN</td>\n",
       "      <td>10.96</td>\n",
       "      <td>50.08</td>\n",
       "      <td>53.44</td>\n",
       "      <td>36.41</td>\n",
       "      <td>19.76</td>\n",
       "      <td>...</td>\n",
       "      <td>NaN</td>\n",
       "      <td>NaN</td>\n",
       "      <td>NaN</td>\n",
       "      <td>NaN</td>\n",
       "      <td>NaN</td>\n",
       "      <td>NaN</td>\n",
       "      <td>NaN</td>\n",
       "      <td>NaN</td>\n",
       "      <td>NaN</td>\n",
       "      <td>NaN</td>\n",
       "    </tr>\n",
       "    <tr>\n",
       "      <th>N64</th>\n",
       "      <td>218.68</td>\n",
       "      <td>0.67</td>\n",
       "      <td>NaN</td>\n",
       "      <td>NaN</td>\n",
       "      <td>NaN</td>\n",
       "      <td>NaN</td>\n",
       "      <td>NaN</td>\n",
       "      <td>NaN</td>\n",
       "      <td>NaN</td>\n",
       "      <td>NaN</td>\n",
       "      <td>...</td>\n",
       "      <td>NaN</td>\n",
       "      <td>NaN</td>\n",
       "      <td>NaN</td>\n",
       "      <td>NaN</td>\n",
       "      <td>NaN</td>\n",
       "      <td>NaN</td>\n",
       "      <td>NaN</td>\n",
       "      <td>NaN</td>\n",
       "      <td>NaN</td>\n",
       "      <td>NaN</td>\n",
       "    </tr>\n",
       "    <tr>\n",
       "      <th>SNES</th>\n",
       "      <td>200.04</td>\n",
       "      <td>NaN</td>\n",
       "      <td>NaN</td>\n",
       "      <td>NaN</td>\n",
       "      <td>NaN</td>\n",
       "      <td>NaN</td>\n",
       "      <td>NaN</td>\n",
       "      <td>NaN</td>\n",
       "      <td>NaN</td>\n",
       "      <td>NaN</td>\n",
       "      <td>...</td>\n",
       "      <td>NaN</td>\n",
       "      <td>NaN</td>\n",
       "      <td>NaN</td>\n",
       "      <td>NaN</td>\n",
       "      <td>NaN</td>\n",
       "      <td>NaN</td>\n",
       "      <td>NaN</td>\n",
       "      <td>NaN</td>\n",
       "      <td>NaN</td>\n",
       "      <td>NaN</td>\n",
       "    </tr>\n",
       "    <tr>\n",
       "      <th>GC</th>\n",
       "      <td>198.93</td>\n",
       "      <td>2.20</td>\n",
       "      <td>NaN</td>\n",
       "      <td>NaN</td>\n",
       "      <td>NaN</td>\n",
       "      <td>NaN</td>\n",
       "      <td>NaN</td>\n",
       "      <td>NaN</td>\n",
       "      <td>NaN</td>\n",
       "      <td>NaN</td>\n",
       "      <td>...</td>\n",
       "      <td>0.27</td>\n",
       "      <td>NaN</td>\n",
       "      <td>NaN</td>\n",
       "      <td>NaN</td>\n",
       "      <td>NaN</td>\n",
       "      <td>NaN</td>\n",
       "      <td>NaN</td>\n",
       "      <td>NaN</td>\n",
       "      <td>NaN</td>\n",
       "      <td>NaN</td>\n",
       "    </tr>\n",
       "    <tr>\n",
       "      <th>XOne</th>\n",
       "      <td>159.32</td>\n",
       "      <td>NaN</td>\n",
       "      <td>NaN</td>\n",
       "      <td>NaN</td>\n",
       "      <td>NaN</td>\n",
       "      <td>NaN</td>\n",
       "      <td>NaN</td>\n",
       "      <td>NaN</td>\n",
       "      <td>NaN</td>\n",
       "      <td>NaN</td>\n",
       "      <td>...</td>\n",
       "      <td>NaN</td>\n",
       "      <td>NaN</td>\n",
       "      <td>NaN</td>\n",
       "      <td>NaN</td>\n",
       "      <td>NaN</td>\n",
       "      <td>NaN</td>\n",
       "      <td>18.96</td>\n",
       "      <td>54.07</td>\n",
       "      <td>60.14</td>\n",
       "      <td>26.15</td>\n",
       "    </tr>\n",
       "  </tbody>\n",
       "</table>\n",
       "<p>18 rows × 39 columns</p>\n",
       "</div>"
      ],
      "text/plain": [
       "          common_sales      0  1980  1981  1982   1983   1984   1985   1986  \\\n",
       "platform                                                                      \n",
       "PS2            1255.77  22.21   NaN   NaN   NaN    NaN    NaN    NaN    NaN   \n",
       "X360            971.42  10.18   NaN   NaN   NaN    NaN    NaN    NaN    NaN   \n",
       "PS3             939.65   8.31   NaN   NaN   NaN    NaN    NaN    NaN    NaN   \n",
       "Wii             907.51  16.33   NaN   NaN   NaN    NaN    NaN    NaN    NaN   \n",
       "DS              806.12   3.34   NaN   NaN   NaN    NaN    NaN   0.02    NaN   \n",
       "PS              730.86   3.28   NaN   NaN   NaN    NaN    NaN    NaN    NaN   \n",
       "GBA             317.85   4.97   NaN   NaN   NaN    NaN    NaN    NaN    NaN   \n",
       "PS4             314.14    NaN   NaN   NaN   NaN    NaN    NaN    NaN    NaN   \n",
       "PSP             294.05   4.52   NaN   NaN   NaN    NaN    NaN    NaN    NaN   \n",
       "PC              259.52   3.76   NaN   NaN   NaN    NaN    NaN   0.04    NaN   \n",
       "3DS             259.00   1.19   NaN   NaN   NaN    NaN    NaN    NaN    NaN   \n",
       "XB              257.74   6.17   NaN   NaN   NaN    NaN    NaN    NaN    NaN   \n",
       "GB              255.46   1.03   NaN   NaN   NaN    NaN    NaN    NaN    NaN   \n",
       "NES             251.05    NaN   NaN   NaN   NaN  10.96  50.08  53.44  36.41   \n",
       "N64             218.68   0.67   NaN   NaN   NaN    NaN    NaN    NaN    NaN   \n",
       "SNES            200.04    NaN   NaN   NaN   NaN    NaN    NaN    NaN    NaN   \n",
       "GC              198.93   2.20   NaN   NaN   NaN    NaN    NaN    NaN    NaN   \n",
       "XOne            159.32    NaN   NaN   NaN   NaN    NaN    NaN    NaN    NaN   \n",
       "\n",
       "           1987  ...    2007    2008    2009    2010    2011    2012    2013  \\\n",
       "platform         ...                                                           \n",
       "PS2         NaN  ...   75.99   53.90   26.40    5.64    0.45     NaN     NaN   \n",
       "X360        NaN  ...   95.41  135.26  120.29  170.03  143.84   99.74   88.58   \n",
       "PS3         NaN  ...   73.19  118.52  130.93  142.17  156.78  107.36  113.25   \n",
       "Wii         NaN  ...  152.77  171.32  206.97  127.95   59.65   21.71    8.59   \n",
       "DS          NaN  ...  146.94  145.31  119.54   85.02   26.18   11.01    1.54   \n",
       "PS          NaN  ...     NaN     NaN     NaN     NaN     NaN     NaN     NaN   \n",
       "GBA         NaN  ...    3.40     NaN     NaN     NaN     NaN     NaN     NaN   \n",
       "PS4         NaN  ...     NaN     NaN     NaN     NaN     NaN     NaN   25.99   \n",
       "PSP         NaN  ...   46.93   34.55   37.78   35.04   17.82    7.69    3.14   \n",
       "PC          NaN  ...    9.28   12.42   16.91   24.28   35.03   23.22   12.38   \n",
       "3DS         NaN  ...     NaN     NaN     NaN     NaN   63.20   51.36   56.57   \n",
       "XB          NaN  ...    0.55    0.18     NaN     NaN     NaN     NaN     NaN   \n",
       "GB          NaN  ...     NaN     NaN     NaN     NaN     NaN     NaN     NaN   \n",
       "NES       19.76  ...     NaN     NaN     NaN     NaN     NaN     NaN     NaN   \n",
       "N64         NaN  ...     NaN     NaN     NaN     NaN     NaN     NaN     NaN   \n",
       "SNES        NaN  ...     NaN     NaN     NaN     NaN     NaN     NaN     NaN   \n",
       "GC          NaN  ...    0.27     NaN     NaN     NaN     NaN     NaN     NaN   \n",
       "XOne        NaN  ...     NaN     NaN     NaN     NaN     NaN     NaN   18.96   \n",
       "\n",
       "            2014    2015   2016  \n",
       "platform                         \n",
       "PS2          NaN     NaN    NaN  \n",
       "X360       34.74   11.96   1.52  \n",
       "PS3        47.76   16.82   3.60  \n",
       "Wii         3.75    1.14   0.18  \n",
       "DS           NaN     NaN    NaN  \n",
       "PS           NaN     NaN    NaN  \n",
       "GBA          NaN     NaN    NaN  \n",
       "PS4       100.00  118.90  69.25  \n",
       "PSP         0.24    0.12    NaN  \n",
       "PC         13.28    8.52   5.25  \n",
       "3DS        43.76   27.78  15.14  \n",
       "XB           NaN     NaN    NaN  \n",
       "GB           NaN     NaN    NaN  \n",
       "NES          NaN     NaN    NaN  \n",
       "N64          NaN     NaN    NaN  \n",
       "SNES         NaN     NaN    NaN  \n",
       "GC           NaN     NaN    NaN  \n",
       "XOne       54.07   60.14  26.15  \n",
       "\n",
       "[18 rows x 39 columns]"
      ]
     },
     "metadata": {},
     "output_type": "display_data"
    }
   ],
   "source": [
    "top_platform_year_common_sales = top_platform_common_sales.merge(platform_common_sales, on='platform')\n",
    "display(top_platform_year_common_sales)"
   ]
  },
  {
   "cell_type": "code",
   "execution_count": 35,
   "metadata": {},
   "outputs": [
    {
     "data": {
      "image/png": "[encoded data removed]",
      "text/plain": [
       "<Figure size 720x360 with 1 Axes>"
      ]
     },
     "metadata": {
      "needs_background": "light"
     },
     "output_type": "display_data"
    },
    {
     "data": {
      "image/png": "[encoded data removed]",
      "text/plain": [
       "<Figure size 720x360 with 1 Axes>"
      ]
     },
     "metadata": {
      "needs_background": "light"
     },
     "output_type": "display_data"
    },
    {
     "data": {
      "image/png": "[encoded data removed]",
      "text/plain": [
       "<Figure size 720x360 with 1 Axes>"
      ]
     },
     "metadata": {
      "needs_background": "light"
     },
     "output_type": "display_data"
    },
    {
     "data": {
      "image/png": "[encoded data removed]",
      "text/plain": [
       "<Figure size 720x360 with 1 Axes>"
      ]
     },
     "metadata": {
      "needs_background": "light"
     },
     "output_type": "display_data"
    },
    {
     "data": {
      "image/png": "[encoded data removed]",
      "text/plain": [
       "<Figure size 720x360 with 1 Axes>"
      ]
     },
     "metadata": {
      "needs_background": "light"
     },
     "output_type": "display_data"
    },
    {
     "data": {
      "image/png": "[encoded data removed]",
      "text/plain": [
       "<Figure size 720x360 with 1 Axes>"
      ]
     },
     "metadata": {
      "needs_background": "light"
     },
     "output_type": "display_data"
    },
    {
     "data": {
      "image/png": "[encoded data removed]",
      "text/plain": [
       "<Figure size 720x360 with 1 Axes>"
      ]
     },
     "metadata": {
      "needs_background": "light"
     },
     "output_type": "display_data"
    },
    {
     "data": {
      "image/png": "[encoded data removed]",
      "text/plain": [
       "<Figure size 720x360 with 1 Axes>"
      ]
     },
     "metadata": {
      "needs_background": "light"
     },
     "output_type": "display_data"
    },
    {
     "data": {
      "image/png": "[encoded data removed]",
      "text/plain": [
       "<Figure size 720x360 with 1 Axes>"
      ]
     },
     "metadata": {
      "needs_background": "light"
     },
     "output_type": "display_data"
    },
    {
     "data": {
      "image/png": "[encoded data removed]",
      "text/plain": [
       "<Figure size 720x360 with 1 Axes>"
      ]
     },
     "metadata": {
      "needs_background": "light"
     },
     "output_type": "display_data"
    },
    {
     "data": {
      "image/png": "[encoded data removed]",
      "text/plain": [
       "<Figure size 720x360 with 1 Axes>"
      ]
     },
     "metadata": {
      "needs_background": "light"
     },
     "output_type": "display_data"
    },
    {
     "data": {
      "image/png": "[encoded data removed]",
      "text/plain": [
       "<Figure size 720x360 with 1 Axes>"
      ]
     },
     "metadata": {
      "needs_background": "light"
     },
     "output_type": "display_data"
    },
    {
     "data": {
      "image/png": "[encoded data removed]",
      "text/plain": [
       "<Figure size 720x360 with 1 Axes>"
      ]
     },
     "metadata": {
      "needs_background": "light"
     },
     "output_type": "display_data"
    },
    {
     "data": {
      "image/png": "[encoded data removed]",
      "text/plain": [
       "<Figure size 720x360 with 1 Axes>"
      ]
     },
     "metadata": {
      "needs_background": "light"
     },
     "output_type": "display_data"
    },
    {
     "data": {
      "image/png": "[encoded data removed]",
      "text/plain": [
       "<Figure size 720x360 with 1 Axes>"
      ]
     },
     "metadata": {
      "needs_background": "light"
     },
     "output_type": "display_data"
    },
    {
     "data": {
      "image/png": "[encoded data removed]",
      "text/plain": [
       "<Figure size 720x360 with 1 Axes>"
      ]
     },
     "metadata": {
      "needs_background": "light"
     },
     "output_type": "display_data"
    },
    {
     "data": {
      "image/png": "[encoded data removed]",
      "text/plain": [
       "<Figure size 720x360 with 1 Axes>"
      ]
     },
     "metadata": {
      "needs_background": "light"
     },
     "output_type": "display_data"
    },
    {
     "data": {
      "image/png": "[encoded data removed]",
      "text/plain": [
       "<Figure size 720x360 with 1 Axes>"
      ]
     },
     "metadata": {
      "needs_background": "light"
     },
     "output_type": "display_data"
    }
   ],
   "source": [
    "platforms = ['PS2', 'X360', 'PS3', 'Wii', 'DS', 'PS', 'GBA', 'PS4', 'PSP', 'PC', '3DS', 'XB', 'GB', 'NES', 'N64', 'SNES', 'GC', 'XOne']\n",
    "\n",
    "for platform in platforms:\n",
    "    platform_sales_year = data[data['platform'] == platform].pivot_table(index='year_of_release', values='common_sales', aggfunc='sum').plot(kind='bar', figsize=(10, 5))\n",
    "    plt.title(platform)"
   ]
  },
  {
   "cell_type": "markdown",
   "metadata": {},
   "source": [
    "Вывод: Характерный срок за который появляются и исчезают платформы - 10 -12 лет, есть платформы долгожители и те, которым 4 года."
   ]
  },
  {
   "cell_type": "markdown",
   "metadata": {},
   "source": [
    "Возьмите данные за соответствующий актуальный период. Актуальный период определите самостоятельно в результате исследования предыдущих вопросов. Основной фактор — эти данные помогут построить прогноз на 2017 год.\n",
    "\n",
    "Не учитывайте в работе данные за предыдущие годы."
   ]
  },
  {
   "cell_type": "markdown",
   "metadata": {},
   "source": [
    "Вывод: За актуальный период можно принять промежуток с 2014 года по 2016 год, так как у большинства платформ эти годы пересекаются на графиках."
   ]
  },
  {
   "cell_type": "markdown",
   "metadata": {},
   "source": [
    "Какие платформы лидируют по продажам, растут или падают? Выберите несколько потенциально прибыльных платформ."
   ]
  },
  {
   "cell_type": "code",
   "execution_count": 36,
   "metadata": {
    "scrolled": true
   },
   "outputs": [
    {
     "data": {
      "image/png": "[encoded data removed]",
      "text/plain": [
       "<Figure size 1440x432 with 1 Axes>"
      ]
     },
     "metadata": {
      "needs_background": "light"
     },
     "output_type": "display_data"
    }
   ],
   "source": [
    "actual_period = data.query('year_of_release >= 2014') # возьму данные для топ 10 платформ после 2014 года\n",
    "actual_period.query('platform in @platforms').pivot_table(index='year_of_release', columns = 'platform', values='common_sales', aggfunc='sum').plot(figsize=(20, 6));\n",
    "plt.title('Общие продажи Топ 10 платформ за 2014-2016 гг.')\n",
    "plt.ylabel('Количество игр')\n",
    "plt.xlabel('Год релиза');"
   ]
  },
  {
   "cell_type": "markdown",
   "metadata": {},
   "source": [
    "Вывод: На графике осталось 8 платформ. Продажи на всех платформах падают без исключения. Но можно выделить три платформы это PS4 и XOne, так как они новые и имеют большой объем продаж и платформу PC, так как она имеет стабильные продажи на всем отрезке времени своего существования."
   ]
  },
  {
   "cell_type": "markdown",
   "metadata": {},
   "source": [
    "Постройте график «ящик с усами» по глобальным продажам игр в разбивке по платформам. Опишите результат."
   ]
  },
  {
   "cell_type": "code",
   "execution_count": 37,
   "metadata": {
    "scrolled": true
   },
   "outputs": [
    {
     "data": {
      "image/png": "[encoded data removed]",
      "text/plain": [
       "<Figure size 720x360 with 1 Axes>"
      ]
     },
     "metadata": {
      "needs_background": "light"
     },
     "output_type": "display_data"
    }
   ],
   "source": [
    "actual_period = data.query('year_of_release >= 2014 and platform in @platforms and common_sales < 0.4')\n",
    "\n",
    "plt.figure(figsize=(10, 5))\n",
    "sns.boxplot(data=actual_period, x='platform', y='common_sales', whis=0.1)\n",
    "\n",
    "\n",
    "plt.title('Общие продажи Топ 10 платформ за 2014-2016 гг.')\n",
    "plt.ylabel('Объем продаж')\n",
    "plt.xlabel('Платформа');"
   ]
  },
  {
   "cell_type": "markdown",
   "metadata": {},
   "source": [
    "Вывод: Медианные значения примерно равны у платформ X360, PS3, PS4, XOne, у них же и самый большой межквартильный размах, но PS3 не имеет перспектив, так как продажи упали. платформа Wii - похожа межквартильным размахом, но медианное значение ниже, чем у других платформ из этого списка. Платформа Wii практически не имеет выбросов, а платформы PS3, PC, 3DS имеют самое большое количество выбросов."
   ]
  },
  {
   "cell_type": "markdown",
   "metadata": {},
   "source": [
    "Посмотрите, как влияют на продажи внутри одной популярной платформы отзывы пользователей и критиков. Постройте диаграмму рассеяния и посчитайте корреляцию между отзывами и продажами. Сформулируйте выводы."
   ]
  },
  {
   "cell_type": "code",
   "execution_count": 38,
   "metadata": {
    "scrolled": true
   },
   "outputs": [
    {
     "data": {
      "image/png": "[encoded data removed]",
      "text/plain": [
       "<Figure size 432x288 with 1 Axes>"
      ]
     },
     "metadata": {
      "needs_background": "light"
     },
     "output_type": "display_data"
    },
    {
     "data": {
      "image/png": "[encoded data removed]",
      "text/plain": [
       "<Figure size 432x288 with 1 Axes>"
      ]
     },
     "metadata": {
      "needs_background": "light"
     },
     "output_type": "display_data"
    }
   ],
   "source": [
    "# возьму для исследования платформу PS4\n",
    "data[(data['platform'] == 'PS4') & (data['year_of_release'] >= 2014)].plot(x='common_sales', y='critic_score', kind='scatter', grid=True);\n",
    "plt.title('Зависимость продаж от оценки критиков');\n",
    "plt.xlim(0, 4)\n",
    "\n",
    "data[(data['platform'] == 'PS4') & (data['year_of_release'] >= 2014)].plot(x='common_sales', y='user_score', kind='scatter', grid=True);\n",
    "plt.title('Зависимость продаж от оценки пользоватлей');\n",
    "plt.xlim(0, 4)\n",
    "\n",
    "plt.tight_layout()"
   ]
  },
  {
   "cell_type": "markdown",
   "metadata": {},
   "source": [
    "Вывод: На диаграммах рассеивания видно, что чем выше оценки, тем больше объем продаж."
   ]
  },
  {
   "cell_type": "code",
   "execution_count": 39,
   "metadata": {},
   "outputs": [
    {
     "name": "stdout",
     "output_type": "stream",
     "text": [
      "Корреляция между common_sales и critic_score: 0.40266141068104083\n",
      "Корреляция между common_sales и user_score: -0.040131589472697356\n"
     ]
    }
   ],
   "source": [
    "# проверю корреляцию между отзывами и продажами\n",
    "\n",
    "correlation_critic = data[(data['platform'] == 'PS4') & (data['year_of_release'] >= 2014)]['common_sales'].corr(data[data['platform'] == 'PS4']['critic_score'])\n",
    "print(f'Корреляция между common_sales и critic_score: {correlation_critic}') # вычислил корреляцию между critic_score для данных платформы 'PS4'\n",
    "\n",
    "correlation_user = data[(data['platform'] == 'PS4') & (data['year_of_release'] >= 2014)]['common_sales'].corr(data[data['platform'] == 'PS4']['user_score'])\n",
    "print(f'Корреляция между common_sales и user_score: {correlation_user}') # вычислил корреляцию между common_sales для данных платформы 'PS4'\n"
   ]
  },
  {
   "cell_type": "markdown",
   "metadata": {},
   "source": [
    "Вывод: Для платформы PS4 зависимость продаж от отзывов критиков высокая, в то время как, от отзывов пользователей продажи не зависят."
   ]
  },
  {
   "cell_type": "markdown",
   "metadata": {},
   "source": [
    "Соотнесите выводы с продажами игр на других платформах."
   ]
  },
  {
   "cell_type": "markdown",
   "metadata": {},
   "source": [
    "Для платформы XOne"
   ]
  },
  {
   "cell_type": "code",
   "execution_count": 40,
   "metadata": {},
   "outputs": [
    {
     "name": "stdout",
     "output_type": "stream",
     "text": [
      "Корреляция между common_sales и critic_score: 0.42867694370333226\n",
      "Корреляция между common_sales и user_score: -0.0703839280647581\n"
     ]
    }
   ],
   "source": [
    "correlation_critic = data[(data['platform'] == 'XOne') & (data['year_of_release'] >= 2014)]['common_sales'].corr(data[data['platform'] == 'XOne']['critic_score'])\n",
    "print(f'Корреляция между common_sales и critic_score: {correlation_critic}')\n",
    "\n",
    "correlation_user = data[(data['platform'] == 'XOne') & (data['year_of_release'] >= 2014)]['common_sales'].corr(data[data['platform'] == 'XOne']['user_score'])\n",
    "print(f'Корреляция между common_sales и user_score: {correlation_user}') "
   ]
  },
  {
   "cell_type": "markdown",
   "metadata": {},
   "source": [
    "Вывод: Для платформы XOne зависимость продаж от отзывов критиков высокая, в то время как, от отзывов пользователей продажи не зависят."
   ]
  },
  {
   "cell_type": "markdown",
   "metadata": {},
   "source": [
    "Для платформы PC"
   ]
  },
  {
   "cell_type": "code",
   "execution_count": 41,
   "metadata": {},
   "outputs": [
    {
     "name": "stdout",
     "output_type": "stream",
     "text": [
      "Корреляция между common_sales и critic_score: 0.17463413769350036\n",
      "Корреляция между common_sales и user_score: -0.07159665703472452\n"
     ]
    }
   ],
   "source": [
    "correlation_critic = data[(data['platform'] == 'PC') & (data['year_of_release'] >= 2014)]['common_sales'].corr(data[data['platform'] == 'PC']['critic_score'])\n",
    "print(f'Корреляция между common_sales и critic_score: {correlation_critic}')\n",
    "\n",
    "correlation_user = data[(data['platform'] == 'PC') & (data['year_of_release'] >= 2014)]['common_sales'].corr(data[data['platform'] == 'PC']['user_score'])\n",
    "print(f'Корреляция между common_sales и user_score: {correlation_user}') "
   ]
  },
  {
   "cell_type": "markdown",
   "metadata": {},
   "source": [
    "Вывод: Для платформы PC зависимость продаж от отзывов критиков немного выше, чем от отзывов пользователей."
   ]
  },
  {
   "cell_type": "markdown",
   "metadata": {},
   "source": [
    "Посмотрите на общее распределение игр по жанрам. Что можно сказать о самых прибыльных жанрах? Выделяются ли жанры с высокими и низкими продажами?"
   ]
  },
  {
   "cell_type": "code",
   "execution_count": 42,
   "metadata": {
    "scrolled": true
   },
   "outputs": [
    {
     "data": {
      "image/png": "[encoded data removed]",
      "text/plain": [
       "<Figure size 720x288 with 1 Axes>"
      ]
     },
     "metadata": {
      "needs_background": "light"
     },
     "output_type": "display_data"
    }
   ],
   "source": [
    "data[data['year_of_release'] >= 2014].groupby('genre')['common_sales'].sum().sort_values(ascending=True).plot(kind='bar', figsize=(10, 4))\n",
    "\n",
    "plt.title('Общие продажи по жанрам')\n",
    "plt.xlabel('Жанр')\n",
    "plt.ylabel('Общие продажи');"
   ]
  },
  {
   "cell_type": "code",
   "execution_count": 43,
   "metadata": {},
   "outputs": [
    {
     "data": {
      "image/png": "[encoded data removed]",
      "text/plain": [
       "<Figure size 720x288 with 1 Axes>"
      ]
     },
     "metadata": {
      "needs_background": "light"
     },
     "output_type": "display_data"
    }
   ],
   "source": [
    "data[data['year_of_release'] >= 2014].groupby('genre')['common_sales'].mean().sort_values(ascending=True).plot(kind='bar', figsize=(10, 4))\n",
    "\n",
    "plt.title('Средние продажи по жанрам')\n",
    "plt.xlabel('Жанр')\n",
    "plt.ylabel('Средние продажи');"
   ]
  },
  {
   "cell_type": "code",
   "execution_count": 44,
   "metadata": {},
   "outputs": [
    {
     "data": {
      "image/png": "[encoded data removed]",
      "text/plain": [
       "<Figure size 720x288 with 1 Axes>"
      ]
     },
     "metadata": {
      "needs_background": "light"
     },
     "output_type": "display_data"
    }
   ],
   "source": [
    "data[data['year_of_release'] >= 2014].groupby('genre')['common_sales'].median().sort_values(ascending=True).plot(kind='bar', figsize=(10, 4))\n",
    "\n",
    "plt.title('Медианные продажи по жанрам')\n",
    "plt.xlabel('Жанр')\n",
    "plt.ylabel('Медианные продажи');"
   ]
  },
  {
   "cell_type": "markdown",
   "metadata": {},
   "source": [
    "Вывод: Самые высокопродаваемые жанры - Action, Shooter, Sports, жанры с низкими продажами - Strategy и Puzzle. Но если рассмотреть средниеи медианные продажи, то в лидерах Sports и Shooter!"
   ]
  },
  {
   "cell_type": "markdown",
   "metadata": {},
   "source": [
    "# 5) Составьте портрет пользователя каждого региона:"
   ]
  },
  {
   "cell_type": "markdown",
   "metadata": {},
   "source": [
    "Определите для пользователя каждого региона (NA, EU, JP):\n",
    "Самые популярные платформы (топ-5). Опишите различия в долях продаж.\n",
    "Самые популярные жанры (топ-5). Поясните разницу.\n",
    "Влияет ли рейтинг ESRB на продажи в отдельном регионе?"
   ]
  },
  {
   "cell_type": "code",
   "execution_count": 63,
   "metadata": {},
   "outputs": [
    {
     "data": {
      "image/png": "[encoded data removed]",
      "text/plain": [
       "<Figure size 720x288 with 1 Axes>"
      ]
     },
     "metadata": {
      "needs_background": "light"
     },
     "output_type": "display_data"
    }
   ],
   "source": [
    "top_platform_na = data[data['year_of_release'] >= 2014].groupby('platform')['na_sales'].sum().sort_values(ascending=True).nlargest(5)\n",
    "top_platform_na_proportion = top_platform_na.apply(lambda x: x / top_platform_na.sum() * 100)\n",
    "top_platform_na_proportion.plot(kind='bar', figsize=(10, 4), stacked=True)\n",
    "plt.title('Доли платформ в Северной Америке')\n",
    "plt.xlabel('Платформа')\n",
    "plt.ylabel('Доля продаж');"
   ]
  },
  {
   "cell_type": "code",
   "execution_count": 65,
   "metadata": {},
   "outputs": [
    {
     "data": {
      "image/png": "[encoded data removed]",
      "text/plain": [
       "<Figure size 720x288 with 1 Axes>"
      ]
     },
     "metadata": {
      "needs_background": "light"
     },
     "output_type": "display_data"
    }
   ],
   "source": [
    "top_platform_eu = data[data['year_of_release'] >= 2014].groupby('platform')['eu_sales'].sum().sort_values(ascending=True).nlargest(5)\n",
    "top_platform_eu_proportion = top_platform_eu.apply(lambda x: x / top_platform_eu.sum() * 100)\n",
    "top_platform_eu_proportion.plot(kind='bar', figsize=(10, 4), stacked=True)\n",
    "plt.title('Доли платформ в Европе')\n",
    "plt.xlabel('Платформа')\n",
    "plt.ylabel('Доля продаж');"
   ]
  },
  {
   "cell_type": "code",
   "execution_count": 47,
   "metadata": {
    "scrolled": true
   },
   "outputs": [
    {
     "data": {
      "image/png": "[encoded data removed]",
      "text/plain": [
       "<Figure size 720x288 with 1 Axes>"
      ]
     },
     "metadata": {
      "needs_background": "light"
     },
     "output_type": "display_data"
    }
   ],
   "source": [
    "top_platform_jp = data[data['year_of_release'] >= 2014].groupby('platform')['jp_sales'].sum().sort_values(ascending=True).nlargest(5)\n",
    "top_platform_jp_proportion = top_platform_jp.apply(lambda x: x / top_platform_jp.sum() * 100)\n",
    "top_platform_jp_proportion.plot(kind='bar', figsize=(10, 4), stacked=True)\n",
    "plt.title('Доли платформ в Японии')\n",
    "plt.xlabel('Платформа')\n",
    "plt.ylabel('Доля продаж');"
   ]
  },
  {
   "cell_type": "markdown",
   "metadata": {},
   "source": [
    "Вывод: 3DS - абсолютный лидер на рынке Японии, PS4 имеет примерно 15% долю. PS4 и XOne занимают наибольшие доли на рынке Северной Америки и Европы, платформа PC занимет небольшую долю на рынке Европы."
   ]
  },
  {
   "cell_type": "code",
   "execution_count": 48,
   "metadata": {
    "scrolled": true
   },
   "outputs": [
    {
     "data": {
      "image/png": "[encoded data removed]",
      "text/plain": [
       "<Figure size 720x288 with 1 Axes>"
      ]
     },
     "metadata": {
      "needs_background": "light"
     },
     "output_type": "display_data"
    }
   ],
   "source": [
    "top_genres_na = data[data['year_of_release'] >= 2014].groupby('genre')['na_sales'].sum().sort_values(ascending=True)\n",
    "top_genres_na_proportion = top_genres_na.apply(lambda x: x / top_genres_na.sum() * 100)\n",
    "top_genres_na_proportion.plot(kind='bar', figsize=(10, 4), stacked=True)\n",
    "plt.title('Доли продаж в Северной Америке по жанрам')\n",
    "plt.xlabel('Жанр')\n",
    "plt.ylabel('Доля продаж');"
   ]
  },
  {
   "cell_type": "code",
   "execution_count": 49,
   "metadata": {
    "scrolled": true
   },
   "outputs": [
    {
     "data": {
      "image/png": "[encoded data removed]",
      "text/plain": [
       "<Figure size 720x288 with 1 Axes>"
      ]
     },
     "metadata": {
      "needs_background": "light"
     },
     "output_type": "display_data"
    }
   ],
   "source": [
    "top_genres_eu = data[data['year_of_release'] >= 2014].groupby('genre')['eu_sales'].sum().sort_values(ascending=True)\n",
    "top_genres_eu_proportion = top_genres_eu.apply(lambda x: x / top_genres_eu.sum() * 100)\n",
    "top_genres_eu_proportion.plot(kind='bar', figsize=(10, 4), stacked=True)\n",
    "plt.title('Доли продаж в Европе по жанрам')\n",
    "plt.xlabel('Жанр')\n",
    "plt.ylabel('Доля продаж');"
   ]
  },
  {
   "cell_type": "code",
   "execution_count": 50,
   "metadata": {},
   "outputs": [
    {
     "data": {
      "image/png": "[encoded data removed]",
      "text/plain": [
       "<Figure size 720x288 with 1 Axes>"
      ]
     },
     "metadata": {
      "needs_background": "light"
     },
     "output_type": "display_data"
    }
   ],
   "source": [
    "top_genres_jp = data[data['year_of_release'] >= 2014].groupby('genre')['jp_sales'].sum().sort_values(ascending=True)\n",
    "top_genres_jp_proportion = top_genres_jp.apply(lambda x: x / top_genres_jp.sum() * 100)\n",
    "top_genres_jp_proportion.plot(kind='bar', figsize=(10, 4), stacked=True)\n",
    "plt.title('Доли продаж в Японии по жанрам')\n",
    "plt.xlabel('Жанр')\n",
    "plt.ylabel('Доля продаж');"
   ]
  },
  {
   "cell_type": "markdown",
   "metadata": {},
   "source": [
    "Вывод: Предпочтения пользователей Северной Америки и Европы очень схожи, они предпочитают жанр Action, Sports, Shooter и в наименьшей степени Strategy и Puzzle. А японские пользователи предпочитают жанр Role-Playing и Action, которые являются абсолютными лидерами по популярности с долей более 30% каждый, и самый отстающие жанры - Puzzle и Strategy."
   ]
  },
  {
   "cell_type": "code",
   "execution_count": 51,
   "metadata": {},
   "outputs": [
    {
     "data": {
      "image/png": "[encoded data removed]",
      "text/plain": [
       "<Figure size 360x216 with 1 Axes>"
      ]
     },
     "metadata": {
      "needs_background": "light"
     },
     "output_type": "display_data"
    }
   ],
   "source": [
    "rating_depend_na = data[data['year_of_release'] >= 2014].groupby('rating')['na_sales'].sum().sort_values(ascending=True)\n",
    "rating_depend_na.plot(kind='bar', figsize=(5, 3), stacked=True)\n",
    "plt.title('Оценки рейтинга ESRB в Северной Америке')\n",
    "plt.xlabel('Оценка')\n",
    "plt.ylabel('Сумма оценок');"
   ]
  },
  {
   "cell_type": "code",
   "execution_count": 52,
   "metadata": {},
   "outputs": [
    {
     "data": {
      "image/png": "[encoded data removed]",
      "text/plain": [
       "<Figure size 360x216 with 1 Axes>"
      ]
     },
     "metadata": {
      "needs_background": "light"
     },
     "output_type": "display_data"
    }
   ],
   "source": [
    "rating_depend_eu = data[data['year_of_release'] >= 2014].groupby('rating')['eu_sales'].sum().sort_values(ascending=True)\n",
    "rating_depend_eu.plot(kind='bar', figsize=(5, 3), stacked=True)\n",
    "plt.title('Оценки рейтинга ESRB в Европе')\n",
    "plt.xlabel('Оценка')\n",
    "plt.ylabel('Сумма оценок');"
   ]
  },
  {
   "cell_type": "code",
   "execution_count": 53,
   "metadata": {},
   "outputs": [
    {
     "data": {
      "image/png": "[encoded data removed]",
      "text/plain": [
       "<Figure size 360x216 with 1 Axes>"
      ]
     },
     "metadata": {
      "needs_background": "light"
     },
     "output_type": "display_data"
    }
   ],
   "source": [
    "rating_depend_jp = data[data['year_of_release'] >= 2014].groupby('rating')['jp_sales'].sum().sort_values(ascending=True)\n",
    "rating_depend_jp.plot(kind='bar', figsize=(5, 3), stacked=True)\n",
    "plt.title('Оценки рейтинга ESRB в Японии')\n",
    "plt.xlabel('Оценка')\n",
    "plt.ylabel('Сумма оценок');"
   ]
  },
  {
   "cell_type": "code",
   "execution_count": 54,
   "metadata": {},
   "outputs": [
    {
     "data": {
      "text/html": [
       "<div>\n",
       "<style scoped>\n",
       "    .dataframe tbody tr th:only-of-type {\n",
       "        vertical-align: middle;\n",
       "    }\n",
       "\n",
       "    .dataframe tbody tr th {\n",
       "        vertical-align: top;\n",
       "    }\n",
       "\n",
       "    .dataframe thead th {\n",
       "        text-align: right;\n",
       "    }\n",
       "</style>\n",
       "<table border=\"1\" class=\"dataframe\">\n",
       "  <thead>\n",
       "    <tr style=\"text-align: right;\">\n",
       "      <th></th>\n",
       "      <th>eu_sales</th>\n",
       "      <th>jp_sales</th>\n",
       "      <th>na_sales</th>\n",
       "    </tr>\n",
       "    <tr>\n",
       "      <th>rating</th>\n",
       "      <th></th>\n",
       "      <th></th>\n",
       "      <th></th>\n",
       "    </tr>\n",
       "  </thead>\n",
       "  <tbody>\n",
       "    <tr>\n",
       "      <th>E</th>\n",
       "      <td>58.06</td>\n",
       "      <td>8.94</td>\n",
       "      <td>50.74</td>\n",
       "    </tr>\n",
       "    <tr>\n",
       "      <th>E10+</th>\n",
       "      <td>26.16</td>\n",
       "      <td>4.46</td>\n",
       "      <td>33.23</td>\n",
       "    </tr>\n",
       "    <tr>\n",
       "      <th>M</th>\n",
       "      <td>93.44</td>\n",
       "      <td>8.01</td>\n",
       "      <td>96.42</td>\n",
       "    </tr>\n",
       "    <tr>\n",
       "      <th>T</th>\n",
       "      <td>34.07</td>\n",
       "      <td>14.78</td>\n",
       "      <td>38.95</td>\n",
       "    </tr>\n",
       "  </tbody>\n",
       "</table>\n",
       "</div>"
      ],
      "text/plain": [
       "        eu_sales  jp_sales  na_sales\n",
       "rating                              \n",
       "E          58.06      8.94     50.74\n",
       "E10+       26.16      4.46     33.23\n",
       "M          93.44      8.01     96.42\n",
       "T          34.07     14.78     38.95"
      ]
     },
     "metadata": {},
     "output_type": "display_data"
    }
   ],
   "source": [
    "regions = ['na_sales', 'na_sales', 'na_sales']\n",
    "rating_regions = data[data['year_of_release'] >= 2014].pivot_table(index = 'rating', values = ['na_sales','eu_sales','jp_sales'], aggfunc = 'sum')\n",
    "display(rating_regions)"
   ]
  },
  {
   "cell_type": "markdown",
   "metadata": {},
   "source": [
    "Вывод: Рейтинг ESRB оказывает влияние на продажи игр, например благодаря оценке E продажи игр в Европе самые высокие, тоже самое прослеживается и по другим оценкам."
   ]
  },
  {
   "cell_type": "markdown",
   "metadata": {},
   "source": [
    "# 6) Проверка гипотез:"
   ]
  },
  {
   "cell_type": "markdown",
   "metadata": {},
   "source": [
    "Средние пользовательские рейтинги платформ Xbox One и PC одинаковые.\n",
    "\n",
    "Нулевая гипотеза: \n",
    "\n",
    "Средний пользовательский рейтинг XOne = Средний пользовательский рейтинг PC.\n",
    "\n",
    "Алетернативная гипотеза: \n",
    "\n",
    "Средний пользовательский рейтинг XOne != Средний пользовательский рейтинг PC (средние значения отличаются). Буду использовать параметр alternative='two-sided'"
   ]
  },
  {
   "cell_type": "code",
   "execution_count": 55,
   "metadata": {},
   "outputs": [
    {
     "name": "stdout",
     "output_type": "stream",
     "text": [
      "6.59\n",
      "6.3\n"
     ]
    }
   ],
   "source": [
    "user_score_xone_mean = data[data['year_of_release'] >= 2014].query(\"platform == 'XOne'\")['user_score'].mean()\n",
    "print(user_score_xone_mean.round(2))\n",
    "\n",
    "user_score_pc_mean = data[data['year_of_release'] >= 2014].query(\"platform == 'PC'\")['user_score'].mean()\n",
    "print(user_score_pc_mean.round(2))"
   ]
  },
  {
   "cell_type": "code",
   "execution_count": 56,
   "metadata": {},
   "outputs": [
    {
     "name": "stdout",
     "output_type": "stream",
     "text": [
      "p-значение: 0.10450507919348513\n",
      "Не получилось отвергнуть нулевую гипотезу\n"
     ]
    }
   ],
   "source": [
    "results = st.ttest_ind(data[data['year_of_release'] >= 2014].query(\"platform == 'XOne'\")['user_score'],\n",
    "                       data[data['year_of_release'] >= 2014].query(\"platform == 'PC'\")['user_score'], \n",
    "                       alternative='two-sided', \n",
    "                       nan_policy='omit') # исключу значения nan из выборок \n",
    "\n",
    "print('p-значение:', results.pvalue)\n",
    "\n",
    "alpha = 0.05\n",
    "\n",
    "if results.pvalue < alpha:\n",
    "    print('Отвергаем нулевую гипотезу')\n",
    "else:\n",
    "    print('Не получилось отвергнуть нулевую гипотезу')"
   ]
  },
  {
   "cell_type": "markdown",
   "metadata": {},
   "source": [
    "Вывод: Не получилось отвергнуть нулевую гипотезу, средние значения не отличаются или практически не отличаются. В ходе проверки выяснил, что средний пользовательский рейтинг PC немного выше, чем у XOne."
   ]
  },
  {
   "cell_type": "markdown",
   "metadata": {},
   "source": [
    "Средние пользовательские рейтинги жанров Action (англ. «действие», экшен-игры) и Sports (англ. «спортивные соревнования») разные.\n",
    "\n",
    "Нулевая гипотеза:\n",
    "\n",
    "Средний пользовательский рейтинг жанра Action = Средний пользовательский рейтинг жанра Sports.\n",
    "\n",
    "Альтернативная гипотеза:\n",
    "\n",
    "Средний пользовательский рейтинг жанра Action != Средний пользовательский рейтинг жанра Sports(средние значения отличаются). Буду использовать параметр alternative='two-sided'"
   ]
  },
  {
   "cell_type": "code",
   "execution_count": 57,
   "metadata": {},
   "outputs": [
    {
     "name": "stdout",
     "output_type": "stream",
     "text": [
      "6.760606060606061\n",
      "5.225196850393701\n"
     ]
    }
   ],
   "source": [
    "user_score_action_mean = data[data['year_of_release'] >= 2014].query(\"genre == 'Action'\")['user_score'].mean()\n",
    "print(user_score_action_mean)\n",
    "\n",
    "user_score_sports_mean = data[data['year_of_release'] >= 2014].query(\"genre == 'Sports'\")['user_score'].mean()\n",
    "print(user_score_sports_mean)"
   ]
  },
  {
   "cell_type": "code",
   "execution_count": 58,
   "metadata": {},
   "outputs": [
    {
     "name": "stdout",
     "output_type": "stream",
     "text": [
      "p-значение: 1.182555038264477e-14\n",
      "Отвергаем нулевую гипотезу\n"
     ]
    }
   ],
   "source": [
    "results = st.ttest_ind(data[data['year_of_release'] >= 2014].query(\"genre == 'Action'\")['user_score'],\n",
    "                       data[data['year_of_release'] >= 2014].query(\"genre == 'Sports'\")['user_score'],\n",
    "                       alternative='two-sided',\n",
    "                       nan_policy='omit',\n",
    "                       equal_var=False) # исключу значения nan из выборок \n",
    "\n",
    "print('p-значение:', results.pvalue)\n",
    "\n",
    "alpha = 0.05\n",
    "\n",
    "if results.pvalue < alpha:\n",
    "    print('Отвергаем нулевую гипотезу')\n",
    "else:\n",
    "    print('Не получилось отвергнуть нулевую гипотезу')"
   ]
  },
  {
   "cell_type": "markdown",
   "metadata": {},
   "source": [
    "Вывод: Нулевую гипотезу отвергли, значения оценок отличаются. В ходе проверки выяснил, что пользовательсикй рейтинг жанров сильно отличается."
   ]
  },
  {
   "cell_type": "markdown",
   "metadata": {},
   "source": [
    "# Вывод:"
   ]
  },
  {
   "cell_type": "markdown",
   "metadata": {},
   "source": [
    "В ходе проведенного исследования удалось выяснить следующее:\n",
    "\n",
    "Планомерный рост выпуска игр наблюдался с начала 90-ых, пик был достигнут в 2008-2009 годах, затем началось резкое снижение выпуска игр.\n",
    "\n",
    "Характерный срок за который появляются и исчезают платформы - 10 - 12 лет, есть платформы долгожители и те, которым 4 года. Актуальный период 2014 - 2016 год, но 2016 год возможно не имеет полных данных, это следует учитывать.\n",
    "\n",
    "Продажи на всех платформах падают без исключения. Но можно выделить три платформы это PS4 и XOne, так как они новые и имеют большой объем продаж и платформу PC, так как она имеет стабильные продажи на всем отрезке времени своего существования. Платформа 3DS - абсолютный лидер на рынке Японии, PS4 имеет примерно 15% долю. PS4 и XOne занимают наибольшие доли на рынке Северной Америки и Европы, платформа PC занимет небольшую долю на рынке Европы. \n",
    "\n",
    "Самые высокопродаваемые жанры - Action, Shooter, Sports, жанры с низкими продажами - Strategy и Puzzle. Но если рассмотреть средниеи медианные продажи, то в лидерах Sports и Shooter! Предпочтения пользователей Северной Америки и Европы очень схожи, они предпочитают жанр Action, Sports, Shooter и в наименьшей степени Strategy и Puzzle. А японские пользователи предпочитают жанр Role-Playing и Action, которые являются абсолютными лидерами по популярности с долей более 30% каждый, и самый отстающие жанры - Puzzle и Strategy.\n",
    "\n",
    "Чем выше оценки, тем больше объем продаж, но это происходит не во всех случаях, кроме того, где-то сильнее влияет оценка критиков, а где-то оценка пользователей, необходимо рассматривать более детально. Рейтинг ESRB оказывает влияние на продажи игр, например благодаря оценке E продажи игр в Европе самые высокие, тоже самое прослеживается и по другим оценкам.\n",
    "\n",
    "Были протестированы две гипотезы:\n",
    "\n",
    "В первом случае не получилось отвергнуть нулевую гипотезу, средние значения не отличаются или практически не отличаются. \n",
    "\n",
    "Во втором случае нулевую гипотезу отвергли, значения оценок отличаются."
   ]
  }
 ],
 "metadata": {
  "ExecuteTimeLog": [
   {
    "duration": 416,
    "start_time": "2024-05-10T09:28:20.428Z"
   },
   {
    "duration": 103,
    "start_time": "2024-05-10T09:28:56.316Z"
   },
   {
    "duration": 10,
    "start_time": "2024-05-10T09:29:10.880Z"
   },
   {
    "duration": 626,
    "start_time": "2024-05-10T09:30:27.304Z"
   },
   {
    "duration": 46,
    "start_time": "2024-05-10T09:30:27.952Z"
   },
   {
    "duration": 8,
    "start_time": "2024-05-10T09:30:29.735Z"
   },
   {
    "duration": 9,
    "start_time": "2024-05-10T09:32:51.232Z"
   },
   {
    "duration": 987,
    "start_time": "2024-05-10T09:33:09.537Z"
   },
   {
    "duration": 48,
    "start_time": "2024-05-10T09:33:10.525Z"
   },
   {
    "duration": 46,
    "start_time": "2024-05-10T09:33:10.577Z"
   },
   {
    "duration": 0,
    "start_time": "2024-05-10T09:33:10.625Z"
   },
   {
    "duration": 0,
    "start_time": "2024-05-10T09:33:10.626Z"
   },
   {
    "duration": 950,
    "start_time": "2024-05-10T09:33:24.753Z"
   },
   {
    "duration": 47,
    "start_time": "2024-05-10T09:33:25.705Z"
   },
   {
    "duration": 10,
    "start_time": "2024-05-10T09:33:25.753Z"
   },
   {
    "duration": 11,
    "start_time": "2024-05-10T09:33:25.764Z"
   },
   {
    "duration": 99,
    "start_time": "2024-05-10T09:34:06.085Z"
   },
   {
    "duration": 2,
    "start_time": "2024-05-10T09:34:42.072Z"
   },
   {
    "duration": 60,
    "start_time": "2024-05-10T09:37:29.273Z"
   },
   {
    "duration": 12,
    "start_time": "2024-05-10T09:37:30.733Z"
   },
   {
    "duration": 13,
    "start_time": "2024-05-10T09:37:34.094Z"
   },
   {
    "duration": 674,
    "start_time": "2024-05-10T09:37:39.159Z"
   },
   {
    "duration": 450,
    "start_time": "2024-05-10T09:37:56.631Z"
   },
   {
    "duration": 540,
    "start_time": "2024-05-10T09:38:08.725Z"
   },
   {
    "duration": 264,
    "start_time": "2024-05-10T10:07:35.263Z"
   },
   {
    "duration": 9,
    "start_time": "2024-05-10T10:07:45.077Z"
   },
   {
    "duration": 4,
    "start_time": "2024-05-10T10:09:14.623Z"
   },
   {
    "duration": 12,
    "start_time": "2024-05-10T10:09:32.816Z"
   },
   {
    "duration": 5,
    "start_time": "2024-05-10T10:09:52.292Z"
   },
   {
    "duration": 11,
    "start_time": "2024-05-10T10:09:52.962Z"
   },
   {
    "duration": 939,
    "start_time": "2024-05-10T10:10:05.137Z"
   },
   {
    "duration": 57,
    "start_time": "2024-05-10T10:10:06.077Z"
   },
   {
    "duration": 12,
    "start_time": "2024-05-10T10:10:06.135Z"
   },
   {
    "duration": 33,
    "start_time": "2024-05-10T10:10:06.149Z"
   },
   {
    "duration": 579,
    "start_time": "2024-05-10T10:10:06.183Z"
   },
   {
    "duration": 4,
    "start_time": "2024-05-10T10:10:06.763Z"
   },
   {
    "duration": 27,
    "start_time": "2024-05-10T10:10:06.768Z"
   },
   {
    "duration": 6,
    "start_time": "2024-05-10T10:10:06.797Z"
   },
   {
    "duration": 9,
    "start_time": "2024-05-10T10:10:06.804Z"
   },
   {
    "duration": 7,
    "start_time": "2024-05-10T10:10:06.814Z"
   },
   {
    "duration": 4,
    "start_time": "2024-05-10T10:10:06.822Z"
   },
   {
    "duration": 4,
    "start_time": "2024-05-10T10:10:06.827Z"
   },
   {
    "duration": 4,
    "start_time": "2024-05-10T10:10:59.494Z"
   },
   {
    "duration": 15,
    "start_time": "2024-05-10T10:11:00.211Z"
   },
   {
    "duration": 89,
    "start_time": "2024-05-10T10:13:19.416Z"
   },
   {
    "duration": 9,
    "start_time": "2024-05-10T10:13:39.936Z"
   },
   {
    "duration": 11,
    "start_time": "2024-05-10T10:15:15.471Z"
   },
   {
    "duration": 599,
    "start_time": "2024-05-10T10:30:23.656Z"
   },
   {
    "duration": 11,
    "start_time": "2024-05-10T10:33:55.726Z"
   },
   {
    "duration": 544,
    "start_time": "2024-05-10T10:33:56.731Z"
   },
   {
    "duration": 731,
    "start_time": "2024-05-10T10:34:00.359Z"
   },
   {
    "duration": 611,
    "start_time": "2024-05-10T10:34:35.440Z"
   },
   {
    "duration": 989,
    "start_time": "2024-05-10T10:34:48.902Z"
   },
   {
    "duration": 52,
    "start_time": "2024-05-10T10:34:49.893Z"
   },
   {
    "duration": 12,
    "start_time": "2024-05-10T10:34:49.946Z"
   },
   {
    "duration": 15,
    "start_time": "2024-05-10T10:34:49.959Z"
   },
   {
    "duration": 557,
    "start_time": "2024-05-10T10:34:49.976Z"
   },
   {
    "duration": 5,
    "start_time": "2024-05-10T10:34:50.534Z"
   },
   {
    "duration": 13,
    "start_time": "2024-05-10T10:34:50.540Z"
   },
   {
    "duration": 15,
    "start_time": "2024-05-10T10:34:50.554Z"
   },
   {
    "duration": 105,
    "start_time": "2024-05-10T10:34:50.570Z"
   },
   {
    "duration": 0,
    "start_time": "2024-05-10T10:34:50.676Z"
   },
   {
    "duration": 0,
    "start_time": "2024-05-10T10:34:50.677Z"
   },
   {
    "duration": 0,
    "start_time": "2024-05-10T10:34:50.677Z"
   },
   {
    "duration": 0,
    "start_time": "2024-05-10T10:34:50.678Z"
   },
   {
    "duration": 0,
    "start_time": "2024-05-10T10:34:50.679Z"
   },
   {
    "duration": 534,
    "start_time": "2024-05-10T10:36:42.634Z"
   },
   {
    "duration": 988,
    "start_time": "2024-05-10T10:36:57.167Z"
   },
   {
    "duration": 52,
    "start_time": "2024-05-10T10:36:58.156Z"
   },
   {
    "duration": 15,
    "start_time": "2024-05-10T10:36:58.209Z"
   },
   {
    "duration": 13,
    "start_time": "2024-05-10T10:36:58.225Z"
   },
   {
    "duration": 542,
    "start_time": "2024-05-10T10:36:58.240Z"
   },
   {
    "duration": 6,
    "start_time": "2024-05-10T10:36:58.783Z"
   },
   {
    "duration": 13,
    "start_time": "2024-05-10T10:36:58.791Z"
   },
   {
    "duration": 19,
    "start_time": "2024-05-10T10:36:58.805Z"
   },
   {
    "duration": 10,
    "start_time": "2024-05-10T10:36:58.826Z"
   },
   {
    "duration": 10,
    "start_time": "2024-05-10T10:36:58.837Z"
   },
   {
    "duration": 11,
    "start_time": "2024-05-10T10:36:58.848Z"
   },
   {
    "duration": 15,
    "start_time": "2024-05-10T10:36:58.860Z"
   },
   {
    "duration": 4,
    "start_time": "2024-05-10T10:36:58.877Z"
   },
   {
    "duration": 8,
    "start_time": "2024-05-10T10:36:58.883Z"
   },
   {
    "duration": 636,
    "start_time": "2024-05-10T10:41:22.109Z"
   },
   {
    "duration": 959,
    "start_time": "2024-05-10T10:41:38.833Z"
   },
   {
    "duration": 51,
    "start_time": "2024-05-10T10:41:39.793Z"
   },
   {
    "duration": 13,
    "start_time": "2024-05-10T10:41:39.846Z"
   },
   {
    "duration": 14,
    "start_time": "2024-05-10T10:41:39.860Z"
   },
   {
    "duration": 560,
    "start_time": "2024-05-10T10:41:39.877Z"
   },
   {
    "duration": 7,
    "start_time": "2024-05-10T10:41:40.439Z"
   },
   {
    "duration": 15,
    "start_time": "2024-05-10T10:41:40.447Z"
   },
   {
    "duration": 21,
    "start_time": "2024-05-10T10:41:40.464Z"
   },
   {
    "duration": 3,
    "start_time": "2024-05-10T10:41:40.486Z"
   },
   {
    "duration": 13,
    "start_time": "2024-05-10T10:41:40.490Z"
   },
   {
    "duration": 7,
    "start_time": "2024-05-10T10:41:40.504Z"
   },
   {
    "duration": 11,
    "start_time": "2024-05-10T10:41:40.512Z"
   },
   {
    "duration": 7,
    "start_time": "2024-05-10T10:41:40.524Z"
   },
   {
    "duration": 24,
    "start_time": "2024-05-10T10:41:40.534Z"
   },
   {
    "duration": 625,
    "start_time": "2024-05-10T10:46:40.159Z"
   },
   {
    "duration": 2,
    "start_time": "2024-05-10T10:47:26.837Z"
   },
   {
    "duration": 550,
    "start_time": "2024-05-10T10:47:34.443Z"
   },
   {
    "duration": 600,
    "start_time": "2024-05-10T10:48:33.813Z"
   },
   {
    "duration": 1039,
    "start_time": "2024-05-10T10:48:49.680Z"
   },
   {
    "duration": 61,
    "start_time": "2024-05-10T10:48:50.722Z"
   },
   {
    "duration": 12,
    "start_time": "2024-05-10T10:48:50.784Z"
   },
   {
    "duration": 25,
    "start_time": "2024-05-10T10:48:50.797Z"
   },
   {
    "duration": 557,
    "start_time": "2024-05-10T10:48:50.825Z"
   },
   {
    "duration": 8,
    "start_time": "2024-05-10T10:48:51.385Z"
   },
   {
    "duration": 22,
    "start_time": "2024-05-10T10:48:51.402Z"
   },
   {
    "duration": 19,
    "start_time": "2024-05-10T10:48:51.426Z"
   },
   {
    "duration": 14,
    "start_time": "2024-05-10T10:48:51.446Z"
   },
   {
    "duration": 3,
    "start_time": "2024-05-10T10:48:51.462Z"
   },
   {
    "duration": 6,
    "start_time": "2024-05-10T10:48:51.466Z"
   },
   {
    "duration": 6,
    "start_time": "2024-05-10T10:48:51.473Z"
   },
   {
    "duration": 6,
    "start_time": "2024-05-10T10:48:51.480Z"
   },
   {
    "duration": 12,
    "start_time": "2024-05-10T10:48:51.487Z"
   },
   {
    "duration": 5,
    "start_time": "2024-05-10T10:48:51.500Z"
   },
   {
    "duration": 5,
    "start_time": "2024-05-10T10:48:51.507Z"
   },
   {
    "duration": 676,
    "start_time": "2024-05-10T10:49:24.245Z"
   },
   {
    "duration": 992,
    "start_time": "2024-05-10T10:49:30.808Z"
   },
   {
    "duration": 50,
    "start_time": "2024-05-10T10:49:31.801Z"
   },
   {
    "duration": 12,
    "start_time": "2024-05-10T10:49:31.852Z"
   },
   {
    "duration": 28,
    "start_time": "2024-05-10T10:49:31.865Z"
   },
   {
    "duration": 540,
    "start_time": "2024-05-10T10:49:31.895Z"
   },
   {
    "duration": 7,
    "start_time": "2024-05-10T10:49:32.436Z"
   },
   {
    "duration": 61,
    "start_time": "2024-05-10T10:49:32.445Z"
   },
   {
    "duration": 83,
    "start_time": "2024-05-10T10:49:32.508Z"
   },
   {
    "duration": 35,
    "start_time": "2024-05-10T10:49:32.592Z"
   },
   {
    "duration": 26,
    "start_time": "2024-05-10T10:49:32.628Z"
   },
   {
    "duration": 40,
    "start_time": "2024-05-10T10:49:32.656Z"
   },
   {
    "duration": 20,
    "start_time": "2024-05-10T10:49:32.697Z"
   },
   {
    "duration": 5,
    "start_time": "2024-05-10T10:49:32.718Z"
   },
   {
    "duration": 19,
    "start_time": "2024-05-10T10:49:32.726Z"
   },
   {
    "duration": 6,
    "start_time": "2024-05-10T10:49:32.746Z"
   },
   {
    "duration": 15,
    "start_time": "2024-05-10T10:49:32.753Z"
   },
   {
    "duration": 1035,
    "start_time": "2024-05-10T10:49:55.100Z"
   },
   {
    "duration": 50,
    "start_time": "2024-05-10T10:49:56.137Z"
   },
   {
    "duration": 13,
    "start_time": "2024-05-10T10:49:56.188Z"
   },
   {
    "duration": 30,
    "start_time": "2024-05-10T10:49:56.203Z"
   },
   {
    "duration": 572,
    "start_time": "2024-05-10T10:49:56.235Z"
   },
   {
    "duration": 9,
    "start_time": "2024-05-10T10:49:56.809Z"
   },
   {
    "duration": 12,
    "start_time": "2024-05-10T10:49:56.819Z"
   },
   {
    "duration": 14,
    "start_time": "2024-05-10T10:49:56.833Z"
   },
   {
    "duration": 28,
    "start_time": "2024-05-10T10:49:56.848Z"
   },
   {
    "duration": 19,
    "start_time": "2024-05-10T10:49:56.877Z"
   },
   {
    "duration": 10,
    "start_time": "2024-05-10T10:49:56.897Z"
   },
   {
    "duration": 6,
    "start_time": "2024-05-10T10:49:56.908Z"
   },
   {
    "duration": 6,
    "start_time": "2024-05-10T10:49:56.915Z"
   },
   {
    "duration": 2,
    "start_time": "2024-05-10T10:49:56.923Z"
   },
   {
    "duration": 5,
    "start_time": "2024-05-10T10:49:56.926Z"
   },
   {
    "duration": 3,
    "start_time": "2024-05-10T10:49:56.932Z"
   },
   {
    "duration": 650,
    "start_time": "2024-05-10T10:50:37.568Z"
   },
   {
    "duration": 972,
    "start_time": "2024-05-10T10:51:10.446Z"
   },
   {
    "duration": 50,
    "start_time": "2024-05-10T10:51:11.421Z"
   },
   {
    "duration": 12,
    "start_time": "2024-05-10T10:51:11.472Z"
   },
   {
    "duration": 13,
    "start_time": "2024-05-10T10:51:11.485Z"
   },
   {
    "duration": 507,
    "start_time": "2024-05-10T10:51:11.500Z"
   },
   {
    "duration": 9,
    "start_time": "2024-05-10T10:51:12.009Z"
   },
   {
    "duration": 11,
    "start_time": "2024-05-10T10:51:12.020Z"
   },
   {
    "duration": 5,
    "start_time": "2024-05-10T10:51:12.033Z"
   },
   {
    "duration": 10,
    "start_time": "2024-05-10T10:51:12.039Z"
   },
   {
    "duration": 3,
    "start_time": "2024-05-10T10:51:12.050Z"
   },
   {
    "duration": 10,
    "start_time": "2024-05-10T10:51:12.054Z"
   },
   {
    "duration": 9,
    "start_time": "2024-05-10T10:51:12.066Z"
   },
   {
    "duration": 6,
    "start_time": "2024-05-10T10:51:12.076Z"
   },
   {
    "duration": 3,
    "start_time": "2024-05-10T10:51:12.084Z"
   },
   {
    "duration": 4,
    "start_time": "2024-05-10T10:51:12.088Z"
   },
   {
    "duration": 12,
    "start_time": "2024-05-10T10:51:12.093Z"
   },
   {
    "duration": 637,
    "start_time": "2024-05-10T10:51:56.162Z"
   },
   {
    "duration": 534,
    "start_time": "2024-05-10T10:52:01.922Z"
   },
   {
    "duration": 570,
    "start_time": "2024-05-10T10:52:36.162Z"
   },
   {
    "duration": 552,
    "start_time": "2024-05-10T10:52:46.503Z"
   },
   {
    "duration": 17,
    "start_time": "2024-05-10T10:53:10.170Z"
   },
   {
    "duration": 546,
    "start_time": "2024-05-10T10:53:52.990Z"
   },
   {
    "duration": 940,
    "start_time": "2024-05-10T10:54:06.956Z"
   },
   {
    "duration": 54,
    "start_time": "2024-05-10T10:54:07.897Z"
   },
   {
    "duration": 13,
    "start_time": "2024-05-10T10:54:07.952Z"
   },
   {
    "duration": 29,
    "start_time": "2024-05-10T10:54:07.967Z"
   },
   {
    "duration": 520,
    "start_time": "2024-05-10T10:54:07.999Z"
   },
   {
    "duration": 9,
    "start_time": "2024-05-10T10:54:08.521Z"
   },
   {
    "duration": 8,
    "start_time": "2024-05-10T10:54:08.531Z"
   },
   {
    "duration": 22,
    "start_time": "2024-05-10T10:54:08.540Z"
   },
   {
    "duration": 5,
    "start_time": "2024-05-10T10:54:08.563Z"
   },
   {
    "duration": 13,
    "start_time": "2024-05-10T10:54:08.569Z"
   },
   {
    "duration": 5,
    "start_time": "2024-05-10T10:54:08.583Z"
   },
   {
    "duration": 10,
    "start_time": "2024-05-10T10:54:08.589Z"
   },
   {
    "duration": 15,
    "start_time": "2024-05-10T10:54:08.600Z"
   },
   {
    "duration": 12,
    "start_time": "2024-05-10T10:54:08.617Z"
   },
   {
    "duration": 8,
    "start_time": "2024-05-10T10:54:08.631Z"
   },
   {
    "duration": 705,
    "start_time": "2024-05-10T10:54:29.786Z"
   },
   {
    "duration": 946,
    "start_time": "2024-05-10T10:54:37.564Z"
   },
   {
    "duration": 50,
    "start_time": "2024-05-10T10:54:38.512Z"
   },
   {
    "duration": 12,
    "start_time": "2024-05-10T10:54:38.563Z"
   },
   {
    "duration": 23,
    "start_time": "2024-05-10T10:54:38.577Z"
   },
   {
    "duration": 533,
    "start_time": "2024-05-10T10:54:38.602Z"
   },
   {
    "duration": 115,
    "start_time": "2024-05-10T10:54:39.137Z"
   },
   {
    "duration": 0,
    "start_time": "2024-05-10T10:54:39.254Z"
   },
   {
    "duration": 0,
    "start_time": "2024-05-10T10:54:39.256Z"
   },
   {
    "duration": 0,
    "start_time": "2024-05-10T10:54:39.257Z"
   },
   {
    "duration": 0,
    "start_time": "2024-05-10T10:54:39.258Z"
   },
   {
    "duration": 0,
    "start_time": "2024-05-10T10:54:39.259Z"
   },
   {
    "duration": 0,
    "start_time": "2024-05-10T10:54:39.260Z"
   },
   {
    "duration": 0,
    "start_time": "2024-05-10T10:54:39.261Z"
   },
   {
    "duration": 0,
    "start_time": "2024-05-10T10:54:39.262Z"
   },
   {
    "duration": 0,
    "start_time": "2024-05-10T10:54:39.264Z"
   },
   {
    "duration": 16,
    "start_time": "2024-05-10T10:55:06.317Z"
   },
   {
    "duration": 9,
    "start_time": "2024-05-10T10:56:29.512Z"
   },
   {
    "duration": 10,
    "start_time": "2024-05-10T10:57:46.209Z"
   },
   {
    "duration": 8,
    "start_time": "2024-05-10T11:59:36.826Z"
   },
   {
    "duration": 10,
    "start_time": "2024-05-10T11:59:44.206Z"
   },
   {
    "duration": 7,
    "start_time": "2024-05-10T12:00:04.456Z"
   },
   {
    "duration": 11,
    "start_time": "2024-05-10T12:00:14.254Z"
   },
   {
    "duration": 537,
    "start_time": "2024-05-10T12:01:42.134Z"
   },
   {
    "duration": 8,
    "start_time": "2024-05-10T12:03:34.960Z"
   },
   {
    "duration": 14,
    "start_time": "2024-05-10T12:04:45.615Z"
   },
   {
    "duration": 26,
    "start_time": "2024-05-10T12:06:55.435Z"
   },
   {
    "duration": 13,
    "start_time": "2024-05-10T12:07:38.360Z"
   },
   {
    "duration": 9,
    "start_time": "2024-05-10T12:10:01.716Z"
   },
   {
    "duration": 7,
    "start_time": "2024-05-10T12:11:30.821Z"
   },
   {
    "duration": 15,
    "start_time": "2024-05-10T12:15:51.884Z"
   },
   {
    "duration": 21,
    "start_time": "2024-05-10T12:16:58.377Z"
   },
   {
    "duration": 4,
    "start_time": "2024-05-10T12:17:44.082Z"
   },
   {
    "duration": 1027,
    "start_time": "2024-05-10T12:17:59.312Z"
   },
   {
    "duration": 61,
    "start_time": "2024-05-10T12:18:00.341Z"
   },
   {
    "duration": 22,
    "start_time": "2024-05-10T12:18:00.405Z"
   },
   {
    "duration": 43,
    "start_time": "2024-05-10T12:18:00.429Z"
   },
   {
    "duration": 578,
    "start_time": "2024-05-10T12:18:00.473Z"
   },
   {
    "duration": 10,
    "start_time": "2024-05-10T12:18:01.053Z"
   },
   {
    "duration": 73,
    "start_time": "2024-05-10T12:18:01.064Z"
   },
   {
    "duration": 59,
    "start_time": "2024-05-10T12:18:01.139Z"
   },
   {
    "duration": 74,
    "start_time": "2024-05-10T12:18:01.200Z"
   },
   {
    "duration": 49,
    "start_time": "2024-05-10T12:18:01.275Z"
   },
   {
    "duration": 687,
    "start_time": "2024-05-10T12:18:01.326Z"
   },
   {
    "duration": 0,
    "start_time": "2024-05-10T12:18:02.015Z"
   },
   {
    "duration": 0,
    "start_time": "2024-05-10T12:18:02.016Z"
   },
   {
    "duration": 0,
    "start_time": "2024-05-10T12:18:02.017Z"
   },
   {
    "duration": 0,
    "start_time": "2024-05-10T12:18:02.018Z"
   },
   {
    "duration": 0,
    "start_time": "2024-05-10T12:18:02.019Z"
   },
   {
    "duration": 0,
    "start_time": "2024-05-10T12:18:02.020Z"
   },
   {
    "duration": 0,
    "start_time": "2024-05-10T12:18:02.021Z"
   },
   {
    "duration": 1058,
    "start_time": "2024-05-10T12:18:40.386Z"
   },
   {
    "duration": 50,
    "start_time": "2024-05-10T12:18:41.446Z"
   },
   {
    "duration": 25,
    "start_time": "2024-05-10T12:18:41.497Z"
   },
   {
    "duration": 19,
    "start_time": "2024-05-10T12:18:41.524Z"
   },
   {
    "duration": 571,
    "start_time": "2024-05-10T12:18:41.545Z"
   },
   {
    "duration": 11,
    "start_time": "2024-05-10T12:18:42.118Z"
   },
   {
    "duration": 14,
    "start_time": "2024-05-10T12:18:42.130Z"
   },
   {
    "duration": 18,
    "start_time": "2024-05-10T12:18:42.145Z"
   },
   {
    "duration": 20,
    "start_time": "2024-05-10T12:18:42.164Z"
   },
   {
    "duration": 3,
    "start_time": "2024-05-10T12:18:42.185Z"
   },
   {
    "duration": 16,
    "start_time": "2024-05-10T12:18:42.189Z"
   },
   {
    "duration": 60,
    "start_time": "2024-05-10T12:18:42.207Z"
   },
   {
    "duration": 4,
    "start_time": "2024-05-10T12:18:42.268Z"
   },
   {
    "duration": 17,
    "start_time": "2024-05-10T12:18:42.274Z"
   },
   {
    "duration": 15,
    "start_time": "2024-05-10T12:18:42.292Z"
   },
   {
    "duration": 11,
    "start_time": "2024-05-10T12:18:42.309Z"
   },
   {
    "duration": 17,
    "start_time": "2024-05-10T12:18:42.322Z"
   },
   {
    "duration": 9,
    "start_time": "2024-05-10T12:18:42.341Z"
   },
   {
    "duration": 6,
    "start_time": "2024-05-10T12:18:57.641Z"
   },
   {
    "duration": 5,
    "start_time": "2024-05-10T12:18:59.724Z"
   },
   {
    "duration": 90,
    "start_time": "2024-05-10T12:23:49.522Z"
   },
   {
    "duration": 2,
    "start_time": "2024-05-10T12:24:22.862Z"
   },
   {
    "duration": 11,
    "start_time": "2024-05-10T12:24:26.174Z"
   },
   {
    "duration": 614,
    "start_time": "2024-05-10T12:25:40.425Z"
   },
   {
    "duration": 3,
    "start_time": "2024-05-10T12:25:48.993Z"
   },
   {
    "duration": 5,
    "start_time": "2024-05-10T12:26:55.477Z"
   },
   {
    "duration": 549,
    "start_time": "2024-05-10T12:27:19.394Z"
   },
   {
    "duration": 3,
    "start_time": "2024-05-10T12:27:39.089Z"
   },
   {
    "duration": 12,
    "start_time": "2024-05-10T12:29:33.714Z"
   },
   {
    "duration": 4,
    "start_time": "2024-05-10T12:29:43.276Z"
   },
   {
    "duration": 8,
    "start_time": "2024-05-10T12:37:25.216Z"
   },
   {
    "duration": 3,
    "start_time": "2024-05-10T12:37:45.319Z"
   },
   {
    "duration": 4,
    "start_time": "2024-05-10T12:37:58.455Z"
   },
   {
    "duration": 17,
    "start_time": "2024-05-10T12:38:41.242Z"
   },
   {
    "duration": 11,
    "start_time": "2024-05-10T12:39:45.462Z"
   },
   {
    "duration": 3,
    "start_time": "2024-05-10T12:39:46.436Z"
   },
   {
    "duration": 7,
    "start_time": "2024-05-10T12:39:47.322Z"
   },
   {
    "duration": 1034,
    "start_time": "2024-05-10T12:40:32.110Z"
   },
   {
    "duration": 50,
    "start_time": "2024-05-10T12:40:33.146Z"
   },
   {
    "duration": 19,
    "start_time": "2024-05-10T12:40:33.197Z"
   },
   {
    "duration": 17,
    "start_time": "2024-05-10T12:40:33.217Z"
   },
   {
    "duration": 547,
    "start_time": "2024-05-10T12:40:33.235Z"
   },
   {
    "duration": 9,
    "start_time": "2024-05-10T12:40:33.784Z"
   },
   {
    "duration": 19,
    "start_time": "2024-05-10T12:40:33.794Z"
   },
   {
    "duration": 15,
    "start_time": "2024-05-10T12:40:33.815Z"
   },
   {
    "duration": 15,
    "start_time": "2024-05-10T12:40:33.831Z"
   },
   {
    "duration": 8,
    "start_time": "2024-05-10T12:40:33.847Z"
   },
   {
    "duration": 7,
    "start_time": "2024-05-10T12:40:33.857Z"
   },
   {
    "duration": 13,
    "start_time": "2024-05-10T12:40:33.865Z"
   },
   {
    "duration": 4,
    "start_time": "2024-05-10T12:40:33.879Z"
   },
   {
    "duration": 23,
    "start_time": "2024-05-10T12:40:33.884Z"
   },
   {
    "duration": 11,
    "start_time": "2024-05-10T12:40:33.909Z"
   },
   {
    "duration": 12,
    "start_time": "2024-05-10T12:40:33.922Z"
   },
   {
    "duration": 3,
    "start_time": "2024-05-10T12:40:33.935Z"
   },
   {
    "duration": 123,
    "start_time": "2024-05-10T12:40:33.940Z"
   },
   {
    "duration": 0,
    "start_time": "2024-05-10T12:40:34.064Z"
   },
   {
    "duration": 0,
    "start_time": "2024-05-10T12:40:34.065Z"
   },
   {
    "duration": 0,
    "start_time": "2024-05-10T12:40:34.065Z"
   },
   {
    "duration": 0,
    "start_time": "2024-05-10T12:40:34.066Z"
   },
   {
    "duration": 0,
    "start_time": "2024-05-10T12:40:34.067Z"
   },
   {
    "duration": 464,
    "start_time": "2024-05-10T12:41:57.425Z"
   },
   {
    "duration": 435,
    "start_time": "2024-05-10T12:42:14.225Z"
   },
   {
    "duration": 1047,
    "start_time": "2024-05-10T12:42:20.383Z"
   },
   {
    "duration": 51,
    "start_time": "2024-05-10T12:42:21.432Z"
   },
   {
    "duration": 13,
    "start_time": "2024-05-10T12:42:21.485Z"
   },
   {
    "duration": 31,
    "start_time": "2024-05-10T12:42:21.499Z"
   },
   {
    "duration": 606,
    "start_time": "2024-05-10T12:42:21.533Z"
   },
   {
    "duration": 9,
    "start_time": "2024-05-10T12:42:22.140Z"
   },
   {
    "duration": 17,
    "start_time": "2024-05-10T12:42:22.150Z"
   },
   {
    "duration": 17,
    "start_time": "2024-05-10T12:42:22.168Z"
   },
   {
    "duration": 37,
    "start_time": "2024-05-10T12:42:22.187Z"
   },
   {
    "duration": 6,
    "start_time": "2024-05-10T12:42:22.226Z"
   },
   {
    "duration": 21,
    "start_time": "2024-05-10T12:42:22.234Z"
   },
   {
    "duration": 17,
    "start_time": "2024-05-10T12:42:22.256Z"
   },
   {
    "duration": 10,
    "start_time": "2024-05-10T12:42:22.274Z"
   },
   {
    "duration": 13,
    "start_time": "2024-05-10T12:42:22.286Z"
   },
   {
    "duration": 16,
    "start_time": "2024-05-10T12:42:22.301Z"
   },
   {
    "duration": 32,
    "start_time": "2024-05-10T12:42:22.318Z"
   },
   {
    "duration": 12,
    "start_time": "2024-05-10T12:42:22.351Z"
   },
   {
    "duration": 535,
    "start_time": "2024-05-10T12:42:22.364Z"
   },
   {
    "duration": 0,
    "start_time": "2024-05-10T12:42:22.901Z"
   },
   {
    "duration": 0,
    "start_time": "2024-05-10T12:42:22.902Z"
   },
   {
    "duration": 0,
    "start_time": "2024-05-10T12:42:22.903Z"
   },
   {
    "duration": 0,
    "start_time": "2024-05-10T12:42:22.906Z"
   },
   {
    "duration": 0,
    "start_time": "2024-05-10T12:42:22.907Z"
   },
   {
    "duration": 479,
    "start_time": "2024-05-10T12:43:45.562Z"
   },
   {
    "duration": 992,
    "start_time": "2024-05-10T12:44:00.313Z"
   },
   {
    "duration": 56,
    "start_time": "2024-05-10T12:44:01.307Z"
   },
   {
    "duration": 15,
    "start_time": "2024-05-10T12:44:01.365Z"
   },
   {
    "duration": 49,
    "start_time": "2024-05-10T12:44:01.382Z"
   },
   {
    "duration": 575,
    "start_time": "2024-05-10T12:44:01.432Z"
   },
   {
    "duration": 11,
    "start_time": "2024-05-10T12:44:02.008Z"
   },
   {
    "duration": 33,
    "start_time": "2024-05-10T12:44:02.020Z"
   },
   {
    "duration": 16,
    "start_time": "2024-05-10T12:44:02.054Z"
   },
   {
    "duration": 52,
    "start_time": "2024-05-10T12:44:02.072Z"
   },
   {
    "duration": 12,
    "start_time": "2024-05-10T12:44:02.125Z"
   },
   {
    "duration": 20,
    "start_time": "2024-05-10T12:44:02.138Z"
   },
   {
    "duration": 41,
    "start_time": "2024-05-10T12:44:02.160Z"
   },
   {
    "duration": 15,
    "start_time": "2024-05-10T12:44:02.202Z"
   },
   {
    "duration": 20,
    "start_time": "2024-05-10T12:44:02.219Z"
   },
   {
    "duration": 28,
    "start_time": "2024-05-10T12:44:02.241Z"
   },
   {
    "duration": 61,
    "start_time": "2024-05-10T12:44:02.270Z"
   },
   {
    "duration": 16,
    "start_time": "2024-05-10T12:44:02.333Z"
   },
   {
    "duration": 45,
    "start_time": "2024-05-10T12:44:02.350Z"
   },
   {
    "duration": 27,
    "start_time": "2024-05-10T12:44:02.397Z"
   },
   {
    "duration": 37,
    "start_time": "2024-05-10T12:44:02.425Z"
   },
   {
    "duration": 28,
    "start_time": "2024-05-10T12:44:02.464Z"
   },
   {
    "duration": 25,
    "start_time": "2024-05-10T12:44:02.493Z"
   },
   {
    "duration": 550,
    "start_time": "2024-05-10T12:44:22.691Z"
   },
   {
    "duration": 479,
    "start_time": "2024-05-10T12:44:35.883Z"
   },
   {
    "duration": 954,
    "start_time": "2024-05-10T12:44:52.059Z"
   },
   {
    "duration": 51,
    "start_time": "2024-05-10T12:44:53.016Z"
   },
   {
    "duration": 63,
    "start_time": "2024-05-10T12:44:53.068Z"
   },
   {
    "duration": 129,
    "start_time": "2024-05-10T12:44:53.132Z"
   },
   {
    "duration": 694,
    "start_time": "2024-05-10T12:44:53.263Z"
   },
   {
    "duration": 7,
    "start_time": "2024-05-10T12:44:53.959Z"
   },
   {
    "duration": 40,
    "start_time": "2024-05-10T12:44:53.968Z"
   },
   {
    "duration": 42,
    "start_time": "2024-05-10T12:44:54.010Z"
   },
   {
    "duration": 39,
    "start_time": "2024-05-10T12:44:54.054Z"
   },
   {
    "duration": 20,
    "start_time": "2024-05-10T12:44:54.094Z"
   },
   {
    "duration": 29,
    "start_time": "2024-05-10T12:44:54.116Z"
   },
   {
    "duration": 12,
    "start_time": "2024-05-10T12:44:54.146Z"
   },
   {
    "duration": 13,
    "start_time": "2024-05-10T12:44:54.160Z"
   },
   {
    "duration": 44,
    "start_time": "2024-05-10T12:44:54.176Z"
   },
   {
    "duration": 22,
    "start_time": "2024-05-10T12:44:54.221Z"
   },
   {
    "duration": 25,
    "start_time": "2024-05-10T12:44:54.245Z"
   },
   {
    "duration": 7,
    "start_time": "2024-05-10T12:44:54.272Z"
   },
   {
    "duration": 119,
    "start_time": "2024-05-10T12:44:54.280Z"
   },
   {
    "duration": 0,
    "start_time": "2024-05-10T12:44:54.401Z"
   },
   {
    "duration": 0,
    "start_time": "2024-05-10T12:44:54.402Z"
   },
   {
    "duration": 0,
    "start_time": "2024-05-10T12:44:54.404Z"
   },
   {
    "duration": 0,
    "start_time": "2024-05-10T12:44:54.405Z"
   },
   {
    "duration": 0,
    "start_time": "2024-05-10T12:44:54.406Z"
   },
   {
    "duration": 3,
    "start_time": "2024-05-10T12:46:35.119Z"
   },
   {
    "duration": 991,
    "start_time": "2024-05-10T12:47:06.981Z"
   },
   {
    "duration": 58,
    "start_time": "2024-05-10T12:47:07.973Z"
   },
   {
    "duration": 13,
    "start_time": "2024-05-10T12:47:08.033Z"
   },
   {
    "duration": 18,
    "start_time": "2024-05-10T12:47:08.048Z"
   },
   {
    "duration": 591,
    "start_time": "2024-05-10T12:47:08.068Z"
   },
   {
    "duration": 8,
    "start_time": "2024-05-10T12:47:08.661Z"
   },
   {
    "duration": 20,
    "start_time": "2024-05-10T12:47:08.670Z"
   },
   {
    "duration": 26,
    "start_time": "2024-05-10T12:47:08.691Z"
   },
   {
    "duration": 22,
    "start_time": "2024-05-10T12:47:08.719Z"
   },
   {
    "duration": 9,
    "start_time": "2024-05-10T12:47:08.742Z"
   },
   {
    "duration": 24,
    "start_time": "2024-05-10T12:47:08.752Z"
   },
   {
    "duration": 4,
    "start_time": "2024-05-10T12:47:08.777Z"
   },
   {
    "duration": 9,
    "start_time": "2024-05-10T12:47:08.782Z"
   },
   {
    "duration": 22,
    "start_time": "2024-05-10T12:47:08.794Z"
   },
   {
    "duration": 7,
    "start_time": "2024-05-10T12:47:08.818Z"
   },
   {
    "duration": 24,
    "start_time": "2024-05-10T12:47:08.827Z"
   },
   {
    "duration": 17,
    "start_time": "2024-05-10T12:47:08.852Z"
   },
   {
    "duration": 23,
    "start_time": "2024-05-10T12:47:08.871Z"
   },
   {
    "duration": 9,
    "start_time": "2024-05-10T12:47:08.895Z"
   },
   {
    "duration": 25,
    "start_time": "2024-05-10T12:47:08.906Z"
   },
   {
    "duration": 13,
    "start_time": "2024-05-10T12:47:08.932Z"
   },
   {
    "duration": 13,
    "start_time": "2024-05-10T12:47:08.946Z"
   },
   {
    "duration": 16,
    "start_time": "2024-05-10T12:47:08.960Z"
   },
   {
    "duration": 974,
    "start_time": "2024-05-10T12:47:26.728Z"
   },
   {
    "duration": 51,
    "start_time": "2024-05-10T12:47:27.704Z"
   },
   {
    "duration": 13,
    "start_time": "2024-05-10T12:47:27.756Z"
   },
   {
    "duration": 40,
    "start_time": "2024-05-10T12:47:27.770Z"
   },
   {
    "duration": 546,
    "start_time": "2024-05-10T12:47:27.813Z"
   },
   {
    "duration": 9,
    "start_time": "2024-05-10T12:47:28.360Z"
   },
   {
    "duration": 17,
    "start_time": "2024-05-10T12:47:28.370Z"
   },
   {
    "duration": 33,
    "start_time": "2024-05-10T12:47:28.388Z"
   },
   {
    "duration": 30,
    "start_time": "2024-05-10T12:47:28.423Z"
   },
   {
    "duration": 10,
    "start_time": "2024-05-10T12:47:28.455Z"
   },
   {
    "duration": 9,
    "start_time": "2024-05-10T12:47:28.466Z"
   },
   {
    "duration": 7,
    "start_time": "2024-05-10T12:47:28.476Z"
   },
   {
    "duration": 14,
    "start_time": "2024-05-10T12:47:28.484Z"
   },
   {
    "duration": 8,
    "start_time": "2024-05-10T12:47:28.501Z"
   },
   {
    "duration": 8,
    "start_time": "2024-05-10T12:47:28.510Z"
   },
   {
    "duration": 17,
    "start_time": "2024-05-10T12:47:28.520Z"
   },
   {
    "duration": 3,
    "start_time": "2024-05-10T12:47:28.538Z"
   },
   {
    "duration": 7,
    "start_time": "2024-05-10T12:47:28.542Z"
   },
   {
    "duration": 18,
    "start_time": "2024-05-10T12:47:28.550Z"
   },
   {
    "duration": 7,
    "start_time": "2024-05-10T12:47:28.569Z"
   },
   {
    "duration": 8,
    "start_time": "2024-05-10T12:47:28.577Z"
   },
   {
    "duration": 26,
    "start_time": "2024-05-10T12:47:28.587Z"
   },
   {
    "duration": 9,
    "start_time": "2024-05-10T12:47:28.614Z"
   },
   {
    "duration": 502,
    "start_time": "2024-05-10T12:48:07.465Z"
   },
   {
    "duration": 4,
    "start_time": "2024-05-10T12:48:08.163Z"
   },
   {
    "duration": 439,
    "start_time": "2024-05-10T12:48:54.568Z"
   },
   {
    "duration": 972,
    "start_time": "2024-05-10T12:49:09.157Z"
   },
   {
    "duration": 53,
    "start_time": "2024-05-10T12:49:10.131Z"
   },
   {
    "duration": 13,
    "start_time": "2024-05-10T12:49:10.186Z"
   },
   {
    "duration": 27,
    "start_time": "2024-05-10T12:49:10.200Z"
   },
   {
    "duration": 574,
    "start_time": "2024-05-10T12:49:10.230Z"
   },
   {
    "duration": 13,
    "start_time": "2024-05-10T12:49:10.806Z"
   },
   {
    "duration": 21,
    "start_time": "2024-05-10T12:49:10.820Z"
   },
   {
    "duration": 27,
    "start_time": "2024-05-10T12:49:10.842Z"
   },
   {
    "duration": 20,
    "start_time": "2024-05-10T12:49:10.871Z"
   },
   {
    "duration": 8,
    "start_time": "2024-05-10T12:49:10.893Z"
   },
   {
    "duration": 9,
    "start_time": "2024-05-10T12:49:10.902Z"
   },
   {
    "duration": 25,
    "start_time": "2024-05-10T12:49:10.912Z"
   },
   {
    "duration": 9,
    "start_time": "2024-05-10T12:49:10.938Z"
   },
   {
    "duration": 32,
    "start_time": "2024-05-10T12:49:10.949Z"
   },
   {
    "duration": 13,
    "start_time": "2024-05-10T12:49:10.982Z"
   },
   {
    "duration": 26,
    "start_time": "2024-05-10T12:49:10.996Z"
   },
   {
    "duration": 4,
    "start_time": "2024-05-10T12:49:11.023Z"
   },
   {
    "duration": 15,
    "start_time": "2024-05-10T12:49:11.028Z"
   },
   {
    "duration": 1,
    "start_time": "2024-05-10T12:49:11.045Z"
   },
   {
    "duration": 4,
    "start_time": "2024-05-10T12:49:11.047Z"
   },
   {
    "duration": 11,
    "start_time": "2024-05-10T12:49:11.052Z"
   },
   {
    "duration": 19,
    "start_time": "2024-05-10T12:49:11.064Z"
   },
   {
    "duration": 5,
    "start_time": "2024-05-10T12:49:11.085Z"
   },
   {
    "duration": 95,
    "start_time": "2024-05-10T13:00:14.812Z"
   },
   {
    "duration": 11,
    "start_time": "2024-05-10T13:00:15.836Z"
   },
   {
    "duration": 2,
    "start_time": "2024-05-10T13:01:15.545Z"
   },
   {
    "duration": 706,
    "start_time": "2024-05-10T13:02:11.861Z"
   },
   {
    "duration": 1035,
    "start_time": "2024-05-10T13:02:23.678Z"
   },
   {
    "duration": 51,
    "start_time": "2024-05-10T13:02:24.714Z"
   },
   {
    "duration": 13,
    "start_time": "2024-05-10T13:02:24.766Z"
   },
   {
    "duration": 23,
    "start_time": "2024-05-10T13:02:24.780Z"
   },
   {
    "duration": 552,
    "start_time": "2024-05-10T13:02:24.805Z"
   },
   {
    "duration": 9,
    "start_time": "2024-05-10T13:02:25.359Z"
   },
   {
    "duration": 18,
    "start_time": "2024-05-10T13:02:25.370Z"
   },
   {
    "duration": 38,
    "start_time": "2024-05-10T13:02:25.389Z"
   },
   {
    "duration": 33,
    "start_time": "2024-05-10T13:02:25.429Z"
   },
   {
    "duration": 14,
    "start_time": "2024-05-10T13:02:25.464Z"
   },
   {
    "duration": 33,
    "start_time": "2024-05-10T13:02:25.480Z"
   },
   {
    "duration": 25,
    "start_time": "2024-05-10T13:02:25.514Z"
   },
   {
    "duration": 13,
    "start_time": "2024-05-10T13:02:25.540Z"
   },
   {
    "duration": 31,
    "start_time": "2024-05-10T13:02:25.555Z"
   },
   {
    "duration": 11,
    "start_time": "2024-05-10T13:02:25.587Z"
   },
   {
    "duration": 24,
    "start_time": "2024-05-10T13:02:25.599Z"
   },
   {
    "duration": 6,
    "start_time": "2024-05-10T13:02:25.624Z"
   },
   {
    "duration": 14,
    "start_time": "2024-05-10T13:02:25.632Z"
   },
   {
    "duration": 25,
    "start_time": "2024-05-10T13:02:25.648Z"
   },
   {
    "duration": 7,
    "start_time": "2024-05-10T13:02:25.675Z"
   },
   {
    "duration": 7,
    "start_time": "2024-05-10T13:02:25.683Z"
   },
   {
    "duration": 14,
    "start_time": "2024-05-10T13:02:25.691Z"
   },
   {
    "duration": 26,
    "start_time": "2024-05-10T13:02:25.706Z"
   },
   {
    "duration": 14,
    "start_time": "2024-05-10T13:02:25.733Z"
   },
   {
    "duration": 676,
    "start_time": "2024-05-10T13:03:52.120Z"
   },
   {
    "duration": 1032,
    "start_time": "2024-05-10T13:04:03.510Z"
   },
   {
    "duration": 63,
    "start_time": "2024-05-10T13:04:04.544Z"
   },
   {
    "duration": 14,
    "start_time": "2024-05-10T13:04:04.625Z"
   },
   {
    "duration": 24,
    "start_time": "2024-05-10T13:04:04.641Z"
   },
   {
    "duration": 546,
    "start_time": "2024-05-10T13:04:04.667Z"
   },
   {
    "duration": 11,
    "start_time": "2024-05-10T13:04:05.215Z"
   },
   {
    "duration": 81,
    "start_time": "2024-05-10T13:04:05.227Z"
   },
   {
    "duration": 30,
    "start_time": "2024-05-10T13:04:05.309Z"
   },
   {
    "duration": 27,
    "start_time": "2024-05-10T13:04:05.340Z"
   },
   {
    "duration": 7,
    "start_time": "2024-05-10T13:04:05.368Z"
   },
   {
    "duration": 12,
    "start_time": "2024-05-10T13:04:05.376Z"
   },
   {
    "duration": 8,
    "start_time": "2024-05-10T13:04:05.389Z"
   },
   {
    "duration": 9,
    "start_time": "2024-05-10T13:04:05.398Z"
   },
   {
    "duration": 12,
    "start_time": "2024-05-10T13:04:05.410Z"
   },
   {
    "duration": 14,
    "start_time": "2024-05-10T13:04:05.423Z"
   },
   {
    "duration": 74,
    "start_time": "2024-05-10T13:04:05.439Z"
   },
   {
    "duration": 41,
    "start_time": "2024-05-10T13:04:05.514Z"
   },
   {
    "duration": 23,
    "start_time": "2024-05-10T13:04:05.556Z"
   },
   {
    "duration": 20,
    "start_time": "2024-05-10T13:04:05.581Z"
   },
   {
    "duration": 27,
    "start_time": "2024-05-10T13:04:05.602Z"
   },
   {
    "duration": 18,
    "start_time": "2024-05-10T13:04:05.631Z"
   },
   {
    "duration": 4,
    "start_time": "2024-05-10T13:04:05.651Z"
   },
   {
    "duration": 16,
    "start_time": "2024-05-10T13:04:05.656Z"
   },
   {
    "duration": 7,
    "start_time": "2024-05-10T13:04:05.673Z"
   },
   {
    "duration": 4,
    "start_time": "2024-05-10T13:05:28.785Z"
   },
   {
    "duration": 589,
    "start_time": "2024-05-10T13:07:42.118Z"
   },
   {
    "duration": 10,
    "start_time": "2024-05-10T13:08:50.970Z"
   },
   {
    "duration": 3,
    "start_time": "2024-05-10T13:22:06.722Z"
   },
   {
    "duration": 4,
    "start_time": "2024-05-10T13:22:08.649Z"
   },
   {
    "duration": 11,
    "start_time": "2024-05-10T13:22:14.181Z"
   },
   {
    "duration": 974,
    "start_time": "2024-05-10T13:22:25.766Z"
   },
   {
    "duration": 51,
    "start_time": "2024-05-10T13:22:26.741Z"
   },
   {
    "duration": 17,
    "start_time": "2024-05-10T13:22:26.793Z"
   },
   {
    "duration": 17,
    "start_time": "2024-05-10T13:22:26.811Z"
   },
   {
    "duration": 608,
    "start_time": "2024-05-10T13:22:26.830Z"
   },
   {
    "duration": 9,
    "start_time": "2024-05-10T13:22:27.440Z"
   },
   {
    "duration": 14,
    "start_time": "2024-05-10T13:22:27.450Z"
   },
   {
    "duration": 12,
    "start_time": "2024-05-10T13:22:27.465Z"
   },
   {
    "duration": 24,
    "start_time": "2024-05-10T13:22:27.478Z"
   },
   {
    "duration": 9,
    "start_time": "2024-05-10T13:22:27.504Z"
   },
   {
    "duration": 6,
    "start_time": "2024-05-10T13:22:27.515Z"
   },
   {
    "duration": 4,
    "start_time": "2024-05-10T13:22:27.522Z"
   },
   {
    "duration": 29,
    "start_time": "2024-05-10T13:22:27.527Z"
   },
   {
    "duration": 7,
    "start_time": "2024-05-10T13:22:27.558Z"
   },
   {
    "duration": 4,
    "start_time": "2024-05-10T13:22:27.567Z"
   },
   {
    "duration": 11,
    "start_time": "2024-05-10T13:22:27.573Z"
   },
   {
    "duration": 8,
    "start_time": "2024-05-10T13:22:27.585Z"
   },
   {
    "duration": 22,
    "start_time": "2024-05-10T13:22:27.594Z"
   },
   {
    "duration": 2,
    "start_time": "2024-05-10T13:22:27.618Z"
   },
   {
    "duration": 34,
    "start_time": "2024-05-10T13:22:27.622Z"
   },
   {
    "duration": 2,
    "start_time": "2024-05-10T13:22:27.658Z"
   },
   {
    "duration": 4,
    "start_time": "2024-05-10T13:22:27.661Z"
   },
   {
    "duration": 28,
    "start_time": "2024-05-10T13:22:27.667Z"
   },
   {
    "duration": 33,
    "start_time": "2024-05-10T13:22:27.697Z"
   },
   {
    "duration": 5,
    "start_time": "2024-05-10T13:22:27.732Z"
   },
   {
    "duration": 676,
    "start_time": "2024-05-10T13:27:03.098Z"
   },
   {
    "duration": 16,
    "start_time": "2024-05-10T13:28:29.289Z"
   },
   {
    "duration": 970,
    "start_time": "2024-05-10T13:28:54.344Z"
   },
   {
    "duration": 50,
    "start_time": "2024-05-10T13:28:55.316Z"
   },
   {
    "duration": 13,
    "start_time": "2024-05-10T13:28:55.367Z"
   },
   {
    "duration": 35,
    "start_time": "2024-05-10T13:28:55.381Z"
   },
   {
    "duration": 506,
    "start_time": "2024-05-10T13:28:55.418Z"
   },
   {
    "duration": 10,
    "start_time": "2024-05-10T13:28:55.926Z"
   },
   {
    "duration": 5,
    "start_time": "2024-05-10T13:28:55.937Z"
   },
   {
    "duration": 13,
    "start_time": "2024-05-10T13:28:55.943Z"
   },
   {
    "duration": 14,
    "start_time": "2024-05-10T13:28:55.958Z"
   },
   {
    "duration": 29,
    "start_time": "2024-05-10T13:28:55.973Z"
   },
   {
    "duration": 13,
    "start_time": "2024-05-10T13:28:56.003Z"
   },
   {
    "duration": 5,
    "start_time": "2024-05-10T13:28:56.018Z"
   },
   {
    "duration": 26,
    "start_time": "2024-05-10T13:28:56.024Z"
   },
   {
    "duration": 8,
    "start_time": "2024-05-10T13:28:56.052Z"
   },
   {
    "duration": 4,
    "start_time": "2024-05-10T13:28:56.061Z"
   },
   {
    "duration": 17,
    "start_time": "2024-05-10T13:28:56.066Z"
   },
   {
    "duration": 89,
    "start_time": "2024-05-10T13:28:56.085Z"
   },
   {
    "duration": 0,
    "start_time": "2024-05-10T13:28:56.176Z"
   },
   {
    "duration": 0,
    "start_time": "2024-05-10T13:28:56.177Z"
   },
   {
    "duration": 0,
    "start_time": "2024-05-10T13:28:56.178Z"
   },
   {
    "duration": 0,
    "start_time": "2024-05-10T13:28:56.179Z"
   },
   {
    "duration": 0,
    "start_time": "2024-05-10T13:28:56.179Z"
   },
   {
    "duration": 0,
    "start_time": "2024-05-10T13:28:56.180Z"
   },
   {
    "duration": 0,
    "start_time": "2024-05-10T13:28:56.181Z"
   },
   {
    "duration": 0,
    "start_time": "2024-05-10T13:28:56.182Z"
   },
   {
    "duration": 7,
    "start_time": "2024-05-10T13:38:41.792Z"
   },
   {
    "duration": 3,
    "start_time": "2024-05-10T13:39:37.457Z"
   },
   {
    "duration": 11,
    "start_time": "2024-05-10T13:39:41.167Z"
   },
   {
    "duration": 5,
    "start_time": "2024-05-10T13:41:17.048Z"
   },
   {
    "duration": 2,
    "start_time": "2024-05-10T13:41:17.823Z"
   },
   {
    "duration": 12,
    "start_time": "2024-05-10T13:41:18.568Z"
   },
   {
    "duration": 4,
    "start_time": "2024-05-10T13:43:19.922Z"
   },
   {
    "duration": 5,
    "start_time": "2024-05-10T13:43:42.801Z"
   },
   {
    "duration": 11,
    "start_time": "2024-05-10T13:43:44.021Z"
   },
   {
    "duration": 137,
    "start_time": "2024-05-10T14:19:53.276Z"
   },
   {
    "duration": 153,
    "start_time": "2024-05-10T14:20:14.368Z"
   },
   {
    "duration": 1034,
    "start_time": "2024-05-10T14:20:22.794Z"
   },
   {
    "duration": 1073,
    "start_time": "2024-05-10T14:20:37.311Z"
   },
   {
    "duration": 1209,
    "start_time": "2024-05-10T14:20:45.260Z"
   },
   {
    "duration": 193,
    "start_time": "2024-05-10T14:20:52.287Z"
   },
   {
    "duration": 152,
    "start_time": "2024-05-10T14:21:01.439Z"
   },
   {
    "duration": 162,
    "start_time": "2024-05-10T14:21:08.619Z"
   },
   {
    "duration": 130,
    "start_time": "2024-05-10T14:21:15.144Z"
   },
   {
    "duration": 135,
    "start_time": "2024-05-10T14:22:22.511Z"
   },
   {
    "duration": 4,
    "start_time": "2024-05-10T14:30:07.344Z"
   },
   {
    "duration": 15,
    "start_time": "2024-05-10T14:30:08.092Z"
   },
   {
    "duration": 127,
    "start_time": "2024-05-10T14:31:14.763Z"
   },
   {
    "duration": 3,
    "start_time": "2024-05-10T14:32:04.470Z"
   },
   {
    "duration": 132,
    "start_time": "2024-05-10T14:46:16.052Z"
   },
   {
    "duration": 200,
    "start_time": "2024-05-10T14:47:06.510Z"
   },
   {
    "duration": 6,
    "start_time": "2024-05-10T14:59:43.941Z"
   },
   {
    "duration": 10,
    "start_time": "2024-05-10T14:59:52.910Z"
   },
   {
    "duration": 956,
    "start_time": "2024-05-10T15:00:03.543Z"
   },
   {
    "duration": 50,
    "start_time": "2024-05-10T15:00:04.500Z"
   },
   {
    "duration": 12,
    "start_time": "2024-05-10T15:00:04.552Z"
   },
   {
    "duration": 15,
    "start_time": "2024-05-10T15:00:04.565Z"
   },
   {
    "duration": 536,
    "start_time": "2024-05-10T15:00:04.582Z"
   },
   {
    "duration": 10,
    "start_time": "2024-05-10T15:00:05.120Z"
   },
   {
    "duration": 19,
    "start_time": "2024-05-10T15:00:05.131Z"
   },
   {
    "duration": 25,
    "start_time": "2024-05-10T15:00:05.151Z"
   },
   {
    "duration": 20,
    "start_time": "2024-05-10T15:00:05.177Z"
   },
   {
    "duration": 17,
    "start_time": "2024-05-10T15:00:05.199Z"
   },
   {
    "duration": 33,
    "start_time": "2024-05-10T15:00:05.218Z"
   },
   {
    "duration": 34,
    "start_time": "2024-05-10T15:00:05.253Z"
   },
   {
    "duration": 32,
    "start_time": "2024-05-10T15:00:05.288Z"
   },
   {
    "duration": 8,
    "start_time": "2024-05-10T15:00:05.323Z"
   },
   {
    "duration": 17,
    "start_time": "2024-05-10T15:00:05.333Z"
   },
   {
    "duration": 35,
    "start_time": "2024-05-10T15:00:05.351Z"
   },
   {
    "duration": 4,
    "start_time": "2024-05-10T15:00:05.388Z"
   },
   {
    "duration": 10,
    "start_time": "2024-05-10T15:00:05.393Z"
   },
   {
    "duration": 4,
    "start_time": "2024-05-10T15:00:05.404Z"
   },
   {
    "duration": 7,
    "start_time": "2024-05-10T15:00:05.409Z"
   },
   {
    "duration": 24,
    "start_time": "2024-05-10T15:00:05.417Z"
   },
   {
    "duration": 6,
    "start_time": "2024-05-10T15:00:05.442Z"
   },
   {
    "duration": 26,
    "start_time": "2024-05-10T15:00:05.449Z"
   },
   {
    "duration": 142,
    "start_time": "2024-05-10T15:00:05.477Z"
   },
   {
    "duration": 9,
    "start_time": "2024-05-10T15:00:05.620Z"
   },
   {
    "duration": 2,
    "start_time": "2024-05-10T15:00:05.630Z"
   },
   {
    "duration": 21,
    "start_time": "2024-05-10T15:00:05.633Z"
   },
   {
    "duration": 62,
    "start_time": "2024-05-10T15:00:05.656Z"
   },
   {
    "duration": 33,
    "start_time": "2024-05-10T15:00:05.719Z"
   },
   {
    "duration": 12,
    "start_time": "2024-05-10T15:00:29.636Z"
   },
   {
    "duration": 6,
    "start_time": "2024-05-10T15:08:25.112Z"
   },
   {
    "duration": 98,
    "start_time": "2024-05-10T15:09:34.749Z"
   },
   {
    "duration": 14,
    "start_time": "2024-05-10T15:11:01.810Z"
   },
   {
    "duration": 17,
    "start_time": "2024-05-10T15:11:14.543Z"
   },
   {
    "duration": 12,
    "start_time": "2024-05-10T15:18:57.075Z"
   },
   {
    "duration": 7,
    "start_time": "2024-05-10T15:22:11.335Z"
   },
   {
    "duration": 7,
    "start_time": "2024-05-10T15:22:46.822Z"
   },
   {
    "duration": 7,
    "start_time": "2024-05-10T15:23:46.532Z"
   },
   {
    "duration": 8,
    "start_time": "2024-05-10T15:26:25.880Z"
   },
   {
    "duration": 8,
    "start_time": "2024-05-10T15:26:50.866Z"
   },
   {
    "duration": 12,
    "start_time": "2024-05-10T15:27:51.773Z"
   },
   {
    "duration": 9,
    "start_time": "2024-05-10T15:27:52.361Z"
   },
   {
    "duration": 554,
    "start_time": "2024-05-10T15:28:32.184Z"
   },
   {
    "duration": 7,
    "start_time": "2024-05-10T15:31:12.166Z"
   },
   {
    "duration": 956,
    "start_time": "2024-05-10T15:31:32.027Z"
   },
   {
    "duration": 50,
    "start_time": "2024-05-10T15:31:32.985Z"
   },
   {
    "duration": 14,
    "start_time": "2024-05-10T15:31:33.036Z"
   },
   {
    "duration": 16,
    "start_time": "2024-05-10T15:31:33.051Z"
   },
   {
    "duration": 528,
    "start_time": "2024-05-10T15:31:33.069Z"
   },
   {
    "duration": 10,
    "start_time": "2024-05-10T15:31:33.601Z"
   },
   {
    "duration": 19,
    "start_time": "2024-05-10T15:31:33.613Z"
   },
   {
    "duration": 32,
    "start_time": "2024-05-10T15:31:33.633Z"
   },
   {
    "duration": 16,
    "start_time": "2024-05-10T15:31:33.667Z"
   },
   {
    "duration": 7,
    "start_time": "2024-05-10T15:31:33.684Z"
   },
   {
    "duration": 10,
    "start_time": "2024-05-10T15:31:33.693Z"
   },
   {
    "duration": 9,
    "start_time": "2024-05-10T15:31:33.705Z"
   },
   {
    "duration": 4,
    "start_time": "2024-05-10T15:31:33.715Z"
   },
   {
    "duration": 19,
    "start_time": "2024-05-10T15:31:33.721Z"
   },
   {
    "duration": 9,
    "start_time": "2024-05-10T15:31:33.741Z"
   },
   {
    "duration": 18,
    "start_time": "2024-05-10T15:31:33.751Z"
   },
   {
    "duration": 13,
    "start_time": "2024-05-10T15:31:33.770Z"
   },
   {
    "duration": 14,
    "start_time": "2024-05-10T15:31:33.784Z"
   },
   {
    "duration": 4,
    "start_time": "2024-05-10T15:31:33.799Z"
   },
   {
    "duration": 10,
    "start_time": "2024-05-10T15:31:33.804Z"
   },
   {
    "duration": 14,
    "start_time": "2024-05-10T15:31:33.815Z"
   },
   {
    "duration": 4,
    "start_time": "2024-05-10T15:31:33.831Z"
   },
   {
    "duration": 17,
    "start_time": "2024-05-10T15:31:33.837Z"
   },
   {
    "duration": 151,
    "start_time": "2024-05-10T15:31:33.856Z"
   },
   {
    "duration": 14,
    "start_time": "2024-05-10T15:31:34.008Z"
   },
   {
    "duration": 97,
    "start_time": "2024-05-10T15:31:34.023Z"
   },
   {
    "duration": 0,
    "start_time": "2024-05-10T15:31:34.121Z"
   },
   {
    "duration": 0,
    "start_time": "2024-05-10T15:31:34.122Z"
   },
   {
    "duration": 0,
    "start_time": "2024-05-10T15:31:34.123Z"
   },
   {
    "duration": 0,
    "start_time": "2024-05-10T15:31:34.124Z"
   },
   {
    "duration": 16,
    "start_time": "2024-05-10T15:32:55.815Z"
   },
   {
    "duration": 17,
    "start_time": "2024-05-10T15:34:10.642Z"
   },
   {
    "duration": 988,
    "start_time": "2024-05-10T15:34:16.413Z"
   },
   {
    "duration": 49,
    "start_time": "2024-05-10T15:34:17.403Z"
   },
   {
    "duration": 12,
    "start_time": "2024-05-10T15:34:17.454Z"
   },
   {
    "duration": 14,
    "start_time": "2024-05-10T15:34:17.468Z"
   },
   {
    "duration": 520,
    "start_time": "2024-05-10T15:34:17.484Z"
   },
   {
    "duration": 10,
    "start_time": "2024-05-10T15:34:18.005Z"
   },
   {
    "duration": 13,
    "start_time": "2024-05-10T15:34:18.016Z"
   },
   {
    "duration": 11,
    "start_time": "2024-05-10T15:34:18.030Z"
   },
   {
    "duration": 24,
    "start_time": "2024-05-10T15:34:18.042Z"
   },
   {
    "duration": 7,
    "start_time": "2024-05-10T15:34:18.067Z"
   },
   {
    "duration": 10,
    "start_time": "2024-05-10T15:34:18.076Z"
   },
   {
    "duration": 13,
    "start_time": "2024-05-10T15:34:18.088Z"
   },
   {
    "duration": 4,
    "start_time": "2024-05-10T15:34:18.102Z"
   },
   {
    "duration": 3,
    "start_time": "2024-05-10T15:34:18.109Z"
   },
   {
    "duration": 11,
    "start_time": "2024-05-10T15:34:18.113Z"
   },
   {
    "duration": 11,
    "start_time": "2024-05-10T15:34:18.125Z"
   },
   {
    "duration": 3,
    "start_time": "2024-05-10T15:34:18.138Z"
   },
   {
    "duration": 10,
    "start_time": "2024-05-10T15:34:18.142Z"
   },
   {
    "duration": 4,
    "start_time": "2024-05-10T15:34:18.153Z"
   },
   {
    "duration": 4,
    "start_time": "2024-05-10T15:34:18.159Z"
   },
   {
    "duration": 43,
    "start_time": "2024-05-10T15:34:18.164Z"
   },
   {
    "duration": 4,
    "start_time": "2024-05-10T15:34:18.208Z"
   },
   {
    "duration": 13,
    "start_time": "2024-05-10T15:34:18.214Z"
   },
   {
    "duration": 140,
    "start_time": "2024-05-10T15:34:18.229Z"
   },
   {
    "duration": 12,
    "start_time": "2024-05-10T15:34:18.371Z"
   },
   {
    "duration": 100,
    "start_time": "2024-05-10T15:34:18.384Z"
   },
   {
    "duration": 0,
    "start_time": "2024-05-10T15:34:18.485Z"
   },
   {
    "duration": 0,
    "start_time": "2024-05-10T15:34:18.486Z"
   },
   {
    "duration": 0,
    "start_time": "2024-05-10T15:34:18.487Z"
   },
   {
    "duration": 0,
    "start_time": "2024-05-10T15:34:18.488Z"
   },
   {
    "duration": 20,
    "start_time": "2024-05-10T15:44:48.752Z"
   },
   {
    "duration": 11,
    "start_time": "2024-05-10T15:44:58.248Z"
   },
   {
    "duration": 3,
    "start_time": "2024-05-10T15:45:49.544Z"
   },
   {
    "duration": 37,
    "start_time": "2024-05-10T15:46:52.384Z"
   },
   {
    "duration": 20,
    "start_time": "2024-05-10T15:46:59.887Z"
   },
   {
    "duration": 23,
    "start_time": "2024-05-10T15:48:00.269Z"
   },
   {
    "duration": 14,
    "start_time": "2024-05-10T15:48:14.336Z"
   },
   {
    "duration": 2,
    "start_time": "2024-05-10T15:48:15.194Z"
   },
   {
    "duration": 15,
    "start_time": "2024-05-10T15:48:18.912Z"
   },
   {
    "duration": 9,
    "start_time": "2024-05-10T15:48:42.915Z"
   },
   {
    "duration": 38,
    "start_time": "2024-05-10T15:49:29.949Z"
   },
   {
    "duration": 3146,
    "start_time": "2024-05-10T15:51:24.153Z"
   },
   {
    "duration": 661,
    "start_time": "2024-05-10T15:52:00.225Z"
   },
   {
    "duration": 9,
    "start_time": "2024-05-10T15:55:45.732Z"
   },
   {
    "duration": 8,
    "start_time": "2024-05-10T15:55:54.255Z"
   },
   {
    "duration": 569,
    "start_time": "2024-05-10T15:56:26.398Z"
   },
   {
    "duration": 516,
    "start_time": "2024-05-10T15:56:52.120Z"
   },
   {
    "duration": 12,
    "start_time": "2024-05-10T15:58:01.901Z"
   },
   {
    "duration": 12,
    "start_time": "2024-05-10T15:59:24.932Z"
   },
   {
    "duration": 11,
    "start_time": "2024-05-10T16:03:31.051Z"
   },
   {
    "duration": 5,
    "start_time": "2024-05-10T16:04:03.927Z"
   },
   {
    "duration": 8,
    "start_time": "2024-05-10T16:04:36.244Z"
   },
   {
    "duration": 6,
    "start_time": "2024-05-10T16:04:57.994Z"
   },
   {
    "duration": 51,
    "start_time": "2024-05-10T16:06:38.658Z"
   },
   {
    "duration": 18,
    "start_time": "2024-05-10T16:08:04.983Z"
   },
   {
    "duration": 17,
    "start_time": "2024-05-10T16:12:28.647Z"
   },
   {
    "duration": 16,
    "start_time": "2024-05-10T16:13:47.719Z"
   },
   {
    "duration": 16,
    "start_time": "2024-05-10T16:13:51.918Z"
   },
   {
    "duration": 39,
    "start_time": "2024-05-10T16:16:39.561Z"
   },
   {
    "duration": 16,
    "start_time": "2024-05-10T16:16:47.450Z"
   },
   {
    "duration": 16,
    "start_time": "2024-05-10T16:17:31.480Z"
   },
   {
    "duration": 960,
    "start_time": "2024-05-10T16:17:39.032Z"
   },
   {
    "duration": 49,
    "start_time": "2024-05-10T16:17:39.994Z"
   },
   {
    "duration": 12,
    "start_time": "2024-05-10T16:17:40.045Z"
   },
   {
    "duration": 26,
    "start_time": "2024-05-10T16:17:40.058Z"
   },
   {
    "duration": 530,
    "start_time": "2024-05-10T16:17:40.086Z"
   },
   {
    "duration": 10,
    "start_time": "2024-05-10T16:17:40.618Z"
   },
   {
    "duration": 27,
    "start_time": "2024-05-10T16:17:40.629Z"
   },
   {
    "duration": 32,
    "start_time": "2024-05-10T16:17:40.658Z"
   },
   {
    "duration": 19,
    "start_time": "2024-05-10T16:17:40.692Z"
   },
   {
    "duration": 11,
    "start_time": "2024-05-10T16:17:40.712Z"
   },
   {
    "duration": 10,
    "start_time": "2024-05-10T16:17:40.724Z"
   },
   {
    "duration": 15,
    "start_time": "2024-05-10T16:17:40.735Z"
   },
   {
    "duration": 12,
    "start_time": "2024-05-10T16:17:40.751Z"
   },
   {
    "duration": 20,
    "start_time": "2024-05-10T16:17:40.765Z"
   },
   {
    "duration": 20,
    "start_time": "2024-05-10T16:17:40.787Z"
   },
   {
    "duration": 22,
    "start_time": "2024-05-10T16:17:40.808Z"
   },
   {
    "duration": 21,
    "start_time": "2024-05-10T16:17:40.831Z"
   },
   {
    "duration": 23,
    "start_time": "2024-05-10T16:17:40.853Z"
   },
   {
    "duration": 7,
    "start_time": "2024-05-10T16:17:40.877Z"
   },
   {
    "duration": 21,
    "start_time": "2024-05-10T16:17:40.885Z"
   },
   {
    "duration": 11,
    "start_time": "2024-05-10T16:17:40.907Z"
   },
   {
    "duration": 4,
    "start_time": "2024-05-10T16:17:40.919Z"
   },
   {
    "duration": 20,
    "start_time": "2024-05-10T16:17:40.924Z"
   },
   {
    "duration": 3,
    "start_time": "2024-05-10T16:17:40.946Z"
   },
   {
    "duration": 137,
    "start_time": "2024-05-10T16:17:40.950Z"
   },
   {
    "duration": 20,
    "start_time": "2024-05-10T16:17:41.089Z"
   },
   {
    "duration": 15,
    "start_time": "2024-05-10T16:17:41.110Z"
   },
   {
    "duration": 110,
    "start_time": "2024-05-10T16:17:41.127Z"
   },
   {
    "duration": 0,
    "start_time": "2024-05-10T16:17:41.238Z"
   },
   {
    "duration": 0,
    "start_time": "2024-05-10T16:17:41.240Z"
   },
   {
    "duration": 0,
    "start_time": "2024-05-10T16:17:41.241Z"
   },
   {
    "duration": 0,
    "start_time": "2024-05-10T16:17:41.242Z"
   },
   {
    "duration": 0,
    "start_time": "2024-05-10T16:17:41.243Z"
   },
   {
    "duration": 13,
    "start_time": "2024-05-10T16:18:34.975Z"
   },
   {
    "duration": 17,
    "start_time": "2024-05-10T16:18:56.083Z"
   },
   {
    "duration": 6,
    "start_time": "2024-05-10T16:21:04.546Z"
   },
   {
    "duration": 13,
    "start_time": "2024-05-10T16:22:56.337Z"
   },
   {
    "duration": 8,
    "start_time": "2024-05-10T16:23:08.073Z"
   },
   {
    "duration": 7,
    "start_time": "2024-05-10T16:24:10.589Z"
   },
   {
    "duration": 953,
    "start_time": "2024-05-10T16:24:28.255Z"
   },
   {
    "duration": 58,
    "start_time": "2024-05-10T16:24:29.211Z"
   },
   {
    "duration": 13,
    "start_time": "2024-05-10T16:24:29.270Z"
   },
   {
    "duration": 13,
    "start_time": "2024-05-10T16:24:29.284Z"
   },
   {
    "duration": 494,
    "start_time": "2024-05-10T16:24:29.299Z"
   },
   {
    "duration": 12,
    "start_time": "2024-05-10T16:24:29.794Z"
   },
   {
    "duration": 8,
    "start_time": "2024-05-10T16:24:29.808Z"
   },
   {
    "duration": 16,
    "start_time": "2024-05-10T16:24:29.817Z"
   },
   {
    "duration": 13,
    "start_time": "2024-05-10T16:24:29.834Z"
   },
   {
    "duration": 8,
    "start_time": "2024-05-10T16:24:29.849Z"
   },
   {
    "duration": 8,
    "start_time": "2024-05-10T16:24:29.858Z"
   },
   {
    "duration": 11,
    "start_time": "2024-05-10T16:24:29.867Z"
   },
   {
    "duration": 2,
    "start_time": "2024-05-10T16:24:29.902Z"
   },
   {
    "duration": 9,
    "start_time": "2024-05-10T16:24:29.908Z"
   },
   {
    "duration": 5,
    "start_time": "2024-05-10T16:24:29.918Z"
   },
   {
    "duration": 15,
    "start_time": "2024-05-10T16:24:29.924Z"
   },
   {
    "duration": 3,
    "start_time": "2024-05-10T16:24:29.940Z"
   },
   {
    "duration": 13,
    "start_time": "2024-05-10T16:24:29.945Z"
   },
   {
    "duration": 4,
    "start_time": "2024-05-10T16:24:29.959Z"
   },
   {
    "duration": 4,
    "start_time": "2024-05-10T16:24:29.965Z"
   },
   {
    "duration": 11,
    "start_time": "2024-05-10T16:24:30.002Z"
   },
   {
    "duration": 72,
    "start_time": "2024-05-10T16:24:30.015Z"
   },
   {
    "duration": 141,
    "start_time": "2024-05-10T16:24:30.089Z"
   },
   {
    "duration": 24,
    "start_time": "2024-05-10T16:24:30.232Z"
   },
   {
    "duration": 223,
    "start_time": "2024-05-10T16:24:30.258Z"
   },
   {
    "duration": 13,
    "start_time": "2024-05-10T16:24:30.482Z"
   },
   {
    "duration": 45,
    "start_time": "2024-05-10T16:24:30.501Z"
   },
   {
    "duration": 30,
    "start_time": "2024-05-10T16:24:30.547Z"
   },
   {
    "duration": 141,
    "start_time": "2024-05-10T16:24:30.579Z"
   },
   {
    "duration": 0,
    "start_time": "2024-05-10T16:24:30.721Z"
   },
   {
    "duration": 0,
    "start_time": "2024-05-10T16:24:30.722Z"
   },
   {
    "duration": 0,
    "start_time": "2024-05-10T16:24:30.723Z"
   },
   {
    "duration": 0,
    "start_time": "2024-05-10T16:24:30.724Z"
   },
   {
    "duration": 0,
    "start_time": "2024-05-10T16:24:30.724Z"
   },
   {
    "duration": 7,
    "start_time": "2024-05-10T16:25:38.433Z"
   },
   {
    "duration": 8,
    "start_time": "2024-05-10T16:26:03.738Z"
   },
   {
    "duration": 11,
    "start_time": "2024-05-10T16:26:18.992Z"
   },
   {
    "duration": 13,
    "start_time": "2024-05-10T16:27:22.883Z"
   },
   {
    "duration": 14,
    "start_time": "2024-05-10T16:27:43.932Z"
   },
   {
    "duration": 1251,
    "start_time": "2024-05-11T10:26:05.254Z"
   },
   {
    "duration": 185,
    "start_time": "2024-05-11T10:26:06.507Z"
   },
   {
    "duration": 18,
    "start_time": "2024-05-11T10:26:06.693Z"
   },
   {
    "duration": 33,
    "start_time": "2024-05-11T10:26:06.712Z"
   },
   {
    "duration": 666,
    "start_time": "2024-05-11T10:26:06.747Z"
   },
   {
    "duration": 12,
    "start_time": "2024-05-11T10:26:07.414Z"
   },
   {
    "duration": 19,
    "start_time": "2024-05-11T10:26:07.428Z"
   },
   {
    "duration": 16,
    "start_time": "2024-05-11T10:26:07.448Z"
   },
   {
    "duration": 27,
    "start_time": "2024-05-11T10:26:07.466Z"
   },
   {
    "duration": 9,
    "start_time": "2024-05-11T10:26:07.494Z"
   },
   {
    "duration": 20,
    "start_time": "2024-05-11T10:26:07.505Z"
   },
   {
    "duration": 9,
    "start_time": "2024-05-11T10:26:07.527Z"
   },
   {
    "duration": 5,
    "start_time": "2024-05-11T10:26:07.539Z"
   },
   {
    "duration": 44,
    "start_time": "2024-05-11T10:26:07.548Z"
   },
   {
    "duration": 6,
    "start_time": "2024-05-11T10:26:07.594Z"
   },
   {
    "duration": 23,
    "start_time": "2024-05-11T10:26:07.602Z"
   },
   {
    "duration": 4,
    "start_time": "2024-05-11T10:26:07.627Z"
   },
   {
    "duration": 16,
    "start_time": "2024-05-11T10:26:07.633Z"
   },
   {
    "duration": 5,
    "start_time": "2024-05-11T10:26:07.651Z"
   },
   {
    "duration": 12,
    "start_time": "2024-05-11T10:26:07.658Z"
   },
   {
    "duration": 31,
    "start_time": "2024-05-11T10:26:07.672Z"
   },
   {
    "duration": 6,
    "start_time": "2024-05-11T10:26:07.704Z"
   },
   {
    "duration": 17,
    "start_time": "2024-05-11T10:26:07.711Z"
   },
   {
    "duration": 7,
    "start_time": "2024-05-11T10:26:07.730Z"
   },
   {
    "duration": 188,
    "start_time": "2024-05-11T10:26:07.738Z"
   },
   {
    "duration": 17,
    "start_time": "2024-05-11T10:26:07.928Z"
   },
   {
    "duration": 19,
    "start_time": "2024-05-11T10:26:07.947Z"
   },
   {
    "duration": 36,
    "start_time": "2024-05-11T10:26:07.967Z"
   },
   {
    "duration": 119,
    "start_time": "2024-05-11T10:26:08.005Z"
   },
   {
    "duration": 0,
    "start_time": "2024-05-11T10:26:08.125Z"
   },
   {
    "duration": 0,
    "start_time": "2024-05-11T10:26:08.126Z"
   },
   {
    "duration": 0,
    "start_time": "2024-05-11T10:26:08.127Z"
   },
   {
    "duration": 0,
    "start_time": "2024-05-11T10:26:08.128Z"
   },
   {
    "duration": 0,
    "start_time": "2024-05-11T10:26:08.129Z"
   },
   {
    "duration": 11,
    "start_time": "2024-05-11T10:27:13.131Z"
   },
   {
    "duration": 15,
    "start_time": "2024-05-11T10:27:35.250Z"
   },
   {
    "duration": 11,
    "start_time": "2024-05-11T10:27:42.187Z"
   },
   {
    "duration": 11,
    "start_time": "2024-05-11T10:31:13.018Z"
   },
   {
    "duration": 1125,
    "start_time": "2024-05-11T10:31:29.740Z"
   },
   {
    "duration": 55,
    "start_time": "2024-05-11T10:31:30.867Z"
   },
   {
    "duration": 43,
    "start_time": "2024-05-11T10:31:30.924Z"
   },
   {
    "duration": 71,
    "start_time": "2024-05-11T10:31:30.968Z"
   },
   {
    "duration": 697,
    "start_time": "2024-05-11T10:31:31.041Z"
   },
   {
    "duration": 12,
    "start_time": "2024-05-11T10:31:31.739Z"
   },
   {
    "duration": 68,
    "start_time": "2024-05-11T10:31:31.753Z"
   },
   {
    "duration": 126,
    "start_time": "2024-05-11T10:31:31.823Z"
   },
   {
    "duration": 209,
    "start_time": "2024-05-11T10:31:31.951Z"
   },
   {
    "duration": 420,
    "start_time": "2024-05-11T10:31:32.161Z"
   },
   {
    "duration": 14,
    "start_time": "2024-05-11T10:31:32.583Z"
   },
   {
    "duration": 4,
    "start_time": "2024-05-11T10:31:32.599Z"
   },
   {
    "duration": 9,
    "start_time": "2024-05-11T10:31:32.604Z"
   },
   {
    "duration": 3,
    "start_time": "2024-05-11T10:31:32.616Z"
   },
   {
    "duration": 18,
    "start_time": "2024-05-11T10:31:32.620Z"
   },
   {
    "duration": 19,
    "start_time": "2024-05-11T10:31:32.639Z"
   },
   {
    "duration": 4,
    "start_time": "2024-05-11T10:31:32.660Z"
   },
   {
    "duration": 27,
    "start_time": "2024-05-11T10:31:32.666Z"
   },
   {
    "duration": 5,
    "start_time": "2024-05-11T10:31:32.695Z"
   },
   {
    "duration": 30,
    "start_time": "2024-05-11T10:31:32.701Z"
   },
   {
    "duration": 16,
    "start_time": "2024-05-11T10:31:32.732Z"
   },
   {
    "duration": 13,
    "start_time": "2024-05-11T10:31:32.750Z"
   },
   {
    "duration": 21,
    "start_time": "2024-05-11T10:31:32.765Z"
   },
   {
    "duration": 26,
    "start_time": "2024-05-11T10:31:32.788Z"
   },
   {
    "duration": 171,
    "start_time": "2024-05-11T10:31:32.815Z"
   },
   {
    "duration": 16,
    "start_time": "2024-05-11T10:31:32.992Z"
   },
   {
    "duration": 18,
    "start_time": "2024-05-11T10:31:33.010Z"
   },
   {
    "duration": 10,
    "start_time": "2024-05-11T10:31:33.029Z"
   },
   {
    "duration": 124,
    "start_time": "2024-05-11T10:31:33.040Z"
   },
   {
    "duration": 0,
    "start_time": "2024-05-11T10:31:33.166Z"
   },
   {
    "duration": 0,
    "start_time": "2024-05-11T10:31:33.167Z"
   },
   {
    "duration": 0,
    "start_time": "2024-05-11T10:31:33.167Z"
   },
   {
    "duration": 0,
    "start_time": "2024-05-11T10:31:33.168Z"
   },
   {
    "duration": 0,
    "start_time": "2024-05-11T10:31:33.169Z"
   },
   {
    "duration": 1030,
    "start_time": "2024-05-11T10:33:16.393Z"
   },
   {
    "duration": 1119,
    "start_time": "2024-05-11T10:33:32.390Z"
   },
   {
    "duration": 54,
    "start_time": "2024-05-11T10:33:33.511Z"
   },
   {
    "duration": 16,
    "start_time": "2024-05-11T10:33:33.567Z"
   },
   {
    "duration": 17,
    "start_time": "2024-05-11T10:33:33.585Z"
   },
   {
    "duration": 647,
    "start_time": "2024-05-11T10:33:33.604Z"
   },
   {
    "duration": 11,
    "start_time": "2024-05-11T10:33:34.253Z"
   },
   {
    "duration": 18,
    "start_time": "2024-05-11T10:33:34.266Z"
   },
   {
    "duration": 13,
    "start_time": "2024-05-11T10:33:34.286Z"
   },
   {
    "duration": 20,
    "start_time": "2024-05-11T10:33:34.301Z"
   },
   {
    "duration": 16,
    "start_time": "2024-05-11T10:33:34.322Z"
   },
   {
    "duration": 25,
    "start_time": "2024-05-11T10:33:34.339Z"
   },
   {
    "duration": 12,
    "start_time": "2024-05-11T10:33:34.366Z"
   },
   {
    "duration": 41,
    "start_time": "2024-05-11T10:33:34.380Z"
   },
   {
    "duration": 11,
    "start_time": "2024-05-11T10:33:34.424Z"
   },
   {
    "duration": 19,
    "start_time": "2024-05-11T10:33:34.437Z"
   },
   {
    "duration": 31,
    "start_time": "2024-05-11T10:33:34.457Z"
   },
   {
    "duration": 5,
    "start_time": "2024-05-11T10:33:34.489Z"
   },
   {
    "duration": 25,
    "start_time": "2024-05-11T10:33:34.496Z"
   },
   {
    "duration": 6,
    "start_time": "2024-05-11T10:33:34.522Z"
   },
   {
    "duration": 14,
    "start_time": "2024-05-11T10:33:34.529Z"
   },
   {
    "duration": 17,
    "start_time": "2024-05-11T10:33:34.544Z"
   },
   {
    "duration": 18,
    "start_time": "2024-05-11T10:33:34.562Z"
   },
   {
    "duration": 36,
    "start_time": "2024-05-11T10:33:34.581Z"
   },
   {
    "duration": 22,
    "start_time": "2024-05-11T10:33:34.618Z"
   },
   {
    "duration": 163,
    "start_time": "2024-05-11T10:33:34.642Z"
   },
   {
    "duration": 15,
    "start_time": "2024-05-11T10:33:34.807Z"
   },
   {
    "duration": 1113,
    "start_time": "2024-05-11T10:33:34.824Z"
   },
   {
    "duration": 0,
    "start_time": "2024-05-11T10:33:35.939Z"
   },
   {
    "duration": 0,
    "start_time": "2024-05-11T10:33:35.940Z"
   },
   {
    "duration": 0,
    "start_time": "2024-05-11T10:33:35.941Z"
   },
   {
    "duration": 0,
    "start_time": "2024-05-11T10:33:35.942Z"
   },
   {
    "duration": 0,
    "start_time": "2024-05-11T10:33:35.943Z"
   },
   {
    "duration": 0,
    "start_time": "2024-05-11T10:33:35.944Z"
   },
   {
    "duration": 0,
    "start_time": "2024-05-11T10:33:35.945Z"
   },
   {
    "duration": 1731,
    "start_time": "2024-05-11T10:34:01.779Z"
   },
   {
    "duration": 18,
    "start_time": "2024-05-11T10:34:25.705Z"
   },
   {
    "duration": 11,
    "start_time": "2024-05-11T10:35:06.467Z"
   },
   {
    "duration": 69,
    "start_time": "2024-05-11T10:53:23.819Z"
   },
   {
    "duration": 15,
    "start_time": "2024-05-11T10:53:36.327Z"
   },
   {
    "duration": 8,
    "start_time": "2024-05-11T10:53:50.807Z"
   },
   {
    "duration": 15,
    "start_time": "2024-05-11T10:54:23.301Z"
   },
   {
    "duration": 16,
    "start_time": "2024-05-11T10:55:30.796Z"
   },
   {
    "duration": 25,
    "start_time": "2024-05-11T10:55:34.076Z"
   },
   {
    "duration": 12,
    "start_time": "2024-05-11T10:55:37.700Z"
   },
   {
    "duration": 53,
    "start_time": "2024-05-11T10:58:48.452Z"
   },
   {
    "duration": 18,
    "start_time": "2024-05-11T11:03:04.089Z"
   },
   {
    "duration": 18,
    "start_time": "2024-05-11T11:03:07.009Z"
   },
   {
    "duration": 24,
    "start_time": "2024-05-11T11:05:39.131Z"
   },
   {
    "duration": 59,
    "start_time": "2024-05-11T11:06:02.430Z"
   },
   {
    "duration": 4,
    "start_time": "2024-05-11T11:06:58.096Z"
   },
   {
    "duration": 51,
    "start_time": "2024-05-11T11:07:07.712Z"
   },
   {
    "duration": 5,
    "start_time": "2024-05-11T11:07:08.485Z"
   },
   {
    "duration": 3,
    "start_time": "2024-05-11T11:07:12.623Z"
   },
   {
    "duration": 1110,
    "start_time": "2024-05-11T11:07:56.868Z"
   },
   {
    "duration": 54,
    "start_time": "2024-05-11T11:07:57.980Z"
   },
   {
    "duration": 16,
    "start_time": "2024-05-11T11:07:58.036Z"
   },
   {
    "duration": 17,
    "start_time": "2024-05-11T11:07:58.054Z"
   },
   {
    "duration": 765,
    "start_time": "2024-05-11T11:07:58.073Z"
   },
   {
    "duration": 13,
    "start_time": "2024-05-11T11:07:58.839Z"
   },
   {
    "duration": 14,
    "start_time": "2024-05-11T11:07:58.853Z"
   },
   {
    "duration": 23,
    "start_time": "2024-05-11T11:07:58.869Z"
   },
   {
    "duration": 39,
    "start_time": "2024-05-11T11:07:58.894Z"
   },
   {
    "duration": 14,
    "start_time": "2024-05-11T11:07:58.934Z"
   },
   {
    "duration": 22,
    "start_time": "2024-05-11T11:07:58.950Z"
   },
   {
    "duration": 6,
    "start_time": "2024-05-11T11:07:58.973Z"
   },
   {
    "duration": 13,
    "start_time": "2024-05-11T11:07:58.980Z"
   },
   {
    "duration": 5,
    "start_time": "2024-05-11T11:07:58.996Z"
   },
   {
    "duration": 19,
    "start_time": "2024-05-11T11:07:59.003Z"
   },
   {
    "duration": 18,
    "start_time": "2024-05-11T11:07:59.023Z"
   },
   {
    "duration": 23,
    "start_time": "2024-05-11T11:07:59.043Z"
   },
   {
    "duration": 25,
    "start_time": "2024-05-11T11:07:59.067Z"
   },
   {
    "duration": 5,
    "start_time": "2024-05-11T11:07:59.093Z"
   },
   {
    "duration": 8,
    "start_time": "2024-05-11T11:07:59.100Z"
   },
   {
    "duration": 22,
    "start_time": "2024-05-11T11:07:59.109Z"
   },
   {
    "duration": 4,
    "start_time": "2024-05-11T11:07:59.132Z"
   },
   {
    "duration": 21,
    "start_time": "2024-05-11T11:07:59.137Z"
   },
   {
    "duration": 7,
    "start_time": "2024-05-11T11:07:59.159Z"
   },
   {
    "duration": 180,
    "start_time": "2024-05-11T11:07:59.167Z"
   },
   {
    "duration": 66,
    "start_time": "2024-05-11T11:07:59.348Z"
   },
   {
    "duration": 100,
    "start_time": "2024-05-11T11:07:59.415Z"
   },
   {
    "duration": 0,
    "start_time": "2024-05-11T11:07:59.516Z"
   },
   {
    "duration": 0,
    "start_time": "2024-05-11T11:07:59.517Z"
   },
   {
    "duration": 0,
    "start_time": "2024-05-11T11:07:59.518Z"
   },
   {
    "duration": 0,
    "start_time": "2024-05-11T11:07:59.520Z"
   },
   {
    "duration": 0,
    "start_time": "2024-05-11T11:07:59.521Z"
   },
   {
    "duration": 0,
    "start_time": "2024-05-11T11:07:59.522Z"
   },
   {
    "duration": 0,
    "start_time": "2024-05-11T11:07:59.523Z"
   },
   {
    "duration": 0,
    "start_time": "2024-05-11T11:07:59.524Z"
   },
   {
    "duration": 786,
    "start_time": "2024-05-11T11:10:01.418Z"
   },
   {
    "duration": 1503,
    "start_time": "2024-05-11T11:10:17.464Z"
   },
   {
    "duration": 53,
    "start_time": "2024-05-11T11:10:18.968Z"
   },
   {
    "duration": 17,
    "start_time": "2024-05-11T11:10:19.023Z"
   },
   {
    "duration": 16,
    "start_time": "2024-05-11T11:10:19.042Z"
   },
   {
    "duration": 651,
    "start_time": "2024-05-11T11:10:19.061Z"
   },
   {
    "duration": 13,
    "start_time": "2024-05-11T11:10:19.714Z"
   },
   {
    "duration": 16,
    "start_time": "2024-05-11T11:10:19.729Z"
   },
   {
    "duration": 34,
    "start_time": "2024-05-11T11:10:19.748Z"
   },
   {
    "duration": 43,
    "start_time": "2024-05-11T11:10:19.784Z"
   },
   {
    "duration": 21,
    "start_time": "2024-05-11T11:10:19.829Z"
   },
   {
    "duration": 29,
    "start_time": "2024-05-11T11:10:19.851Z"
   },
   {
    "duration": 18,
    "start_time": "2024-05-11T11:10:19.882Z"
   },
   {
    "duration": 6,
    "start_time": "2024-05-11T11:10:19.902Z"
   },
   {
    "duration": 12,
    "start_time": "2024-05-11T11:10:19.910Z"
   },
   {
    "duration": 10,
    "start_time": "2024-05-11T11:10:19.924Z"
   },
   {
    "duration": 42,
    "start_time": "2024-05-11T11:10:19.935Z"
   },
   {
    "duration": 4,
    "start_time": "2024-05-11T11:10:19.979Z"
   },
   {
    "duration": 15,
    "start_time": "2024-05-11T11:10:19.985Z"
   },
   {
    "duration": 30,
    "start_time": "2024-05-11T11:10:20.002Z"
   },
   {
    "duration": 31,
    "start_time": "2024-05-11T11:10:20.034Z"
   },
   {
    "duration": 37,
    "start_time": "2024-05-11T11:10:20.066Z"
   },
   {
    "duration": 23,
    "start_time": "2024-05-11T11:10:20.105Z"
   },
   {
    "duration": 33,
    "start_time": "2024-05-11T11:10:20.129Z"
   },
   {
    "duration": 5,
    "start_time": "2024-05-11T11:10:20.163Z"
   },
   {
    "duration": 170,
    "start_time": "2024-05-11T11:10:20.170Z"
   },
   {
    "duration": 56,
    "start_time": "2024-05-11T11:10:20.342Z"
   },
   {
    "duration": 849,
    "start_time": "2024-05-11T11:10:20.399Z"
   },
   {
    "duration": 0,
    "start_time": "2024-05-11T11:10:21.250Z"
   },
   {
    "duration": 0,
    "start_time": "2024-05-11T11:10:21.251Z"
   },
   {
    "duration": 0,
    "start_time": "2024-05-11T11:10:21.253Z"
   },
   {
    "duration": 0,
    "start_time": "2024-05-11T11:10:21.254Z"
   },
   {
    "duration": 0,
    "start_time": "2024-05-11T11:10:21.255Z"
   },
   {
    "duration": 0,
    "start_time": "2024-05-11T11:10:21.256Z"
   },
   {
    "duration": 0,
    "start_time": "2024-05-11T11:10:21.257Z"
   },
   {
    "duration": 0,
    "start_time": "2024-05-11T11:10:21.257Z"
   },
   {
    "duration": 16,
    "start_time": "2024-05-11T11:10:59.098Z"
   },
   {
    "duration": 23,
    "start_time": "2024-05-11T13:18:42.007Z"
   },
   {
    "duration": 32,
    "start_time": "2024-05-11T13:19:09.026Z"
   },
   {
    "duration": 14,
    "start_time": "2024-05-11T13:19:36.792Z"
   },
   {
    "duration": 19,
    "start_time": "2024-05-11T13:21:10.595Z"
   },
   {
    "duration": 26,
    "start_time": "2024-05-11T13:46:37.292Z"
   },
   {
    "duration": 10,
    "start_time": "2024-05-11T13:49:16.002Z"
   },
   {
    "duration": 29,
    "start_time": "2024-05-11T13:49:43.315Z"
   },
   {
    "duration": 20,
    "start_time": "2024-05-11T13:49:58.376Z"
   },
   {
    "duration": 3,
    "start_time": "2024-05-11T13:50:37.964Z"
   },
   {
    "duration": 1141,
    "start_time": "2024-05-11T13:50:45.999Z"
   },
   {
    "duration": 55,
    "start_time": "2024-05-11T13:50:47.141Z"
   },
   {
    "duration": 16,
    "start_time": "2024-05-11T13:50:47.198Z"
   },
   {
    "duration": 16,
    "start_time": "2024-05-11T13:50:47.216Z"
   },
   {
    "duration": 671,
    "start_time": "2024-05-11T13:50:47.234Z"
   },
   {
    "duration": 11,
    "start_time": "2024-05-11T13:50:47.907Z"
   },
   {
    "duration": 32,
    "start_time": "2024-05-11T13:50:47.920Z"
   },
   {
    "duration": 22,
    "start_time": "2024-05-11T13:50:47.954Z"
   },
   {
    "duration": 34,
    "start_time": "2024-05-11T13:50:47.978Z"
   },
   {
    "duration": 12,
    "start_time": "2024-05-11T13:50:48.013Z"
   },
   {
    "duration": 14,
    "start_time": "2024-05-11T13:50:48.026Z"
   },
   {
    "duration": 9,
    "start_time": "2024-05-11T13:50:48.041Z"
   },
   {
    "duration": 17,
    "start_time": "2024-05-11T13:50:48.051Z"
   },
   {
    "duration": 10,
    "start_time": "2024-05-11T13:50:48.071Z"
   },
   {
    "duration": 13,
    "start_time": "2024-05-11T13:50:48.083Z"
   },
   {
    "duration": 24,
    "start_time": "2024-05-11T13:50:48.097Z"
   },
   {
    "duration": 8,
    "start_time": "2024-05-11T13:50:48.122Z"
   },
   {
    "duration": 13,
    "start_time": "2024-05-11T13:50:48.132Z"
   },
   {
    "duration": 4,
    "start_time": "2024-05-11T13:50:48.147Z"
   },
   {
    "duration": 21,
    "start_time": "2024-05-11T13:50:48.152Z"
   },
   {
    "duration": 17,
    "start_time": "2024-05-11T13:50:48.174Z"
   },
   {
    "duration": 5,
    "start_time": "2024-05-11T13:50:48.193Z"
   },
   {
    "duration": 23,
    "start_time": "2024-05-11T13:50:48.199Z"
   },
   {
    "duration": 28,
    "start_time": "2024-05-11T13:50:48.224Z"
   },
   {
    "duration": 164,
    "start_time": "2024-05-11T13:50:48.253Z"
   },
   {
    "duration": 62,
    "start_time": "2024-05-11T13:50:48.419Z"
   },
   {
    "duration": 15,
    "start_time": "2024-05-11T13:50:48.491Z"
   },
   {
    "duration": 29,
    "start_time": "2024-05-11T13:50:48.507Z"
   },
   {
    "duration": 122,
    "start_time": "2024-05-11T13:50:48.537Z"
   },
   {
    "duration": 0,
    "start_time": "2024-05-11T13:50:48.661Z"
   },
   {
    "duration": 0,
    "start_time": "2024-05-11T13:50:48.662Z"
   },
   {
    "duration": 0,
    "start_time": "2024-05-11T13:50:48.663Z"
   },
   {
    "duration": 0,
    "start_time": "2024-05-11T13:50:48.664Z"
   },
   {
    "duration": 0,
    "start_time": "2024-05-11T13:50:48.665Z"
   },
   {
    "duration": 1016,
    "start_time": "2024-05-11T13:54:04.989Z"
   },
   {
    "duration": 981,
    "start_time": "2024-05-11T13:55:15.618Z"
   },
   {
    "duration": 20,
    "start_time": "2024-05-11T13:57:25.138Z"
   },
   {
    "duration": 1130,
    "start_time": "2024-05-11T13:58:03.825Z"
   },
   {
    "duration": 54,
    "start_time": "2024-05-11T13:58:04.957Z"
   },
   {
    "duration": 16,
    "start_time": "2024-05-11T13:58:05.013Z"
   },
   {
    "duration": 16,
    "start_time": "2024-05-11T13:58:05.031Z"
   },
   {
    "duration": 635,
    "start_time": "2024-05-11T13:58:05.049Z"
   },
   {
    "duration": 17,
    "start_time": "2024-05-11T13:58:05.685Z"
   },
   {
    "duration": 46,
    "start_time": "2024-05-11T13:58:05.703Z"
   },
   {
    "duration": 22,
    "start_time": "2024-05-11T13:58:05.751Z"
   },
   {
    "duration": 25,
    "start_time": "2024-05-11T13:58:05.775Z"
   },
   {
    "duration": 9,
    "start_time": "2024-05-11T13:58:05.801Z"
   },
   {
    "duration": 35,
    "start_time": "2024-05-11T13:58:05.812Z"
   },
   {
    "duration": 9,
    "start_time": "2024-05-11T13:58:05.848Z"
   },
   {
    "duration": 15,
    "start_time": "2024-05-11T13:58:05.858Z"
   },
   {
    "duration": 19,
    "start_time": "2024-05-11T13:58:05.876Z"
   },
   {
    "duration": 20,
    "start_time": "2024-05-11T13:58:05.897Z"
   },
   {
    "duration": 19,
    "start_time": "2024-05-11T13:58:05.919Z"
   },
   {
    "duration": 4,
    "start_time": "2024-05-11T13:58:05.940Z"
   },
   {
    "duration": 28,
    "start_time": "2024-05-11T13:58:05.945Z"
   },
   {
    "duration": 5,
    "start_time": "2024-05-11T13:58:05.974Z"
   },
   {
    "duration": 8,
    "start_time": "2024-05-11T13:58:05.981Z"
   },
   {
    "duration": 18,
    "start_time": "2024-05-11T13:58:05.990Z"
   },
   {
    "duration": 14,
    "start_time": "2024-05-11T13:58:06.009Z"
   },
   {
    "duration": 30,
    "start_time": "2024-05-11T13:58:06.025Z"
   },
   {
    "duration": 14,
    "start_time": "2024-05-11T13:58:06.057Z"
   },
   {
    "duration": 169,
    "start_time": "2024-05-11T13:58:06.072Z"
   },
   {
    "duration": 63,
    "start_time": "2024-05-11T13:58:06.243Z"
   },
   {
    "duration": 29,
    "start_time": "2024-05-11T13:58:06.308Z"
   },
   {
    "duration": 37,
    "start_time": "2024-05-11T13:58:06.339Z"
   },
   {
    "duration": 99,
    "start_time": "2024-05-11T13:58:06.378Z"
   },
   {
    "duration": 0,
    "start_time": "2024-05-11T13:58:06.478Z"
   },
   {
    "duration": 0,
    "start_time": "2024-05-11T13:58:06.479Z"
   },
   {
    "duration": 0,
    "start_time": "2024-05-11T13:58:06.481Z"
   },
   {
    "duration": 0,
    "start_time": "2024-05-11T13:58:06.481Z"
   },
   {
    "duration": 0,
    "start_time": "2024-05-11T13:58:06.492Z"
   },
   {
    "duration": 14,
    "start_time": "2024-05-11T13:59:42.060Z"
   },
   {
    "duration": 1042,
    "start_time": "2024-05-11T14:00:53.978Z"
   },
   {
    "duration": 1064,
    "start_time": "2024-05-11T14:02:20.242Z"
   },
   {
    "duration": 20,
    "start_time": "2024-05-11T14:04:59.374Z"
   },
   {
    "duration": 8,
    "start_time": "2024-05-11T14:07:49.193Z"
   },
   {
    "duration": 224,
    "start_time": "2024-05-11T14:08:01.812Z"
   },
   {
    "duration": 19,
    "start_time": "2024-05-11T14:08:31.574Z"
   },
   {
    "duration": 216,
    "start_time": "2024-05-11T14:08:42.057Z"
   },
   {
    "duration": 260,
    "start_time": "2024-05-11T14:08:59.714Z"
   },
   {
    "duration": 209,
    "start_time": "2024-05-11T14:09:14.073Z"
   },
   {
    "duration": 206,
    "start_time": "2024-05-11T14:09:26.651Z"
   },
   {
    "duration": 288,
    "start_time": "2024-05-11T14:09:40.847Z"
   },
   {
    "duration": 24,
    "start_time": "2024-05-11T14:20:41.132Z"
   },
   {
    "duration": 1258,
    "start_time": "2024-05-11T14:22:40.187Z"
   },
   {
    "duration": 22,
    "start_time": "2024-05-11T14:23:43.537Z"
   },
   {
    "duration": 7,
    "start_time": "2024-05-11T14:25:12.968Z"
   },
   {
    "duration": 1007,
    "start_time": "2024-05-11T14:26:58.256Z"
   },
   {
    "duration": 1103,
    "start_time": "2024-05-11T14:29:46.739Z"
   },
   {
    "duration": 53,
    "start_time": "2024-05-11T14:29:47.844Z"
   },
   {
    "duration": 15,
    "start_time": "2024-05-11T14:29:47.899Z"
   },
   {
    "duration": 39,
    "start_time": "2024-05-11T14:29:47.916Z"
   },
   {
    "duration": 668,
    "start_time": "2024-05-11T14:29:47.957Z"
   },
   {
    "duration": 12,
    "start_time": "2024-05-11T14:29:48.627Z"
   },
   {
    "duration": 12,
    "start_time": "2024-05-11T14:29:48.640Z"
   },
   {
    "duration": 14,
    "start_time": "2024-05-11T14:29:48.654Z"
   },
   {
    "duration": 46,
    "start_time": "2024-05-11T14:29:48.669Z"
   },
   {
    "duration": 9,
    "start_time": "2024-05-11T14:29:48.717Z"
   },
   {
    "duration": 52,
    "start_time": "2024-05-11T14:29:48.728Z"
   },
   {
    "duration": 17,
    "start_time": "2024-05-11T14:29:48.782Z"
   },
   {
    "duration": 25,
    "start_time": "2024-05-11T14:29:48.801Z"
   },
   {
    "duration": 21,
    "start_time": "2024-05-11T14:29:48.829Z"
   },
   {
    "duration": 31,
    "start_time": "2024-05-11T14:29:48.851Z"
   },
   {
    "duration": 43,
    "start_time": "2024-05-11T14:29:48.883Z"
   },
   {
    "duration": 25,
    "start_time": "2024-05-11T14:29:48.927Z"
   },
   {
    "duration": 37,
    "start_time": "2024-05-11T14:29:48.954Z"
   },
   {
    "duration": 14,
    "start_time": "2024-05-11T14:29:48.993Z"
   },
   {
    "duration": 28,
    "start_time": "2024-05-11T14:29:49.009Z"
   },
   {
    "duration": 37,
    "start_time": "2024-05-11T14:29:49.039Z"
   },
   {
    "duration": 16,
    "start_time": "2024-05-11T14:29:49.078Z"
   },
   {
    "duration": 55,
    "start_time": "2024-05-11T14:29:49.096Z"
   },
   {
    "duration": 15,
    "start_time": "2024-05-11T14:29:49.152Z"
   },
   {
    "duration": 187,
    "start_time": "2024-05-11T14:29:49.169Z"
   },
   {
    "duration": 54,
    "start_time": "2024-05-11T14:29:49.358Z"
   },
   {
    "duration": 15,
    "start_time": "2024-05-11T14:29:49.413Z"
   },
   {
    "duration": 28,
    "start_time": "2024-05-11T14:29:49.429Z"
   },
   {
    "duration": 1115,
    "start_time": "2024-05-11T14:29:49.458Z"
   },
   {
    "duration": 0,
    "start_time": "2024-05-11T14:29:50.575Z"
   },
   {
    "duration": 0,
    "start_time": "2024-05-11T14:29:50.576Z"
   },
   {
    "duration": 0,
    "start_time": "2024-05-11T14:29:50.577Z"
   },
   {
    "duration": 0,
    "start_time": "2024-05-11T14:29:50.578Z"
   },
   {
    "duration": 0,
    "start_time": "2024-05-11T14:29:50.579Z"
   },
   {
    "duration": 7,
    "start_time": "2024-05-11T14:30:05.284Z"
   },
   {
    "duration": 7,
    "start_time": "2024-05-11T14:30:17.125Z"
   },
   {
    "duration": 28,
    "start_time": "2024-05-11T14:30:22.356Z"
   },
   {
    "duration": 7,
    "start_time": "2024-05-11T14:30:23.569Z"
   },
   {
    "duration": 1135,
    "start_time": "2024-05-11T14:30:38.485Z"
   },
   {
    "duration": 53,
    "start_time": "2024-05-11T14:30:39.622Z"
   },
   {
    "duration": 16,
    "start_time": "2024-05-11T14:30:39.677Z"
   },
   {
    "duration": 16,
    "start_time": "2024-05-11T14:30:39.695Z"
   },
   {
    "duration": 672,
    "start_time": "2024-05-11T14:30:39.713Z"
   },
   {
    "duration": 13,
    "start_time": "2024-05-11T14:30:40.391Z"
   },
   {
    "duration": 10,
    "start_time": "2024-05-11T14:30:40.405Z"
   },
   {
    "duration": 17,
    "start_time": "2024-05-11T14:30:40.417Z"
   },
   {
    "duration": 26,
    "start_time": "2024-05-11T14:30:40.435Z"
   },
   {
    "duration": 12,
    "start_time": "2024-05-11T14:30:40.462Z"
   },
   {
    "duration": 22,
    "start_time": "2024-05-11T14:30:40.476Z"
   },
   {
    "duration": 5,
    "start_time": "2024-05-11T14:30:40.500Z"
   },
   {
    "duration": 8,
    "start_time": "2024-05-11T14:30:40.507Z"
   },
   {
    "duration": 3,
    "start_time": "2024-05-11T14:30:40.518Z"
   },
   {
    "duration": 6,
    "start_time": "2024-05-11T14:30:40.522Z"
   },
   {
    "duration": 21,
    "start_time": "2024-05-11T14:30:40.530Z"
   },
   {
    "duration": 4,
    "start_time": "2024-05-11T14:30:40.553Z"
   },
   {
    "duration": 43,
    "start_time": "2024-05-11T14:30:40.558Z"
   },
   {
    "duration": 6,
    "start_time": "2024-05-11T14:30:40.602Z"
   },
   {
    "duration": 12,
    "start_time": "2024-05-11T14:30:40.609Z"
   },
   {
    "duration": 26,
    "start_time": "2024-05-11T14:30:40.623Z"
   },
   {
    "duration": 4,
    "start_time": "2024-05-11T14:30:40.651Z"
   },
   {
    "duration": 17,
    "start_time": "2024-05-11T14:30:40.657Z"
   },
   {
    "duration": 4,
    "start_time": "2024-05-11T14:30:40.692Z"
   },
   {
    "duration": 220,
    "start_time": "2024-05-11T14:30:40.697Z"
   },
   {
    "duration": 53,
    "start_time": "2024-05-11T14:30:40.918Z"
   },
   {
    "duration": 27,
    "start_time": "2024-05-11T14:30:40.972Z"
   },
   {
    "duration": 29,
    "start_time": "2024-05-11T14:30:41.001Z"
   },
   {
    "duration": 12,
    "start_time": "2024-05-11T14:30:41.032Z"
   },
   {
    "duration": 1111,
    "start_time": "2024-05-11T14:30:41.046Z"
   },
   {
    "duration": 0,
    "start_time": "2024-05-11T14:30:42.158Z"
   },
   {
    "duration": 0,
    "start_time": "2024-05-11T14:30:42.159Z"
   },
   {
    "duration": 0,
    "start_time": "2024-05-11T14:30:42.160Z"
   },
   {
    "duration": 0,
    "start_time": "2024-05-11T14:30:42.161Z"
   },
   {
    "duration": 8,
    "start_time": "2024-05-11T14:31:34.072Z"
   },
   {
    "duration": 7,
    "start_time": "2024-05-11T14:31:49.710Z"
   },
   {
    "duration": 68,
    "start_time": "2024-05-11T14:32:14.814Z"
   },
   {
    "duration": 12,
    "start_time": "2024-05-11T14:34:03.273Z"
   },
   {
    "duration": 8,
    "start_time": "2024-05-11T14:34:39.126Z"
   },
   {
    "duration": 29,
    "start_time": "2024-05-11T14:37:03.496Z"
   },
   {
    "duration": 9,
    "start_time": "2024-05-11T14:37:04.631Z"
   },
   {
    "duration": 1289,
    "start_time": "2024-05-11T14:38:15.678Z"
   },
   {
    "duration": 1184,
    "start_time": "2024-05-11T14:38:49.324Z"
   },
   {
    "duration": 979,
    "start_time": "2024-05-11T14:39:59.658Z"
   },
   {
    "duration": 989,
    "start_time": "2024-05-11T14:40:39.060Z"
   },
   {
    "duration": 972,
    "start_time": "2024-05-11T14:41:26.741Z"
   },
   {
    "duration": 9,
    "start_time": "2024-05-11T14:42:03.477Z"
   },
   {
    "duration": 1329,
    "start_time": "2024-05-11T14:42:20.596Z"
   },
   {
    "duration": 196,
    "start_time": "2024-05-11T14:42:33.230Z"
   },
   {
    "duration": 410,
    "start_time": "2024-05-11T14:43:11.941Z"
   },
   {
    "duration": 408,
    "start_time": "2024-05-11T14:43:26.185Z"
   },
   {
    "duration": 1841,
    "start_time": "2024-05-11T14:46:23.107Z"
   },
   {
    "duration": 1945,
    "start_time": "2024-05-11T14:47:59.752Z"
   },
   {
    "duration": 1834,
    "start_time": "2024-05-11T14:48:48.809Z"
   },
   {
    "duration": 1793,
    "start_time": "2024-05-11T14:49:40.308Z"
   },
   {
    "duration": 1086,
    "start_time": "2024-05-11T14:49:49.081Z"
   },
   {
    "duration": 54,
    "start_time": "2024-05-11T14:49:50.169Z"
   },
   {
    "duration": 18,
    "start_time": "2024-05-11T14:49:50.225Z"
   },
   {
    "duration": 28,
    "start_time": "2024-05-11T14:49:50.245Z"
   },
   {
    "duration": 645,
    "start_time": "2024-05-11T14:49:50.275Z"
   },
   {
    "duration": 12,
    "start_time": "2024-05-11T14:49:50.921Z"
   },
   {
    "duration": 53,
    "start_time": "2024-05-11T14:49:50.934Z"
   },
   {
    "duration": 37,
    "start_time": "2024-05-11T14:49:50.989Z"
   },
   {
    "duration": 53,
    "start_time": "2024-05-11T14:49:51.028Z"
   },
   {
    "duration": 20,
    "start_time": "2024-05-11T14:49:51.082Z"
   },
   {
    "duration": 20,
    "start_time": "2024-05-11T14:49:51.104Z"
   },
   {
    "duration": 52,
    "start_time": "2024-05-11T14:49:51.126Z"
   },
   {
    "duration": 39,
    "start_time": "2024-05-11T14:49:51.180Z"
   },
   {
    "duration": 61,
    "start_time": "2024-05-11T14:49:51.222Z"
   },
   {
    "duration": 18,
    "start_time": "2024-05-11T14:49:51.284Z"
   },
   {
    "duration": 15,
    "start_time": "2024-05-11T14:49:51.303Z"
   },
   {
    "duration": 5,
    "start_time": "2024-05-11T14:49:51.320Z"
   },
   {
    "duration": 27,
    "start_time": "2024-05-11T14:49:51.326Z"
   },
   {
    "duration": 19,
    "start_time": "2024-05-11T14:49:51.354Z"
   },
   {
    "duration": 18,
    "start_time": "2024-05-11T14:49:51.375Z"
   },
   {
    "duration": 24,
    "start_time": "2024-05-11T14:49:51.395Z"
   },
   {
    "duration": 7,
    "start_time": "2024-05-11T14:49:51.421Z"
   },
   {
    "duration": 40,
    "start_time": "2024-05-11T14:49:51.430Z"
   },
   {
    "duration": 41,
    "start_time": "2024-05-11T14:49:51.473Z"
   },
   {
    "duration": 195,
    "start_time": "2024-05-11T14:49:51.516Z"
   },
   {
    "duration": 62,
    "start_time": "2024-05-11T14:49:51.713Z"
   },
   {
    "duration": 24,
    "start_time": "2024-05-11T14:49:51.777Z"
   },
   {
    "duration": 59,
    "start_time": "2024-05-11T14:49:51.803Z"
   },
   {
    "duration": 1916,
    "start_time": "2024-05-11T14:49:51.864Z"
   },
   {
    "duration": 9,
    "start_time": "2024-05-11T14:49:53.782Z"
   },
   {
    "duration": 35,
    "start_time": "2024-05-11T14:49:53.793Z"
   },
   {
    "duration": 11,
    "start_time": "2024-05-11T14:49:53.829Z"
   },
   {
    "duration": 21,
    "start_time": "2024-05-11T14:49:53.842Z"
   },
   {
    "duration": 1842,
    "start_time": "2024-05-11T14:52:21.071Z"
   },
   {
    "duration": 2001,
    "start_time": "2024-05-11T14:52:36.889Z"
   },
   {
    "duration": 67,
    "start_time": "2024-05-11T15:31:09.905Z"
   },
   {
    "duration": 104,
    "start_time": "2024-05-11T15:52:24.343Z"
   },
   {
    "duration": 16,
    "start_time": "2024-05-11T15:52:39.681Z"
   },
   {
    "duration": 1139,
    "start_time": "2024-05-11T15:53:48.740Z"
   },
   {
    "duration": 55,
    "start_time": "2024-05-11T15:53:49.881Z"
   },
   {
    "duration": 15,
    "start_time": "2024-05-11T15:53:49.937Z"
   },
   {
    "duration": 21,
    "start_time": "2024-05-11T15:53:49.954Z"
   },
   {
    "duration": 693,
    "start_time": "2024-05-11T15:53:49.978Z"
   },
   {
    "duration": 19,
    "start_time": "2024-05-11T15:53:50.672Z"
   },
   {
    "duration": 5,
    "start_time": "2024-05-11T15:53:50.693Z"
   },
   {
    "duration": 20,
    "start_time": "2024-05-11T15:53:50.700Z"
   },
   {
    "duration": 20,
    "start_time": "2024-05-11T15:53:50.721Z"
   },
   {
    "duration": 25,
    "start_time": "2024-05-11T15:53:50.743Z"
   },
   {
    "duration": 33,
    "start_time": "2024-05-11T15:53:50.769Z"
   },
   {
    "duration": 31,
    "start_time": "2024-05-11T15:53:50.803Z"
   },
   {
    "duration": 10,
    "start_time": "2024-05-11T15:53:50.835Z"
   },
   {
    "duration": 14,
    "start_time": "2024-05-11T15:53:50.848Z"
   },
   {
    "duration": 10,
    "start_time": "2024-05-11T15:53:50.864Z"
   },
   {
    "duration": 24,
    "start_time": "2024-05-11T15:53:50.875Z"
   },
   {
    "duration": 5,
    "start_time": "2024-05-11T15:53:50.900Z"
   },
   {
    "duration": 31,
    "start_time": "2024-05-11T15:53:50.907Z"
   },
   {
    "duration": 37,
    "start_time": "2024-05-11T15:53:50.939Z"
   },
   {
    "duration": 10,
    "start_time": "2024-05-11T15:53:50.978Z"
   },
   {
    "duration": 36,
    "start_time": "2024-05-11T15:53:50.990Z"
   },
   {
    "duration": 15,
    "start_time": "2024-05-11T15:53:51.027Z"
   },
   {
    "duration": 57,
    "start_time": "2024-05-11T15:53:51.043Z"
   },
   {
    "duration": 17,
    "start_time": "2024-05-11T15:53:51.102Z"
   },
   {
    "duration": 195,
    "start_time": "2024-05-11T15:53:51.120Z"
   },
   {
    "duration": 52,
    "start_time": "2024-05-11T15:53:51.317Z"
   },
   {
    "duration": 25,
    "start_time": "2024-05-11T15:53:51.371Z"
   },
   {
    "duration": 30,
    "start_time": "2024-05-11T15:53:51.398Z"
   },
   {
    "duration": 2012,
    "start_time": "2024-05-11T15:53:51.430Z"
   },
   {
    "duration": 101,
    "start_time": "2024-05-11T15:53:53.444Z"
   },
   {
    "duration": 0,
    "start_time": "2024-05-11T15:53:53.546Z"
   },
   {
    "duration": 0,
    "start_time": "2024-05-11T15:53:53.547Z"
   },
   {
    "duration": 0,
    "start_time": "2024-05-11T15:53:53.548Z"
   },
   {
    "duration": 0,
    "start_time": "2024-05-11T15:53:53.550Z"
   },
   {
    "duration": 15,
    "start_time": "2024-05-11T15:54:03.898Z"
   },
   {
    "duration": 16,
    "start_time": "2024-05-11T16:04:56.244Z"
   },
   {
    "duration": 289,
    "start_time": "2024-05-11T16:06:45.731Z"
   },
   {
    "duration": 256,
    "start_time": "2024-05-11T16:08:38.875Z"
   },
   {
    "duration": 267,
    "start_time": "2024-05-11T16:10:24.294Z"
   },
   {
    "duration": 276,
    "start_time": "2024-05-11T16:10:41.776Z"
   },
   {
    "duration": 262,
    "start_time": "2024-05-11T16:15:31.758Z"
   },
   {
    "duration": 1203,
    "start_time": "2024-05-11T16:47:06.802Z"
   },
   {
    "duration": 54,
    "start_time": "2024-05-11T16:47:08.007Z"
   },
   {
    "duration": 15,
    "start_time": "2024-05-11T16:47:08.063Z"
   },
   {
    "duration": 16,
    "start_time": "2024-05-11T16:47:08.080Z"
   },
   {
    "duration": 637,
    "start_time": "2024-05-11T16:47:08.098Z"
   },
   {
    "duration": 18,
    "start_time": "2024-05-11T16:47:08.737Z"
   },
   {
    "duration": 6,
    "start_time": "2024-05-11T16:47:08.756Z"
   },
   {
    "duration": 34,
    "start_time": "2024-05-11T16:47:08.764Z"
   },
   {
    "duration": 20,
    "start_time": "2024-05-11T16:47:08.800Z"
   },
   {
    "duration": 18,
    "start_time": "2024-05-11T16:47:08.822Z"
   },
   {
    "duration": 11,
    "start_time": "2024-05-11T16:47:08.841Z"
   },
   {
    "duration": 4,
    "start_time": "2024-05-11T16:47:08.854Z"
   },
   {
    "duration": 8,
    "start_time": "2024-05-11T16:47:08.860Z"
   },
   {
    "duration": 23,
    "start_time": "2024-05-11T16:47:08.869Z"
   },
   {
    "duration": 4,
    "start_time": "2024-05-11T16:47:08.894Z"
   },
   {
    "duration": 36,
    "start_time": "2024-05-11T16:47:08.899Z"
   },
   {
    "duration": 3,
    "start_time": "2024-05-11T16:47:08.936Z"
   },
   {
    "duration": 13,
    "start_time": "2024-05-11T16:47:08.941Z"
   },
   {
    "duration": 5,
    "start_time": "2024-05-11T16:47:08.955Z"
   },
   {
    "duration": 8,
    "start_time": "2024-05-11T16:47:08.961Z"
   },
   {
    "duration": 26,
    "start_time": "2024-05-11T16:47:08.971Z"
   },
   {
    "duration": 5,
    "start_time": "2024-05-11T16:47:08.999Z"
   },
   {
    "duration": 30,
    "start_time": "2024-05-11T16:47:09.005Z"
   },
   {
    "duration": 41,
    "start_time": "2024-05-11T16:47:09.037Z"
   },
   {
    "duration": 180,
    "start_time": "2024-05-11T16:47:09.080Z"
   },
   {
    "duration": 53,
    "start_time": "2024-05-11T16:47:09.261Z"
   },
   {
    "duration": 14,
    "start_time": "2024-05-11T16:47:09.316Z"
   },
   {
    "duration": 28,
    "start_time": "2024-05-11T16:47:09.334Z"
   },
   {
    "duration": 1969,
    "start_time": "2024-05-11T16:47:09.364Z"
   },
   {
    "duration": 293,
    "start_time": "2024-05-11T16:47:11.335Z"
   },
   {
    "duration": 323,
    "start_time": "2024-05-11T16:47:11.629Z"
   },
   {
    "duration": 2,
    "start_time": "2024-05-11T16:47:11.954Z"
   },
   {
    "duration": 5,
    "start_time": "2024-05-11T16:47:11.958Z"
   },
   {
    "duration": 8,
    "start_time": "2024-05-11T16:47:11.966Z"
   },
   {
    "duration": 16,
    "start_time": "2024-05-11T16:47:11.976Z"
   },
   {
    "duration": 363,
    "start_time": "2024-05-11T16:48:12.869Z"
   },
   {
    "duration": 335,
    "start_time": "2024-05-11T16:48:27.764Z"
   },
   {
    "duration": 107,
    "start_time": "2024-05-11T16:48:52.441Z"
   },
   {
    "duration": 21,
    "start_time": "2024-05-11T16:49:49.952Z"
   },
   {
    "duration": 342,
    "start_time": "2024-05-11T16:49:58.686Z"
   },
   {
    "duration": 12,
    "start_time": "2024-05-11T16:50:25.512Z"
   },
   {
    "duration": 245,
    "start_time": "2024-05-11T16:51:19.453Z"
   },
   {
    "duration": 253,
    "start_time": "2024-05-11T16:52:25.411Z"
   },
   {
    "duration": 240,
    "start_time": "2024-05-11T16:52:38.074Z"
   },
   {
    "duration": 15,
    "start_time": "2024-05-11T16:54:55.025Z"
   },
   {
    "duration": 16,
    "start_time": "2024-05-11T16:55:04.214Z"
   },
   {
    "duration": 15,
    "start_time": "2024-05-11T16:55:13.496Z"
   },
   {
    "duration": 18,
    "start_time": "2024-05-11T16:56:01.150Z"
   },
   {
    "duration": 34,
    "start_time": "2024-05-11T16:56:04.342Z"
   },
   {
    "duration": 1893,
    "start_time": "2024-05-11T16:56:11.716Z"
   },
   {
    "duration": 3243,
    "start_time": "2024-05-11T16:58:42.362Z"
   },
   {
    "duration": 304,
    "start_time": "2024-05-11T16:59:34.810Z"
   },
   {
    "duration": 287,
    "start_time": "2024-05-11T17:01:36.817Z"
   },
   {
    "duration": 264,
    "start_time": "2024-05-11T17:02:15.602Z"
   },
   {
    "duration": 22,
    "start_time": "2024-05-11T17:10:59.907Z"
   },
   {
    "duration": 271,
    "start_time": "2024-05-11T17:12:14.089Z"
   },
   {
    "duration": 439,
    "start_time": "2024-05-11T17:12:22.512Z"
   },
   {
    "duration": 274,
    "start_time": "2024-05-11T17:12:37.075Z"
   },
   {
    "duration": 289,
    "start_time": "2024-05-11T17:12:44.700Z"
   },
   {
    "duration": 261,
    "start_time": "2024-05-11T17:12:52.222Z"
   },
   {
    "duration": 285,
    "start_time": "2024-05-11T17:12:59.829Z"
   },
   {
    "duration": 350,
    "start_time": "2024-05-11T17:13:06.651Z"
   },
   {
    "duration": 259,
    "start_time": "2024-05-11T17:13:22.354Z"
   },
   {
    "duration": 265,
    "start_time": "2024-05-11T17:13:31.479Z"
   },
   {
    "duration": 264,
    "start_time": "2024-05-11T17:13:39.345Z"
   },
   {
    "duration": 251,
    "start_time": "2024-05-11T17:13:47.212Z"
   },
   {
    "duration": 255,
    "start_time": "2024-05-11T17:13:56.095Z"
   },
   {
    "duration": 351,
    "start_time": "2024-05-11T17:15:37.113Z"
   },
   {
    "duration": 262,
    "start_time": "2024-05-11T17:20:50.947Z"
   },
   {
    "duration": 289,
    "start_time": "2024-05-11T17:21:53.083Z"
   },
   {
    "duration": 268,
    "start_time": "2024-05-11T17:22:11.421Z"
   },
   {
    "duration": 280,
    "start_time": "2024-05-11T17:22:21.297Z"
   },
   {
    "duration": 434,
    "start_time": "2024-05-11T17:22:30.899Z"
   },
   {
    "duration": 288,
    "start_time": "2024-05-11T17:22:36.960Z"
   },
   {
    "duration": 64,
    "start_time": "2024-05-11T17:22:48.167Z"
   },
   {
    "duration": 292,
    "start_time": "2024-05-11T17:22:53.948Z"
   },
   {
    "duration": 289,
    "start_time": "2024-05-11T17:23:05.816Z"
   },
   {
    "duration": 284,
    "start_time": "2024-05-11T17:23:12.605Z"
   },
   {
    "duration": 293,
    "start_time": "2024-05-11T17:23:16.943Z"
   },
   {
    "duration": 382,
    "start_time": "2024-05-11T17:23:22.410Z"
   },
   {
    "duration": 281,
    "start_time": "2024-05-11T17:24:45.852Z"
   },
   {
    "duration": 275,
    "start_time": "2024-05-11T17:24:56.041Z"
   },
   {
    "duration": 271,
    "start_time": "2024-05-11T17:25:04.852Z"
   },
   {
    "duration": 279,
    "start_time": "2024-05-11T17:25:15.264Z"
   },
   {
    "duration": 398,
    "start_time": "2024-05-11T17:25:31.361Z"
   },
   {
    "duration": 289,
    "start_time": "2024-05-11T17:25:43.008Z"
   },
   {
    "duration": 275,
    "start_time": "2024-05-11T17:28:20.328Z"
   },
   {
    "duration": 294,
    "start_time": "2024-05-11T17:30:58.265Z"
   },
   {
    "duration": 274,
    "start_time": "2024-05-11T17:31:16.431Z"
   },
   {
    "duration": 297,
    "start_time": "2024-05-11T17:32:28.468Z"
   },
   {
    "duration": 378,
    "start_time": "2024-05-11T17:32:37.110Z"
   },
   {
    "duration": 326,
    "start_time": "2024-05-11T17:32:49.352Z"
   },
   {
    "duration": 276,
    "start_time": "2024-05-11T17:40:08.439Z"
   },
   {
    "duration": 292,
    "start_time": "2024-05-11T17:42:52.503Z"
   },
   {
    "duration": 368,
    "start_time": "2024-05-11T18:18:50.479Z"
   },
   {
    "duration": 320,
    "start_time": "2024-05-11T18:18:59.450Z"
   },
   {
    "duration": 335,
    "start_time": "2024-05-11T18:19:06.187Z"
   },
   {
    "duration": 66,
    "start_time": "2024-05-11T18:32:02.865Z"
   },
   {
    "duration": 1221,
    "start_time": "2024-05-11T18:33:03.293Z"
   },
   {
    "duration": 148,
    "start_time": "2024-05-11T18:33:56.074Z"
   },
   {
    "duration": 309,
    "start_time": "2024-05-11T18:34:37.210Z"
   },
   {
    "duration": 288,
    "start_time": "2024-05-11T18:35:28.440Z"
   },
   {
    "duration": 361,
    "start_time": "2024-05-11T18:36:31.108Z"
   },
   {
    "duration": 309,
    "start_time": "2024-05-11T18:37:19.684Z"
   },
   {
    "duration": 457,
    "start_time": "2024-05-11T18:41:14.434Z"
   },
   {
    "duration": 477,
    "start_time": "2024-05-11T18:43:20.306Z"
   },
   {
    "duration": 3,
    "start_time": "2024-05-11T18:47:19.995Z"
   },
   {
    "duration": 4,
    "start_time": "2024-05-11T18:47:44.256Z"
   },
   {
    "duration": 9,
    "start_time": "2024-05-11T18:50:52.430Z"
   },
   {
    "duration": 8,
    "start_time": "2024-05-11T18:52:00.240Z"
   },
   {
    "duration": 10,
    "start_time": "2024-05-11T18:52:31.653Z"
   },
   {
    "duration": 12,
    "start_time": "2024-05-11T18:52:44.971Z"
   },
   {
    "duration": 10,
    "start_time": "2024-05-11T18:52:53.599Z"
   },
   {
    "duration": 432,
    "start_time": "2024-05-11T18:53:03.389Z"
   },
   {
    "duration": 10,
    "start_time": "2024-05-11T18:53:05.856Z"
   },
   {
    "duration": 14,
    "start_time": "2024-05-11T18:55:11.147Z"
   },
   {
    "duration": 13,
    "start_time": "2024-05-11T18:57:51.053Z"
   },
   {
    "duration": 1226,
    "start_time": "2024-05-11T18:58:01.279Z"
   },
   {
    "duration": 55,
    "start_time": "2024-05-11T18:58:02.506Z"
   },
   {
    "duration": 79,
    "start_time": "2024-05-11T18:58:02.562Z"
   },
   {
    "duration": 40,
    "start_time": "2024-05-11T18:58:02.643Z"
   },
   {
    "duration": 665,
    "start_time": "2024-05-11T18:58:02.685Z"
   },
   {
    "duration": 12,
    "start_time": "2024-05-11T18:58:03.352Z"
   },
   {
    "duration": 390,
    "start_time": "2024-05-11T18:58:03.365Z"
   },
   {
    "duration": 78,
    "start_time": "2024-05-11T18:58:03.757Z"
   },
   {
    "duration": 49,
    "start_time": "2024-05-11T18:58:03.836Z"
   },
   {
    "duration": 19,
    "start_time": "2024-05-11T18:58:03.887Z"
   },
   {
    "duration": 33,
    "start_time": "2024-05-11T18:58:03.907Z"
   },
   {
    "duration": 5,
    "start_time": "2024-05-11T18:58:03.942Z"
   },
   {
    "duration": 22,
    "start_time": "2024-05-11T18:58:03.948Z"
   },
   {
    "duration": 19,
    "start_time": "2024-05-11T18:58:03.974Z"
   },
   {
    "duration": 21,
    "start_time": "2024-05-11T18:58:03.995Z"
   },
   {
    "duration": 28,
    "start_time": "2024-05-11T18:58:04.017Z"
   },
   {
    "duration": 23,
    "start_time": "2024-05-11T18:58:04.047Z"
   },
   {
    "duration": 19,
    "start_time": "2024-05-11T18:58:04.072Z"
   },
   {
    "duration": 14,
    "start_time": "2024-05-11T18:58:04.093Z"
   },
   {
    "duration": 25,
    "start_time": "2024-05-11T18:58:04.108Z"
   },
   {
    "duration": 23,
    "start_time": "2024-05-11T18:58:04.135Z"
   },
   {
    "duration": 4,
    "start_time": "2024-05-11T18:58:04.159Z"
   },
   {
    "duration": 21,
    "start_time": "2024-05-11T18:58:04.164Z"
   },
   {
    "duration": 16,
    "start_time": "2024-05-11T18:58:04.187Z"
   },
   {
    "duration": 184,
    "start_time": "2024-05-11T18:58:04.204Z"
   },
   {
    "duration": 57,
    "start_time": "2024-05-11T18:58:04.389Z"
   },
   {
    "duration": 16,
    "start_time": "2024-05-11T18:58:04.447Z"
   },
   {
    "duration": 62,
    "start_time": "2024-05-11T18:58:04.464Z"
   },
   {
    "duration": 3267,
    "start_time": "2024-05-11T18:58:04.527Z"
   },
   {
    "duration": 381,
    "start_time": "2024-05-11T18:58:07.795Z"
   },
   {
    "duration": 297,
    "start_time": "2024-05-11T18:58:08.177Z"
   },
   {
    "duration": 442,
    "start_time": "2024-05-11T18:58:08.475Z"
   },
   {
    "duration": 13,
    "start_time": "2024-05-11T18:58:08.919Z"
   },
   {
    "duration": 14,
    "start_time": "2024-05-11T18:58:08.933Z"
   },
   {
    "duration": 12,
    "start_time": "2024-05-11T18:58:08.948Z"
   },
   {
    "duration": 11,
    "start_time": "2024-05-11T18:58:08.961Z"
   },
   {
    "duration": 11,
    "start_time": "2024-05-11T18:58:08.973Z"
   },
   {
    "duration": 13,
    "start_time": "2024-05-11T19:09:17.124Z"
   },
   {
    "duration": 14,
    "start_time": "2024-05-11T19:09:59.106Z"
   },
   {
    "duration": 245,
    "start_time": "2024-05-11T19:13:55.694Z"
   },
   {
    "duration": 185,
    "start_time": "2024-05-11T19:14:06.468Z"
   },
   {
    "duration": 169,
    "start_time": "2024-05-11T19:14:12.842Z"
   },
   {
    "duration": 94,
    "start_time": "2024-05-11T19:17:09.191Z"
   },
   {
    "duration": 181,
    "start_time": "2024-05-11T19:28:43.724Z"
   },
   {
    "duration": 201,
    "start_time": "2024-05-11T19:29:01.269Z"
   },
   {
    "duration": 182,
    "start_time": "2024-05-11T19:31:05.238Z"
   },
   {
    "duration": 200,
    "start_time": "2024-05-11T19:31:19.909Z"
   },
   {
    "duration": 184,
    "start_time": "2024-05-11T19:31:26.952Z"
   },
   {
    "duration": 208,
    "start_time": "2024-05-11T19:32:29.066Z"
   },
   {
    "duration": 192,
    "start_time": "2024-05-11T19:33:08.966Z"
   },
   {
    "duration": 1062,
    "start_time": "2024-05-11T20:14:42.844Z"
   },
   {
    "duration": 55,
    "start_time": "2024-05-11T20:14:43.908Z"
   },
   {
    "duration": 15,
    "start_time": "2024-05-11T20:14:43.965Z"
   },
   {
    "duration": 34,
    "start_time": "2024-05-11T20:14:43.981Z"
   },
   {
    "duration": 650,
    "start_time": "2024-05-11T20:14:44.017Z"
   },
   {
    "duration": 23,
    "start_time": "2024-05-11T20:14:44.669Z"
   },
   {
    "duration": 10,
    "start_time": "2024-05-11T20:14:44.693Z"
   },
   {
    "duration": 26,
    "start_time": "2024-05-11T20:14:44.704Z"
   },
   {
    "duration": 30,
    "start_time": "2024-05-11T20:14:44.732Z"
   },
   {
    "duration": 25,
    "start_time": "2024-05-11T20:14:44.764Z"
   },
   {
    "duration": 70,
    "start_time": "2024-05-11T20:14:44.790Z"
   },
   {
    "duration": 19,
    "start_time": "2024-05-11T20:14:44.862Z"
   },
   {
    "duration": 45,
    "start_time": "2024-05-11T20:14:44.883Z"
   },
   {
    "duration": 13,
    "start_time": "2024-05-11T20:14:44.931Z"
   },
   {
    "duration": 27,
    "start_time": "2024-05-11T20:14:44.945Z"
   },
   {
    "duration": 23,
    "start_time": "2024-05-11T20:14:44.974Z"
   },
   {
    "duration": 3,
    "start_time": "2024-05-11T20:14:44.999Z"
   },
   {
    "duration": 85,
    "start_time": "2024-05-11T20:14:45.004Z"
   },
   {
    "duration": 34,
    "start_time": "2024-05-11T20:14:45.091Z"
   },
   {
    "duration": 38,
    "start_time": "2024-05-11T20:14:45.127Z"
   },
   {
    "duration": 45,
    "start_time": "2024-05-11T20:14:45.167Z"
   },
   {
    "duration": 4,
    "start_time": "2024-05-11T20:14:45.214Z"
   },
   {
    "duration": 45,
    "start_time": "2024-05-11T20:14:45.219Z"
   },
   {
    "duration": 26,
    "start_time": "2024-05-11T20:14:45.266Z"
   },
   {
    "duration": 224,
    "start_time": "2024-05-11T20:14:45.294Z"
   },
   {
    "duration": 55,
    "start_time": "2024-05-11T20:14:45.519Z"
   },
   {
    "duration": 28,
    "start_time": "2024-05-11T20:14:45.576Z"
   },
   {
    "duration": 48,
    "start_time": "2024-05-11T20:14:45.605Z"
   },
   {
    "duration": 3368,
    "start_time": "2024-05-11T20:14:45.655Z"
   },
   {
    "duration": 367,
    "start_time": "2024-05-11T20:14:49.025Z"
   },
   {
    "duration": 316,
    "start_time": "2024-05-11T20:14:49.393Z"
   },
   {
    "duration": 504,
    "start_time": "2024-05-11T20:14:49.711Z"
   },
   {
    "duration": 13,
    "start_time": "2024-05-11T20:14:50.216Z"
   },
   {
    "duration": 31,
    "start_time": "2024-05-11T20:14:50.231Z"
   },
   {
    "duration": 28,
    "start_time": "2024-05-11T20:14:50.264Z"
   },
   {
    "duration": 298,
    "start_time": "2024-05-11T20:14:50.294Z"
   },
   {
    "duration": 2,
    "start_time": "2024-05-11T20:14:50.594Z"
   },
   {
    "duration": 17,
    "start_time": "2024-05-11T20:14:50.597Z"
   },
   {
    "duration": 9,
    "start_time": "2024-05-11T20:14:50.616Z"
   },
   {
    "duration": 11,
    "start_time": "2024-05-11T20:14:50.626Z"
   },
   {
    "duration": 1296,
    "start_time": "2024-05-12T06:10:10.884Z"
   },
   {
    "duration": 107,
    "start_time": "2024-05-12T06:10:12.182Z"
   },
   {
    "duration": 15,
    "start_time": "2024-05-12T06:10:12.291Z"
   },
   {
    "duration": 30,
    "start_time": "2024-05-12T06:10:12.308Z"
   },
   {
    "duration": 611,
    "start_time": "2024-05-12T06:10:12.340Z"
   },
   {
    "duration": 13,
    "start_time": "2024-05-12T06:10:12.952Z"
   },
   {
    "duration": 9,
    "start_time": "2024-05-12T06:10:12.966Z"
   },
   {
    "duration": 14,
    "start_time": "2024-05-12T06:10:12.976Z"
   },
   {
    "duration": 33,
    "start_time": "2024-05-12T06:10:12.991Z"
   },
   {
    "duration": 9,
    "start_time": "2024-05-12T06:10:13.026Z"
   },
   {
    "duration": 17,
    "start_time": "2024-05-12T06:10:13.037Z"
   },
   {
    "duration": 9,
    "start_time": "2024-05-12T06:10:13.056Z"
   },
   {
    "duration": 9,
    "start_time": "2024-05-12T06:10:13.067Z"
   },
   {
    "duration": 4,
    "start_time": "2024-05-12T06:10:13.077Z"
   },
   {
    "duration": 5,
    "start_time": "2024-05-12T06:10:13.082Z"
   },
   {
    "duration": 47,
    "start_time": "2024-05-12T06:10:13.088Z"
   },
   {
    "duration": 12,
    "start_time": "2024-05-12T06:10:13.136Z"
   },
   {
    "duration": 24,
    "start_time": "2024-05-12T06:10:13.149Z"
   },
   {
    "duration": 17,
    "start_time": "2024-05-12T06:10:13.175Z"
   },
   {
    "duration": 23,
    "start_time": "2024-05-12T06:10:13.193Z"
   },
   {
    "duration": 26,
    "start_time": "2024-05-12T06:10:13.217Z"
   },
   {
    "duration": 6,
    "start_time": "2024-05-12T06:10:13.245Z"
   },
   {
    "duration": 23,
    "start_time": "2024-05-12T06:10:13.253Z"
   },
   {
    "duration": 10,
    "start_time": "2024-05-12T06:10:13.277Z"
   },
   {
    "duration": 156,
    "start_time": "2024-05-12T06:10:13.288Z"
   },
   {
    "duration": 58,
    "start_time": "2024-05-12T06:10:13.445Z"
   },
   {
    "duration": 13,
    "start_time": "2024-05-12T06:10:13.505Z"
   },
   {
    "duration": 45,
    "start_time": "2024-05-12T06:10:13.520Z"
   },
   {
    "duration": 3085,
    "start_time": "2024-05-12T06:10:13.566Z"
   },
   {
    "duration": 336,
    "start_time": "2024-05-12T06:10:16.652Z"
   },
   {
    "duration": 293,
    "start_time": "2024-05-12T06:10:16.989Z"
   },
   {
    "duration": 519,
    "start_time": "2024-05-12T06:10:17.283Z"
   },
   {
    "duration": 16,
    "start_time": "2024-05-12T06:10:17.804Z"
   },
   {
    "duration": 12,
    "start_time": "2024-05-12T06:10:17.821Z"
   },
   {
    "duration": 31,
    "start_time": "2024-05-12T06:10:17.834Z"
   },
   {
    "duration": 277,
    "start_time": "2024-05-12T06:10:17.867Z"
   },
   {
    "duration": 3,
    "start_time": "2024-05-12T06:10:18.146Z"
   },
   {
    "duration": 18,
    "start_time": "2024-05-12T06:10:18.151Z"
   },
   {
    "duration": 35,
    "start_time": "2024-05-12T06:10:18.170Z"
   },
   {
    "duration": 13,
    "start_time": "2024-05-12T06:10:18.207Z"
   },
   {
    "duration": 156,
    "start_time": "2024-05-12T06:18:00.917Z"
   },
   {
    "duration": 162,
    "start_time": "2024-05-12T06:18:10.479Z"
   },
   {
    "duration": 190,
    "start_time": "2024-05-12T06:18:19.018Z"
   },
   {
    "duration": 155,
    "start_time": "2024-05-12T06:18:30.804Z"
   },
   {
    "duration": 506,
    "start_time": "2024-05-12T06:18:58.463Z"
   },
   {
    "duration": 132,
    "start_time": "2024-05-12T06:19:17.823Z"
   },
   {
    "duration": 3,
    "start_time": "2024-05-12T06:22:15.822Z"
   },
   {
    "duration": 142,
    "start_time": "2024-05-12T06:24:18.150Z"
   },
   {
    "duration": 149,
    "start_time": "2024-05-12T06:25:16.866Z"
   },
   {
    "duration": 149,
    "start_time": "2024-05-12T06:25:30.145Z"
   },
   {
    "duration": 160,
    "start_time": "2024-05-12T06:26:10.693Z"
   },
   {
    "duration": 168,
    "start_time": "2024-05-12T06:30:02.364Z"
   },
   {
    "duration": 235,
    "start_time": "2024-05-12T06:30:30.196Z"
   },
   {
    "duration": 10,
    "start_time": "2024-05-12T06:31:44.050Z"
   },
   {
    "duration": 12,
    "start_time": "2024-05-12T06:32:13.313Z"
   },
   {
    "duration": 163,
    "start_time": "2024-05-12T06:32:24.418Z"
   },
   {
    "duration": 164,
    "start_time": "2024-05-12T06:33:00.891Z"
   },
   {
    "duration": 179,
    "start_time": "2024-05-12T06:35:04.319Z"
   },
   {
    "duration": 174,
    "start_time": "2024-05-12T06:35:13.200Z"
   },
   {
    "duration": 181,
    "start_time": "2024-05-12T06:39:57.164Z"
   },
   {
    "duration": 148,
    "start_time": "2024-05-12T06:41:12.390Z"
   },
   {
    "duration": 2,
    "start_time": "2024-05-12T06:46:42.957Z"
   },
   {
    "duration": 490,
    "start_time": "2024-05-12T07:15:15.031Z"
   },
   {
    "duration": 481,
    "start_time": "2024-05-12T07:15:31.559Z"
   },
   {
    "duration": 443,
    "start_time": "2024-05-12T07:15:52.209Z"
   },
   {
    "duration": 18,
    "start_time": "2024-05-12T07:16:24.576Z"
   },
   {
    "duration": 136,
    "start_time": "2024-05-12T07:18:06.025Z"
   },
   {
    "duration": 264,
    "start_time": "2024-05-12T07:23:55.468Z"
   },
   {
    "duration": 235,
    "start_time": "2024-05-12T07:24:51.256Z"
   },
   {
    "duration": 349,
    "start_time": "2024-05-12T07:25:49.466Z"
   },
   {
    "duration": 242,
    "start_time": "2024-05-12T07:25:59.587Z"
   },
   {
    "duration": 238,
    "start_time": "2024-05-12T07:26:11.528Z"
   },
   {
    "duration": 6,
    "start_time": "2024-05-12T07:34:21.428Z"
   },
   {
    "duration": 125,
    "start_time": "2024-05-12T07:34:42.722Z"
   },
   {
    "duration": 121,
    "start_time": "2024-05-12T07:35:20.070Z"
   },
   {
    "duration": 155,
    "start_time": "2024-05-12T07:36:06.559Z"
   },
   {
    "duration": 166,
    "start_time": "2024-05-12T07:36:18.399Z"
   },
   {
    "duration": 120,
    "start_time": "2024-05-12T07:36:34.625Z"
   },
   {
    "duration": 222,
    "start_time": "2024-05-12T07:36:49.938Z"
   },
   {
    "duration": 10,
    "start_time": "2024-05-12T07:40:35.839Z"
   },
   {
    "duration": 14,
    "start_time": "2024-05-12T07:40:54.751Z"
   },
   {
    "duration": 13,
    "start_time": "2024-05-12T07:41:17.264Z"
   },
   {
    "duration": 130,
    "start_time": "2024-05-12T07:58:02.716Z"
   },
   {
    "duration": 131,
    "start_time": "2024-05-12T07:58:21.143Z"
   },
   {
    "duration": 136,
    "start_time": "2024-05-12T07:58:28.954Z"
   },
   {
    "duration": 126,
    "start_time": "2024-05-12T07:58:34.313Z"
   },
   {
    "duration": 144,
    "start_time": "2024-05-12T07:58:50.896Z"
   },
   {
    "duration": 133,
    "start_time": "2024-05-12T07:59:04.287Z"
   },
   {
    "duration": 129,
    "start_time": "2024-05-12T07:59:11.141Z"
   },
   {
    "duration": 112,
    "start_time": "2024-05-12T07:59:16.303Z"
   },
   {
    "duration": 123,
    "start_time": "2024-05-12T07:59:26.292Z"
   },
   {
    "duration": 17,
    "start_time": "2024-05-12T08:08:24.184Z"
   },
   {
    "duration": 16,
    "start_time": "2024-05-12T08:31:22.785Z"
   },
   {
    "duration": 12,
    "start_time": "2024-05-12T08:31:40.369Z"
   },
   {
    "duration": 11,
    "start_time": "2024-05-12T08:31:57.007Z"
   },
   {
    "duration": 7,
    "start_time": "2024-05-12T08:33:22.481Z"
   },
   {
    "duration": 1062,
    "start_time": "2024-05-12T08:35:32.012Z"
   },
   {
    "duration": 66,
    "start_time": "2024-05-12T08:35:33.076Z"
   },
   {
    "duration": 19,
    "start_time": "2024-05-12T08:35:33.152Z"
   },
   {
    "duration": 19,
    "start_time": "2024-05-12T08:35:33.173Z"
   },
   {
    "duration": 659,
    "start_time": "2024-05-12T08:35:33.193Z"
   },
   {
    "duration": 21,
    "start_time": "2024-05-12T08:35:33.854Z"
   },
   {
    "duration": 5,
    "start_time": "2024-05-12T08:35:33.877Z"
   },
   {
    "duration": 25,
    "start_time": "2024-05-12T08:35:33.884Z"
   },
   {
    "duration": 34,
    "start_time": "2024-05-12T08:35:33.911Z"
   },
   {
    "duration": 9,
    "start_time": "2024-05-12T08:35:33.948Z"
   },
   {
    "duration": 22,
    "start_time": "2024-05-12T08:35:33.959Z"
   },
   {
    "duration": 16,
    "start_time": "2024-05-12T08:35:33.983Z"
   },
   {
    "duration": 21,
    "start_time": "2024-05-12T08:35:34.001Z"
   },
   {
    "duration": 17,
    "start_time": "2024-05-12T08:35:34.024Z"
   },
   {
    "duration": 19,
    "start_time": "2024-05-12T08:35:34.043Z"
   },
   {
    "duration": 22,
    "start_time": "2024-05-12T08:35:34.064Z"
   },
   {
    "duration": 4,
    "start_time": "2024-05-12T08:35:34.088Z"
   },
   {
    "duration": 13,
    "start_time": "2024-05-12T08:35:34.093Z"
   },
   {
    "duration": 5,
    "start_time": "2024-05-12T08:35:34.108Z"
   },
   {
    "duration": 9,
    "start_time": "2024-05-12T08:35:34.115Z"
   },
   {
    "duration": 15,
    "start_time": "2024-05-12T08:35:34.125Z"
   },
   {
    "duration": 25,
    "start_time": "2024-05-12T08:35:34.142Z"
   },
   {
    "duration": 14,
    "start_time": "2024-05-12T08:35:34.169Z"
   },
   {
    "duration": 4,
    "start_time": "2024-05-12T08:35:34.186Z"
   },
   {
    "duration": 223,
    "start_time": "2024-05-12T08:35:34.191Z"
   },
   {
    "duration": 58,
    "start_time": "2024-05-12T08:35:34.416Z"
   },
   {
    "duration": 14,
    "start_time": "2024-05-12T08:35:34.476Z"
   },
   {
    "duration": 33,
    "start_time": "2024-05-12T08:35:34.493Z"
   },
   {
    "duration": 3147,
    "start_time": "2024-05-12T08:35:34.528Z"
   },
   {
    "duration": 387,
    "start_time": "2024-05-12T08:35:37.677Z"
   },
   {
    "duration": 278,
    "start_time": "2024-05-12T08:35:38.065Z"
   },
   {
    "duration": 412,
    "start_time": "2024-05-12T08:35:38.344Z"
   },
   {
    "duration": 15,
    "start_time": "2024-05-12T08:35:38.758Z"
   },
   {
    "duration": 15,
    "start_time": "2024-05-12T08:35:38.775Z"
   },
   {
    "duration": 12,
    "start_time": "2024-05-12T08:35:38.791Z"
   },
   {
    "duration": 345,
    "start_time": "2024-05-12T08:35:38.804Z"
   },
   {
    "duration": 276,
    "start_time": "2024-05-12T08:35:39.150Z"
   },
   {
    "duration": 267,
    "start_time": "2024-05-12T08:35:39.428Z"
   },
   {
    "duration": 258,
    "start_time": "2024-05-12T08:35:39.698Z"
   },
   {
    "duration": 181,
    "start_time": "2024-05-12T08:35:39.957Z"
   },
   {
    "duration": 196,
    "start_time": "2024-05-12T08:35:40.140Z"
   },
   {
    "duration": 169,
    "start_time": "2024-05-12T08:35:40.338Z"
   },
   {
    "duration": 146,
    "start_time": "2024-05-12T08:35:40.509Z"
   },
   {
    "duration": 227,
    "start_time": "2024-05-12T08:35:40.657Z"
   },
   {
    "duration": 140,
    "start_time": "2024-05-12T08:35:40.885Z"
   },
   {
    "duration": 16,
    "start_time": "2024-05-12T08:35:41.027Z"
   },
   {
    "duration": 25,
    "start_time": "2024-05-12T08:35:41.045Z"
   },
   {
    "duration": 17,
    "start_time": "2024-05-12T08:35:41.072Z"
   },
   {
    "duration": 2,
    "start_time": "2024-05-12T08:35:41.091Z"
   },
   {
    "duration": 105,
    "start_time": "2024-05-12T08:36:22.648Z"
   },
   {
    "duration": 10,
    "start_time": "2024-05-12T08:36:38.388Z"
   },
   {
    "duration": 15,
    "start_time": "2024-05-12T08:36:52.716Z"
   },
   {
    "duration": 11,
    "start_time": "2024-05-12T08:38:18.733Z"
   },
   {
    "duration": 11,
    "start_time": "2024-05-12T08:38:31.495Z"
   },
   {
    "duration": 1138,
    "start_time": "2024-05-12T08:38:38.417Z"
   },
   {
    "duration": 54,
    "start_time": "2024-05-12T08:38:39.558Z"
   },
   {
    "duration": 14,
    "start_time": "2024-05-12T08:38:39.613Z"
   },
   {
    "duration": 44,
    "start_time": "2024-05-12T08:38:39.629Z"
   },
   {
    "duration": 690,
    "start_time": "2024-05-12T08:38:39.675Z"
   },
   {
    "duration": 11,
    "start_time": "2024-05-12T08:38:40.366Z"
   },
   {
    "duration": 8,
    "start_time": "2024-05-12T08:38:40.379Z"
   },
   {
    "duration": 14,
    "start_time": "2024-05-12T08:38:40.388Z"
   },
   {
    "duration": 15,
    "start_time": "2024-05-12T08:38:40.404Z"
   },
   {
    "duration": 8,
    "start_time": "2024-05-12T08:38:40.421Z"
   },
   {
    "duration": 38,
    "start_time": "2024-05-12T08:38:40.430Z"
   },
   {
    "duration": 4,
    "start_time": "2024-05-12T08:38:40.470Z"
   },
   {
    "duration": 4,
    "start_time": "2024-05-12T08:38:40.475Z"
   },
   {
    "duration": 3,
    "start_time": "2024-05-12T08:38:40.482Z"
   },
   {
    "duration": 9,
    "start_time": "2024-05-12T08:38:40.487Z"
   },
   {
    "duration": 17,
    "start_time": "2024-05-12T08:38:40.497Z"
   },
   {
    "duration": 3,
    "start_time": "2024-05-12T08:38:40.515Z"
   },
   {
    "duration": 46,
    "start_time": "2024-05-12T08:38:40.519Z"
   },
   {
    "duration": 5,
    "start_time": "2024-05-12T08:38:40.567Z"
   },
   {
    "duration": 6,
    "start_time": "2024-05-12T08:38:40.573Z"
   },
   {
    "duration": 18,
    "start_time": "2024-05-12T08:38:40.580Z"
   },
   {
    "duration": 4,
    "start_time": "2024-05-12T08:38:40.599Z"
   },
   {
    "duration": 14,
    "start_time": "2024-05-12T08:38:40.605Z"
   },
   {
    "duration": 13,
    "start_time": "2024-05-12T08:38:40.620Z"
   },
   {
    "duration": 180,
    "start_time": "2024-05-12T08:38:40.634Z"
   },
   {
    "duration": 61,
    "start_time": "2024-05-12T08:38:40.816Z"
   },
   {
    "duration": 14,
    "start_time": "2024-05-12T08:38:40.878Z"
   },
   {
    "duration": 31,
    "start_time": "2024-05-12T08:38:40.893Z"
   },
   {
    "duration": 3142,
    "start_time": "2024-05-12T08:38:40.926Z"
   },
   {
    "duration": 355,
    "start_time": "2024-05-12T08:38:44.069Z"
   },
   {
    "duration": 280,
    "start_time": "2024-05-12T08:38:44.426Z"
   },
   {
    "duration": 451,
    "start_time": "2024-05-12T08:38:44.707Z"
   },
   {
    "duration": 13,
    "start_time": "2024-05-12T08:38:45.164Z"
   },
   {
    "duration": 34,
    "start_time": "2024-05-12T08:38:45.179Z"
   },
   {
    "duration": 18,
    "start_time": "2024-05-12T08:38:45.215Z"
   },
   {
    "duration": 303,
    "start_time": "2024-05-12T08:38:45.234Z"
   },
   {
    "duration": 262,
    "start_time": "2024-05-12T08:38:45.539Z"
   },
   {
    "duration": 259,
    "start_time": "2024-05-12T08:38:45.803Z"
   },
   {
    "duration": 254,
    "start_time": "2024-05-12T08:38:46.064Z"
   },
   {
    "duration": 189,
    "start_time": "2024-05-12T08:38:46.320Z"
   },
   {
    "duration": 177,
    "start_time": "2024-05-12T08:38:46.513Z"
   },
   {
    "duration": 161,
    "start_time": "2024-05-12T08:38:46.692Z"
   },
   {
    "duration": 134,
    "start_time": "2024-05-12T08:38:46.855Z"
   },
   {
    "duration": 217,
    "start_time": "2024-05-12T08:38:46.991Z"
   },
   {
    "duration": 131,
    "start_time": "2024-05-12T08:38:47.210Z"
   },
   {
    "duration": 23,
    "start_time": "2024-05-12T08:38:47.342Z"
   },
   {
    "duration": 10,
    "start_time": "2024-05-12T08:38:47.366Z"
   },
   {
    "duration": 11,
    "start_time": "2024-05-12T08:38:47.377Z"
   },
   {
    "duration": 4,
    "start_time": "2024-05-12T08:38:47.389Z"
   },
   {
    "duration": 12,
    "start_time": "2024-05-12T08:40:12.398Z"
   },
   {
    "duration": 9,
    "start_time": "2024-05-12T08:41:38.067Z"
   },
   {
    "duration": 10,
    "start_time": "2024-05-12T08:48:50.045Z"
   },
   {
    "duration": 12,
    "start_time": "2024-05-12T08:52:56.145Z"
   },
   {
    "duration": 1081,
    "start_time": "2024-05-12T08:54:36.989Z"
   },
   {
    "duration": 52,
    "start_time": "2024-05-12T08:54:38.072Z"
   },
   {
    "duration": 14,
    "start_time": "2024-05-12T08:54:38.125Z"
   },
   {
    "duration": 16,
    "start_time": "2024-05-12T08:54:38.140Z"
   },
   {
    "duration": 646,
    "start_time": "2024-05-12T08:54:38.157Z"
   },
   {
    "duration": 12,
    "start_time": "2024-05-12T08:54:38.804Z"
   },
   {
    "duration": 8,
    "start_time": "2024-05-12T08:54:38.817Z"
   },
   {
    "duration": 14,
    "start_time": "2024-05-12T08:54:38.827Z"
   },
   {
    "duration": 37,
    "start_time": "2024-05-12T08:54:38.842Z"
   },
   {
    "duration": 9,
    "start_time": "2024-05-12T08:54:38.882Z"
   },
   {
    "duration": 8,
    "start_time": "2024-05-12T08:54:38.893Z"
   },
   {
    "duration": 39,
    "start_time": "2024-05-12T08:54:38.902Z"
   },
   {
    "duration": 18,
    "start_time": "2024-05-12T08:54:38.943Z"
   },
   {
    "duration": 4,
    "start_time": "2024-05-12T08:54:38.965Z"
   },
   {
    "duration": 7,
    "start_time": "2024-05-12T08:54:38.972Z"
   },
   {
    "duration": 19,
    "start_time": "2024-05-12T08:54:38.980Z"
   },
   {
    "duration": 4,
    "start_time": "2024-05-12T08:54:39.001Z"
   },
   {
    "duration": 16,
    "start_time": "2024-05-12T08:54:39.007Z"
   },
   {
    "duration": 5,
    "start_time": "2024-05-12T08:54:39.025Z"
   },
   {
    "duration": 37,
    "start_time": "2024-05-12T08:54:39.031Z"
   },
   {
    "duration": 15,
    "start_time": "2024-05-12T08:54:39.070Z"
   },
   {
    "duration": 6,
    "start_time": "2024-05-12T08:54:39.086Z"
   },
   {
    "duration": 16,
    "start_time": "2024-05-12T08:54:39.093Z"
   },
   {
    "duration": 5,
    "start_time": "2024-05-12T08:54:39.110Z"
   },
   {
    "duration": 185,
    "start_time": "2024-05-12T08:54:39.117Z"
   },
   {
    "duration": 62,
    "start_time": "2024-05-12T08:54:39.304Z"
   },
   {
    "duration": 14,
    "start_time": "2024-05-12T08:54:39.368Z"
   },
   {
    "duration": 32,
    "start_time": "2024-05-12T08:54:39.385Z"
   },
   {
    "duration": 3182,
    "start_time": "2024-05-12T08:54:39.419Z"
   },
   {
    "duration": 346,
    "start_time": "2024-05-12T08:54:42.602Z"
   },
   {
    "duration": 308,
    "start_time": "2024-05-12T08:54:42.950Z"
   },
   {
    "duration": 428,
    "start_time": "2024-05-12T08:54:43.260Z"
   },
   {
    "duration": 12,
    "start_time": "2024-05-12T08:54:43.690Z"
   },
   {
    "duration": 16,
    "start_time": "2024-05-12T08:54:43.703Z"
   },
   {
    "duration": 13,
    "start_time": "2024-05-12T08:54:43.721Z"
   },
   {
    "duration": 299,
    "start_time": "2024-05-12T08:54:43.735Z"
   },
   {
    "duration": 247,
    "start_time": "2024-05-12T08:54:44.036Z"
   },
   {
    "duration": 246,
    "start_time": "2024-05-12T08:54:44.285Z"
   },
   {
    "duration": 264,
    "start_time": "2024-05-12T08:54:44.533Z"
   },
   {
    "duration": 188,
    "start_time": "2024-05-12T08:54:44.799Z"
   },
   {
    "duration": 176,
    "start_time": "2024-05-12T08:54:44.989Z"
   },
   {
    "duration": 172,
    "start_time": "2024-05-12T08:54:45.166Z"
   },
   {
    "duration": 136,
    "start_time": "2024-05-12T08:54:45.340Z"
   },
   {
    "duration": 212,
    "start_time": "2024-05-12T08:54:45.477Z"
   },
   {
    "duration": 132,
    "start_time": "2024-05-12T08:54:45.691Z"
   },
   {
    "duration": 16,
    "start_time": "2024-05-12T08:54:45.824Z"
   },
   {
    "duration": 28,
    "start_time": "2024-05-12T08:54:45.844Z"
   },
   {
    "duration": 9,
    "start_time": "2024-05-12T08:54:45.873Z"
   },
   {
    "duration": 20,
    "start_time": "2024-05-12T08:54:45.884Z"
   },
   {
    "duration": 11,
    "start_time": "2024-05-12T08:56:25.410Z"
   },
   {
    "duration": 12,
    "start_time": "2024-05-12T09:06:00.906Z"
   },
   {
    "duration": 15,
    "start_time": "2024-05-12T09:06:47.058Z"
   },
   {
    "duration": 12,
    "start_time": "2024-05-12T09:08:11.047Z"
   },
   {
    "duration": 12,
    "start_time": "2024-05-12T09:08:35.082Z"
   },
   {
    "duration": 16,
    "start_time": "2024-05-12T09:10:41.664Z"
   },
   {
    "duration": 11,
    "start_time": "2024-05-12T09:12:06.350Z"
   },
   {
    "duration": 1190,
    "start_time": "2024-05-12T09:12:17.573Z"
   },
   {
    "duration": 54,
    "start_time": "2024-05-12T09:12:18.765Z"
   },
   {
    "duration": 17,
    "start_time": "2024-05-12T09:12:18.820Z"
   },
   {
    "duration": 19,
    "start_time": "2024-05-12T09:12:18.839Z"
   },
   {
    "duration": 633,
    "start_time": "2024-05-12T09:12:18.860Z"
   },
   {
    "duration": 11,
    "start_time": "2024-05-12T09:12:19.494Z"
   },
   {
    "duration": 5,
    "start_time": "2024-05-12T09:12:19.507Z"
   },
   {
    "duration": 19,
    "start_time": "2024-05-12T09:12:19.513Z"
   },
   {
    "duration": 35,
    "start_time": "2024-05-12T09:12:19.533Z"
   },
   {
    "duration": 9,
    "start_time": "2024-05-12T09:12:19.570Z"
   },
   {
    "duration": 8,
    "start_time": "2024-05-12T09:12:19.580Z"
   },
   {
    "duration": 6,
    "start_time": "2024-05-12T09:12:19.590Z"
   },
   {
    "duration": 6,
    "start_time": "2024-05-12T09:12:19.598Z"
   },
   {
    "duration": 4,
    "start_time": "2024-05-12T09:12:19.606Z"
   },
   {
    "duration": 4,
    "start_time": "2024-05-12T09:12:19.612Z"
   },
   {
    "duration": 58,
    "start_time": "2024-05-12T09:12:19.618Z"
   },
   {
    "duration": 4,
    "start_time": "2024-05-12T09:12:19.678Z"
   },
   {
    "duration": 17,
    "start_time": "2024-05-12T09:12:19.684Z"
   },
   {
    "duration": 6,
    "start_time": "2024-05-12T09:12:19.703Z"
   },
   {
    "duration": 27,
    "start_time": "2024-05-12T09:12:19.710Z"
   },
   {
    "duration": 30,
    "start_time": "2024-05-12T09:12:19.739Z"
   },
   {
    "duration": 5,
    "start_time": "2024-05-12T09:12:19.771Z"
   },
   {
    "duration": 16,
    "start_time": "2024-05-12T09:12:19.777Z"
   },
   {
    "duration": 6,
    "start_time": "2024-05-12T09:12:19.795Z"
   },
   {
    "duration": 185,
    "start_time": "2024-05-12T09:12:19.803Z"
   },
   {
    "duration": 65,
    "start_time": "2024-05-12T09:12:19.990Z"
   },
   {
    "duration": 23,
    "start_time": "2024-05-12T09:12:20.057Z"
   },
   {
    "duration": 33,
    "start_time": "2024-05-12T09:12:20.084Z"
   },
   {
    "duration": 3149,
    "start_time": "2024-05-12T09:12:20.118Z"
   },
   {
    "duration": 359,
    "start_time": "2024-05-12T09:12:23.269Z"
   },
   {
    "duration": 316,
    "start_time": "2024-05-12T09:12:23.630Z"
   },
   {
    "duration": 431,
    "start_time": "2024-05-12T09:12:23.948Z"
   },
   {
    "duration": 13,
    "start_time": "2024-05-12T09:12:24.381Z"
   },
   {
    "duration": 21,
    "start_time": "2024-05-12T09:12:24.396Z"
   },
   {
    "duration": 18,
    "start_time": "2024-05-12T09:12:24.419Z"
   },
   {
    "duration": 313,
    "start_time": "2024-05-12T09:12:24.438Z"
   },
   {
    "duration": 269,
    "start_time": "2024-05-12T09:12:24.753Z"
   },
   {
    "duration": 251,
    "start_time": "2024-05-12T09:12:25.023Z"
   },
   {
    "duration": 238,
    "start_time": "2024-05-12T09:12:25.275Z"
   },
   {
    "duration": 178,
    "start_time": "2024-05-12T09:12:25.514Z"
   },
   {
    "duration": 182,
    "start_time": "2024-05-12T09:12:25.694Z"
   },
   {
    "duration": 159,
    "start_time": "2024-05-12T09:12:25.878Z"
   },
   {
    "duration": 137,
    "start_time": "2024-05-12T09:12:26.039Z"
   },
   {
    "duration": 226,
    "start_time": "2024-05-12T09:12:26.178Z"
   },
   {
    "duration": 126,
    "start_time": "2024-05-12T09:12:26.406Z"
   },
   {
    "duration": 15,
    "start_time": "2024-05-12T09:12:26.534Z"
   },
   {
    "duration": 26,
    "start_time": "2024-05-12T09:12:26.551Z"
   },
   {
    "duration": 23,
    "start_time": "2024-05-12T09:12:26.579Z"
   },
   {
    "duration": 22,
    "start_time": "2024-05-12T09:12:26.604Z"
   },
   {
    "duration": 20,
    "start_time": "2024-05-12T09:12:26.628Z"
   },
   {
    "duration": 13,
    "start_time": "2024-05-12T09:14:24.439Z"
   },
   {
    "duration": 10,
    "start_time": "2024-05-12T09:15:05.166Z"
   },
   {
    "duration": 1129,
    "start_time": "2024-05-12T09:44:19.150Z"
   },
   {
    "duration": 55,
    "start_time": "2024-05-12T09:44:20.282Z"
   },
   {
    "duration": 15,
    "start_time": "2024-05-12T09:44:20.339Z"
   },
   {
    "duration": 21,
    "start_time": "2024-05-12T09:44:20.356Z"
   },
   {
    "duration": 609,
    "start_time": "2024-05-12T09:44:20.380Z"
   },
   {
    "duration": 11,
    "start_time": "2024-05-12T09:44:20.990Z"
   },
   {
    "duration": 23,
    "start_time": "2024-05-12T09:44:21.003Z"
   },
   {
    "duration": 22,
    "start_time": "2024-05-12T09:44:21.027Z"
   },
   {
    "duration": 39,
    "start_time": "2024-05-12T09:44:21.051Z"
   },
   {
    "duration": 18,
    "start_time": "2024-05-12T09:44:21.092Z"
   },
   {
    "duration": 29,
    "start_time": "2024-05-12T09:44:21.112Z"
   },
   {
    "duration": 28,
    "start_time": "2024-05-12T09:44:21.142Z"
   },
   {
    "duration": 23,
    "start_time": "2024-05-12T09:44:21.172Z"
   },
   {
    "duration": 19,
    "start_time": "2024-05-12T09:44:21.198Z"
   },
   {
    "duration": 28,
    "start_time": "2024-05-12T09:44:21.219Z"
   },
   {
    "duration": 48,
    "start_time": "2024-05-12T09:44:21.249Z"
   },
   {
    "duration": 13,
    "start_time": "2024-05-12T09:44:21.299Z"
   },
   {
    "duration": 64,
    "start_time": "2024-05-12T09:44:21.313Z"
   },
   {
    "duration": 13,
    "start_time": "2024-05-12T09:44:21.379Z"
   },
   {
    "duration": 25,
    "start_time": "2024-05-12T09:44:21.393Z"
   },
   {
    "duration": 37,
    "start_time": "2024-05-12T09:44:21.420Z"
   },
   {
    "duration": 19,
    "start_time": "2024-05-12T09:44:21.459Z"
   },
   {
    "duration": 31,
    "start_time": "2024-05-12T09:44:21.480Z"
   },
   {
    "duration": 27,
    "start_time": "2024-05-12T09:44:21.513Z"
   },
   {
    "duration": 190,
    "start_time": "2024-05-12T09:44:21.541Z"
   },
   {
    "duration": 75,
    "start_time": "2024-05-12T09:44:21.744Z"
   },
   {
    "duration": 20,
    "start_time": "2024-05-12T09:44:21.821Z"
   },
   {
    "duration": 59,
    "start_time": "2024-05-12T09:44:21.843Z"
   },
   {
    "duration": 3095,
    "start_time": "2024-05-12T09:44:21.904Z"
   },
   {
    "duration": 359,
    "start_time": "2024-05-12T09:44:25.001Z"
   },
   {
    "duration": 296,
    "start_time": "2024-05-12T09:44:25.362Z"
   },
   {
    "duration": 445,
    "start_time": "2024-05-12T09:44:25.665Z"
   },
   {
    "duration": 13,
    "start_time": "2024-05-12T09:44:26.111Z"
   },
   {
    "duration": 21,
    "start_time": "2024-05-12T09:44:26.125Z"
   },
   {
    "duration": 17,
    "start_time": "2024-05-12T09:44:26.148Z"
   },
   {
    "duration": 273,
    "start_time": "2024-05-12T09:44:26.171Z"
   },
   {
    "duration": 289,
    "start_time": "2024-05-12T09:44:26.446Z"
   },
   {
    "duration": 264,
    "start_time": "2024-05-12T09:44:26.737Z"
   },
   {
    "duration": 254,
    "start_time": "2024-05-12T09:44:27.003Z"
   },
   {
    "duration": 178,
    "start_time": "2024-05-12T09:44:27.259Z"
   },
   {
    "duration": 174,
    "start_time": "2024-05-12T09:44:27.440Z"
   },
   {
    "duration": 185,
    "start_time": "2024-05-12T09:44:27.615Z"
   },
   {
    "duration": 137,
    "start_time": "2024-05-12T09:44:27.804Z"
   },
   {
    "duration": 227,
    "start_time": "2024-05-12T09:44:27.943Z"
   },
   {
    "duration": 139,
    "start_time": "2024-05-12T09:44:28.175Z"
   },
   {
    "duration": 15,
    "start_time": "2024-05-12T09:44:28.316Z"
   },
   {
    "duration": 20,
    "start_time": "2024-05-12T09:44:28.332Z"
   },
   {
    "duration": 17,
    "start_time": "2024-05-12T09:44:28.353Z"
   },
   {
    "duration": 14,
    "start_time": "2024-05-12T09:44:28.372Z"
   },
   {
    "duration": 21,
    "start_time": "2024-05-12T09:44:28.387Z"
   },
   {
    "duration": 1119,
    "start_time": "2024-05-13T05:59:13.023Z"
   },
   {
    "duration": 193,
    "start_time": "2024-05-13T05:59:14.143Z"
   },
   {
    "duration": 13,
    "start_time": "2024-05-13T05:59:14.337Z"
   },
   {
    "duration": 31,
    "start_time": "2024-05-13T05:59:14.351Z"
   },
   {
    "duration": 518,
    "start_time": "2024-05-13T05:59:14.383Z"
   },
   {
    "duration": 10,
    "start_time": "2024-05-13T05:59:14.903Z"
   },
   {
    "duration": 17,
    "start_time": "2024-05-13T05:59:14.914Z"
   },
   {
    "duration": 20,
    "start_time": "2024-05-13T05:59:14.932Z"
   },
   {
    "duration": 20,
    "start_time": "2024-05-13T05:59:14.954Z"
   },
   {
    "duration": 7,
    "start_time": "2024-05-13T05:59:14.976Z"
   },
   {
    "duration": 15,
    "start_time": "2024-05-13T05:59:14.984Z"
   },
   {
    "duration": 55,
    "start_time": "2024-05-13T05:59:15.001Z"
   },
   {
    "duration": 78,
    "start_time": "2024-05-13T05:59:15.057Z"
   },
   {
    "duration": 17,
    "start_time": "2024-05-13T05:59:15.136Z"
   },
   {
    "duration": 25,
    "start_time": "2024-05-13T05:59:15.154Z"
   },
   {
    "duration": 17,
    "start_time": "2024-05-13T05:59:15.180Z"
   },
   {
    "duration": 6,
    "start_time": "2024-05-13T05:59:15.198Z"
   },
   {
    "duration": 22,
    "start_time": "2024-05-13T05:59:15.206Z"
   },
   {
    "duration": 10,
    "start_time": "2024-05-13T05:59:15.229Z"
   },
   {
    "duration": 9,
    "start_time": "2024-05-13T05:59:15.240Z"
   },
   {
    "duration": 18,
    "start_time": "2024-05-13T05:59:15.251Z"
   },
   {
    "duration": 11,
    "start_time": "2024-05-13T05:59:15.270Z"
   },
   {
    "duration": 20,
    "start_time": "2024-05-13T05:59:15.282Z"
   },
   {
    "duration": 12,
    "start_time": "2024-05-13T05:59:15.304Z"
   },
   {
    "duration": 170,
    "start_time": "2024-05-13T05:59:15.317Z"
   },
   {
    "duration": 45,
    "start_time": "2024-05-13T05:59:15.488Z"
   },
   {
    "duration": 12,
    "start_time": "2024-05-13T05:59:15.534Z"
   },
   {
    "duration": 44,
    "start_time": "2024-05-13T05:59:15.549Z"
   },
   {
    "duration": 2641,
    "start_time": "2024-05-13T05:59:15.595Z"
   },
   {
    "duration": 291,
    "start_time": "2024-05-13T05:59:18.238Z"
   },
   {
    "duration": 245,
    "start_time": "2024-05-13T05:59:18.531Z"
   },
   {
    "duration": 487,
    "start_time": "2024-05-13T05:59:18.784Z"
   },
   {
    "duration": 13,
    "start_time": "2024-05-13T05:59:19.272Z"
   },
   {
    "duration": 23,
    "start_time": "2024-05-13T05:59:19.286Z"
   },
   {
    "duration": 37,
    "start_time": "2024-05-13T05:59:19.310Z"
   },
   {
    "duration": 163,
    "start_time": "2024-05-13T05:59:19.348Z"
   },
   {
    "duration": 212,
    "start_time": "2024-05-13T05:59:19.513Z"
   },
   {
    "duration": 209,
    "start_time": "2024-05-13T05:59:19.733Z"
   },
   {
    "duration": 211,
    "start_time": "2024-05-13T05:59:19.944Z"
   },
   {
    "duration": 157,
    "start_time": "2024-05-13T05:59:20.156Z"
   },
   {
    "duration": 145,
    "start_time": "2024-05-13T05:59:20.314Z"
   },
   {
    "duration": 140,
    "start_time": "2024-05-13T05:59:20.460Z"
   },
   {
    "duration": 170,
    "start_time": "2024-05-13T05:59:20.602Z"
   },
   {
    "duration": 112,
    "start_time": "2024-05-13T05:59:20.774Z"
   },
   {
    "duration": 106,
    "start_time": "2024-05-13T05:59:20.887Z"
   },
   {
    "duration": 12,
    "start_time": "2024-05-13T05:59:20.994Z"
   },
   {
    "duration": 19,
    "start_time": "2024-05-13T05:59:21.007Z"
   },
   {
    "duration": 20,
    "start_time": "2024-05-13T05:59:21.027Z"
   },
   {
    "duration": 10,
    "start_time": "2024-05-13T05:59:21.048Z"
   },
   {
    "duration": 15,
    "start_time": "2024-05-13T05:59:21.059Z"
   },
   {
    "duration": 1137,
    "start_time": "2024-05-13T05:59:48.021Z"
   },
   {
    "duration": 1008,
    "start_time": "2024-05-13T06:00:07.279Z"
   },
   {
    "duration": 1078,
    "start_time": "2024-05-13T06:00:29.473Z"
   },
   {
    "duration": 55,
    "start_time": "2024-05-13T06:00:30.553Z"
   },
   {
    "duration": 67,
    "start_time": "2024-05-13T06:00:30.609Z"
   },
   {
    "duration": 84,
    "start_time": "2024-05-13T06:00:30.678Z"
   },
   {
    "duration": 571,
    "start_time": "2024-05-13T06:00:30.764Z"
   },
   {
    "duration": 11,
    "start_time": "2024-05-13T06:00:31.337Z"
   },
   {
    "duration": 102,
    "start_time": "2024-05-13T06:00:31.349Z"
   },
   {
    "duration": 29,
    "start_time": "2024-05-13T06:00:31.452Z"
   },
   {
    "duration": 39,
    "start_time": "2024-05-13T06:00:31.482Z"
   },
   {
    "duration": 67,
    "start_time": "2024-05-13T06:00:31.523Z"
   },
   {
    "duration": 44,
    "start_time": "2024-05-13T06:00:31.591Z"
   },
   {
    "duration": 101,
    "start_time": "2024-05-13T06:00:31.636Z"
   },
   {
    "duration": 54,
    "start_time": "2024-05-13T06:00:31.738Z"
   },
   {
    "duration": 25,
    "start_time": "2024-05-13T06:00:31.794Z"
   },
   {
    "duration": 5,
    "start_time": "2024-05-13T06:00:31.820Z"
   },
   {
    "duration": 12,
    "start_time": "2024-05-13T06:00:31.826Z"
   },
   {
    "duration": 3,
    "start_time": "2024-05-13T06:00:31.839Z"
   },
   {
    "duration": 11,
    "start_time": "2024-05-13T06:00:31.843Z"
   },
   {
    "duration": 5,
    "start_time": "2024-05-13T06:00:31.856Z"
   },
   {
    "duration": 13,
    "start_time": "2024-05-13T06:00:31.862Z"
   },
   {
    "duration": 12,
    "start_time": "2024-05-13T06:00:31.877Z"
   },
   {
    "duration": 4,
    "start_time": "2024-05-13T06:00:31.890Z"
   },
   {
    "duration": 16,
    "start_time": "2024-05-13T06:00:31.895Z"
   },
   {
    "duration": 5,
    "start_time": "2024-05-13T06:00:31.912Z"
   },
   {
    "duration": 154,
    "start_time": "2024-05-13T06:00:31.918Z"
   },
   {
    "duration": 50,
    "start_time": "2024-05-13T06:00:32.074Z"
   },
   {
    "duration": 14,
    "start_time": "2024-05-13T06:00:32.125Z"
   },
   {
    "duration": 62,
    "start_time": "2024-05-13T06:00:32.140Z"
   },
   {
    "duration": 2651,
    "start_time": "2024-05-13T06:00:32.203Z"
   },
   {
    "duration": 291,
    "start_time": "2024-05-13T06:00:34.855Z"
   },
   {
    "duration": 241,
    "start_time": "2024-05-13T06:00:35.147Z"
   },
   {
    "duration": 379,
    "start_time": "2024-05-13T06:00:35.390Z"
   },
   {
    "duration": 15,
    "start_time": "2024-05-13T06:00:35.770Z"
   },
   {
    "duration": 19,
    "start_time": "2024-05-13T06:00:35.787Z"
   },
   {
    "duration": 23,
    "start_time": "2024-05-13T06:00:35.808Z"
   },
   {
    "duration": 218,
    "start_time": "2024-05-13T06:00:35.832Z"
   },
   {
    "duration": 217,
    "start_time": "2024-05-13T06:00:36.051Z"
   },
   {
    "duration": 209,
    "start_time": "2024-05-13T06:00:36.269Z"
   },
   {
    "duration": 236,
    "start_time": "2024-05-13T06:00:36.480Z"
   },
   {
    "duration": 150,
    "start_time": "2024-05-13T06:00:36.717Z"
   },
   {
    "duration": 149,
    "start_time": "2024-05-13T06:00:36.870Z"
   },
   {
    "duration": 140,
    "start_time": "2024-05-13T06:00:37.020Z"
   },
   {
    "duration": 113,
    "start_time": "2024-05-13T06:00:37.161Z"
   },
   {
    "duration": 175,
    "start_time": "2024-05-13T06:00:37.276Z"
   },
   {
    "duration": 109,
    "start_time": "2024-05-13T06:00:37.453Z"
   },
   {
    "duration": 13,
    "start_time": "2024-05-13T06:00:37.563Z"
   },
   {
    "duration": 12,
    "start_time": "2024-05-13T06:00:37.577Z"
   },
   {
    "duration": 21,
    "start_time": "2024-05-13T06:00:37.590Z"
   },
   {
    "duration": 29,
    "start_time": "2024-05-13T06:00:37.612Z"
   },
   {
    "duration": 10,
    "start_time": "2024-05-13T06:00:37.642Z"
   },
   {
    "duration": 1002,
    "start_time": "2024-05-13T06:01:40.298Z"
   },
   {
    "duration": 48,
    "start_time": "2024-05-13T06:01:41.302Z"
   },
   {
    "duration": 12,
    "start_time": "2024-05-13T06:01:41.352Z"
   },
   {
    "duration": 17,
    "start_time": "2024-05-13T06:01:41.365Z"
   },
   {
    "duration": 510,
    "start_time": "2024-05-13T06:01:41.384Z"
   },
   {
    "duration": 16,
    "start_time": "2024-05-13T06:01:41.895Z"
   },
   {
    "duration": 4,
    "start_time": "2024-05-13T06:01:41.913Z"
   },
   {
    "duration": 14,
    "start_time": "2024-05-13T06:01:41.918Z"
   },
   {
    "duration": 16,
    "start_time": "2024-05-13T06:01:41.933Z"
   },
   {
    "duration": 7,
    "start_time": "2024-05-13T06:01:41.950Z"
   },
   {
    "duration": 5,
    "start_time": "2024-05-13T06:01:41.984Z"
   },
   {
    "duration": 24,
    "start_time": "2024-05-13T06:01:41.991Z"
   },
   {
    "duration": 61,
    "start_time": "2024-05-13T06:01:42.016Z"
   },
   {
    "duration": 38,
    "start_time": "2024-05-13T06:01:42.079Z"
   },
   {
    "duration": 28,
    "start_time": "2024-05-13T06:01:42.118Z"
   },
   {
    "duration": 17,
    "start_time": "2024-05-13T06:01:42.147Z"
   },
   {
    "duration": 9,
    "start_time": "2024-05-13T06:01:42.166Z"
   },
   {
    "duration": 13,
    "start_time": "2024-05-13T06:01:42.176Z"
   },
   {
    "duration": 16,
    "start_time": "2024-05-13T06:01:42.191Z"
   },
   {
    "duration": 17,
    "start_time": "2024-05-13T06:01:42.209Z"
   },
   {
    "duration": 13,
    "start_time": "2024-05-13T06:01:42.227Z"
   },
   {
    "duration": 9,
    "start_time": "2024-05-13T06:01:42.241Z"
   },
   {
    "duration": 13,
    "start_time": "2024-05-13T06:01:42.251Z"
   },
   {
    "duration": 5,
    "start_time": "2024-05-13T06:01:42.266Z"
   },
   {
    "duration": 131,
    "start_time": "2024-05-13T06:01:42.272Z"
   },
   {
    "duration": 45,
    "start_time": "2024-05-13T06:01:42.404Z"
   },
   {
    "duration": 14,
    "start_time": "2024-05-13T06:01:42.450Z"
   },
   {
    "duration": 44,
    "start_time": "2024-05-13T06:01:42.465Z"
   },
   {
    "duration": 2632,
    "start_time": "2024-05-13T06:01:42.510Z"
   },
   {
    "duration": 302,
    "start_time": "2024-05-13T06:01:45.143Z"
   },
   {
    "duration": 237,
    "start_time": "2024-05-13T06:01:45.447Z"
   },
   {
    "duration": 363,
    "start_time": "2024-05-13T06:01:45.686Z"
   },
   {
    "duration": 11,
    "start_time": "2024-05-13T06:01:46.051Z"
   },
   {
    "duration": 22,
    "start_time": "2024-05-13T06:01:46.064Z"
   },
   {
    "duration": 10,
    "start_time": "2024-05-13T06:01:46.088Z"
   },
   {
    "duration": 231,
    "start_time": "2024-05-13T06:01:46.099Z"
   },
   {
    "duration": 223,
    "start_time": "2024-05-13T06:01:46.333Z"
   },
   {
    "duration": 221,
    "start_time": "2024-05-13T06:01:46.557Z"
   },
   {
    "duration": 213,
    "start_time": "2024-05-13T06:01:46.780Z"
   },
   {
    "duration": 155,
    "start_time": "2024-05-13T06:01:46.995Z"
   },
   {
    "duration": 157,
    "start_time": "2024-05-13T06:01:47.154Z"
   },
   {
    "duration": 140,
    "start_time": "2024-05-13T06:01:47.313Z"
   },
   {
    "duration": 125,
    "start_time": "2024-05-13T06:01:47.455Z"
   },
   {
    "duration": 168,
    "start_time": "2024-05-13T06:01:47.584Z"
   },
   {
    "duration": 111,
    "start_time": "2024-05-13T06:01:47.753Z"
   },
   {
    "duration": 20,
    "start_time": "2024-05-13T06:01:47.865Z"
   },
   {
    "duration": 7,
    "start_time": "2024-05-13T06:01:47.886Z"
   },
   {
    "duration": 10,
    "start_time": "2024-05-13T06:01:47.895Z"
   },
   {
    "duration": 22,
    "start_time": "2024-05-13T06:01:47.906Z"
   },
   {
    "duration": 12,
    "start_time": "2024-05-13T06:01:47.929Z"
   },
   {
    "duration": 70,
    "start_time": "2024-05-13T06:03:16.845Z"
   },
   {
    "duration": 8,
    "start_time": "2024-05-13T06:05:16.803Z"
   },
   {
    "duration": 4,
    "start_time": "2024-05-13T06:05:26.357Z"
   },
   {
    "duration": 1015,
    "start_time": "2024-05-13T06:05:34.714Z"
   },
   {
    "duration": 49,
    "start_time": "2024-05-13T06:05:35.731Z"
   },
   {
    "duration": 11,
    "start_time": "2024-05-13T06:05:35.781Z"
   },
   {
    "duration": 19,
    "start_time": "2024-05-13T06:05:35.794Z"
   },
   {
    "duration": 535,
    "start_time": "2024-05-13T06:05:35.815Z"
   },
   {
    "duration": 14,
    "start_time": "2024-05-13T06:05:36.352Z"
   },
   {
    "duration": 16,
    "start_time": "2024-05-13T06:05:36.368Z"
   },
   {
    "duration": 12,
    "start_time": "2024-05-13T06:05:36.386Z"
   },
   {
    "duration": 17,
    "start_time": "2024-05-13T06:05:36.399Z"
   },
   {
    "duration": 8,
    "start_time": "2024-05-13T06:05:36.417Z"
   },
   {
    "duration": 8,
    "start_time": "2024-05-13T06:05:36.426Z"
   },
   {
    "duration": 4,
    "start_time": "2024-05-13T06:05:36.435Z"
   },
   {
    "duration": 8,
    "start_time": "2024-05-13T06:05:36.440Z"
   },
   {
    "duration": 3,
    "start_time": "2024-05-13T06:05:36.451Z"
   },
   {
    "duration": 7,
    "start_time": "2024-05-13T06:05:36.455Z"
   },
   {
    "duration": 31,
    "start_time": "2024-05-13T06:05:36.463Z"
   },
   {
    "duration": 3,
    "start_time": "2024-05-13T06:05:36.495Z"
   },
   {
    "duration": 10,
    "start_time": "2024-05-13T06:05:36.499Z"
   },
   {
    "duration": 4,
    "start_time": "2024-05-13T06:05:36.510Z"
   },
   {
    "duration": 6,
    "start_time": "2024-05-13T06:05:36.515Z"
   },
   {
    "duration": 11,
    "start_time": "2024-05-13T06:05:36.522Z"
   },
   {
    "duration": 3,
    "start_time": "2024-05-13T06:05:36.534Z"
   },
   {
    "duration": 17,
    "start_time": "2024-05-13T06:05:36.538Z"
   },
   {
    "duration": 15,
    "start_time": "2024-05-13T06:05:36.556Z"
   },
   {
    "duration": 156,
    "start_time": "2024-05-13T06:05:36.585Z"
   },
   {
    "duration": 49,
    "start_time": "2024-05-13T06:05:36.743Z"
   },
   {
    "duration": 12,
    "start_time": "2024-05-13T06:05:36.793Z"
   },
   {
    "duration": 26,
    "start_time": "2024-05-13T06:05:36.807Z"
   },
   {
    "duration": 2627,
    "start_time": "2024-05-13T06:05:36.834Z"
   },
   {
    "duration": 295,
    "start_time": "2024-05-13T06:05:39.462Z"
   },
   {
    "duration": 242,
    "start_time": "2024-05-13T06:05:39.758Z"
   },
   {
    "duration": 434,
    "start_time": "2024-05-13T06:05:40.002Z"
   },
   {
    "duration": 10,
    "start_time": "2024-05-13T06:05:40.437Z"
   },
   {
    "duration": 36,
    "start_time": "2024-05-13T06:05:40.448Z"
   },
   {
    "duration": 25,
    "start_time": "2024-05-13T06:05:40.485Z"
   },
   {
    "duration": 224,
    "start_time": "2024-05-13T06:05:40.511Z"
   },
   {
    "duration": 206,
    "start_time": "2024-05-13T06:05:40.737Z"
   },
   {
    "duration": 233,
    "start_time": "2024-05-13T06:05:40.944Z"
   },
   {
    "duration": 214,
    "start_time": "2024-05-13T06:05:41.179Z"
   },
   {
    "duration": 153,
    "start_time": "2024-05-13T06:05:41.394Z"
   },
   {
    "duration": 153,
    "start_time": "2024-05-13T06:05:41.550Z"
   },
   {
    "duration": 138,
    "start_time": "2024-05-13T06:05:41.704Z"
   },
   {
    "duration": 114,
    "start_time": "2024-05-13T06:05:41.843Z"
   },
   {
    "duration": 165,
    "start_time": "2024-05-13T06:05:41.959Z"
   },
   {
    "duration": 129,
    "start_time": "2024-05-13T06:05:42.125Z"
   },
   {
    "duration": 14,
    "start_time": "2024-05-13T06:05:42.256Z"
   },
   {
    "duration": 24,
    "start_time": "2024-05-13T06:05:42.272Z"
   },
   {
    "duration": 9,
    "start_time": "2024-05-13T06:05:42.297Z"
   },
   {
    "duration": 8,
    "start_time": "2024-05-13T06:05:42.308Z"
   },
   {
    "duration": 10,
    "start_time": "2024-05-13T06:05:42.318Z"
   },
   {
    "duration": 1039,
    "start_time": "2024-05-13T06:08:02.308Z"
   },
   {
    "duration": 56,
    "start_time": "2024-05-13T06:08:03.351Z"
   },
   {
    "duration": 12,
    "start_time": "2024-05-13T06:08:03.408Z"
   },
   {
    "duration": 23,
    "start_time": "2024-05-13T06:08:03.422Z"
   },
   {
    "duration": 567,
    "start_time": "2024-05-13T06:08:03.446Z"
   },
   {
    "duration": 15,
    "start_time": "2024-05-13T06:08:04.014Z"
   },
   {
    "duration": 4,
    "start_time": "2024-05-13T06:08:04.030Z"
   },
   {
    "duration": 24,
    "start_time": "2024-05-13T06:08:04.035Z"
   },
   {
    "duration": 27,
    "start_time": "2024-05-13T06:08:04.060Z"
   },
   {
    "duration": 10,
    "start_time": "2024-05-13T06:08:04.090Z"
   },
   {
    "duration": 24,
    "start_time": "2024-05-13T06:08:04.101Z"
   },
   {
    "duration": 23,
    "start_time": "2024-05-13T06:08:04.127Z"
   },
   {
    "duration": 5,
    "start_time": "2024-05-13T06:08:04.151Z"
   },
   {
    "duration": 8,
    "start_time": "2024-05-13T06:08:04.158Z"
   },
   {
    "duration": 5,
    "start_time": "2024-05-13T06:08:04.167Z"
   },
   {
    "duration": 11,
    "start_time": "2024-05-13T06:08:04.173Z"
   },
   {
    "duration": 4,
    "start_time": "2024-05-13T06:08:04.186Z"
   },
   {
    "duration": 21,
    "start_time": "2024-05-13T06:08:04.191Z"
   },
   {
    "duration": 4,
    "start_time": "2024-05-13T06:08:04.213Z"
   },
   {
    "duration": 6,
    "start_time": "2024-05-13T06:08:04.218Z"
   },
   {
    "duration": 14,
    "start_time": "2024-05-13T06:08:04.225Z"
   },
   {
    "duration": 6,
    "start_time": "2024-05-13T06:08:04.240Z"
   },
   {
    "duration": 13,
    "start_time": "2024-05-13T06:08:04.247Z"
   },
   {
    "duration": 26,
    "start_time": "2024-05-13T06:08:04.261Z"
   },
   {
    "duration": 163,
    "start_time": "2024-05-13T06:08:04.290Z"
   },
   {
    "duration": 53,
    "start_time": "2024-05-13T06:08:04.455Z"
   },
   {
    "duration": 12,
    "start_time": "2024-05-13T06:08:04.509Z"
   },
   {
    "duration": 28,
    "start_time": "2024-05-13T06:08:04.524Z"
   },
   {
    "duration": 2848,
    "start_time": "2024-05-13T06:08:04.554Z"
   },
   {
    "duration": 334,
    "start_time": "2024-05-13T06:08:07.403Z"
   },
   {
    "duration": 258,
    "start_time": "2024-05-13T06:08:07.739Z"
   },
   {
    "duration": 420,
    "start_time": "2024-05-13T06:08:07.999Z"
   },
   {
    "duration": 11,
    "start_time": "2024-05-13T06:08:08.420Z"
   },
   {
    "duration": 9,
    "start_time": "2024-05-13T06:08:08.432Z"
   },
   {
    "duration": 11,
    "start_time": "2024-05-13T06:08:08.442Z"
   },
   {
    "duration": 260,
    "start_time": "2024-05-13T06:08:08.454Z"
   },
   {
    "duration": 239,
    "start_time": "2024-05-13T06:08:08.715Z"
   },
   {
    "duration": 226,
    "start_time": "2024-05-13T06:08:08.955Z"
   },
   {
    "duration": 242,
    "start_time": "2024-05-13T06:08:09.182Z"
   },
   {
    "duration": 192,
    "start_time": "2024-05-13T06:08:09.425Z"
   },
   {
    "duration": 161,
    "start_time": "2024-05-13T06:08:09.619Z"
   },
   {
    "duration": 152,
    "start_time": "2024-05-13T06:08:09.782Z"
   },
   {
    "duration": 126,
    "start_time": "2024-05-13T06:08:09.936Z"
   },
   {
    "duration": 182,
    "start_time": "2024-05-13T06:08:10.064Z"
   },
   {
    "duration": 115,
    "start_time": "2024-05-13T06:08:10.247Z"
   },
   {
    "duration": 13,
    "start_time": "2024-05-13T06:08:10.364Z"
   },
   {
    "duration": 18,
    "start_time": "2024-05-13T06:08:10.378Z"
   },
   {
    "duration": 10,
    "start_time": "2024-05-13T06:08:10.398Z"
   },
   {
    "duration": 8,
    "start_time": "2024-05-13T06:08:10.409Z"
   },
   {
    "duration": 9,
    "start_time": "2024-05-13T06:08:10.418Z"
   },
   {
    "duration": 1044,
    "start_time": "2024-05-13T10:54:53.993Z"
   },
   {
    "duration": 63,
    "start_time": "2024-05-13T10:54:55.039Z"
   },
   {
    "duration": 12,
    "start_time": "2024-05-13T10:54:55.103Z"
   },
   {
    "duration": 20,
    "start_time": "2024-05-13T10:54:55.116Z"
   },
   {
    "duration": 529,
    "start_time": "2024-05-13T10:54:55.138Z"
   },
   {
    "duration": 26,
    "start_time": "2024-05-13T10:54:55.669Z"
   },
   {
    "duration": 11,
    "start_time": "2024-05-13T10:54:55.697Z"
   },
   {
    "duration": 39,
    "start_time": "2024-05-13T10:54:55.710Z"
   },
   {
    "duration": 32,
    "start_time": "2024-05-13T10:54:55.750Z"
   },
   {
    "duration": 10,
    "start_time": "2024-05-13T10:54:55.784Z"
   },
   {
    "duration": 15,
    "start_time": "2024-05-13T10:54:55.796Z"
   },
   {
    "duration": 11,
    "start_time": "2024-05-13T10:54:55.812Z"
   },
   {
    "duration": 11,
    "start_time": "2024-05-13T10:54:55.824Z"
   },
   {
    "duration": 9,
    "start_time": "2024-05-13T10:54:55.837Z"
   },
   {
    "duration": 23,
    "start_time": "2024-05-13T10:54:55.847Z"
   },
   {
    "duration": 33,
    "start_time": "2024-05-13T10:54:55.872Z"
   },
   {
    "duration": 12,
    "start_time": "2024-05-13T10:54:55.906Z"
   },
   {
    "duration": 33,
    "start_time": "2024-05-13T10:54:55.919Z"
   },
   {
    "duration": 4,
    "start_time": "2024-05-13T10:54:55.954Z"
   },
   {
    "duration": 19,
    "start_time": "2024-05-13T10:54:55.959Z"
   },
   {
    "duration": 26,
    "start_time": "2024-05-13T10:54:55.980Z"
   },
   {
    "duration": 15,
    "start_time": "2024-05-13T10:54:56.007Z"
   },
   {
    "duration": 47,
    "start_time": "2024-05-13T10:54:56.023Z"
   },
   {
    "duration": 7,
    "start_time": "2024-05-13T10:54:56.071Z"
   },
   {
    "duration": 147,
    "start_time": "2024-05-13T10:54:56.079Z"
   },
   {
    "duration": 44,
    "start_time": "2024-05-13T10:54:56.227Z"
   },
   {
    "duration": 19,
    "start_time": "2024-05-13T10:54:56.272Z"
   },
   {
    "duration": 28,
    "start_time": "2024-05-13T10:54:56.292Z"
   },
   {
    "duration": 2683,
    "start_time": "2024-05-13T10:54:56.321Z"
   },
   {
    "duration": 296,
    "start_time": "2024-05-13T10:54:59.005Z"
   },
   {
    "duration": 238,
    "start_time": "2024-05-13T10:54:59.302Z"
   },
   {
    "duration": 403,
    "start_time": "2024-05-13T10:54:59.541Z"
   },
   {
    "duration": 10,
    "start_time": "2024-05-13T10:54:59.945Z"
   },
   {
    "duration": 20,
    "start_time": "2024-05-13T10:54:59.956Z"
   },
   {
    "duration": 19,
    "start_time": "2024-05-13T10:54:59.977Z"
   },
   {
    "duration": 238,
    "start_time": "2024-05-13T10:54:59.997Z"
   },
   {
    "duration": 218,
    "start_time": "2024-05-13T10:55:00.236Z"
   },
   {
    "duration": 218,
    "start_time": "2024-05-13T10:55:00.456Z"
   },
   {
    "duration": 221,
    "start_time": "2024-05-13T10:55:00.675Z"
   },
   {
    "duration": 160,
    "start_time": "2024-05-13T10:55:00.897Z"
   },
   {
    "duration": 156,
    "start_time": "2024-05-13T10:55:01.061Z"
   },
   {
    "duration": 166,
    "start_time": "2024-05-13T10:55:01.218Z"
   },
   {
    "duration": 113,
    "start_time": "2024-05-13T10:55:01.386Z"
   },
   {
    "duration": 245,
    "start_time": "2024-05-13T10:55:01.500Z"
   },
   {
    "duration": 113,
    "start_time": "2024-05-13T10:55:01.747Z"
   },
   {
    "duration": 199,
    "start_time": "2024-05-13T10:55:01.861Z"
   },
   {
    "duration": 76,
    "start_time": "2024-05-13T10:55:02.062Z"
   },
   {
    "duration": 45,
    "start_time": "2024-05-13T10:55:02.139Z"
   },
   {
    "duration": 31,
    "start_time": "2024-05-13T10:55:02.186Z"
   },
   {
    "duration": 32,
    "start_time": "2024-05-13T10:55:02.218Z"
   },
   {
    "duration": 215,
    "start_time": "2024-05-13T10:56:08.404Z"
   },
   {
    "duration": 135,
    "start_time": "2024-05-13T10:58:01.283Z"
   },
   {
    "duration": 164,
    "start_time": "2024-05-13T10:58:17.938Z"
   },
   {
    "duration": 94,
    "start_time": "2024-05-13T10:59:54.971Z"
   },
   {
    "duration": 7,
    "start_time": "2024-05-13T11:00:14.557Z"
   },
   {
    "duration": 7,
    "start_time": "2024-05-13T11:00:35.454Z"
   },
   {
    "duration": 214,
    "start_time": "2024-05-13T11:01:04.196Z"
   },
   {
    "duration": 137,
    "start_time": "2024-05-13T11:01:11.713Z"
   },
   {
    "duration": 7908,
    "start_time": "2024-05-13T11:04:45.030Z"
   },
   {
    "duration": 978,
    "start_time": "2024-05-13T11:04:57.149Z"
   },
   {
    "duration": 49,
    "start_time": "2024-05-13T11:04:58.129Z"
   },
   {
    "duration": 17,
    "start_time": "2024-05-13T11:04:58.179Z"
   },
   {
    "duration": 28,
    "start_time": "2024-05-13T11:04:58.198Z"
   },
   {
    "duration": 540,
    "start_time": "2024-05-13T11:04:58.227Z"
   },
   {
    "duration": 24,
    "start_time": "2024-05-13T11:04:58.768Z"
   },
   {
    "duration": 5,
    "start_time": "2024-05-13T11:04:58.793Z"
   },
   {
    "duration": 15,
    "start_time": "2024-05-13T11:04:58.799Z"
   },
   {
    "duration": 18,
    "start_time": "2024-05-13T11:04:58.815Z"
   },
   {
    "duration": 7,
    "start_time": "2024-05-13T11:04:58.835Z"
   },
   {
    "duration": 10,
    "start_time": "2024-05-13T11:04:58.843Z"
   },
   {
    "duration": 7,
    "start_time": "2024-05-13T11:04:58.854Z"
   },
   {
    "duration": 4,
    "start_time": "2024-05-13T11:04:58.862Z"
   },
   {
    "duration": 17,
    "start_time": "2024-05-13T11:04:58.868Z"
   },
   {
    "duration": 14,
    "start_time": "2024-05-13T11:04:58.887Z"
   },
   {
    "duration": 12,
    "start_time": "2024-05-13T11:04:58.902Z"
   },
   {
    "duration": 3,
    "start_time": "2024-05-13T11:04:58.915Z"
   },
   {
    "duration": 16,
    "start_time": "2024-05-13T11:04:58.919Z"
   },
   {
    "duration": 4,
    "start_time": "2024-05-13T11:04:58.936Z"
   },
   {
    "duration": 7,
    "start_time": "2024-05-13T11:04:58.941Z"
   },
   {
    "duration": 11,
    "start_time": "2024-05-13T11:04:58.949Z"
   },
   {
    "duration": 10,
    "start_time": "2024-05-13T11:04:58.961Z"
   },
   {
    "duration": 29,
    "start_time": "2024-05-13T11:04:58.972Z"
   },
   {
    "duration": 4,
    "start_time": "2024-05-13T11:04:59.002Z"
   },
   {
    "duration": 147,
    "start_time": "2024-05-13T11:04:59.007Z"
   },
   {
    "duration": 7986,
    "start_time": "2024-05-13T11:04:59.155Z"
   },
   {
    "duration": 68,
    "start_time": "2024-05-13T11:05:07.143Z"
   },
   {
    "duration": 12,
    "start_time": "2024-05-13T11:05:07.214Z"
   },
   {
    "duration": 41,
    "start_time": "2024-05-13T11:05:07.227Z"
   },
   {
    "duration": 2733,
    "start_time": "2024-05-13T11:05:07.269Z"
   },
   {
    "duration": 277,
    "start_time": "2024-05-13T11:05:10.004Z"
   },
   {
    "duration": 327,
    "start_time": "2024-05-13T11:05:10.284Z"
   },
   {
    "duration": 414,
    "start_time": "2024-05-13T11:05:10.613Z"
   },
   {
    "duration": 11,
    "start_time": "2024-05-13T11:05:11.028Z"
   },
   {
    "duration": 14,
    "start_time": "2024-05-13T11:05:11.040Z"
   },
   {
    "duration": 11,
    "start_time": "2024-05-13T11:05:11.055Z"
   },
   {
    "duration": 160,
    "start_time": "2024-05-13T11:05:11.067Z"
   },
   {
    "duration": 212,
    "start_time": "2024-05-13T11:05:11.228Z"
   },
   {
    "duration": 209,
    "start_time": "2024-05-13T11:05:11.441Z"
   },
   {
    "duration": 210,
    "start_time": "2024-05-13T11:05:11.651Z"
   },
   {
    "duration": 214,
    "start_time": "2024-05-13T11:05:11.863Z"
   },
   {
    "duration": 173,
    "start_time": "2024-05-13T11:05:12.079Z"
   },
   {
    "duration": 155,
    "start_time": "2024-05-13T11:05:12.253Z"
   },
   {
    "duration": 115,
    "start_time": "2024-05-13T11:05:12.409Z"
   },
   {
    "duration": 117,
    "start_time": "2024-05-13T11:05:12.526Z"
   },
   {
    "duration": 139,
    "start_time": "2024-05-13T11:05:12.644Z"
   },
   {
    "duration": 17,
    "start_time": "2024-05-13T11:05:12.784Z"
   },
   {
    "duration": 8,
    "start_time": "2024-05-13T11:05:12.803Z"
   },
   {
    "duration": 8,
    "start_time": "2024-05-13T11:05:12.812Z"
   },
   {
    "duration": 9,
    "start_time": "2024-05-13T11:05:12.821Z"
   },
   {
    "duration": 9,
    "start_time": "2024-05-13T11:05:12.831Z"
   },
   {
    "duration": 231,
    "start_time": "2024-05-13T11:28:31.308Z"
   },
   {
    "duration": 983,
    "start_time": "2024-05-13T11:28:54.521Z"
   },
   {
    "duration": 48,
    "start_time": "2024-05-13T11:28:55.506Z"
   },
   {
    "duration": 11,
    "start_time": "2024-05-13T11:28:55.556Z"
   },
   {
    "duration": 16,
    "start_time": "2024-05-13T11:28:55.568Z"
   },
   {
    "duration": 506,
    "start_time": "2024-05-13T11:28:55.593Z"
   },
   {
    "duration": 14,
    "start_time": "2024-05-13T11:28:56.100Z"
   },
   {
    "duration": 11,
    "start_time": "2024-05-13T11:28:56.115Z"
   },
   {
    "duration": 21,
    "start_time": "2024-05-13T11:28:56.127Z"
   },
   {
    "duration": 32,
    "start_time": "2024-05-13T11:28:56.149Z"
   },
   {
    "duration": 15,
    "start_time": "2024-05-13T11:28:56.183Z"
   },
   {
    "duration": 21,
    "start_time": "2024-05-13T11:28:56.200Z"
   },
   {
    "duration": 16,
    "start_time": "2024-05-13T11:28:56.222Z"
   },
   {
    "duration": 7,
    "start_time": "2024-05-13T11:28:56.239Z"
   },
   {
    "duration": 28,
    "start_time": "2024-05-13T11:28:56.247Z"
   },
   {
    "duration": 7,
    "start_time": "2024-05-13T11:28:56.276Z"
   },
   {
    "duration": 11,
    "start_time": "2024-05-13T11:28:56.293Z"
   },
   {
    "duration": 3,
    "start_time": "2024-05-13T11:28:56.305Z"
   },
   {
    "duration": 28,
    "start_time": "2024-05-13T11:28:56.309Z"
   },
   {
    "duration": 4,
    "start_time": "2024-05-13T11:28:56.338Z"
   },
   {
    "duration": 14,
    "start_time": "2024-05-13T11:28:56.343Z"
   },
   {
    "duration": 24,
    "start_time": "2024-05-13T11:28:56.358Z"
   },
   {
    "duration": 14,
    "start_time": "2024-05-13T11:28:56.383Z"
   },
   {
    "duration": 13,
    "start_time": "2024-05-13T11:28:56.398Z"
   },
   {
    "duration": 13,
    "start_time": "2024-05-13T11:28:56.411Z"
   },
   {
    "duration": 137,
    "start_time": "2024-05-13T11:28:56.425Z"
   },
   {
    "duration": 240,
    "start_time": "2024-05-13T11:28:56.563Z"
   },
   {
    "duration": 42,
    "start_time": "2024-05-13T11:28:56.804Z"
   },
   {
    "duration": 13,
    "start_time": "2024-05-13T11:28:56.850Z"
   },
   {
    "duration": 56,
    "start_time": "2024-05-13T11:28:56.864Z"
   },
   {
    "duration": 2833,
    "start_time": "2024-05-13T11:28:56.921Z"
   },
   {
    "duration": 301,
    "start_time": "2024-05-13T11:28:59.756Z"
   },
   {
    "duration": 251,
    "start_time": "2024-05-13T11:29:00.059Z"
   },
   {
    "duration": 465,
    "start_time": "2024-05-13T11:29:00.311Z"
   },
   {
    "duration": 24,
    "start_time": "2024-05-13T11:29:00.777Z"
   },
   {
    "duration": 100,
    "start_time": "2024-05-13T11:29:00.802Z"
   },
   {
    "duration": 61,
    "start_time": "2024-05-13T11:29:00.903Z"
   },
   {
    "duration": 252,
    "start_time": "2024-05-13T11:29:00.966Z"
   },
   {
    "duration": 211,
    "start_time": "2024-05-13T11:29:01.219Z"
   },
   {
    "duration": 214,
    "start_time": "2024-05-13T11:29:01.431Z"
   },
   {
    "duration": 218,
    "start_time": "2024-05-13T11:29:01.646Z"
   },
   {
    "duration": 161,
    "start_time": "2024-05-13T11:29:01.865Z"
   },
   {
    "duration": 182,
    "start_time": "2024-05-13T11:29:02.028Z"
   },
   {
    "duration": 152,
    "start_time": "2024-05-13T11:29:02.211Z"
   },
   {
    "duration": 171,
    "start_time": "2024-05-13T11:29:02.365Z"
   },
   {
    "duration": 125,
    "start_time": "2024-05-13T11:29:02.537Z"
   },
   {
    "duration": 149,
    "start_time": "2024-05-13T11:29:02.664Z"
   },
   {
    "duration": 14,
    "start_time": "2024-05-13T11:29:02.814Z"
   },
   {
    "duration": 18,
    "start_time": "2024-05-13T11:29:02.829Z"
   },
   {
    "duration": 10,
    "start_time": "2024-05-13T11:29:02.849Z"
   },
   {
    "duration": 13,
    "start_time": "2024-05-13T11:29:02.860Z"
   },
   {
    "duration": 44,
    "start_time": "2024-05-13T11:29:02.874Z"
   },
   {
    "duration": 85,
    "start_time": "2024-05-13T11:47:25.181Z"
   },
   {
    "duration": 7,
    "start_time": "2024-05-13T11:47:44.600Z"
   },
   {
    "duration": 1020,
    "start_time": "2024-05-13T11:47:56.108Z"
   },
   {
    "duration": 48,
    "start_time": "2024-05-13T11:47:57.130Z"
   },
   {
    "duration": 10,
    "start_time": "2024-05-13T11:47:57.180Z"
   },
   {
    "duration": 14,
    "start_time": "2024-05-13T11:47:57.191Z"
   },
   {
    "duration": 524,
    "start_time": "2024-05-13T11:47:57.206Z"
   },
   {
    "duration": 14,
    "start_time": "2024-05-13T11:47:57.732Z"
   },
   {
    "duration": 7,
    "start_time": "2024-05-13T11:47:57.747Z"
   },
   {
    "duration": 11,
    "start_time": "2024-05-13T11:47:57.755Z"
   },
   {
    "duration": 27,
    "start_time": "2024-05-13T11:47:57.767Z"
   },
   {
    "duration": 7,
    "start_time": "2024-05-13T11:47:57.796Z"
   },
   {
    "duration": 8,
    "start_time": "2024-05-13T11:47:57.804Z"
   },
   {
    "duration": 12,
    "start_time": "2024-05-13T11:47:57.814Z"
   },
   {
    "duration": 16,
    "start_time": "2024-05-13T11:47:57.827Z"
   },
   {
    "duration": 9,
    "start_time": "2024-05-13T11:47:57.844Z"
   },
   {
    "duration": 10,
    "start_time": "2024-05-13T11:47:57.854Z"
   },
   {
    "duration": 10,
    "start_time": "2024-05-13T11:47:57.865Z"
   },
   {
    "duration": 3,
    "start_time": "2024-05-13T11:47:57.876Z"
   },
   {
    "duration": 16,
    "start_time": "2024-05-13T11:47:57.880Z"
   },
   {
    "duration": 4,
    "start_time": "2024-05-13T11:47:57.897Z"
   },
   {
    "duration": 6,
    "start_time": "2024-05-13T11:47:57.902Z"
   },
   {
    "duration": 13,
    "start_time": "2024-05-13T11:47:57.910Z"
   },
   {
    "duration": 3,
    "start_time": "2024-05-13T11:47:57.924Z"
   },
   {
    "duration": 30,
    "start_time": "2024-05-13T11:47:57.928Z"
   },
   {
    "duration": 8,
    "start_time": "2024-05-13T11:47:57.959Z"
   },
   {
    "duration": 136,
    "start_time": "2024-05-13T11:47:57.969Z"
   },
   {
    "duration": 101,
    "start_time": "2024-05-13T11:47:58.107Z"
   },
   {
    "duration": 0,
    "start_time": "2024-05-13T11:47:58.209Z"
   },
   {
    "duration": 0,
    "start_time": "2024-05-13T11:47:58.211Z"
   },
   {
    "duration": 0,
    "start_time": "2024-05-13T11:47:58.211Z"
   },
   {
    "duration": 0,
    "start_time": "2024-05-13T11:47:58.212Z"
   },
   {
    "duration": 0,
    "start_time": "2024-05-13T11:47:58.213Z"
   },
   {
    "duration": 0,
    "start_time": "2024-05-13T11:47:58.214Z"
   },
   {
    "duration": 0,
    "start_time": "2024-05-13T11:47:58.215Z"
   },
   {
    "duration": 0,
    "start_time": "2024-05-13T11:47:58.216Z"
   },
   {
    "duration": 0,
    "start_time": "2024-05-13T11:47:58.217Z"
   },
   {
    "duration": 0,
    "start_time": "2024-05-13T11:47:58.218Z"
   },
   {
    "duration": 0,
    "start_time": "2024-05-13T11:47:58.219Z"
   },
   {
    "duration": 0,
    "start_time": "2024-05-13T11:47:58.220Z"
   },
   {
    "duration": 0,
    "start_time": "2024-05-13T11:47:58.221Z"
   },
   {
    "duration": 0,
    "start_time": "2024-05-13T11:47:58.222Z"
   },
   {
    "duration": 0,
    "start_time": "2024-05-13T11:47:58.223Z"
   },
   {
    "duration": 0,
    "start_time": "2024-05-13T11:47:58.224Z"
   },
   {
    "duration": 0,
    "start_time": "2024-05-13T11:47:58.225Z"
   },
   {
    "duration": 0,
    "start_time": "2024-05-13T11:47:58.226Z"
   },
   {
    "duration": 0,
    "start_time": "2024-05-13T11:47:58.227Z"
   },
   {
    "duration": 0,
    "start_time": "2024-05-13T11:47:58.228Z"
   },
   {
    "duration": 0,
    "start_time": "2024-05-13T11:47:58.229Z"
   },
   {
    "duration": 0,
    "start_time": "2024-05-13T11:47:58.230Z"
   },
   {
    "duration": 0,
    "start_time": "2024-05-13T11:47:58.231Z"
   },
   {
    "duration": 0,
    "start_time": "2024-05-13T11:47:58.232Z"
   },
   {
    "duration": 0,
    "start_time": "2024-05-13T11:47:58.233Z"
   },
   {
    "duration": 66,
    "start_time": "2024-05-13T11:50:30.335Z"
   },
   {
    "duration": 151,
    "start_time": "2024-05-13T11:50:36.554Z"
   },
   {
    "duration": 149,
    "start_time": "2024-05-13T11:52:15.856Z"
   },
   {
    "duration": 1025,
    "start_time": "2024-05-13T11:52:23.602Z"
   },
   {
    "duration": 50,
    "start_time": "2024-05-13T11:52:24.629Z"
   },
   {
    "duration": 13,
    "start_time": "2024-05-13T11:52:24.680Z"
   },
   {
    "duration": 14,
    "start_time": "2024-05-13T11:52:24.695Z"
   },
   {
    "duration": 538,
    "start_time": "2024-05-13T11:52:24.710Z"
   },
   {
    "duration": 13,
    "start_time": "2024-05-13T11:52:25.250Z"
   },
   {
    "duration": 20,
    "start_time": "2024-05-13T11:52:25.265Z"
   },
   {
    "duration": 11,
    "start_time": "2024-05-13T11:52:25.286Z"
   },
   {
    "duration": 14,
    "start_time": "2024-05-13T11:52:25.298Z"
   },
   {
    "duration": 7,
    "start_time": "2024-05-13T11:52:25.314Z"
   },
   {
    "duration": 7,
    "start_time": "2024-05-13T11:52:25.322Z"
   },
   {
    "duration": 16,
    "start_time": "2024-05-13T11:52:25.330Z"
   },
   {
    "duration": 5,
    "start_time": "2024-05-13T11:52:25.348Z"
   },
   {
    "duration": 10,
    "start_time": "2024-05-13T11:52:25.354Z"
   },
   {
    "duration": 19,
    "start_time": "2024-05-13T11:52:25.365Z"
   },
   {
    "duration": 12,
    "start_time": "2024-05-13T11:52:25.385Z"
   },
   {
    "duration": 3,
    "start_time": "2024-05-13T11:52:25.398Z"
   },
   {
    "duration": 21,
    "start_time": "2024-05-13T11:52:25.402Z"
   },
   {
    "duration": 5,
    "start_time": "2024-05-13T11:52:25.424Z"
   },
   {
    "duration": 10,
    "start_time": "2024-05-13T11:52:25.430Z"
   },
   {
    "duration": 10,
    "start_time": "2024-05-13T11:52:25.441Z"
   },
   {
    "duration": 3,
    "start_time": "2024-05-13T11:52:25.453Z"
   },
   {
    "duration": 33,
    "start_time": "2024-05-13T11:52:25.457Z"
   },
   {
    "duration": 5,
    "start_time": "2024-05-13T11:52:25.491Z"
   },
   {
    "duration": 145,
    "start_time": "2024-05-13T11:52:25.497Z"
   },
   {
    "duration": 164,
    "start_time": "2024-05-13T11:52:25.643Z"
   },
   {
    "duration": 44,
    "start_time": "2024-05-13T11:52:25.809Z"
   },
   {
    "duration": 12,
    "start_time": "2024-05-13T11:52:25.856Z"
   },
   {
    "duration": 41,
    "start_time": "2024-05-13T11:52:25.869Z"
   },
   {
    "duration": 2600,
    "start_time": "2024-05-13T11:52:25.911Z"
   },
   {
    "duration": 293,
    "start_time": "2024-05-13T11:52:28.512Z"
   },
   {
    "duration": 238,
    "start_time": "2024-05-13T11:52:28.806Z"
   },
   {
    "duration": 472,
    "start_time": "2024-05-13T11:52:29.046Z"
   },
   {
    "duration": 12,
    "start_time": "2024-05-13T11:52:29.520Z"
   },
   {
    "duration": 10,
    "start_time": "2024-05-13T11:52:29.534Z"
   },
   {
    "duration": 10,
    "start_time": "2024-05-13T11:52:29.545Z"
   },
   {
    "duration": 168,
    "start_time": "2024-05-13T11:52:29.556Z"
   },
   {
    "duration": 212,
    "start_time": "2024-05-13T11:52:29.726Z"
   },
   {
    "duration": 212,
    "start_time": "2024-05-13T11:52:29.940Z"
   },
   {
    "duration": 214,
    "start_time": "2024-05-13T11:52:30.153Z"
   },
   {
    "duration": 153,
    "start_time": "2024-05-13T11:52:30.368Z"
   },
   {
    "duration": 149,
    "start_time": "2024-05-13T11:52:30.522Z"
   },
   {
    "duration": 146,
    "start_time": "2024-05-13T11:52:30.672Z"
   },
   {
    "duration": 188,
    "start_time": "2024-05-13T11:52:30.819Z"
   },
   {
    "duration": 117,
    "start_time": "2024-05-13T11:52:31.008Z"
   },
   {
    "duration": 111,
    "start_time": "2024-05-13T11:52:31.126Z"
   },
   {
    "duration": 14,
    "start_time": "2024-05-13T11:52:31.238Z"
   },
   {
    "duration": 81,
    "start_time": "2024-05-13T11:52:31.254Z"
   },
   {
    "duration": 76,
    "start_time": "2024-05-13T11:52:31.337Z"
   },
   {
    "duration": 36,
    "start_time": "2024-05-13T11:52:31.415Z"
   },
   {
    "duration": 26,
    "start_time": "2024-05-13T11:52:31.453Z"
   },
   {
    "duration": 1165,
    "start_time": "2024-05-13T11:52:54.586Z"
   },
   {
    "duration": 320,
    "start_time": "2024-05-13T11:54:39.383Z"
   },
   {
    "duration": 299,
    "start_time": "2024-05-13T11:54:53.749Z"
   },
   {
    "duration": 230,
    "start_time": "2024-05-13T11:55:19.372Z"
   },
   {
    "duration": 209,
    "start_time": "2024-05-13T11:57:32.953Z"
   },
   {
    "duration": 131,
    "start_time": "2024-05-13T11:57:40.593Z"
   },
   {
    "duration": 15,
    "start_time": "2024-05-13T11:57:52.393Z"
   },
   {
    "duration": 1017,
    "start_time": "2024-05-13T11:58:23.004Z"
   },
   {
    "duration": 51,
    "start_time": "2024-05-13T11:58:24.022Z"
   },
   {
    "duration": 21,
    "start_time": "2024-05-13T11:58:24.074Z"
   },
   {
    "duration": 14,
    "start_time": "2024-05-13T11:58:24.096Z"
   },
   {
    "duration": 513,
    "start_time": "2024-05-13T11:58:24.112Z"
   },
   {
    "duration": 14,
    "start_time": "2024-05-13T11:58:24.627Z"
   },
   {
    "duration": 4,
    "start_time": "2024-05-13T11:58:24.642Z"
   },
   {
    "duration": 12,
    "start_time": "2024-05-13T11:58:24.647Z"
   },
   {
    "duration": 36,
    "start_time": "2024-05-13T11:58:24.661Z"
   },
   {
    "duration": 8,
    "start_time": "2024-05-13T11:58:24.698Z"
   },
   {
    "duration": 12,
    "start_time": "2024-05-13T11:58:24.707Z"
   },
   {
    "duration": 5,
    "start_time": "2024-05-13T11:58:24.720Z"
   },
   {
    "duration": 15,
    "start_time": "2024-05-13T11:58:24.727Z"
   },
   {
    "duration": 12,
    "start_time": "2024-05-13T11:58:24.745Z"
   },
   {
    "duration": 5,
    "start_time": "2024-05-13T11:58:24.757Z"
   },
   {
    "duration": 16,
    "start_time": "2024-05-13T11:58:24.764Z"
   },
   {
    "duration": 13,
    "start_time": "2024-05-13T11:58:24.782Z"
   },
   {
    "duration": 23,
    "start_time": "2024-05-13T11:58:24.796Z"
   },
   {
    "duration": 4,
    "start_time": "2024-05-13T11:58:24.820Z"
   },
   {
    "duration": 7,
    "start_time": "2024-05-13T11:58:24.825Z"
   },
   {
    "duration": 9,
    "start_time": "2024-05-13T11:58:24.833Z"
   },
   {
    "duration": 9,
    "start_time": "2024-05-13T11:58:24.843Z"
   },
   {
    "duration": 10,
    "start_time": "2024-05-13T11:58:24.853Z"
   },
   {
    "duration": 4,
    "start_time": "2024-05-13T11:58:24.865Z"
   },
   {
    "duration": 139,
    "start_time": "2024-05-13T11:58:24.870Z"
   },
   {
    "duration": 113,
    "start_time": "2024-05-13T11:58:25.010Z"
   },
   {
    "duration": 0,
    "start_time": "2024-05-13T11:58:25.125Z"
   },
   {
    "duration": 0,
    "start_time": "2024-05-13T11:58:25.127Z"
   },
   {
    "duration": 0,
    "start_time": "2024-05-13T11:58:25.127Z"
   },
   {
    "duration": 0,
    "start_time": "2024-05-13T11:58:25.128Z"
   },
   {
    "duration": 0,
    "start_time": "2024-05-13T11:58:25.129Z"
   },
   {
    "duration": 0,
    "start_time": "2024-05-13T11:58:25.130Z"
   },
   {
    "duration": 0,
    "start_time": "2024-05-13T11:58:25.132Z"
   },
   {
    "duration": 0,
    "start_time": "2024-05-13T11:58:25.133Z"
   },
   {
    "duration": 0,
    "start_time": "2024-05-13T11:58:25.133Z"
   },
   {
    "duration": 0,
    "start_time": "2024-05-13T11:58:25.134Z"
   },
   {
    "duration": 0,
    "start_time": "2024-05-13T11:58:25.135Z"
   },
   {
    "duration": 0,
    "start_time": "2024-05-13T11:58:25.136Z"
   },
   {
    "duration": 0,
    "start_time": "2024-05-13T11:58:25.137Z"
   },
   {
    "duration": 0,
    "start_time": "2024-05-13T11:58:25.138Z"
   },
   {
    "duration": 0,
    "start_time": "2024-05-13T11:58:25.139Z"
   },
   {
    "duration": 0,
    "start_time": "2024-05-13T11:58:25.139Z"
   },
   {
    "duration": 0,
    "start_time": "2024-05-13T11:58:25.140Z"
   },
   {
    "duration": 0,
    "start_time": "2024-05-13T11:58:25.141Z"
   },
   {
    "duration": 0,
    "start_time": "2024-05-13T11:58:25.145Z"
   },
   {
    "duration": 0,
    "start_time": "2024-05-13T11:58:25.146Z"
   },
   {
    "duration": 0,
    "start_time": "2024-05-13T11:58:25.147Z"
   },
   {
    "duration": 0,
    "start_time": "2024-05-13T11:58:25.147Z"
   },
   {
    "duration": 0,
    "start_time": "2024-05-13T11:58:25.148Z"
   },
   {
    "duration": 0,
    "start_time": "2024-05-13T11:58:25.149Z"
   },
   {
    "duration": 0,
    "start_time": "2024-05-13T11:58:25.149Z"
   },
   {
    "duration": 394,
    "start_time": "2024-05-13T12:09:41.404Z"
   },
   {
    "duration": 240,
    "start_time": "2024-05-13T12:09:57.755Z"
   },
   {
    "duration": 474,
    "start_time": "2024-05-13T12:10:14.889Z"
   },
   {
    "duration": 350,
    "start_time": "2024-05-13T12:11:06.256Z"
   },
   {
    "duration": 1191,
    "start_time": "2024-05-13T12:11:47.690Z"
   },
   {
    "duration": 1106,
    "start_time": "2024-05-13T12:12:01.992Z"
   },
   {
    "duration": 1066,
    "start_time": "2024-05-13T12:13:08.173Z"
   },
   {
    "duration": 56,
    "start_time": "2024-05-13T12:13:09.241Z"
   },
   {
    "duration": 13,
    "start_time": "2024-05-13T12:13:09.298Z"
   },
   {
    "duration": 16,
    "start_time": "2024-05-13T12:13:09.312Z"
   },
   {
    "duration": 538,
    "start_time": "2024-05-13T12:13:09.330Z"
   },
   {
    "duration": 32,
    "start_time": "2024-05-13T12:13:09.869Z"
   },
   {
    "duration": 7,
    "start_time": "2024-05-13T12:13:09.902Z"
   },
   {
    "duration": 18,
    "start_time": "2024-05-13T12:13:09.910Z"
   },
   {
    "duration": 13,
    "start_time": "2024-05-13T12:13:09.929Z"
   },
   {
    "duration": 7,
    "start_time": "2024-05-13T12:13:09.944Z"
   },
   {
    "duration": 11,
    "start_time": "2024-05-13T12:13:09.952Z"
   },
   {
    "duration": 3,
    "start_time": "2024-05-13T12:13:09.965Z"
   },
   {
    "duration": 31,
    "start_time": "2024-05-13T12:13:09.969Z"
   },
   {
    "duration": 6,
    "start_time": "2024-05-13T12:13:10.004Z"
   },
   {
    "duration": 21,
    "start_time": "2024-05-13T12:13:10.011Z"
   },
   {
    "duration": 25,
    "start_time": "2024-05-13T12:13:10.034Z"
   },
   {
    "duration": 11,
    "start_time": "2024-05-13T12:13:10.060Z"
   },
   {
    "duration": 26,
    "start_time": "2024-05-13T12:13:10.073Z"
   },
   {
    "duration": 3,
    "start_time": "2024-05-13T12:13:10.101Z"
   },
   {
    "duration": 5,
    "start_time": "2024-05-13T12:13:10.106Z"
   },
   {
    "duration": 14,
    "start_time": "2024-05-13T12:13:10.112Z"
   },
   {
    "duration": 7,
    "start_time": "2024-05-13T12:13:10.127Z"
   },
   {
    "duration": 12,
    "start_time": "2024-05-13T12:13:10.135Z"
   },
   {
    "duration": 5,
    "start_time": "2024-05-13T12:13:10.148Z"
   },
   {
    "duration": 171,
    "start_time": "2024-05-13T12:13:10.154Z"
   },
   {
    "duration": 125,
    "start_time": "2024-05-13T12:13:10.326Z"
   },
   {
    "duration": 0,
    "start_time": "2024-05-13T12:13:10.453Z"
   },
   {
    "duration": 0,
    "start_time": "2024-05-13T12:13:10.454Z"
   },
   {
    "duration": 0,
    "start_time": "2024-05-13T12:13:10.455Z"
   },
   {
    "duration": 0,
    "start_time": "2024-05-13T12:13:10.456Z"
   },
   {
    "duration": 0,
    "start_time": "2024-05-13T12:13:10.457Z"
   },
   {
    "duration": 0,
    "start_time": "2024-05-13T12:13:10.458Z"
   },
   {
    "duration": 0,
    "start_time": "2024-05-13T12:13:10.459Z"
   },
   {
    "duration": 0,
    "start_time": "2024-05-13T12:13:10.460Z"
   },
   {
    "duration": 0,
    "start_time": "2024-05-13T12:13:10.461Z"
   },
   {
    "duration": 0,
    "start_time": "2024-05-13T12:13:10.462Z"
   },
   {
    "duration": 0,
    "start_time": "2024-05-13T12:13:10.463Z"
   },
   {
    "duration": 0,
    "start_time": "2024-05-13T12:13:10.464Z"
   },
   {
    "duration": 0,
    "start_time": "2024-05-13T12:13:10.486Z"
   },
   {
    "duration": 0,
    "start_time": "2024-05-13T12:13:10.486Z"
   },
   {
    "duration": 0,
    "start_time": "2024-05-13T12:13:10.487Z"
   },
   {
    "duration": 0,
    "start_time": "2024-05-13T12:13:10.488Z"
   },
   {
    "duration": 1,
    "start_time": "2024-05-13T12:13:10.488Z"
   },
   {
    "duration": 0,
    "start_time": "2024-05-13T12:13:10.489Z"
   },
   {
    "duration": 0,
    "start_time": "2024-05-13T12:13:10.490Z"
   },
   {
    "duration": 0,
    "start_time": "2024-05-13T12:13:10.490Z"
   },
   {
    "duration": 0,
    "start_time": "2024-05-13T12:13:10.491Z"
   },
   {
    "duration": 0,
    "start_time": "2024-05-13T12:13:10.492Z"
   },
   {
    "duration": 0,
    "start_time": "2024-05-13T12:13:10.493Z"
   },
   {
    "duration": 0,
    "start_time": "2024-05-13T12:13:10.493Z"
   },
   {
    "duration": 0,
    "start_time": "2024-05-13T12:13:10.494Z"
   },
   {
    "duration": 1063,
    "start_time": "2024-05-13T12:13:54.869Z"
   },
   {
    "duration": 53,
    "start_time": "2024-05-13T12:13:55.933Z"
   },
   {
    "duration": 16,
    "start_time": "2024-05-13T12:13:55.987Z"
   },
   {
    "duration": 14,
    "start_time": "2024-05-13T12:13:56.005Z"
   },
   {
    "duration": 597,
    "start_time": "2024-05-13T12:13:56.020Z"
   },
   {
    "duration": 16,
    "start_time": "2024-05-13T12:13:56.619Z"
   },
   {
    "duration": 5,
    "start_time": "2024-05-13T12:13:56.636Z"
   },
   {
    "duration": 19,
    "start_time": "2024-05-13T12:13:56.642Z"
   },
   {
    "duration": 38,
    "start_time": "2024-05-13T12:13:56.662Z"
   },
   {
    "duration": 20,
    "start_time": "2024-05-13T12:13:56.706Z"
   },
   {
    "duration": 19,
    "start_time": "2024-05-13T12:13:56.727Z"
   },
   {
    "duration": 15,
    "start_time": "2024-05-13T12:13:56.748Z"
   },
   {
    "duration": 10,
    "start_time": "2024-05-13T12:13:56.765Z"
   },
   {
    "duration": 5,
    "start_time": "2024-05-13T12:13:56.776Z"
   },
   {
    "duration": 21,
    "start_time": "2024-05-13T12:13:56.782Z"
   },
   {
    "duration": 15,
    "start_time": "2024-05-13T12:13:56.804Z"
   },
   {
    "duration": 11,
    "start_time": "2024-05-13T12:13:56.821Z"
   },
   {
    "duration": 25,
    "start_time": "2024-05-13T12:13:56.833Z"
   },
   {
    "duration": 5,
    "start_time": "2024-05-13T12:13:56.859Z"
   },
   {
    "duration": 11,
    "start_time": "2024-05-13T12:13:56.865Z"
   },
   {
    "duration": 27,
    "start_time": "2024-05-13T12:13:56.877Z"
   },
   {
    "duration": 4,
    "start_time": "2024-05-13T12:13:56.905Z"
   },
   {
    "duration": 13,
    "start_time": "2024-05-13T12:13:56.910Z"
   },
   {
    "duration": 4,
    "start_time": "2024-05-13T12:13:56.924Z"
   },
   {
    "duration": 174,
    "start_time": "2024-05-13T12:13:56.929Z"
   },
   {
    "duration": 1058,
    "start_time": "2024-05-13T12:15:55.423Z"
   },
   {
    "duration": 69,
    "start_time": "2024-05-13T12:15:56.482Z"
   },
   {
    "duration": 17,
    "start_time": "2024-05-13T12:15:56.553Z"
   },
   {
    "duration": 43,
    "start_time": "2024-05-13T12:15:56.572Z"
   },
   {
    "duration": 573,
    "start_time": "2024-05-13T12:15:56.617Z"
   },
   {
    "duration": 16,
    "start_time": "2024-05-13T12:15:57.201Z"
   },
   {
    "duration": 47,
    "start_time": "2024-05-13T12:15:57.218Z"
   },
   {
    "duration": 35,
    "start_time": "2024-05-13T12:15:57.266Z"
   },
   {
    "duration": 20,
    "start_time": "2024-05-13T12:15:57.303Z"
   },
   {
    "duration": 7,
    "start_time": "2024-05-13T12:15:57.326Z"
   },
   {
    "duration": 16,
    "start_time": "2024-05-13T12:15:57.334Z"
   },
   {
    "duration": 15,
    "start_time": "2024-05-13T12:15:57.351Z"
   },
   {
    "duration": 7,
    "start_time": "2024-05-13T12:15:57.367Z"
   },
   {
    "duration": 25,
    "start_time": "2024-05-13T12:15:57.375Z"
   },
   {
    "duration": 4,
    "start_time": "2024-05-13T12:15:57.402Z"
   },
   {
    "duration": 26,
    "start_time": "2024-05-13T12:15:57.408Z"
   },
   {
    "duration": 3,
    "start_time": "2024-05-13T12:15:57.436Z"
   },
   {
    "duration": 19,
    "start_time": "2024-05-13T12:15:57.440Z"
   },
   {
    "duration": 4,
    "start_time": "2024-05-13T12:15:57.460Z"
   },
   {
    "duration": 7,
    "start_time": "2024-05-13T12:15:57.465Z"
   },
   {
    "duration": 19,
    "start_time": "2024-05-13T12:15:57.473Z"
   },
   {
    "duration": 4,
    "start_time": "2024-05-13T12:15:57.493Z"
   },
   {
    "duration": 17,
    "start_time": "2024-05-13T12:15:57.499Z"
   },
   {
    "duration": 7,
    "start_time": "2024-05-13T12:15:57.518Z"
   },
   {
    "duration": 154,
    "start_time": "2024-05-13T12:15:57.527Z"
   },
   {
    "duration": 72,
    "start_time": "2024-05-13T12:15:57.684Z"
   },
   {
    "duration": 31,
    "start_time": "2024-05-13T12:15:57.757Z"
   },
   {
    "duration": 29,
    "start_time": "2024-05-13T12:15:57.791Z"
   },
   {
    "duration": 2821,
    "start_time": "2024-05-13T12:15:57.821Z"
   },
   {
    "duration": 329,
    "start_time": "2024-05-13T12:16:00.644Z"
   },
   {
    "duration": 265,
    "start_time": "2024-05-13T12:16:00.975Z"
   },
   {
    "duration": 393,
    "start_time": "2024-05-13T12:16:01.241Z"
   },
   {
    "duration": 11,
    "start_time": "2024-05-13T12:16:01.636Z"
   },
   {
    "duration": 32,
    "start_time": "2024-05-13T12:16:01.648Z"
   },
   {
    "duration": 40,
    "start_time": "2024-05-13T12:16:01.681Z"
   },
   {
    "duration": 296,
    "start_time": "2024-05-13T12:16:01.722Z"
   },
   {
    "duration": 239,
    "start_time": "2024-05-13T12:16:02.019Z"
   },
   {
    "duration": 231,
    "start_time": "2024-05-13T12:16:02.259Z"
   },
   {
    "duration": 241,
    "start_time": "2024-05-13T12:16:02.491Z"
   },
   {
    "duration": 170,
    "start_time": "2024-05-13T12:16:02.733Z"
   },
   {
    "duration": 152,
    "start_time": "2024-05-13T12:16:02.904Z"
   },
   {
    "duration": 147,
    "start_time": "2024-05-13T12:16:03.057Z"
   },
   {
    "duration": 125,
    "start_time": "2024-05-13T12:16:03.205Z"
   },
   {
    "duration": 179,
    "start_time": "2024-05-13T12:16:03.331Z"
   },
   {
    "duration": 110,
    "start_time": "2024-05-13T12:16:03.512Z"
   },
   {
    "duration": 13,
    "start_time": "2024-05-13T12:16:03.624Z"
   },
   {
    "duration": 13,
    "start_time": "2024-05-13T12:16:03.638Z"
   },
   {
    "duration": 8,
    "start_time": "2024-05-13T12:16:03.653Z"
   },
   {
    "duration": 34,
    "start_time": "2024-05-13T12:16:03.663Z"
   },
   {
    "duration": 10,
    "start_time": "2024-05-13T12:16:03.701Z"
   },
   {
    "duration": 61,
    "start_time": "2024-05-13T12:17:09.713Z"
   },
   {
    "duration": 160,
    "start_time": "2024-05-13T12:17:14.476Z"
   },
   {
    "duration": 149,
    "start_time": "2024-05-13T12:17:25.213Z"
   },
   {
    "duration": 167,
    "start_time": "2024-05-13T12:17:38.653Z"
   },
   {
    "duration": 1149,
    "start_time": "2024-05-13T12:18:04.094Z"
   },
   {
    "duration": 137,
    "start_time": "2024-05-13T12:18:19.238Z"
   },
   {
    "duration": 139,
    "start_time": "2024-05-13T12:18:43.404Z"
   },
   {
    "duration": 137,
    "start_time": "2024-05-13T12:19:43.392Z"
   },
   {
    "duration": 199,
    "start_time": "2024-05-13T12:19:49.316Z"
   },
   {
    "duration": 124,
    "start_time": "2024-05-13T12:19:55.250Z"
   },
   {
    "duration": 236,
    "start_time": "2024-05-13T12:26:46.298Z"
   },
   {
    "duration": 167,
    "start_time": "2024-05-13T12:28:05.039Z"
   },
   {
    "duration": 14,
    "start_time": "2024-05-13T12:28:33.296Z"
   },
   {
    "duration": 155,
    "start_time": "2024-05-13T12:28:56.618Z"
   },
   {
    "duration": 11,
    "start_time": "2024-05-13T12:29:11.327Z"
   },
   {
    "duration": 211,
    "start_time": "2024-05-13T12:29:29.126Z"
   },
   {
    "duration": 160,
    "start_time": "2024-05-13T12:29:57.680Z"
   },
   {
    "duration": 169,
    "start_time": "2024-05-13T12:34:59.580Z"
   },
   {
    "duration": 161,
    "start_time": "2024-05-13T12:35:23.911Z"
   },
   {
    "duration": 154,
    "start_time": "2024-05-13T12:35:47.491Z"
   },
   {
    "duration": 172,
    "start_time": "2024-05-13T12:36:19.993Z"
   },
   {
    "duration": 67,
    "start_time": "2024-05-13T12:36:51.871Z"
   },
   {
    "duration": 211,
    "start_time": "2024-05-13T12:38:19.019Z"
   },
   {
    "duration": 279,
    "start_time": "2024-05-13T12:38:47.798Z"
   },
   {
    "duration": 13,
    "start_time": "2024-05-13T12:39:43.693Z"
   },
   {
    "duration": 208,
    "start_time": "2024-05-13T12:39:53.607Z"
   },
   {
    "duration": 9,
    "start_time": "2024-05-13T12:40:09.738Z"
   },
   {
    "duration": 227,
    "start_time": "2024-05-13T12:40:19.142Z"
   },
   {
    "duration": 74,
    "start_time": "2024-05-13T12:41:51.361Z"
   },
   {
    "duration": 266,
    "start_time": "2024-05-13T12:42:22.452Z"
   },
   {
    "duration": 207,
    "start_time": "2024-05-13T12:44:12.819Z"
   },
   {
    "duration": 195,
    "start_time": "2024-05-13T12:45:27.471Z"
   },
   {
    "duration": 203,
    "start_time": "2024-05-13T12:45:36.134Z"
   },
   {
    "duration": 246,
    "start_time": "2024-05-13T12:45:47.288Z"
   },
   {
    "duration": 181,
    "start_time": "2024-05-13T12:45:55.663Z"
   },
   {
    "duration": 377,
    "start_time": "2024-05-13T12:50:26.879Z"
   },
   {
    "duration": 12,
    "start_time": "2024-05-13T12:50:34.121Z"
   },
   {
    "duration": 11,
    "start_time": "2024-05-13T12:50:40.006Z"
   },
   {
    "duration": 11,
    "start_time": "2024-05-13T12:52:40.035Z"
   },
   {
    "duration": 417,
    "start_time": "2024-05-13T12:54:10.315Z"
   },
   {
    "duration": 368,
    "start_time": "2024-05-13T12:54:27.878Z"
   },
   {
    "duration": 1019,
    "start_time": "2024-05-13T12:54:44.717Z"
   },
   {
    "duration": 50,
    "start_time": "2024-05-13T12:54:45.738Z"
   },
   {
    "duration": 12,
    "start_time": "2024-05-13T12:54:45.789Z"
   },
   {
    "duration": 20,
    "start_time": "2024-05-13T12:54:45.803Z"
   },
   {
    "duration": 522,
    "start_time": "2024-05-13T12:54:45.824Z"
   },
   {
    "duration": 15,
    "start_time": "2024-05-13T12:54:46.348Z"
   },
   {
    "duration": 20,
    "start_time": "2024-05-13T12:54:46.365Z"
   },
   {
    "duration": 13,
    "start_time": "2024-05-13T12:54:46.386Z"
   },
   {
    "duration": 16,
    "start_time": "2024-05-13T12:54:46.400Z"
   },
   {
    "duration": 7,
    "start_time": "2024-05-13T12:54:46.420Z"
   },
   {
    "duration": 17,
    "start_time": "2024-05-13T12:54:46.429Z"
   },
   {
    "duration": 11,
    "start_time": "2024-05-13T12:54:46.447Z"
   },
   {
    "duration": 12,
    "start_time": "2024-05-13T12:54:46.459Z"
   },
   {
    "duration": 20,
    "start_time": "2024-05-13T12:54:46.472Z"
   },
   {
    "duration": 21,
    "start_time": "2024-05-13T12:54:46.493Z"
   },
   {
    "duration": 22,
    "start_time": "2024-05-13T12:54:46.515Z"
   },
   {
    "duration": 10,
    "start_time": "2024-05-13T12:54:46.538Z"
   },
   {
    "duration": 47,
    "start_time": "2024-05-13T12:54:46.549Z"
   },
   {
    "duration": 4,
    "start_time": "2024-05-13T12:54:46.598Z"
   },
   {
    "duration": 18,
    "start_time": "2024-05-13T12:54:46.603Z"
   },
   {
    "duration": 36,
    "start_time": "2024-05-13T12:54:46.622Z"
   },
   {
    "duration": 8,
    "start_time": "2024-05-13T12:54:46.660Z"
   },
   {
    "duration": 24,
    "start_time": "2024-05-13T12:54:46.669Z"
   },
   {
    "duration": 10,
    "start_time": "2024-05-13T12:54:46.694Z"
   },
   {
    "duration": 143,
    "start_time": "2024-05-13T12:54:46.705Z"
   },
   {
    "duration": 221,
    "start_time": "2024-05-13T12:54:46.849Z"
   },
   {
    "duration": 53,
    "start_time": "2024-05-13T12:54:47.071Z"
   },
   {
    "duration": 12,
    "start_time": "2024-05-13T12:54:47.127Z"
   },
   {
    "duration": 163,
    "start_time": "2024-05-13T12:54:47.141Z"
   },
   {
    "duration": 28,
    "start_time": "2024-05-13T12:54:47.306Z"
   },
   {
    "duration": 2633,
    "start_time": "2024-05-13T12:54:47.335Z"
   },
   {
    "duration": 267,
    "start_time": "2024-05-13T12:54:49.969Z"
   },
   {
    "duration": 262,
    "start_time": "2024-05-13T12:54:50.237Z"
   },
   {
    "duration": 414,
    "start_time": "2024-05-13T12:54:50.500Z"
   },
   {
    "duration": 10,
    "start_time": "2024-05-13T12:54:50.915Z"
   },
   {
    "duration": 57,
    "start_time": "2024-05-13T12:54:50.926Z"
   },
   {
    "duration": 17,
    "start_time": "2024-05-13T12:54:50.985Z"
   },
   {
    "duration": 172,
    "start_time": "2024-05-13T12:54:51.003Z"
   },
   {
    "duration": 221,
    "start_time": "2024-05-13T12:54:51.177Z"
   },
   {
    "duration": 211,
    "start_time": "2024-05-13T12:54:51.400Z"
   },
   {
    "duration": 214,
    "start_time": "2024-05-13T12:54:51.612Z"
   },
   {
    "duration": 153,
    "start_time": "2024-05-13T12:54:51.827Z"
   },
   {
    "duration": 227,
    "start_time": "2024-05-13T12:54:51.981Z"
   },
   {
    "duration": 147,
    "start_time": "2024-05-13T12:54:52.209Z"
   },
   {
    "duration": 115,
    "start_time": "2024-05-13T12:54:52.358Z"
   },
   {
    "duration": 114,
    "start_time": "2024-05-13T12:54:52.474Z"
   },
   {
    "duration": 116,
    "start_time": "2024-05-13T12:54:52.590Z"
   },
   {
    "duration": 19,
    "start_time": "2024-05-13T12:54:52.707Z"
   },
   {
    "duration": 8,
    "start_time": "2024-05-13T12:54:52.727Z"
   },
   {
    "duration": 21,
    "start_time": "2024-05-13T12:54:52.737Z"
   },
   {
    "duration": 15,
    "start_time": "2024-05-13T12:54:52.759Z"
   },
   {
    "duration": 20,
    "start_time": "2024-05-13T12:54:52.776Z"
   },
   {
    "duration": 13,
    "start_time": "2024-05-13T12:59:51.158Z"
   },
   {
    "duration": 11,
    "start_time": "2024-05-13T13:01:12.995Z"
   },
   {
    "duration": 12,
    "start_time": "2024-05-13T13:01:50.451Z"
   },
   {
    "duration": 93,
    "start_time": "2024-05-13T13:02:34.900Z"
   },
   {
    "duration": 164,
    "start_time": "2024-05-13T13:06:38.469Z"
   },
   {
    "duration": 71,
    "start_time": "2024-05-13T13:07:43.947Z"
   },
   {
    "duration": 163,
    "start_time": "2024-05-13T13:31:39.136Z"
   },
   {
    "duration": 166,
    "start_time": "2024-05-13T13:32:23.147Z"
   },
   {
    "duration": 205,
    "start_time": "2024-05-13T13:32:42.607Z"
   },
   {
    "duration": 168,
    "start_time": "2024-05-13T13:33:40.470Z"
   },
   {
    "duration": 145,
    "start_time": "2024-05-13T13:40:12.497Z"
   },
   {
    "duration": 192,
    "start_time": "2024-05-13T13:40:45.531Z"
   },
   {
    "duration": 129,
    "start_time": "2024-05-13T13:40:55.131Z"
   },
   {
    "duration": 130,
    "start_time": "2024-05-13T13:43:29.111Z"
   },
   {
    "duration": 115,
    "start_time": "2024-05-13T13:43:43.650Z"
   },
   {
    "duration": 155,
    "start_time": "2024-05-13T13:44:01.259Z"
   },
   {
    "duration": 115,
    "start_time": "2024-05-13T13:44:08.343Z"
   },
   {
    "duration": 110,
    "start_time": "2024-05-13T13:44:13.757Z"
   },
   {
    "duration": 116,
    "start_time": "2024-05-13T13:44:41.410Z"
   },
   {
    "duration": 141,
    "start_time": "2024-05-13T13:44:47.163Z"
   },
   {
    "duration": 974,
    "start_time": "2024-05-13T13:44:53.943Z"
   },
   {
    "duration": 51,
    "start_time": "2024-05-13T13:44:54.918Z"
   },
   {
    "duration": 11,
    "start_time": "2024-05-13T13:44:54.970Z"
   },
   {
    "duration": 36,
    "start_time": "2024-05-13T13:44:54.983Z"
   },
   {
    "duration": 541,
    "start_time": "2024-05-13T13:44:55.020Z"
   },
   {
    "duration": 52,
    "start_time": "2024-05-13T13:44:55.563Z"
   },
   {
    "duration": 5,
    "start_time": "2024-05-13T13:44:55.616Z"
   },
   {
    "duration": 15,
    "start_time": "2024-05-13T13:44:55.622Z"
   },
   {
    "duration": 14,
    "start_time": "2024-05-13T13:44:55.638Z"
   },
   {
    "duration": 11,
    "start_time": "2024-05-13T13:44:55.655Z"
   },
   {
    "duration": 33,
    "start_time": "2024-05-13T13:44:55.668Z"
   },
   {
    "duration": 4,
    "start_time": "2024-05-13T13:44:55.709Z"
   },
   {
    "duration": 13,
    "start_time": "2024-05-13T13:44:55.714Z"
   },
   {
    "duration": 11,
    "start_time": "2024-05-13T13:44:55.728Z"
   },
   {
    "duration": 6,
    "start_time": "2024-05-13T13:44:55.740Z"
   },
   {
    "duration": 28,
    "start_time": "2024-05-13T13:44:55.747Z"
   },
   {
    "duration": 34,
    "start_time": "2024-05-13T13:44:55.776Z"
   },
   {
    "duration": 21,
    "start_time": "2024-05-13T13:44:55.812Z"
   },
   {
    "duration": 5,
    "start_time": "2024-05-13T13:44:55.834Z"
   },
   {
    "duration": 17,
    "start_time": "2024-05-13T13:44:55.840Z"
   },
   {
    "duration": 37,
    "start_time": "2024-05-13T13:44:55.859Z"
   },
   {
    "duration": 12,
    "start_time": "2024-05-13T13:44:55.897Z"
   },
   {
    "duration": 30,
    "start_time": "2024-05-13T13:44:55.910Z"
   },
   {
    "duration": 27,
    "start_time": "2024-05-13T13:44:55.942Z"
   },
   {
    "duration": 161,
    "start_time": "2024-05-13T13:44:55.971Z"
   },
   {
    "duration": 227,
    "start_time": "2024-05-13T13:44:56.133Z"
   },
   {
    "duration": 64,
    "start_time": "2024-05-13T13:44:56.365Z"
   },
   {
    "duration": 12,
    "start_time": "2024-05-13T13:44:56.433Z"
   },
   {
    "duration": 175,
    "start_time": "2024-05-13T13:44:56.447Z"
   },
   {
    "duration": 28,
    "start_time": "2024-05-13T13:44:56.624Z"
   },
   {
    "duration": 2804,
    "start_time": "2024-05-13T13:44:56.653Z"
   },
   {
    "duration": 269,
    "start_time": "2024-05-13T13:44:59.458Z"
   },
   {
    "duration": 270,
    "start_time": "2024-05-13T13:44:59.728Z"
   },
   {
    "duration": 397,
    "start_time": "2024-05-13T13:45:00.006Z"
   },
   {
    "duration": 14,
    "start_time": "2024-05-13T13:45:00.409Z"
   },
   {
    "duration": 94,
    "start_time": "2024-05-13T13:45:00.424Z"
   },
   {
    "duration": 97,
    "start_time": "2024-05-13T13:45:00.519Z"
   },
   {
    "duration": 204,
    "start_time": "2024-05-13T13:45:00.617Z"
   },
   {
    "duration": 162,
    "start_time": "2024-05-13T13:45:00.822Z"
   },
   {
    "duration": 158,
    "start_time": "2024-05-13T13:45:00.985Z"
   },
   {
    "duration": 126,
    "start_time": "2024-05-13T13:45:01.144Z"
   },
   {
    "duration": 113,
    "start_time": "2024-05-13T13:45:01.271Z"
   },
   {
    "duration": 127,
    "start_time": "2024-05-13T13:45:01.400Z"
   },
   {
    "duration": 176,
    "start_time": "2024-05-13T13:45:01.528Z"
   },
   {
    "duration": 151,
    "start_time": "2024-05-13T13:45:01.711Z"
   },
   {
    "duration": 217,
    "start_time": "2024-05-13T13:45:01.863Z"
   },
   {
    "duration": 143,
    "start_time": "2024-05-13T13:45:02.081Z"
   },
   {
    "duration": 122,
    "start_time": "2024-05-13T13:45:02.225Z"
   },
   {
    "duration": 109,
    "start_time": "2024-05-13T13:45:02.349Z"
   },
   {
    "duration": 18,
    "start_time": "2024-05-13T13:45:02.459Z"
   },
   {
    "duration": 14,
    "start_time": "2024-05-13T13:45:02.497Z"
   },
   {
    "duration": 33,
    "start_time": "2024-05-13T13:45:02.513Z"
   },
   {
    "duration": 36,
    "start_time": "2024-05-13T13:45:02.547Z"
   },
   {
    "duration": 32,
    "start_time": "2024-05-13T13:45:02.585Z"
   },
   {
    "duration": 120,
    "start_time": "2024-05-13T13:45:24.938Z"
   },
   {
    "duration": 129,
    "start_time": "2024-05-13T13:48:19.508Z"
   },
   {
    "duration": 133,
    "start_time": "2024-05-13T13:48:20.232Z"
   },
   {
    "duration": 170,
    "start_time": "2024-05-13T14:02:40.155Z"
   },
   {
    "duration": 149,
    "start_time": "2024-05-13T14:02:51.518Z"
   },
   {
    "duration": 166,
    "start_time": "2024-05-13T14:02:58.244Z"
   },
   {
    "duration": 102,
    "start_time": "2024-05-13T14:05:15.930Z"
   },
   {
    "duration": 154,
    "start_time": "2024-05-13T14:05:23.128Z"
   },
   {
    "duration": 110,
    "start_time": "2024-05-13T14:05:29.751Z"
   },
   {
    "duration": 13,
    "start_time": "2024-05-13T14:05:39.364Z"
   },
   {
    "duration": 109,
    "start_time": "2024-05-13T14:08:35.571Z"
   },
   {
    "duration": 1006,
    "start_time": "2024-05-13T14:09:16.644Z"
   },
   {
    "duration": 60,
    "start_time": "2024-05-13T14:09:17.652Z"
   },
   {
    "duration": 13,
    "start_time": "2024-05-13T14:09:17.713Z"
   },
   {
    "duration": 14,
    "start_time": "2024-05-13T14:09:17.728Z"
   },
   {
    "duration": 588,
    "start_time": "2024-05-13T14:09:17.743Z"
   },
   {
    "duration": 15,
    "start_time": "2024-05-13T14:09:18.332Z"
   },
   {
    "duration": 16,
    "start_time": "2024-05-13T14:09:18.348Z"
   },
   {
    "duration": 44,
    "start_time": "2024-05-13T14:09:18.365Z"
   },
   {
    "duration": 15,
    "start_time": "2024-05-13T14:09:18.411Z"
   },
   {
    "duration": 8,
    "start_time": "2024-05-13T14:09:18.429Z"
   },
   {
    "duration": 6,
    "start_time": "2024-05-13T14:09:18.439Z"
   },
   {
    "duration": 4,
    "start_time": "2024-05-13T14:09:18.447Z"
   },
   {
    "duration": 6,
    "start_time": "2024-05-13T14:09:18.452Z"
   },
   {
    "duration": 10,
    "start_time": "2024-05-13T14:09:18.459Z"
   },
   {
    "duration": 39,
    "start_time": "2024-05-13T14:09:18.470Z"
   },
   {
    "duration": 17,
    "start_time": "2024-05-13T14:09:18.511Z"
   },
   {
    "duration": 4,
    "start_time": "2024-05-13T14:09:18.530Z"
   },
   {
    "duration": 16,
    "start_time": "2024-05-13T14:09:18.536Z"
   },
   {
    "duration": 5,
    "start_time": "2024-05-13T14:09:18.553Z"
   },
   {
    "duration": 8,
    "start_time": "2024-05-13T14:09:18.559Z"
   },
   {
    "duration": 13,
    "start_time": "2024-05-13T14:09:18.568Z"
   },
   {
    "duration": 18,
    "start_time": "2024-05-13T14:09:18.582Z"
   },
   {
    "duration": 21,
    "start_time": "2024-05-13T14:09:18.601Z"
   },
   {
    "duration": 4,
    "start_time": "2024-05-13T14:09:18.624Z"
   },
   {
    "duration": 175,
    "start_time": "2024-05-13T14:09:18.629Z"
   },
   {
    "duration": 253,
    "start_time": "2024-05-13T14:09:18.805Z"
   },
   {
    "duration": 55,
    "start_time": "2024-05-13T14:09:19.059Z"
   },
   {
    "duration": 12,
    "start_time": "2024-05-13T14:09:19.117Z"
   },
   {
    "duration": 201,
    "start_time": "2024-05-13T14:09:19.130Z"
   },
   {
    "duration": 33,
    "start_time": "2024-05-13T14:09:19.333Z"
   },
   {
    "duration": 3069,
    "start_time": "2024-05-13T14:09:19.367Z"
   },
   {
    "duration": 286,
    "start_time": "2024-05-13T14:09:22.437Z"
   },
   {
    "duration": 302,
    "start_time": "2024-05-13T14:09:22.725Z"
   },
   {
    "duration": 423,
    "start_time": "2024-05-13T14:09:23.029Z"
   },
   {
    "duration": 13,
    "start_time": "2024-05-13T14:09:23.454Z"
   },
   {
    "duration": 34,
    "start_time": "2024-05-13T14:09:23.469Z"
   },
   {
    "duration": 14,
    "start_time": "2024-05-13T14:09:23.512Z"
   },
   {
    "duration": 204,
    "start_time": "2024-05-13T14:09:23.527Z"
   },
   {
    "duration": 183,
    "start_time": "2024-05-13T14:09:23.732Z"
   },
   {
    "duration": 158,
    "start_time": "2024-05-13T14:09:23.917Z"
   },
   {
    "duration": 134,
    "start_time": "2024-05-13T14:09:24.076Z"
   },
   {
    "duration": 120,
    "start_time": "2024-05-13T14:09:24.211Z"
   },
   {
    "duration": 145,
    "start_time": "2024-05-13T14:09:24.333Z"
   },
   {
    "duration": 163,
    "start_time": "2024-05-13T14:09:24.479Z"
   },
   {
    "duration": 170,
    "start_time": "2024-05-13T14:09:24.643Z"
   },
   {
    "duration": 226,
    "start_time": "2024-05-13T14:09:24.815Z"
   },
   {
    "duration": 105,
    "start_time": "2024-05-13T14:09:25.043Z"
   },
   {
    "duration": 105,
    "start_time": "2024-05-13T14:09:25.150Z"
   },
   {
    "duration": 120,
    "start_time": "2024-05-13T14:09:25.256Z"
   },
   {
    "duration": 31,
    "start_time": "2024-05-13T14:09:25.377Z"
   },
   {
    "duration": 104,
    "start_time": "2024-05-13T14:09:25.410Z"
   },
   {
    "duration": 0,
    "start_time": "2024-05-13T14:09:25.515Z"
   },
   {
    "duration": 0,
    "start_time": "2024-05-13T14:09:25.516Z"
   },
   {
    "duration": 0,
    "start_time": "2024-05-13T14:09:25.517Z"
   },
   {
    "duration": 28,
    "start_time": "2024-05-13T14:09:32.172Z"
   },
   {
    "duration": 12,
    "start_time": "2024-05-13T14:09:54.102Z"
   },
   {
    "duration": 9,
    "start_time": "2024-05-13T14:11:37.208Z"
   },
   {
    "duration": 11,
    "start_time": "2024-05-13T14:11:49.009Z"
   },
   {
    "duration": 9,
    "start_time": "2024-05-13T14:19:37.431Z"
   },
   {
    "duration": 293,
    "start_time": "2024-05-13T14:21:22.688Z"
   },
   {
    "duration": 5,
    "start_time": "2024-05-13T14:21:42.752Z"
   },
   {
    "duration": 16,
    "start_time": "2024-05-13T14:22:30.028Z"
   },
   {
    "duration": 3,
    "start_time": "2024-05-13T14:22:38.616Z"
   },
   {
    "duration": 7,
    "start_time": "2024-05-13T14:23:33.818Z"
   },
   {
    "duration": 16,
    "start_time": "2024-05-13T14:23:38.492Z"
   },
   {
    "duration": 10,
    "start_time": "2024-05-13T14:23:49.553Z"
   },
   {
    "duration": 15,
    "start_time": "2024-05-13T14:34:00.876Z"
   },
   {
    "duration": 1053,
    "start_time": "2024-05-13T14:35:43.357Z"
   },
   {
    "duration": 9,
    "start_time": "2024-05-13T14:37:25.725Z"
   },
   {
    "duration": 68,
    "start_time": "2024-05-13T14:38:33.337Z"
   },
   {
    "duration": 17,
    "start_time": "2024-05-13T14:38:40.556Z"
   },
   {
    "duration": 17,
    "start_time": "2024-05-13T14:51:08.994Z"
   },
   {
    "duration": 85,
    "start_time": "2024-05-13T14:52:56.059Z"
   },
   {
    "duration": 208,
    "start_time": "2024-05-13T14:57:39.978Z"
   },
   {
    "duration": 2139,
    "start_time": "2024-05-13T14:59:10.274Z"
   },
   {
    "duration": 211,
    "start_time": "2024-05-13T15:00:59.085Z"
   },
   {
    "duration": 1752,
    "start_time": "2024-05-13T15:01:12.703Z"
   },
   {
    "duration": 1646,
    "start_time": "2024-05-13T15:01:48.546Z"
   },
   {
    "duration": 16,
    "start_time": "2024-05-13T15:03:07.208Z"
   },
   {
    "duration": 1576,
    "start_time": "2024-05-13T15:03:42.723Z"
   },
   {
    "duration": 13,
    "start_time": "2024-05-13T15:04:20.601Z"
   },
   {
    "duration": 1707,
    "start_time": "2024-05-13T15:04:33.499Z"
   },
   {
    "duration": 152,
    "start_time": "2024-05-13T15:12:41.954Z"
   },
   {
    "duration": 141,
    "start_time": "2024-05-13T15:13:33.854Z"
   },
   {
    "duration": 149,
    "start_time": "2024-05-13T15:13:42.813Z"
   },
   {
    "duration": 137,
    "start_time": "2024-05-13T15:13:53.164Z"
   },
   {
    "duration": 1658,
    "start_time": "2024-05-13T15:15:36.858Z"
   },
   {
    "duration": 461,
    "start_time": "2024-05-13T15:15:56.516Z"
   },
   {
    "duration": 157,
    "start_time": "2024-05-13T15:16:05.064Z"
   },
   {
    "duration": 155,
    "start_time": "2024-05-13T15:16:25.354Z"
   },
   {
    "duration": 147,
    "start_time": "2024-05-13T15:16:36.442Z"
   },
   {
    "duration": 149,
    "start_time": "2024-05-13T15:16:46.516Z"
   },
   {
    "duration": 130,
    "start_time": "2024-05-13T15:16:55.324Z"
   },
   {
    "duration": 104,
    "start_time": "2024-05-13T15:17:03.762Z"
   },
   {
    "duration": 106,
    "start_time": "2024-05-13T15:17:10.318Z"
   },
   {
    "duration": 144,
    "start_time": "2024-05-13T15:17:17.577Z"
   },
   {
    "duration": 145,
    "start_time": "2024-05-13T15:17:23.514Z"
   },
   {
    "duration": 152,
    "start_time": "2024-05-13T15:17:29.739Z"
   },
   {
    "duration": 96,
    "start_time": "2024-05-13T15:17:35.706Z"
   },
   {
    "duration": 104,
    "start_time": "2024-05-13T15:17:40.703Z"
   },
   {
    "duration": 98,
    "start_time": "2024-05-13T15:17:45.823Z"
   },
   {
    "duration": 16,
    "start_time": "2024-05-13T15:19:02.558Z"
   },
   {
    "duration": 14,
    "start_time": "2024-05-13T15:19:13.227Z"
   },
   {
    "duration": 18,
    "start_time": "2024-05-13T15:21:18.565Z"
   },
   {
    "duration": 13,
    "start_time": "2024-05-13T15:21:41.110Z"
   },
   {
    "duration": 14,
    "start_time": "2024-05-13T15:21:44.826Z"
   },
   {
    "duration": 1058,
    "start_time": "2024-05-13T15:21:50.272Z"
   },
   {
    "duration": 51,
    "start_time": "2024-05-13T15:21:51.331Z"
   },
   {
    "duration": 13,
    "start_time": "2024-05-13T15:21:51.384Z"
   },
   {
    "duration": 21,
    "start_time": "2024-05-13T15:21:51.398Z"
   },
   {
    "duration": 514,
    "start_time": "2024-05-13T15:21:51.421Z"
   },
   {
    "duration": 17,
    "start_time": "2024-05-13T15:21:51.936Z"
   },
   {
    "duration": 11,
    "start_time": "2024-05-13T15:21:51.954Z"
   },
   {
    "duration": 11,
    "start_time": "2024-05-13T15:21:51.984Z"
   },
   {
    "duration": 18,
    "start_time": "2024-05-13T15:21:51.996Z"
   },
   {
    "duration": 20,
    "start_time": "2024-05-13T15:21:52.015Z"
   },
   {
    "duration": 28,
    "start_time": "2024-05-13T15:21:52.037Z"
   },
   {
    "duration": 13,
    "start_time": "2024-05-13T15:21:52.067Z"
   },
   {
    "duration": 15,
    "start_time": "2024-05-13T15:21:52.084Z"
   },
   {
    "duration": 21,
    "start_time": "2024-05-13T15:21:52.103Z"
   },
   {
    "duration": 25,
    "start_time": "2024-05-13T15:21:52.125Z"
   },
   {
    "duration": 14,
    "start_time": "2024-05-13T15:21:52.151Z"
   },
   {
    "duration": 5,
    "start_time": "2024-05-13T15:21:52.166Z"
   },
   {
    "duration": 9,
    "start_time": "2024-05-13T15:21:52.173Z"
   },
   {
    "duration": 17,
    "start_time": "2024-05-13T15:21:52.184Z"
   },
   {
    "duration": 20,
    "start_time": "2024-05-13T15:21:52.203Z"
   },
   {
    "duration": 3,
    "start_time": "2024-05-13T15:21:52.224Z"
   },
   {
    "duration": 29,
    "start_time": "2024-05-13T15:21:52.229Z"
   },
   {
    "duration": 31,
    "start_time": "2024-05-13T15:21:52.259Z"
   },
   {
    "duration": 10,
    "start_time": "2024-05-13T15:21:52.291Z"
   },
   {
    "duration": 12,
    "start_time": "2024-05-13T15:21:52.303Z"
   },
   {
    "duration": 4,
    "start_time": "2024-05-13T15:21:52.316Z"
   },
   {
    "duration": 16,
    "start_time": "2024-05-13T15:21:52.321Z"
   },
   {
    "duration": 15,
    "start_time": "2024-05-13T15:21:52.338Z"
   },
   {
    "duration": 140,
    "start_time": "2024-05-13T15:21:52.354Z"
   },
   {
    "duration": 100,
    "start_time": "2024-05-13T15:21:52.495Z"
   },
   {
    "duration": 0,
    "start_time": "2024-05-13T15:21:52.597Z"
   },
   {
    "duration": 0,
    "start_time": "2024-05-13T15:21:52.598Z"
   },
   {
    "duration": 0,
    "start_time": "2024-05-13T15:21:52.598Z"
   },
   {
    "duration": 0,
    "start_time": "2024-05-13T15:21:52.600Z"
   },
   {
    "duration": 0,
    "start_time": "2024-05-13T15:21:52.601Z"
   },
   {
    "duration": 0,
    "start_time": "2024-05-13T15:21:52.602Z"
   },
   {
    "duration": 0,
    "start_time": "2024-05-13T15:21:52.602Z"
   },
   {
    "duration": 0,
    "start_time": "2024-05-13T15:21:52.603Z"
   },
   {
    "duration": 0,
    "start_time": "2024-05-13T15:21:52.604Z"
   },
   {
    "duration": 0,
    "start_time": "2024-05-13T15:21:52.605Z"
   },
   {
    "duration": 0,
    "start_time": "2024-05-13T15:21:52.606Z"
   },
   {
    "duration": 1,
    "start_time": "2024-05-13T15:21:52.606Z"
   },
   {
    "duration": 0,
    "start_time": "2024-05-13T15:21:52.607Z"
   },
   {
    "duration": 0,
    "start_time": "2024-05-13T15:21:52.609Z"
   },
   {
    "duration": 0,
    "start_time": "2024-05-13T15:21:52.610Z"
   },
   {
    "duration": 0,
    "start_time": "2024-05-13T15:21:52.610Z"
   },
   {
    "duration": 0,
    "start_time": "2024-05-13T15:21:52.611Z"
   },
   {
    "duration": 0,
    "start_time": "2024-05-13T15:21:52.613Z"
   },
   {
    "duration": 0,
    "start_time": "2024-05-13T15:21:52.614Z"
   },
   {
    "duration": 0,
    "start_time": "2024-05-13T15:21:52.615Z"
   },
   {
    "duration": 0,
    "start_time": "2024-05-13T15:21:52.616Z"
   },
   {
    "duration": 0,
    "start_time": "2024-05-13T15:21:52.617Z"
   },
   {
    "duration": 0,
    "start_time": "2024-05-13T15:21:52.618Z"
   },
   {
    "duration": 0,
    "start_time": "2024-05-13T15:21:52.619Z"
   },
   {
    "duration": 0,
    "start_time": "2024-05-13T15:21:52.620Z"
   },
   {
    "duration": 0,
    "start_time": "2024-05-13T15:21:52.621Z"
   },
   {
    "duration": 0,
    "start_time": "2024-05-13T15:21:52.622Z"
   },
   {
    "duration": 0,
    "start_time": "2024-05-13T15:21:52.623Z"
   },
   {
    "duration": 18,
    "start_time": "2024-05-13T15:23:11.002Z"
   },
   {
    "duration": 126,
    "start_time": "2024-05-13T15:24:22.973Z"
   },
   {
    "duration": 12,
    "start_time": "2024-05-13T15:24:48.241Z"
   },
   {
    "duration": 116,
    "start_time": "2024-05-13T15:25:23.053Z"
   },
   {
    "duration": 978,
    "start_time": "2024-05-13T15:26:13.545Z"
   },
   {
    "duration": 49,
    "start_time": "2024-05-13T15:26:14.525Z"
   },
   {
    "duration": 12,
    "start_time": "2024-05-13T15:26:14.575Z"
   },
   {
    "duration": 22,
    "start_time": "2024-05-13T15:26:14.588Z"
   },
   {
    "duration": 554,
    "start_time": "2024-05-13T15:26:14.611Z"
   },
   {
    "duration": 24,
    "start_time": "2024-05-13T15:26:15.166Z"
   },
   {
    "duration": 34,
    "start_time": "2024-05-13T15:26:15.191Z"
   },
   {
    "duration": 67,
    "start_time": "2024-05-13T15:26:15.226Z"
   },
   {
    "duration": 37,
    "start_time": "2024-05-13T15:26:15.294Z"
   },
   {
    "duration": 19,
    "start_time": "2024-05-13T15:26:15.334Z"
   },
   {
    "duration": 36,
    "start_time": "2024-05-13T15:26:15.354Z"
   },
   {
    "duration": 22,
    "start_time": "2024-05-13T15:26:15.391Z"
   },
   {
    "duration": 16,
    "start_time": "2024-05-13T15:26:15.414Z"
   },
   {
    "duration": 9,
    "start_time": "2024-05-13T15:26:15.432Z"
   },
   {
    "duration": 9,
    "start_time": "2024-05-13T15:26:15.442Z"
   },
   {
    "duration": 9,
    "start_time": "2024-05-13T15:26:15.452Z"
   },
   {
    "duration": 23,
    "start_time": "2024-05-13T15:26:15.462Z"
   },
   {
    "duration": 8,
    "start_time": "2024-05-13T15:26:15.487Z"
   },
   {
    "duration": 12,
    "start_time": "2024-05-13T15:26:15.496Z"
   },
   {
    "duration": 16,
    "start_time": "2024-05-13T15:26:15.509Z"
   },
   {
    "duration": 3,
    "start_time": "2024-05-13T15:26:15.526Z"
   },
   {
    "duration": 33,
    "start_time": "2024-05-13T15:26:15.530Z"
   },
   {
    "duration": 6,
    "start_time": "2024-05-13T15:26:15.564Z"
   },
   {
    "duration": 10,
    "start_time": "2024-05-13T15:26:15.571Z"
   },
   {
    "duration": 68,
    "start_time": "2024-05-13T15:26:15.582Z"
   },
   {
    "duration": 25,
    "start_time": "2024-05-13T15:26:15.652Z"
   },
   {
    "duration": 33,
    "start_time": "2024-05-13T15:26:15.678Z"
   },
   {
    "duration": 13,
    "start_time": "2024-05-13T15:26:15.714Z"
   },
   {
    "duration": 146,
    "start_time": "2024-05-13T15:26:15.728Z"
   },
   {
    "duration": 123,
    "start_time": "2024-05-13T15:26:15.875Z"
   },
   {
    "duration": 47,
    "start_time": "2024-05-13T15:26:16.000Z"
   },
   {
    "duration": 18,
    "start_time": "2024-05-13T15:26:16.049Z"
   },
   {
    "duration": 188,
    "start_time": "2024-05-13T15:26:16.069Z"
   },
   {
    "duration": 35,
    "start_time": "2024-05-13T15:26:16.258Z"
   },
   {
    "duration": 2714,
    "start_time": "2024-05-13T15:26:16.295Z"
   },
   {
    "duration": 248,
    "start_time": "2024-05-13T15:26:19.010Z"
   },
   {
    "duration": 200,
    "start_time": "2024-05-13T15:26:19.259Z"
   },
   {
    "duration": 472,
    "start_time": "2024-05-13T15:26:19.460Z"
   },
   {
    "duration": 13,
    "start_time": "2024-05-13T15:26:19.933Z"
   },
   {
    "duration": 11,
    "start_time": "2024-05-13T15:26:19.948Z"
   },
   {
    "duration": 32,
    "start_time": "2024-05-13T15:26:19.960Z"
   },
   {
    "duration": 152,
    "start_time": "2024-05-13T15:26:19.993Z"
   },
   {
    "duration": 156,
    "start_time": "2024-05-13T15:26:20.146Z"
   },
   {
    "duration": 151,
    "start_time": "2024-05-13T15:26:20.303Z"
   },
   {
    "duration": 117,
    "start_time": "2024-05-13T15:26:20.455Z"
   },
   {
    "duration": 113,
    "start_time": "2024-05-13T15:26:20.573Z"
   },
   {
    "duration": 120,
    "start_time": "2024-05-13T15:26:20.688Z"
   },
   {
    "duration": 150,
    "start_time": "2024-05-13T15:26:20.810Z"
   },
   {
    "duration": 153,
    "start_time": "2024-05-13T15:26:20.962Z"
   },
   {
    "duration": 170,
    "start_time": "2024-05-13T15:26:21.117Z"
   },
   {
    "duration": 102,
    "start_time": "2024-05-13T15:26:21.288Z"
   },
   {
    "duration": 161,
    "start_time": "2024-05-13T15:26:21.391Z"
   },
   {
    "duration": 101,
    "start_time": "2024-05-13T15:26:21.553Z"
   },
   {
    "duration": 12,
    "start_time": "2024-05-13T15:26:21.655Z"
   },
   {
    "duration": 20,
    "start_time": "2024-05-13T15:26:21.668Z"
   },
   {
    "duration": 11,
    "start_time": "2024-05-13T15:26:21.689Z"
   },
   {
    "duration": 35,
    "start_time": "2024-05-13T15:26:21.701Z"
   },
   {
    "duration": 46,
    "start_time": "2024-05-13T15:26:21.737Z"
   },
   {
    "duration": 119,
    "start_time": "2024-05-13T15:29:33.566Z"
   },
   {
    "duration": 112,
    "start_time": "2024-05-13T15:29:41.887Z"
   },
   {
    "duration": 129,
    "start_time": "2024-05-13T15:30:03.973Z"
   },
   {
    "duration": 72,
    "start_time": "2024-05-13T15:32:15.063Z"
   },
   {
    "duration": 271,
    "start_time": "2024-05-13T15:33:16.549Z"
   },
   {
    "duration": 252,
    "start_time": "2024-05-13T15:34:41.866Z"
   },
   {
    "duration": 239,
    "start_time": "2024-05-13T15:35:56.899Z"
   },
   {
    "duration": 286,
    "start_time": "2024-05-13T15:36:11.152Z"
   },
   {
    "duration": 229,
    "start_time": "2024-05-13T15:36:36.875Z"
   },
   {
    "duration": 135,
    "start_time": "2024-05-13T15:36:57.533Z"
   },
   {
    "duration": 235,
    "start_time": "2024-05-13T15:37:05.674Z"
   },
   {
    "duration": 233,
    "start_time": "2024-05-13T15:37:09.627Z"
   },
   {
    "duration": 152,
    "start_time": "2024-05-13T15:39:02.670Z"
   },
   {
    "duration": 124,
    "start_time": "2024-05-13T15:41:03.926Z"
   },
   {
    "duration": 193,
    "start_time": "2024-05-13T15:41:46.832Z"
   },
   {
    "duration": 232,
    "start_time": "2024-05-13T15:42:42.720Z"
   },
   {
    "duration": 149,
    "start_time": "2024-05-13T15:44:43.446Z"
   },
   {
    "duration": 129,
    "start_time": "2024-05-13T15:45:38.847Z"
   },
   {
    "duration": 132,
    "start_time": "2024-05-13T15:46:37.040Z"
   },
   {
    "duration": 130,
    "start_time": "2024-05-13T15:46:50.851Z"
   },
   {
    "duration": 134,
    "start_time": "2024-05-13T15:49:26.186Z"
   },
   {
    "duration": 134,
    "start_time": "2024-05-13T15:49:39.582Z"
   },
   {
    "duration": 132,
    "start_time": "2024-05-13T15:49:46.328Z"
   },
   {
    "duration": 129,
    "start_time": "2024-05-13T15:49:55.165Z"
   },
   {
    "duration": 132,
    "start_time": "2024-05-13T15:50:01.196Z"
   },
   {
    "duration": 132,
    "start_time": "2024-05-13T15:50:06.932Z"
   },
   {
    "duration": 130,
    "start_time": "2024-05-13T15:50:23.638Z"
   },
   {
    "duration": 208,
    "start_time": "2024-05-13T15:50:30.304Z"
   },
   {
    "duration": 150,
    "start_time": "2024-05-13T15:50:45.323Z"
   },
   {
    "duration": 69,
    "start_time": "2024-05-13T15:53:20.580Z"
   },
   {
    "duration": 1008,
    "start_time": "2024-05-13T16:02:46.413Z"
   },
   {
    "duration": 51,
    "start_time": "2024-05-13T16:02:47.423Z"
   },
   {
    "duration": 13,
    "start_time": "2024-05-13T16:02:47.475Z"
   },
   {
    "duration": 30,
    "start_time": "2024-05-13T16:02:47.490Z"
   },
   {
    "duration": 533,
    "start_time": "2024-05-13T16:02:47.522Z"
   },
   {
    "duration": 30,
    "start_time": "2024-05-13T16:02:48.057Z"
   },
   {
    "duration": 6,
    "start_time": "2024-05-13T16:02:48.089Z"
   },
   {
    "duration": 21,
    "start_time": "2024-05-13T16:02:48.096Z"
   },
   {
    "duration": 32,
    "start_time": "2024-05-13T16:02:48.119Z"
   },
   {
    "duration": 12,
    "start_time": "2024-05-13T16:02:48.154Z"
   },
   {
    "duration": 26,
    "start_time": "2024-05-13T16:02:48.168Z"
   },
   {
    "duration": 5,
    "start_time": "2024-05-13T16:02:48.195Z"
   },
   {
    "duration": 8,
    "start_time": "2024-05-13T16:02:48.202Z"
   },
   {
    "duration": 9,
    "start_time": "2024-05-13T16:02:48.211Z"
   },
   {
    "duration": 23,
    "start_time": "2024-05-13T16:02:48.222Z"
   },
   {
    "duration": 19,
    "start_time": "2024-05-13T16:02:48.246Z"
   },
   {
    "duration": 10,
    "start_time": "2024-05-13T16:02:48.267Z"
   },
   {
    "duration": 18,
    "start_time": "2024-05-13T16:02:48.278Z"
   },
   {
    "duration": 12,
    "start_time": "2024-05-13T16:02:48.297Z"
   },
   {
    "duration": 16,
    "start_time": "2024-05-13T16:02:48.310Z"
   },
   {
    "duration": 7,
    "start_time": "2024-05-13T16:02:48.327Z"
   },
   {
    "duration": 15,
    "start_time": "2024-05-13T16:02:48.335Z"
   },
   {
    "duration": 3,
    "start_time": "2024-05-13T16:02:48.352Z"
   },
   {
    "duration": 14,
    "start_time": "2024-05-13T16:02:48.357Z"
   },
   {
    "duration": 12,
    "start_time": "2024-05-13T16:02:48.372Z"
   },
   {
    "duration": 4,
    "start_time": "2024-05-13T16:02:48.385Z"
   },
   {
    "duration": 19,
    "start_time": "2024-05-13T16:02:48.390Z"
   },
   {
    "duration": 19,
    "start_time": "2024-05-13T16:02:48.412Z"
   },
   {
    "duration": 135,
    "start_time": "2024-05-13T16:02:48.432Z"
   },
   {
    "duration": 154,
    "start_time": "2024-05-13T16:02:48.568Z"
   },
   {
    "duration": 51,
    "start_time": "2024-05-13T16:02:48.724Z"
   },
   {
    "duration": 13,
    "start_time": "2024-05-13T16:02:48.785Z"
   },
   {
    "duration": 168,
    "start_time": "2024-05-13T16:02:48.799Z"
   },
   {
    "duration": 35,
    "start_time": "2024-05-13T16:02:48.969Z"
   },
   {
    "duration": 2695,
    "start_time": "2024-05-13T16:02:49.005Z"
   },
   {
    "duration": 246,
    "start_time": "2024-05-13T16:02:51.701Z"
   },
   {
    "duration": 195,
    "start_time": "2024-05-13T16:02:51.948Z"
   },
   {
    "duration": 496,
    "start_time": "2024-05-13T16:02:52.144Z"
   },
   {
    "duration": 12,
    "start_time": "2024-05-13T16:02:52.641Z"
   },
   {
    "duration": 12,
    "start_time": "2024-05-13T16:02:52.654Z"
   },
   {
    "duration": 32,
    "start_time": "2024-05-13T16:02:52.667Z"
   },
   {
    "duration": 176,
    "start_time": "2024-05-13T16:02:52.701Z"
   },
   {
    "duration": 155,
    "start_time": "2024-05-13T16:02:52.878Z"
   },
   {
    "duration": 151,
    "start_time": "2024-05-13T16:02:53.035Z"
   },
   {
    "duration": 122,
    "start_time": "2024-05-13T16:02:53.187Z"
   },
   {
    "duration": 116,
    "start_time": "2024-05-13T16:02:53.310Z"
   },
   {
    "duration": 114,
    "start_time": "2024-05-13T16:02:53.427Z"
   },
   {
    "duration": 149,
    "start_time": "2024-05-13T16:02:53.542Z"
   },
   {
    "duration": 160,
    "start_time": "2024-05-13T16:02:53.693Z"
   },
   {
    "duration": 151,
    "start_time": "2024-05-13T16:02:53.855Z"
   },
   {
    "duration": 100,
    "start_time": "2024-05-13T16:02:54.008Z"
   },
   {
    "duration": 159,
    "start_time": "2024-05-13T16:02:54.109Z"
   },
   {
    "duration": 100,
    "start_time": "2024-05-13T16:02:54.269Z"
   },
   {
    "duration": 21,
    "start_time": "2024-05-13T16:02:54.370Z"
   },
   {
    "duration": 9,
    "start_time": "2024-05-13T16:02:54.393Z"
   },
   {
    "duration": 10,
    "start_time": "2024-05-13T16:02:54.403Z"
   },
   {
    "duration": 20,
    "start_time": "2024-05-13T16:02:54.414Z"
   },
   {
    "duration": 22,
    "start_time": "2024-05-13T16:02:54.436Z"
   },
   {
    "duration": 48,
    "start_time": "2024-05-14T15:04:13.337Z"
   },
   {
    "duration": 1256,
    "start_time": "2024-05-14T15:04:30.008Z"
   },
   {
    "duration": 102,
    "start_time": "2024-05-14T15:04:31.266Z"
   },
   {
    "duration": 12,
    "start_time": "2024-05-14T15:04:31.369Z"
   },
   {
    "duration": 53,
    "start_time": "2024-05-14T15:04:31.383Z"
   },
   {
    "duration": 533,
    "start_time": "2024-05-14T15:04:31.437Z"
   },
   {
    "duration": 32,
    "start_time": "2024-05-14T15:04:31.971Z"
   },
   {
    "duration": 54,
    "start_time": "2024-05-14T15:04:32.005Z"
   },
   {
    "duration": 60,
    "start_time": "2024-05-14T15:04:32.061Z"
   },
   {
    "duration": 19,
    "start_time": "2024-05-14T15:04:32.122Z"
   },
   {
    "duration": 23,
    "start_time": "2024-05-14T15:04:32.144Z"
   },
   {
    "duration": 27,
    "start_time": "2024-05-14T15:04:32.168Z"
   },
   {
    "duration": 22,
    "start_time": "2024-05-14T15:04:32.197Z"
   },
   {
    "duration": 7,
    "start_time": "2024-05-14T15:04:32.221Z"
   },
   {
    "duration": 26,
    "start_time": "2024-05-14T15:04:32.229Z"
   },
   {
    "duration": 17,
    "start_time": "2024-05-14T15:04:32.256Z"
   },
   {
    "duration": 5,
    "start_time": "2024-05-14T15:04:32.274Z"
   },
   {
    "duration": 14,
    "start_time": "2024-05-14T15:04:32.280Z"
   },
   {
    "duration": 42,
    "start_time": "2024-05-14T15:04:32.295Z"
   },
   {
    "duration": 13,
    "start_time": "2024-05-14T15:04:32.339Z"
   },
   {
    "duration": 24,
    "start_time": "2024-05-14T15:04:32.354Z"
   },
   {
    "duration": 6,
    "start_time": "2024-05-14T15:04:32.380Z"
   },
   {
    "duration": 23,
    "start_time": "2024-05-14T15:04:32.387Z"
   },
   {
    "duration": 5,
    "start_time": "2024-05-14T15:04:32.411Z"
   },
   {
    "duration": 24,
    "start_time": "2024-05-14T15:04:32.417Z"
   },
   {
    "duration": 44,
    "start_time": "2024-05-14T15:04:32.442Z"
   },
   {
    "duration": 12,
    "start_time": "2024-05-14T15:04:32.487Z"
   },
   {
    "duration": 15,
    "start_time": "2024-05-14T15:04:32.500Z"
   },
   {
    "duration": 14,
    "start_time": "2024-05-14T15:04:32.518Z"
   },
   {
    "duration": 145,
    "start_time": "2024-05-14T15:04:32.533Z"
   },
   {
    "duration": 142,
    "start_time": "2024-05-14T15:04:32.680Z"
   },
   {
    "duration": 45,
    "start_time": "2024-05-14T15:04:32.824Z"
   },
   {
    "duration": 31,
    "start_time": "2024-05-14T15:04:32.871Z"
   },
   {
    "duration": 158,
    "start_time": "2024-05-14T15:04:32.904Z"
   },
   {
    "duration": 38,
    "start_time": "2024-05-14T15:04:33.063Z"
   },
   {
    "duration": 2634,
    "start_time": "2024-05-14T15:04:33.103Z"
   },
   {
    "duration": 256,
    "start_time": "2024-05-14T15:04:35.739Z"
   },
   {
    "duration": 203,
    "start_time": "2024-05-14T15:04:35.996Z"
   },
   {
    "duration": 572,
    "start_time": "2024-05-14T15:04:36.201Z"
   },
   {
    "duration": 13,
    "start_time": "2024-05-14T15:04:36.775Z"
   },
   {
    "duration": 22,
    "start_time": "2024-05-14T15:04:36.789Z"
   },
   {
    "duration": 19,
    "start_time": "2024-05-14T15:04:36.812Z"
   },
   {
    "duration": 161,
    "start_time": "2024-05-14T15:04:36.833Z"
   },
   {
    "duration": 153,
    "start_time": "2024-05-14T15:04:36.996Z"
   },
   {
    "duration": 142,
    "start_time": "2024-05-14T15:04:37.151Z"
   },
   {
    "duration": 131,
    "start_time": "2024-05-14T15:04:37.294Z"
   },
   {
    "duration": 105,
    "start_time": "2024-05-14T15:04:37.426Z"
   },
   {
    "duration": 120,
    "start_time": "2024-05-14T15:04:37.533Z"
   },
   {
    "duration": 141,
    "start_time": "2024-05-14T15:04:37.655Z"
   },
   {
    "duration": 147,
    "start_time": "2024-05-14T15:04:37.797Z"
   },
   {
    "duration": 156,
    "start_time": "2024-05-14T15:04:37.945Z"
   },
   {
    "duration": 103,
    "start_time": "2024-05-14T15:04:38.103Z"
   },
   {
    "duration": 161,
    "start_time": "2024-05-14T15:04:38.208Z"
   },
   {
    "duration": 101,
    "start_time": "2024-05-14T15:04:38.371Z"
   },
   {
    "duration": 15,
    "start_time": "2024-05-14T15:04:38.473Z"
   },
   {
    "duration": 20,
    "start_time": "2024-05-14T15:04:38.489Z"
   },
   {
    "duration": 10,
    "start_time": "2024-05-14T15:04:38.510Z"
   },
   {
    "duration": 8,
    "start_time": "2024-05-14T15:04:38.522Z"
   },
   {
    "duration": 17,
    "start_time": "2024-05-14T15:04:38.532Z"
   },
   {
    "duration": 112,
    "start_time": "2024-05-14T15:05:04.867Z"
   },
   {
    "duration": 136,
    "start_time": "2024-05-14T15:05:13.683Z"
   },
   {
    "duration": 112,
    "start_time": "2024-05-14T15:05:39.257Z"
   },
   {
    "duration": 131,
    "start_time": "2024-05-14T15:05:56.704Z"
   },
   {
    "duration": 109,
    "start_time": "2024-05-14T15:06:13.524Z"
   },
   {
    "duration": 125,
    "start_time": "2024-05-14T15:06:32.464Z"
   },
   {
    "duration": 101,
    "start_time": "2024-05-14T15:06:40.765Z"
   }
  ],
  "kernelspec": {
   "display_name": "Python 3 (ipykernel)",
   "language": "python",
   "name": "python3"
  },
  "language_info": {
   "codemirror_mode": {
    "name": "ipython",
    "version": 3
   },
   "file_extension": ".py",
   "mimetype": "text/x-python",
   "name": "python",
   "nbconvert_exporter": "python",
   "pygments_lexer": "ipython3",
   "version": "3.11.7"
  },
  "toc": {
   "base_numbering": 1,
   "nav_menu": {},
   "number_sections": true,
   "sideBar": true,
   "skip_h1_title": true,
   "title_cell": "Table of Contents",
   "title_sidebar": "Contents",
   "toc_cell": false,
   "toc_position": {},
   "toc_section_display": true,
   "toc_window_display": false
  }
 },
 "nbformat": 4,
 "nbformat_minor": 4
}
